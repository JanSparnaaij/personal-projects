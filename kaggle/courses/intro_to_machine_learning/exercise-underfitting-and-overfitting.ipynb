{
 "cells": [
  {
   "cell_type": "markdown",
   "id": "3790d7fb",
   "metadata": {
    "papermill": {
     "duration": 0.004867,
     "end_time": "2023-03-04T18:31:05.841285",
     "exception": false,
     "start_time": "2023-03-04T18:31:05.836418",
     "status": "completed"
    },
    "tags": []
   },
   "source": [
    "**This notebook is an exercise in the [Introduction to Machine Learning](https://www.kaggle.com/learn/intro-to-machine-learning) course.  You can reference the tutorial at [this link](https://www.kaggle.com/dansbecker/underfitting-and-overfitting).**\n",
    "\n",
    "---\n"
   ]
  },
  {
   "cell_type": "markdown",
   "id": "a43c97cc",
   "metadata": {
    "papermill": {
     "duration": 0.003171,
     "end_time": "2023-03-04T18:31:05.848082",
     "exception": false,
     "start_time": "2023-03-04T18:31:05.844911",
     "status": "completed"
    },
    "tags": []
   },
   "source": [
    "## Recap\n",
    "You've built your first model, and now it's time to optimize the size of the tree to make better predictions. Run this cell to set up your coding environment where the previous step left off."
   ]
  },
  {
   "cell_type": "code",
   "execution_count": 1,
   "id": "0b6f2499",
   "metadata": {
    "execution": {
     "iopub.execute_input": "2023-03-04T18:31:05.857098Z",
     "iopub.status.busy": "2023-03-04T18:31:05.856706Z",
     "iopub.status.idle": "2023-03-04T18:31:07.275841Z",
     "shell.execute_reply": "2023-03-04T18:31:07.274390Z"
    },
    "papermill": {
     "duration": 1.428396,
     "end_time": "2023-03-04T18:31:07.279950",
     "exception": false,
     "start_time": "2023-03-04T18:31:05.851554",
     "status": "completed"
    },
    "tags": []
   },
   "outputs": [
    {
     "name": "stdout",
     "output_type": "stream",
     "text": [
      "Validation MAE: 29,653\n",
      "\n",
      "Setup complete\n"
     ]
    }
   ],
   "source": [
    "# Code you have previously used to load data\n",
    "import pandas as pd\n",
    "from sklearn.metrics import mean_absolute_error\n",
    "from sklearn.model_selection import train_test_split\n",
    "from sklearn.tree import DecisionTreeRegressor\n",
    "\n",
    "\n",
    "# Path of the file to read\n",
    "iowa_file_path = '../input/home-data-for-ml-course/train.csv'\n",
    "\n",
    "home_data = pd.read_csv(iowa_file_path)\n",
    "# Create target object and call it y\n",
    "y = home_data.SalePrice\n",
    "# Create X\n",
    "features = ['LotArea', 'YearBuilt', '1stFlrSF', '2ndFlrSF', 'FullBath', 'BedroomAbvGr', 'TotRmsAbvGrd']\n",
    "X = home_data[features]\n",
    "\n",
    "# Split into validation and training data\n",
    "train_X, val_X, train_y, val_y = train_test_split(X, y, random_state=1)\n",
    "\n",
    "# Specify Model\n",
    "iowa_model = DecisionTreeRegressor(random_state=1)\n",
    "# Fit Model\n",
    "iowa_model.fit(train_X, train_y)\n",
    "\n",
    "# Make validation predictions and calculate mean absolute error\n",
    "val_predictions = iowa_model.predict(val_X)\n",
    "val_mae = mean_absolute_error(val_predictions, val_y)\n",
    "print(\"Validation MAE: {:,.0f}\".format(val_mae))\n",
    "\n",
    "# Set up code checking\n",
    "from learntools.core import binder\n",
    "binder.bind(globals())\n",
    "from learntools.machine_learning.ex5 import *\n",
    "print(\"\\nSetup complete\")"
   ]
  },
  {
   "cell_type": "markdown",
   "id": "914de7f8",
   "metadata": {
    "papermill": {
     "duration": 0.003834,
     "end_time": "2023-03-04T18:31:07.287993",
     "exception": false,
     "start_time": "2023-03-04T18:31:07.284159",
     "status": "completed"
    },
    "tags": []
   },
   "source": [
    "# Exercises\n",
    "You could write the function `get_mae` yourself. For now, we'll supply it. This is the same function you read about in the previous lesson. Just run the cell below."
   ]
  },
  {
   "cell_type": "code",
   "execution_count": 2,
   "id": "aa97ef36",
   "metadata": {
    "execution": {
     "iopub.execute_input": "2023-03-04T18:31:07.298482Z",
     "iopub.status.busy": "2023-03-04T18:31:07.298031Z",
     "iopub.status.idle": "2023-03-04T18:31:07.304966Z",
     "shell.execute_reply": "2023-03-04T18:31:07.303444Z"
    },
    "papermill": {
     "duration": 0.015203,
     "end_time": "2023-03-04T18:31:07.307478",
     "exception": false,
     "start_time": "2023-03-04T18:31:07.292275",
     "status": "completed"
    },
    "tags": []
   },
   "outputs": [],
   "source": [
    "def get_mae(max_leaf_nodes, train_X, val_X, train_y, val_y):\n",
    "    model = DecisionTreeRegressor(max_leaf_nodes=max_leaf_nodes, random_state=0)\n",
    "    model.fit(train_X, train_y)\n",
    "    preds_val = model.predict(val_X)\n",
    "    mae = mean_absolute_error(val_y, preds_val)\n",
    "    return(mae)"
   ]
  },
  {
   "cell_type": "markdown",
   "id": "1b8d3f2b",
   "metadata": {
    "papermill": {
     "duration": 0.00385,
     "end_time": "2023-03-04T18:31:07.315577",
     "exception": false,
     "start_time": "2023-03-04T18:31:07.311727",
     "status": "completed"
    },
    "tags": []
   },
   "source": [
    "## Step 1: Compare Different Tree Sizes\n",
    "Write a loop that tries the following values for *max_leaf_nodes* from a set of possible values.\n",
    "\n",
    "Call the *get_mae* function on each value of max_leaf_nodes. Store the output in some way that allows you to select the value of `max_leaf_nodes` that gives the most accurate model on your data."
   ]
  },
  {
   "cell_type": "code",
   "execution_count": 3,
   "id": "345002f2",
   "metadata": {
    "execution": {
     "iopub.execute_input": "2023-03-04T18:31:07.326763Z",
     "iopub.status.busy": "2023-03-04T18:31:07.326304Z",
     "iopub.status.idle": "2023-03-04T18:31:07.380829Z",
     "shell.execute_reply": "2023-03-04T18:31:07.379802Z"
    },
    "papermill": {
     "duration": 0.063716,
     "end_time": "2023-03-04T18:31:07.383483",
     "exception": false,
     "start_time": "2023-03-04T18:31:07.319767",
     "status": "completed"
    },
    "tags": []
   },
   "outputs": [
    {
     "name": "stdout",
     "output_type": "stream",
     "text": [
      "5 35044.51299744237\n",
      "25 29016.41319191076\n",
      "50 27405.930473214907\n",
      "100 27282.50803885739\n",
      "250 27893.822225701646\n",
      "500 29454.18598068598\n"
     ]
    },
    {
     "data": {
      "application/javascript": [
       "parent.postMessage({\"jupyterEvent\": \"custom.exercise_interaction\", \"data\": {\"outcomeType\": 1, \"valueTowardsCompletion\": 0.5, \"interactionType\": 1, \"questionType\": 1, \"questionId\": \"1_BestTreeSize\", \"learnToolsVersion\": \"0.3.4\", \"failureMessage\": \"\", \"exceptionClass\": \"\", \"trace\": \"\"}}, \"*\")"
      ],
      "text/plain": [
       "<IPython.core.display.Javascript object>"
      ]
     },
     "metadata": {},
     "output_type": "display_data"
    },
    {
     "data": {
      "text/markdown": [
       "<span style=\"color:#33cc33\">Correct</span>"
      ],
      "text/plain": [
       "Correct"
      ]
     },
     "metadata": {},
     "output_type": "display_data"
    }
   ],
   "source": [
    "candidate_max_leaf_nodes = [5, 25, 50, 100, 250, 500]\n",
    "# Write loop to find the ideal tree size from candidate_max_leaf_nodes\n",
    "for node in candidate_max_leaf_nodes:\n",
    "    mae = get_mae(node, train_X, val_X, train_y, val_y)\n",
    "    print(node, mae)\n",
    "\n",
    "# Store the best value of max_leaf_nodes (it will be either 5, 25, 50, 100, 250 or 500)\n",
    "best_tree_size = 100\n",
    "\n",
    "# Check your answer\n",
    "step_1.check()"
   ]
  },
  {
   "cell_type": "code",
   "execution_count": 4,
   "id": "3104562d",
   "metadata": {
    "execution": {
     "iopub.execute_input": "2023-03-04T18:31:07.396139Z",
     "iopub.status.busy": "2023-03-04T18:31:07.395555Z",
     "iopub.status.idle": "2023-03-04T18:31:07.401959Z",
     "shell.execute_reply": "2023-03-04T18:31:07.400797Z"
    },
    "papermill": {
     "duration": 0.016155,
     "end_time": "2023-03-04T18:31:07.404776",
     "exception": false,
     "start_time": "2023-03-04T18:31:07.388621",
     "status": "completed"
    },
    "tags": []
   },
   "outputs": [],
   "source": [
    "# The lines below will show you a hint or the solution.\n",
    "# step_1.hint() \n",
    "# step_1.solution()"
   ]
  },
  {
   "cell_type": "markdown",
   "id": "04b64c11",
   "metadata": {
    "papermill": {
     "duration": 0.004225,
     "end_time": "2023-03-04T18:31:07.413743",
     "exception": false,
     "start_time": "2023-03-04T18:31:07.409518",
     "status": "completed"
    },
    "tags": []
   },
   "source": [
    "## Step 2: Fit Model Using All Data\n",
    "You know the best tree size. If you were going to deploy this model in practice, you would make it even more accurate by using all of the data and keeping that tree size.  That is, you don't need to hold out the validation data now that you've made all your modeling decisions."
   ]
  },
  {
   "cell_type": "code",
   "execution_count": 5,
   "id": "619fdfee",
   "metadata": {
    "execution": {
     "iopub.execute_input": "2023-03-04T18:31:07.425209Z",
     "iopub.status.busy": "2023-03-04T18:31:07.424763Z",
     "iopub.status.idle": "2023-03-04T18:31:07.445117Z",
     "shell.execute_reply": "2023-03-04T18:31:07.443566Z"
    },
    "papermill": {
     "duration": 0.030136,
     "end_time": "2023-03-04T18:31:07.448562",
     "exception": false,
     "start_time": "2023-03-04T18:31:07.418426",
     "status": "completed"
    },
    "tags": []
   },
   "outputs": [
    {
     "data": {
      "application/javascript": [
       "parent.postMessage({\"jupyterEvent\": \"custom.exercise_interaction\", \"data\": {\"outcomeType\": 2, \"failureMessage\": \"Didn't set max_leaf_nodes to the right value when building the tree\", \"interactionType\": 1, \"questionType\": 2, \"questionId\": \"2_FitModelWithAllData\", \"learnToolsVersion\": \"0.3.4\", \"valueTowardsCompletion\": 0.0, \"exceptionClass\": \"\", \"trace\": \"\"}}, \"*\")"
      ],
      "text/plain": [
       "<IPython.core.display.Javascript object>"
      ]
     },
     "metadata": {},
     "output_type": "display_data"
    },
    {
     "data": {
      "text/markdown": [
       "<span style=\"color:#cc3333\">Incorrect:</span> Didn't set max_leaf_nodes to the right value when building the tree"
      ],
      "text/plain": [
       "Incorrect: Didn't set max_leaf_nodes to the right value when building the tree"
      ]
     },
     "metadata": {},
     "output_type": "display_data"
    }
   ],
   "source": [
    "# Fill in argument to make optimal size and uncomment\n",
    "final_model = DecisionTreeRegressor(max_leaf_nodes=500, random_state=1)\n",
    "\n",
    "# fit the final model and uncomment the next two lines\n",
    "final_model.fit(X, y)\n",
    "\n",
    "# Check your answer\n",
    "step_2.check()"
   ]
  },
  {
   "cell_type": "code",
   "execution_count": 6,
   "id": "366c1339",
   "metadata": {
    "execution": {
     "iopub.execute_input": "2023-03-04T18:31:07.460296Z",
     "iopub.status.busy": "2023-03-04T18:31:07.459845Z",
     "iopub.status.idle": "2023-03-04T18:31:07.475947Z",
     "shell.execute_reply": "2023-03-04T18:31:07.474446Z"
    },
    "papermill": {
     "duration": 0.025784,
     "end_time": "2023-03-04T18:31:07.479220",
     "exception": false,
     "start_time": "2023-03-04T18:31:07.453436",
     "status": "completed"
    },
    "tags": []
   },
   "outputs": [
    {
     "data": {
      "application/javascript": [
       "parent.postMessage({\"jupyterEvent\": \"custom.exercise_interaction\", \"data\": {\"interactionType\": 2, \"questionType\": 2, \"questionId\": \"2_FitModelWithAllData\", \"learnToolsVersion\": \"0.3.4\", \"valueTowardsCompletion\": 0.0, \"failureMessage\": \"\", \"exceptionClass\": \"\", \"trace\": \"\", \"outcomeType\": 4}}, \"*\")"
      ],
      "text/plain": [
       "<IPython.core.display.Javascript object>"
      ]
     },
     "metadata": {},
     "output_type": "display_data"
    },
    {
     "data": {
      "text/markdown": [
       "<span style=\"color:#3366cc\">Hint:</span> Fit with the ideal value of max_leaf_nodes. In the fit step, use all of the data in the dataset"
      ],
      "text/plain": [
       "Hint: Fit with the ideal value of max_leaf_nodes. In the fit step, use all of the data in the dataset"
      ]
     },
     "metadata": {},
     "output_type": "display_data"
    },
    {
     "data": {
      "application/javascript": [
       "parent.postMessage({\"jupyterEvent\": \"custom.exercise_interaction\", \"data\": {\"interactionType\": 3, \"questionType\": 2, \"questionId\": \"2_FitModelWithAllData\", \"learnToolsVersion\": \"0.3.4\", \"valueTowardsCompletion\": 0.0, \"failureMessage\": \"\", \"exceptionClass\": \"\", \"trace\": \"\", \"outcomeType\": 4}}, \"*\")"
      ],
      "text/plain": [
       "<IPython.core.display.Javascript object>"
      ]
     },
     "metadata": {},
     "output_type": "display_data"
    },
    {
     "data": {
      "text/markdown": [
       "<span style=\"color:#33cc99\">Solution:</span> \n",
       "```python\n",
       "# Fit the model with best_tree_size. Fill in argument to make optimal size\n",
       "final_model = DecisionTreeRegressor(max_leaf_nodes=best_tree_size, random_state=1)\n",
       "\n",
       "# fit the final model\n",
       "final_model.fit(X, y)\n",
       "```"
      ],
      "text/plain": [
       "Solution: \n",
       "```python\n",
       "# Fit the model with best_tree_size. Fill in argument to make optimal size\n",
       "final_model = DecisionTreeRegressor(max_leaf_nodes=best_tree_size, random_state=1)\n",
       "\n",
       "# fit the final model\n",
       "final_model.fit(X, y)\n",
       "```"
      ]
     },
     "metadata": {},
     "output_type": "display_data"
    }
   ],
   "source": [
    "step_2.hint()\n",
    "step_2.solution()"
   ]
  },
  {
   "cell_type": "markdown",
   "id": "abf36c7e",
   "metadata": {
    "papermill": {
     "duration": 0.004928,
     "end_time": "2023-03-04T18:31:07.489446",
     "exception": false,
     "start_time": "2023-03-04T18:31:07.484518",
     "status": "completed"
    },
    "tags": []
   },
   "source": [
    "You've tuned this model and improved your results. But we are still using Decision Tree models, which are not very sophisticated by modern machine learning standards. In the next step you will learn to use Random Forests to improve your models even more.\n",
    "\n",
    "# Keep Going\n",
    "\n",
    "You are ready for **[Random Forests](https://www.kaggle.com/dansbecker/random-forests).**\n"
   ]
  },
  {
   "cell_type": "markdown",
   "id": "73d5d761",
   "metadata": {
    "papermill": {
     "duration": 0.005214,
     "end_time": "2023-03-04T18:31:07.499956",
     "exception": false,
     "start_time": "2023-03-04T18:31:07.494742",
     "status": "completed"
    },
    "tags": []
   },
   "source": [
    "---\n",
    "\n",
    "\n",
    "\n",
    "\n",
    "*Have questions or comments? Visit the [course discussion forum](https://www.kaggle.com/learn/intro-to-machine-learning/discussion) to chat with other learners.*"
   ]
  }
 ],
 "metadata": {
  "kernelspec": {
   "display_name": "Python 3",
   "language": "python",
   "name": "python3"
  },
  "language_info": {
   "codemirror_mode": {
    "name": "ipython",
    "version": 3
   },
   "file_extension": ".py",
   "mimetype": "text/x-python",
   "name": "python",
   "nbconvert_exporter": "python",
   "pygments_lexer": "ipython3",
   "version": "3.7.12"
  },
  "papermill": {
   "default_parameters": {},
   "duration": 14.297883,
   "end_time": "2023-03-04T18:31:08.431285",
   "environment_variables": {},
   "exception": null,
   "input_path": "__notebook__.ipynb",
   "output_path": "__notebook__.ipynb",
   "parameters": {},
   "start_time": "2023-03-04T18:30:54.133402",
   "version": "2.4.0"
  }
 },
 "nbformat": 4,
 "nbformat_minor": 5
}
