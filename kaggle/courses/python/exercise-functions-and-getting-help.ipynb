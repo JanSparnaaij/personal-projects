{
 "cells": [
  {
   "cell_type": "markdown",
   "id": "3dd867ac",
   "metadata": {
    "papermill": {
     "duration": 0.006105,
     "end_time": "2023-03-04T09:32:39.500878",
     "exception": false,
     "start_time": "2023-03-04T09:32:39.494773",
     "status": "completed"
    },
    "tags": []
   },
   "source": [
    "**This notebook is an exercise in the [Python](https://www.kaggle.com/learn/python) course.  You can reference the tutorial at [this link](https://www.kaggle.com/colinmorris/functions-and-getting-help).**\n",
    "\n",
    "---\n"
   ]
  },
  {
   "cell_type": "markdown",
   "id": "ee588307",
   "metadata": {
    "papermill": {
     "duration": 0.004935,
     "end_time": "2023-03-04T09:32:39.511064",
     "exception": false,
     "start_time": "2023-03-04T09:32:39.506129",
     "status": "completed"
    },
    "tags": []
   },
   "source": [
    "Functions are powerful. Try writing some yourself.\n",
    "\n",
    "As before, don't forget to run the setup code below before jumping into question 1."
   ]
  },
  {
   "cell_type": "code",
   "execution_count": 1,
   "id": "2225a741",
   "metadata": {
    "_kg_hide-input": true,
    "_kg_hide-output": true,
    "execution": {
     "iopub.execute_input": "2023-03-04T09:32:39.523553Z",
     "iopub.status.busy": "2023-03-04T09:32:39.522983Z",
     "iopub.status.idle": "2023-03-04T09:32:39.579516Z",
     "shell.execute_reply": "2023-03-04T09:32:39.577911Z"
    },
    "papermill": {
     "duration": 0.067206,
     "end_time": "2023-03-04T09:32:39.583272",
     "exception": false,
     "start_time": "2023-03-04T09:32:39.516066",
     "status": "completed"
    },
    "tags": []
   },
   "outputs": [
    {
     "name": "stdout",
     "output_type": "stream",
     "text": [
      "Setup complete.\n"
     ]
    }
   ],
   "source": [
    "# SETUP. You don't need to worry for now about what this code does or how it works.\n",
    "from learntools.core import binder; binder.bind(globals())\n",
    "from learntools.python.ex2 import *\n",
    "print('Setup complete.')"
   ]
  },
  {
   "cell_type": "markdown",
   "id": "0afba3fa",
   "metadata": {
    "papermill": {
     "duration": 0.005076,
     "end_time": "2023-03-04T09:32:39.594291",
     "exception": false,
     "start_time": "2023-03-04T09:32:39.589215",
     "status": "completed"
    },
    "tags": []
   },
   "source": [
    "# 1.\n",
    "\n",
    "Complete the body of the following function according to its docstring.\n",
    "\n",
    "HINT: Python has a built-in function `round`."
   ]
  },
  {
   "cell_type": "code",
   "execution_count": 2,
   "id": "58a0ce78",
   "metadata": {
    "execution": {
     "iopub.execute_input": "2023-03-04T09:32:39.606449Z",
     "iopub.status.busy": "2023-03-04T09:32:39.606033Z",
     "iopub.status.idle": "2023-03-04T09:32:39.618308Z",
     "shell.execute_reply": "2023-03-04T09:32:39.616958Z"
    },
    "papermill": {
     "duration": 0.021518,
     "end_time": "2023-03-04T09:32:39.620930",
     "exception": false,
     "start_time": "2023-03-04T09:32:39.599412",
     "status": "completed"
    },
    "tags": []
   },
   "outputs": [
    {
     "data": {
      "application/javascript": [
       "parent.postMessage({\"jupyterEvent\": \"custom.exercise_interaction\", \"data\": {\"outcomeType\": 1, \"valueTowardsCompletion\": 0.16666666666666666, \"interactionType\": 1, \"questionType\": 2, \"questionId\": \"1_RoundFunctionProblem\", \"learnToolsVersion\": \"0.3.4\", \"failureMessage\": \"\", \"exceptionClass\": \"\", \"trace\": \"\"}}, \"*\")"
      ],
      "text/plain": [
       "<IPython.core.display.Javascript object>"
      ]
     },
     "metadata": {},
     "output_type": "display_data"
    },
    {
     "data": {
      "text/markdown": [
       "<span style=\"color:#33cc33\">Correct</span>"
      ],
      "text/plain": [
       "Correct"
      ]
     },
     "metadata": {},
     "output_type": "display_data"
    }
   ],
   "source": [
    "def round_to_two_places(num):\n",
    "    \"\"\"Return the given number rounded to two decimal places. \n",
    "    \n",
    "    >>> round_to_two_places(3.14159)\n",
    "    3.14\n",
    "    \"\"\"\n",
    "    # Replace this body with your own code.\n",
    "    # (\"pass\" is a keyword that does literally nothing. We used it as a placeholder\n",
    "    # because after we begin a code block, Python requires at least one line of code)\n",
    "    return round(num,2)\n",
    "\n",
    "# Check your answer\n",
    "q1.check()"
   ]
  },
  {
   "cell_type": "code",
   "execution_count": 3,
   "id": "6002237e",
   "metadata": {
    "execution": {
     "iopub.execute_input": "2023-03-04T09:32:39.633679Z",
     "iopub.status.busy": "2023-03-04T09:32:39.633264Z",
     "iopub.status.idle": "2023-03-04T09:32:39.642102Z",
     "shell.execute_reply": "2023-03-04T09:32:39.640708Z"
    },
    "papermill": {
     "duration": 0.018347,
     "end_time": "2023-03-04T09:32:39.644636",
     "exception": false,
     "start_time": "2023-03-04T09:32:39.626289",
     "status": "completed"
    },
    "tags": []
   },
   "outputs": [
    {
     "data": {
      "application/javascript": [
       "parent.postMessage({\"jupyterEvent\": \"custom.exercise_interaction\", \"data\": {\"interactionType\": 3, \"questionType\": 2, \"questionId\": \"1_RoundFunctionProblem\", \"learnToolsVersion\": \"0.3.4\", \"valueTowardsCompletion\": 0.0, \"failureMessage\": \"\", \"exceptionClass\": \"\", \"trace\": \"\", \"outcomeType\": 4}}, \"*\")"
      ],
      "text/plain": [
       "<IPython.core.display.Javascript object>"
      ]
     },
     "metadata": {},
     "output_type": "display_data"
    },
    {
     "data": {
      "text/markdown": [
       "<span style=\"color:#33cc99\">Solution:</span> \n",
       "```python\n",
       "return round(num, 2)\n",
       "```"
      ],
      "text/plain": [
       "Solution: \n",
       "```python\n",
       "return round(num, 2)\n",
       "```"
      ]
     },
     "metadata": {},
     "output_type": "display_data"
    }
   ],
   "source": [
    "# Uncomment the following for a hint\n",
    "#q1.hint()\n",
    "# Or uncomment the following to peek at the solution\n",
    "q1.solution()"
   ]
  },
  {
   "cell_type": "markdown",
   "id": "bb3280f1",
   "metadata": {
    "papermill": {
     "duration": 0.00643,
     "end_time": "2023-03-04T09:32:39.657213",
     "exception": false,
     "start_time": "2023-03-04T09:32:39.650783",
     "status": "completed"
    },
    "tags": []
   },
   "source": [
    "# 2.\n",
    "The help for `round` says that `ndigits` (the second argument) may be negative.\n",
    "What do you think will happen when it is? Try some examples in the following cell."
   ]
  },
  {
   "cell_type": "code",
   "execution_count": 4,
   "id": "590c7866",
   "metadata": {
    "execution": {
     "iopub.execute_input": "2023-03-04T09:32:39.670536Z",
     "iopub.status.busy": "2023-03-04T09:32:39.670126Z",
     "iopub.status.idle": "2023-03-04T09:32:39.677428Z",
     "shell.execute_reply": "2023-03-04T09:32:39.676401Z"
    },
    "papermill": {
     "duration": 0.017099,
     "end_time": "2023-03-04T09:32:39.680033",
     "exception": false,
     "start_time": "2023-03-04T09:32:39.662934",
     "status": "completed"
    },
    "tags": []
   },
   "outputs": [
    {
     "data": {
      "text/plain": [
       "0.0"
      ]
     },
     "execution_count": 4,
     "metadata": {},
     "output_type": "execute_result"
    }
   ],
   "source": [
    "# Put your test code here\n",
    "round(12,-1)\n",
    "round(12.1,0)\n",
    "round(12.1,-2)"
   ]
  },
  {
   "cell_type": "markdown",
   "id": "e22273d0",
   "metadata": {
    "papermill": {
     "duration": 0.005442,
     "end_time": "2023-03-04T09:32:39.691808",
     "exception": false,
     "start_time": "2023-03-04T09:32:39.686366",
     "status": "completed"
    },
    "tags": []
   },
   "source": [
    "Can you think of a case where this would be useful?  Once you're ready, run the code cell below to see the answer and to receive credit for completing the problem."
   ]
  },
  {
   "cell_type": "code",
   "execution_count": 5,
   "id": "75042379",
   "metadata": {
    "execution": {
     "iopub.execute_input": "2023-03-04T09:32:39.706495Z",
     "iopub.status.busy": "2023-03-04T09:32:39.705330Z",
     "iopub.status.idle": "2023-03-04T09:32:39.713929Z",
     "shell.execute_reply": "2023-03-04T09:32:39.713001Z"
    },
    "papermill": {
     "duration": 0.018375,
     "end_time": "2023-03-04T09:32:39.716248",
     "exception": false,
     "start_time": "2023-03-04T09:32:39.697873",
     "status": "completed"
    },
    "tags": []
   },
   "outputs": [
    {
     "data": {
      "application/javascript": [
       "parent.postMessage({\"jupyterEvent\": \"custom.exercise_interaction\", \"data\": {\"interactionType\": 3, \"questionType\": 4, \"questionId\": \"2_RoundNdigitsProblem\", \"learnToolsVersion\": \"0.3.4\", \"valueTowardsCompletion\": 0.0, \"failureMessage\": \"\", \"exceptionClass\": \"\", \"trace\": \"\", \"outcomeType\": 4}}, \"*\")"
      ],
      "text/plain": [
       "<IPython.core.display.Javascript object>"
      ]
     },
     "metadata": {},
     "output_type": "display_data"
    },
    {
     "data": {
      "text/markdown": [
       "<span style=\"color:#33cc99\">Solution:</span> As you've seen, `ndigits=-1` rounds to the nearest 10, `ndigits=-2` rounds to the nearest 100 and so on. Where might this be useful? Suppose we're dealing with large numbers:\n",
       "\n",
       "> The area of Finland is 338,424 km²  \n",
       "> The area of Greenland is 2,166,086 km²\n",
       "\n",
       "We probably don't care whether it's really 338,424, or 338,425, or 338,177. All those digits of accuracy are just distracting. We can chop them off by calling `round()` with `ndigits=-3`:\n",
       "\n",
       "> The area of Finland is 338,000 km²  \n",
       "> The area of Greenland is 2,166,000 km²\n",
       "\n",
       "(We'll talk about how we would get the commas later when we talk about string formatting :))\n"
      ],
      "text/plain": [
       "Solution: As you've seen, `ndigits=-1` rounds to the nearest 10, `ndigits=-2` rounds to the nearest 100 and so on. Where might this be useful? Suppose we're dealing with large numbers:\n",
       "\n",
       "> The area of Finland is 338,424 km²  \n",
       "> The area of Greenland is 2,166,086 km²\n",
       "\n",
       "We probably don't care whether it's really 338,424, or 338,425, or 338,177. All those digits of accuracy are just distracting. We can chop them off by calling `round()` with `ndigits=-3`:\n",
       "\n",
       "> The area of Finland is 338,000 km²  \n",
       "> The area of Greenland is 2,166,000 km²\n",
       "\n",
       "(We'll talk about how we would get the commas later when we talk about string formatting :))"
      ]
     },
     "metadata": {},
     "output_type": "display_data"
    }
   ],
   "source": [
    "# Check your answer (Run this code cell to receive credit!)\n",
    "q2.solution()"
   ]
  },
  {
   "cell_type": "markdown",
   "id": "1355f5b0",
   "metadata": {
    "papermill": {
     "duration": 0.005602,
     "end_time": "2023-03-04T09:32:39.728021",
     "exception": false,
     "start_time": "2023-03-04T09:32:39.722419",
     "status": "completed"
    },
    "tags": []
   },
   "source": [
    "# 3.\n",
    "\n",
    "In the previous exercise, the candy-sharing friends Alice, Bob and Carol tried to split candies evenly. For the sake of their friendship, any candies left over would be smashed. For example, if they collectively bring home 91 candies, they'll take 30 each and smash 1.\n",
    "\n",
    "Below is a simple function that will calculate the number of candies to smash for *any* number of total candies.\n",
    "\n",
    "Modify it so that it optionally takes a second argument representing the number of friends the candies are being split between. If no second argument is provided, it should assume 3 friends, as before.\n",
    "\n",
    "Update the docstring to reflect this new behaviour."
   ]
  },
  {
   "cell_type": "code",
   "execution_count": 6,
   "id": "0be59f60",
   "metadata": {
    "execution": {
     "iopub.execute_input": "2023-03-04T09:32:39.743920Z",
     "iopub.status.busy": "2023-03-04T09:32:39.742853Z",
     "iopub.status.idle": "2023-03-04T09:32:39.755035Z",
     "shell.execute_reply": "2023-03-04T09:32:39.753633Z"
    },
    "papermill": {
     "duration": 0.023683,
     "end_time": "2023-03-04T09:32:39.757643",
     "exception": false,
     "start_time": "2023-03-04T09:32:39.733960",
     "status": "completed"
    },
    "tags": []
   },
   "outputs": [
    {
     "data": {
      "application/javascript": [
       "parent.postMessage({\"jupyterEvent\": \"custom.exercise_interaction\", \"data\": {\"outcomeType\": 1, \"valueTowardsCompletion\": 0.16666666666666666, \"interactionType\": 1, \"questionType\": 2, \"questionId\": \"3_CandySmashingFunctionProblem\", \"learnToolsVersion\": \"0.3.4\", \"failureMessage\": \"\", \"exceptionClass\": \"\", \"trace\": \"\"}}, \"*\")"
      ],
      "text/plain": [
       "<IPython.core.display.Javascript object>"
      ]
     },
     "metadata": {},
     "output_type": "display_data"
    },
    {
     "data": {
      "text/markdown": [
       "<span style=\"color:#33cc33\">Correct</span>"
      ],
      "text/plain": [
       "Correct"
      ]
     },
     "metadata": {},
     "output_type": "display_data"
    }
   ],
   "source": [
    "def to_smash(total_candies, number_of_friends = 3):\n",
    "    \"\"\"Return the number of leftover candies that must be smashed after distributing\n",
    "    the given number of candies evenly between x friends.\n",
    "    \n",
    "    >>> to_smash(91, 3)\n",
    "    1\n",
    "    \"\"\"\n",
    "    return total_candies % number_of_friends\n",
    "\n",
    "# Check your answer\n",
    "q3.check()"
   ]
  },
  {
   "cell_type": "code",
   "execution_count": 7,
   "id": "c42fab94",
   "metadata": {
    "execution": {
     "iopub.execute_input": "2023-03-04T09:32:39.772406Z",
     "iopub.status.busy": "2023-03-04T09:32:39.771946Z",
     "iopub.status.idle": "2023-03-04T09:32:39.782188Z",
     "shell.execute_reply": "2023-03-04T09:32:39.780976Z"
    },
    "papermill": {
     "duration": 0.021289,
     "end_time": "2023-03-04T09:32:39.785302",
     "exception": false,
     "start_time": "2023-03-04T09:32:39.764013",
     "status": "completed"
    },
    "tags": []
   },
   "outputs": [
    {
     "data": {
      "application/javascript": [
       "parent.postMessage({\"jupyterEvent\": \"custom.exercise_interaction\", \"data\": {\"interactionType\": 2, \"questionType\": 2, \"questionId\": \"3_CandySmashingFunctionProblem\", \"learnToolsVersion\": \"0.3.4\", \"valueTowardsCompletion\": 0.0, \"failureMessage\": \"\", \"exceptionClass\": \"\", \"trace\": \"\", \"outcomeType\": 4}}, \"*\")"
      ],
      "text/plain": [
       "<IPython.core.display.Javascript object>"
      ]
     },
     "metadata": {},
     "output_type": "display_data"
    },
    {
     "data": {
      "text/markdown": [
       "<span style=\"color:#3366cc\">Hint:</span> Refer to the section of the last tutorial notebook where we talked about default arguments"
      ],
      "text/plain": [
       "Hint: Refer to the section of the last tutorial notebook where we talked about default arguments"
      ]
     },
     "metadata": {},
     "output_type": "display_data"
    }
   ],
   "source": [
    "q3.hint()"
   ]
  },
  {
   "cell_type": "code",
   "execution_count": 8,
   "id": "f36fb356",
   "metadata": {
    "execution": {
     "iopub.execute_input": "2023-03-04T09:32:39.801442Z",
     "iopub.status.busy": "2023-03-04T09:32:39.800980Z",
     "iopub.status.idle": "2023-03-04T09:32:39.811533Z",
     "shell.execute_reply": "2023-03-04T09:32:39.810257Z"
    },
    "papermill": {
     "duration": 0.022009,
     "end_time": "2023-03-04T09:32:39.814305",
     "exception": false,
     "start_time": "2023-03-04T09:32:39.792296",
     "status": "completed"
    },
    "tags": []
   },
   "outputs": [
    {
     "data": {
      "application/javascript": [
       "parent.postMessage({\"jupyterEvent\": \"custom.exercise_interaction\", \"data\": {\"interactionType\": 3, \"questionType\": 2, \"questionId\": \"3_CandySmashingFunctionProblem\", \"learnToolsVersion\": \"0.3.4\", \"valueTowardsCompletion\": 0.0, \"failureMessage\": \"\", \"exceptionClass\": \"\", \"trace\": \"\", \"outcomeType\": 4}}, \"*\")"
      ],
      "text/plain": [
       "<IPython.core.display.Javascript object>"
      ]
     },
     "metadata": {},
     "output_type": "display_data"
    },
    {
     "data": {
      "text/markdown": [
       "<span style=\"color:#33cc99\">Solution:</span> \n",
       "```python\n",
       "def to_smash(total_candies, n_friends=3):\n",
       "    return total_candies % n_friends\n",
       "```"
      ],
      "text/plain": [
       "Solution: \n",
       "```python\n",
       "def to_smash(total_candies, n_friends=3):\n",
       "    return total_candies % n_friends\n",
       "```"
      ]
     },
     "metadata": {},
     "output_type": "display_data"
    }
   ],
   "source": [
    "q3.solution()"
   ]
  },
  {
   "cell_type": "markdown",
   "id": "b0f4fcd3",
   "metadata": {
    "papermill": {
     "duration": 0.006726,
     "end_time": "2023-03-04T09:32:39.827733",
     "exception": false,
     "start_time": "2023-03-04T09:32:39.821007",
     "status": "completed"
    },
    "tags": []
   },
   "source": [
    "# 4. (Optional)\n",
    "\n",
    "It may not be fun, but reading and understanding error messages will be an important part of your Python career.\n",
    "\n",
    "Each code cell below contains some commented buggy code. For each cell...\n",
    "\n",
    "1. Read the code and predict what you think will happen when it's run.\n",
    "2. Then uncomment the code and run it to see what happens. (**Tip**: In the kernel editor, you can highlight several lines and press `ctrl`+`/` to toggle commenting.)\n",
    "3. Fix the code (so that it accomplishes its intended purpose without throwing an exception)\n",
    "\n",
    "<!-- TODO: should this be autochecked? Delta is probably pretty small. -->"
   ]
  },
  {
   "cell_type": "code",
   "execution_count": 9,
   "id": "659744db",
   "metadata": {
    "execution": {
     "iopub.execute_input": "2023-03-04T09:32:39.843344Z",
     "iopub.status.busy": "2023-03-04T09:32:39.842931Z",
     "iopub.status.idle": "2023-03-04T09:32:39.849979Z",
     "shell.execute_reply": "2023-03-04T09:32:39.849007Z"
    },
    "papermill": {
     "duration": 0.017847,
     "end_time": "2023-03-04T09:32:39.852478",
     "exception": false,
     "start_time": "2023-03-04T09:32:39.834631",
     "status": "completed"
    },
    "tags": []
   },
   "outputs": [
    {
     "data": {
      "text/plain": [
       "10.0"
      ]
     },
     "execution_count": 9,
     "metadata": {},
     "output_type": "execute_result"
    }
   ],
   "source": [
    "round(9.9999, 2)"
   ]
  },
  {
   "cell_type": "code",
   "execution_count": 10,
   "id": "3ebfe4cd",
   "metadata": {
    "execution": {
     "iopub.execute_input": "2023-03-04T09:32:39.869324Z",
     "iopub.status.busy": "2023-03-04T09:32:39.868877Z",
     "iopub.status.idle": "2023-03-04T09:32:39.877929Z",
     "shell.execute_reply": "2023-03-04T09:32:39.876193Z"
    },
    "papermill": {
     "duration": 0.021641,
     "end_time": "2023-03-04T09:32:39.881078",
     "exception": false,
     "start_time": "2023-03-04T09:32:39.859437",
     "status": "completed"
    },
    "tags": []
   },
   "outputs": [
    {
     "name": "stdout",
     "output_type": "stream",
     "text": [
      "Which of the two variables above has the smallest absolute value?\n"
     ]
    },
    {
     "data": {
      "text/plain": [
       "5"
      ]
     },
     "execution_count": 10,
     "metadata": {},
     "output_type": "execute_result"
    }
   ],
   "source": [
    "x = -10\n",
    "y = 5\n",
    "print('Which of the two variables above has the smallest absolute value?')\n",
    "min(abs(x), abs(y))"
   ]
  },
  {
   "cell_type": "code",
   "execution_count": 11,
   "id": "3725dbdd",
   "metadata": {
    "execution": {
     "iopub.execute_input": "2023-03-04T09:32:39.897408Z",
     "iopub.status.busy": "2023-03-04T09:32:39.896948Z",
     "iopub.status.idle": "2023-03-04T09:32:39.903717Z",
     "shell.execute_reply": "2023-03-04T09:32:39.902243Z"
    },
    "papermill": {
     "duration": 0.018595,
     "end_time": "2023-03-04T09:32:39.907165",
     "exception": false,
     "start_time": "2023-03-04T09:32:39.888570",
     "status": "completed"
    },
    "tags": []
   },
   "outputs": [
    {
     "name": "stdout",
     "output_type": "stream",
     "text": [
      "5\n"
     ]
    }
   ],
   "source": [
    "def f(x):\n",
    "    y = abs(x)\n",
    "    return y\n",
    "print(f(5))"
   ]
  },
  {
   "cell_type": "markdown",
   "id": "7252a075",
   "metadata": {
    "papermill": {
     "duration": 0.006726,
     "end_time": "2023-03-04T09:32:39.922203",
     "exception": false,
     "start_time": "2023-03-04T09:32:39.915477",
     "status": "completed"
    },
    "tags": []
   },
   "source": [
    "# Keep Going\n",
    "\n",
    "Nice job with the code. Next up, you'll learn about *conditionals*, which you'll need to **[write interesting programs](https://www.kaggle.com/colinmorris/booleans-and-conditionals)**. "
   ]
  },
  {
   "cell_type": "markdown",
   "id": "16d1a49f",
   "metadata": {
    "papermill": {
     "duration": 0.007177,
     "end_time": "2023-03-04T09:32:39.936527",
     "exception": false,
     "start_time": "2023-03-04T09:32:39.929350",
     "status": "completed"
    },
    "tags": []
   },
   "source": [
    "---\n",
    "\n",
    "\n",
    "\n",
    "\n",
    "*Have questions or comments? Visit the [course discussion forum](https://www.kaggle.com/learn/python/discussion) to chat with other learners.*"
   ]
  }
 ],
 "metadata": {
  "kernelspec": {
   "display_name": "Python 3",
   "language": "python",
   "name": "python3"
  },
  "language_info": {
   "codemirror_mode": {
    "name": "ipython",
    "version": 3
   },
   "file_extension": ".py",
   "mimetype": "text/x-python",
   "name": "python",
   "nbconvert_exporter": "python",
   "pygments_lexer": "ipython3",
   "version": "3.7.12"
  },
  "papermill": {
   "default_parameters": {},
   "duration": 12.36505,
   "end_time": "2023-03-04T09:32:40.667063",
   "environment_variables": {},
   "exception": null,
   "input_path": "__notebook__.ipynb",
   "output_path": "__notebook__.ipynb",
   "parameters": {},
   "start_time": "2023-03-04T09:32:28.302013",
   "version": "2.4.0"
  }
 },
 "nbformat": 4,
 "nbformat_minor": 5
}
