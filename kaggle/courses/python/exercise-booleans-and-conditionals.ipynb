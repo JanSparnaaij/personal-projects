{
 "cells": [
  {
   "cell_type": "markdown",
   "id": "97c35a0c",
   "metadata": {
    "papermill": {
     "duration": 0.010279,
     "end_time": "2023-03-04T10:50:23.301539",
     "exception": false,
     "start_time": "2023-03-04T10:50:23.291260",
     "status": "completed"
    },
    "tags": []
   },
   "source": [
    "**This notebook is an exercise in the [Python](https://www.kaggle.com/learn/python) course.  You can reference the tutorial at [this link](https://www.kaggle.com/colinmorris/booleans-and-conditionals).**\n",
    "\n",
    "---\n"
   ]
  },
  {
   "cell_type": "markdown",
   "id": "a9cd5ad8",
   "metadata": {
    "papermill": {
     "duration": 0.008648,
     "end_time": "2023-03-04T10:50:23.319840",
     "exception": false,
     "start_time": "2023-03-04T10:50:23.311192",
     "status": "completed"
    },
    "tags": []
   },
   "source": [
    "In this exercise, you'll put to work what you have learned about booleans and conditionals.\n",
    "\n",
    "To get started, **run the setup code below** before writing your own code (and if you leave this notebook and come back later, don't forget to run the setup code again)."
   ]
  },
  {
   "cell_type": "code",
   "execution_count": 1,
   "id": "f6efc3f0",
   "metadata": {
    "execution": {
     "iopub.execute_input": "2023-03-04T10:50:23.340616Z",
     "iopub.status.busy": "2023-03-04T10:50:23.339606Z",
     "iopub.status.idle": "2023-03-04T10:50:23.396560Z",
     "shell.execute_reply": "2023-03-04T10:50:23.395605Z"
    },
    "papermill": {
     "duration": 0.070431,
     "end_time": "2023-03-04T10:50:23.399157",
     "exception": false,
     "start_time": "2023-03-04T10:50:23.328726",
     "status": "completed"
    },
    "tags": []
   },
   "outputs": [
    {
     "name": "stdout",
     "output_type": "stream",
     "text": [
      "Setup complete.\n"
     ]
    }
   ],
   "source": [
    "from learntools.core import binder; binder.bind(globals())\n",
    "from learntools.python.ex3 import *\n",
    "print('Setup complete.')"
   ]
  },
  {
   "cell_type": "markdown",
   "id": "a2500837",
   "metadata": {
    "papermill": {
     "duration": 0.0088,
     "end_time": "2023-03-04T10:50:23.417506",
     "exception": false,
     "start_time": "2023-03-04T10:50:23.408706",
     "status": "completed"
    },
    "tags": []
   },
   "source": [
    "# 1.\n",
    "\n",
    "Many programming languages have [`sign`](https://en.wikipedia.org/wiki/Sign_function) available as a built-in function. Python doesn't, but we can define our own!\n",
    "\n",
    "In the cell below, define a function called `sign` which takes a numerical argument and returns -1 if it's negative, 1 if it's positive, and 0 if it's 0."
   ]
  },
  {
   "cell_type": "code",
   "execution_count": 2,
   "id": "c9ac717b",
   "metadata": {
    "execution": {
     "iopub.execute_input": "2023-03-04T10:50:23.437724Z",
     "iopub.status.busy": "2023-03-04T10:50:23.437248Z",
     "iopub.status.idle": "2023-03-04T10:50:23.453378Z",
     "shell.execute_reply": "2023-03-04T10:50:23.451875Z"
    },
    "papermill": {
     "duration": 0.030286,
     "end_time": "2023-03-04T10:50:23.456817",
     "exception": false,
     "start_time": "2023-03-04T10:50:23.426531",
     "status": "completed"
    },
    "tags": []
   },
   "outputs": [
    {
     "data": {
      "application/javascript": [
       "parent.postMessage({\"jupyterEvent\": \"custom.exercise_interaction\", \"data\": {\"outcomeType\": 1, \"valueTowardsCompletion\": 0.2, \"interactionType\": 1, \"questionType\": 2, \"questionId\": \"1_SignFunctionProblem\", \"learnToolsVersion\": \"0.3.4\", \"failureMessage\": \"\", \"exceptionClass\": \"\", \"trace\": \"\"}}, \"*\")"
      ],
      "text/plain": [
       "<IPython.core.display.Javascript object>"
      ]
     },
     "metadata": {},
     "output_type": "display_data"
    },
    {
     "data": {
      "text/markdown": [
       "<span style=\"color:#33cc33\">Correct</span>"
      ],
      "text/plain": [
       "Correct"
      ]
     },
     "metadata": {},
     "output_type": "display_data"
    }
   ],
   "source": [
    "# Your code goes here. Define a function called 'sign'\n",
    "def sign(x):\n",
    "    if x < 0:\n",
    "        return -1\n",
    "    elif x > 0:\n",
    "        return 1\n",
    "    else:\n",
    "        return 0\n",
    "    \n",
    "\n",
    "# Check your answer\n",
    "q1.check()"
   ]
  },
  {
   "cell_type": "code",
   "execution_count": 3,
   "id": "54109cca",
   "metadata": {
    "execution": {
     "iopub.execute_input": "2023-03-04T10:50:23.483447Z",
     "iopub.status.busy": "2023-03-04T10:50:23.482399Z",
     "iopub.status.idle": "2023-03-04T10:50:23.492607Z",
     "shell.execute_reply": "2023-03-04T10:50:23.491466Z"
    },
    "papermill": {
     "duration": 0.026499,
     "end_time": "2023-03-04T10:50:23.495087",
     "exception": false,
     "start_time": "2023-03-04T10:50:23.468588",
     "status": "completed"
    },
    "tags": []
   },
   "outputs": [
    {
     "data": {
      "application/javascript": [
       "parent.postMessage({\"jupyterEvent\": \"custom.exercise_interaction\", \"data\": {\"interactionType\": 3, \"questionType\": 2, \"questionId\": \"1_SignFunctionProblem\", \"learnToolsVersion\": \"0.3.4\", \"valueTowardsCompletion\": 0.0, \"failureMessage\": \"\", \"exceptionClass\": \"\", \"trace\": \"\", \"outcomeType\": 4}}, \"*\")"
      ],
      "text/plain": [
       "<IPython.core.display.Javascript object>"
      ]
     },
     "metadata": {},
     "output_type": "display_data"
    },
    {
     "data": {
      "text/markdown": [
       "<span style=\"color:#33cc99\">Solution:</span> \n",
       "```python\n",
       "def sign(x):\n",
       "    if x > 0:\n",
       "        return 1\n",
       "    elif x < 0:\n",
       "        return -1\n",
       "    else:\n",
       "        return 0\n",
       "```"
      ],
      "text/plain": [
       "Solution: \n",
       "```python\n",
       "def sign(x):\n",
       "    if x > 0:\n",
       "        return 1\n",
       "    elif x < 0:\n",
       "        return -1\n",
       "    else:\n",
       "        return 0\n",
       "```"
      ]
     },
     "metadata": {},
     "output_type": "display_data"
    }
   ],
   "source": [
    "q1.solution()"
   ]
  },
  {
   "cell_type": "markdown",
   "id": "b7438db8",
   "metadata": {
    "papermill": {
     "duration": 0.009326,
     "end_time": "2023-03-04T10:50:23.514211",
     "exception": false,
     "start_time": "2023-03-04T10:50:23.504885",
     "status": "completed"
    },
    "tags": []
   },
   "source": [
    "# 2.\n",
    "\n",
    "We've decided to add \"logging\" to our `to_smash` function from the previous exercise."
   ]
  },
  {
   "cell_type": "code",
   "execution_count": 4,
   "id": "40353b56",
   "metadata": {
    "execution": {
     "iopub.execute_input": "2023-03-04T10:50:23.539363Z",
     "iopub.status.busy": "2023-03-04T10:50:23.538519Z",
     "iopub.status.idle": "2023-03-04T10:50:23.547900Z",
     "shell.execute_reply": "2023-03-04T10:50:23.546789Z"
    },
    "papermill": {
     "duration": 0.022756,
     "end_time": "2023-03-04T10:50:23.550116",
     "exception": false,
     "start_time": "2023-03-04T10:50:23.527360",
     "status": "completed"
    },
    "tags": []
   },
   "outputs": [
    {
     "name": "stdout",
     "output_type": "stream",
     "text": [
      "Splitting 91 candies\n"
     ]
    },
    {
     "data": {
      "text/plain": [
       "1"
      ]
     },
     "execution_count": 4,
     "metadata": {},
     "output_type": "execute_result"
    }
   ],
   "source": [
    "def to_smash(total_candies):\n",
    "    \"\"\"Return the number of leftover candies that must be smashed after distributing\n",
    "    the given number of candies evenly between 3 friends.\n",
    "    \n",
    "    >>> to_smash(91)\n",
    "    1\n",
    "    \"\"\"\n",
    "    print(\"Splitting\", total_candies, \"candies\")\n",
    "    return total_candies % 3\n",
    "\n",
    "to_smash(91)"
   ]
  },
  {
   "cell_type": "markdown",
   "id": "92efb9f5",
   "metadata": {
    "papermill": {
     "duration": 0.00953,
     "end_time": "2023-03-04T10:50:23.569389",
     "exception": false,
     "start_time": "2023-03-04T10:50:23.559859",
     "status": "completed"
    },
    "tags": []
   },
   "source": [
    "What happens if we call it with `total_candies = 1`?"
   ]
  },
  {
   "cell_type": "code",
   "execution_count": 5,
   "id": "7c125633",
   "metadata": {
    "execution": {
     "iopub.execute_input": "2023-03-04T10:50:23.590568Z",
     "iopub.status.busy": "2023-03-04T10:50:23.590139Z",
     "iopub.status.idle": "2023-03-04T10:50:23.598801Z",
     "shell.execute_reply": "2023-03-04T10:50:23.597338Z"
    },
    "papermill": {
     "duration": 0.02226,
     "end_time": "2023-03-04T10:50:23.601234",
     "exception": false,
     "start_time": "2023-03-04T10:50:23.578974",
     "status": "completed"
    },
    "tags": []
   },
   "outputs": [
    {
     "name": "stdout",
     "output_type": "stream",
     "text": [
      "Splitting 1 candies\n"
     ]
    },
    {
     "data": {
      "text/plain": [
       "1"
      ]
     },
     "execution_count": 5,
     "metadata": {},
     "output_type": "execute_result"
    }
   ],
   "source": [
    "to_smash(1)"
   ]
  },
  {
   "cell_type": "markdown",
   "id": "589e6a12",
   "metadata": {
    "papermill": {
     "duration": 0.009508,
     "end_time": "2023-03-04T10:50:23.620602",
     "exception": false,
     "start_time": "2023-03-04T10:50:23.611094",
     "status": "completed"
    },
    "tags": []
   },
   "source": [
    "That isn't great grammar!\n",
    "\n",
    "Modify the definition in the cell below to correct the grammar of our print statement. (If there's only one candy, we should use the singular \"candy\" instead of the plural \"candies\")"
   ]
  },
  {
   "cell_type": "code",
   "execution_count": 6,
   "id": "5ae6c0a0",
   "metadata": {
    "execution": {
     "iopub.execute_input": "2023-03-04T10:50:23.642034Z",
     "iopub.status.busy": "2023-03-04T10:50:23.641611Z",
     "iopub.status.idle": "2023-03-04T10:50:23.651048Z",
     "shell.execute_reply": "2023-03-04T10:50:23.649867Z"
    },
    "papermill": {
     "duration": 0.023035,
     "end_time": "2023-03-04T10:50:23.653463",
     "exception": false,
     "start_time": "2023-03-04T10:50:23.630428",
     "status": "completed"
    },
    "tags": []
   },
   "outputs": [
    {
     "name": "stdout",
     "output_type": "stream",
     "text": [
      "Splitting 91 candies\n",
      "Split 1 candy\n"
     ]
    },
    {
     "data": {
      "text/plain": [
       "1"
      ]
     },
     "execution_count": 6,
     "metadata": {},
     "output_type": "execute_result"
    }
   ],
   "source": [
    "def to_smash(total_candies):\n",
    "    \"\"\"Return the number of leftover candies that must be smashed after distributing\n",
    "    the given number of candies evenly between 3 friends.\n",
    "    \n",
    "    >>> to_smash(91)\n",
    "    1\n",
    "    \"\"\"\n",
    "    if total_candies == 1:\n",
    "        print(\"Split\", total_candies, \"candy\")\n",
    "    else: \n",
    "        print(\"Splitting\", total_candies, \"candies\")\n",
    "    return total_candies % 3\n",
    "\n",
    "to_smash(91)\n",
    "to_smash(1)"
   ]
  },
  {
   "cell_type": "markdown",
   "id": "814fd0ea",
   "metadata": {
    "papermill": {
     "duration": 0.00957,
     "end_time": "2023-03-04T10:50:23.672986",
     "exception": false,
     "start_time": "2023-03-04T10:50:23.663416",
     "status": "completed"
    },
    "tags": []
   },
   "source": [
    "To get credit for completing this problem, and to see the official answer, run the code cell below."
   ]
  },
  {
   "cell_type": "code",
   "execution_count": 7,
   "id": "38663eec",
   "metadata": {
    "execution": {
     "iopub.execute_input": "2023-03-04T10:50:23.694830Z",
     "iopub.status.busy": "2023-03-04T10:50:23.694388Z",
     "iopub.status.idle": "2023-03-04T10:50:23.703457Z",
     "shell.execute_reply": "2023-03-04T10:50:23.702302Z"
    },
    "papermill": {
     "duration": 0.022702,
     "end_time": "2023-03-04T10:50:23.705857",
     "exception": false,
     "start_time": "2023-03-04T10:50:23.683155",
     "status": "completed"
    },
    "tags": []
   },
   "outputs": [
    {
     "data": {
      "application/javascript": [
       "parent.postMessage({\"jupyterEvent\": \"custom.exercise_interaction\", \"data\": {\"interactionType\": 3, \"questionType\": 4, \"questionId\": \"2_PluralizationProblem\", \"learnToolsVersion\": \"0.3.4\", \"valueTowardsCompletion\": 0.0, \"failureMessage\": \"\", \"exceptionClass\": \"\", \"trace\": \"\", \"outcomeType\": 4}}, \"*\")"
      ],
      "text/plain": [
       "<IPython.core.display.Javascript object>"
      ]
     },
     "metadata": {},
     "output_type": "display_data"
    },
    {
     "data": {
      "text/markdown": [
       "<span style=\"color:#33cc99\">Solution:</span> A straightforward (and totally fine) solution is to replace the original `print` call with:\n",
       "\n",
       "```python\n",
       "if total_candies == 1:\n",
       "    print(\"Splitting 1 candy\")\n",
       "else:\n",
       "    print(\"Splitting\", total_candies, \"candies\")\n",
       "```\n",
       "\n",
       "Here's a slightly more succinct solution using a conditional expression:\n",
       "\n",
       "```python\n",
       "print(\"Splitting\", total_candies, \"candy\" if total_candies == 1 else \"candies\")\n",
       "```"
      ],
      "text/plain": [
       "Solution: A straightforward (and totally fine) solution is to replace the original `print` call with:\n",
       "\n",
       "```python\n",
       "if total_candies == 1:\n",
       "    print(\"Splitting 1 candy\")\n",
       "else:\n",
       "    print(\"Splitting\", total_candies, \"candies\")\n",
       "```\n",
       "\n",
       "Here's a slightly more succinct solution using a conditional expression:\n",
       "\n",
       "```python\n",
       "print(\"Splitting\", total_candies, \"candy\" if total_candies == 1 else \"candies\")\n",
       "```"
      ]
     },
     "metadata": {},
     "output_type": "display_data"
    }
   ],
   "source": [
    "# Check your answer (Run this code cell to receive credit!)\n",
    "q2.solution()"
   ]
  },
  {
   "cell_type": "markdown",
   "id": "34bc0739",
   "metadata": {
    "papermill": {
     "duration": 0.010108,
     "end_time": "2023-03-04T10:50:23.726376",
     "exception": false,
     "start_time": "2023-03-04T10:50:23.716268",
     "status": "completed"
    },
    "tags": []
   },
   "source": [
    "# 3. <span title=\"A bit spicy\" style=\"color: darkgreen \">🌶️</span>\n",
    "\n",
    "In the tutorial, we talked about deciding whether we're prepared for the weather. I said that I'm safe from today's weather if...\n",
    "- I have an umbrella...\n",
    "- or if the rain isn't too heavy and I have a hood...\n",
    "- otherwise, I'm still fine unless it's raining *and* it's a workday\n",
    "\n",
    "The function below uses our first attempt at turning this logic into a Python expression. I claimed that there was a bug in that code. Can you find it?\n",
    "\n",
    "To prove that `prepared_for_weather` is buggy, come up with a set of inputs where either:\n",
    "- the function returns `False` (but should have returned `True`), or\n",
    "- the function returned `True` (but should have returned `False`).\n",
    "\n",
    "To get credit for completing this question, your code should return a <font color='#33cc33'>Correct</font> result."
   ]
  },
  {
   "cell_type": "code",
   "execution_count": 8,
   "id": "74ace0d2",
   "metadata": {
    "execution": {
     "iopub.execute_input": "2023-03-04T10:50:23.749018Z",
     "iopub.status.busy": "2023-03-04T10:50:23.748630Z",
     "iopub.status.idle": "2023-03-04T10:50:23.760515Z",
     "shell.execute_reply": "2023-03-04T10:50:23.759561Z"
    },
    "papermill": {
     "duration": 0.02597,
     "end_time": "2023-03-04T10:50:23.762800",
     "exception": false,
     "start_time": "2023-03-04T10:50:23.736830",
     "status": "completed"
    },
    "tags": []
   },
   "outputs": [
    {
     "name": "stdout",
     "output_type": "stream",
     "text": [
      "False\n"
     ]
    },
    {
     "data": {
      "application/javascript": [
       "parent.postMessage({\"jupyterEvent\": \"custom.exercise_interaction\", \"data\": {\"outcomeType\": 1, \"valueTowardsCompletion\": 0.2, \"interactionType\": 1, \"questionType\": 1, \"questionId\": \"3_WeatherDebug\", \"learnToolsVersion\": \"0.3.4\", \"failureMessage\": \"\", \"exceptionClass\": \"\", \"trace\": \"\"}}, \"*\")"
      ],
      "text/plain": [
       "<IPython.core.display.Javascript object>"
      ]
     },
     "metadata": {},
     "output_type": "display_data"
    },
    {
     "data": {
      "text/markdown": [
       "<span style=\"color:#33cc33\">Correct:</span> \n",
       "\n",
       "One example of a failing test case is:\n",
       "\n",
       "```python\n",
       "have_umbrella = False\n",
       "rain_level = 0.0\n",
       "have_hood = False\n",
       "is_workday = False\n",
       "```\n",
       "\n",
       "Clearly we're prepared for the weather in this case. It's not raining. Not only that, it's not a workday, so we don't even need to leave the house! But our function will return False on these inputs.\n",
       "\n",
       "The key problem is that Python implictly parenthesizes the last part as:\n",
       "\n",
       "```python\n",
       "(not (rain_level > 0)) and is_workday\n",
       "```\n",
       "\n",
       "Whereas what we were trying to express would look more like:\n",
       "\n",
       "```python\n",
       "not (rain_level > 0 and is_workday)\n",
       "```\n"
      ],
      "text/plain": [
       "Correct: \n",
       "\n",
       "One example of a failing test case is:\n",
       "\n",
       "```python\n",
       "have_umbrella = False\n",
       "rain_level = 0.0\n",
       "have_hood = False\n",
       "is_workday = False\n",
       "```\n",
       "\n",
       "Clearly we're prepared for the weather in this case. It's not raining. Not only that, it's not a workday, so we don't even need to leave the house! But our function will return False on these inputs.\n",
       "\n",
       "The key problem is that Python implictly parenthesizes the last part as:\n",
       "\n",
       "```python\n",
       "(not (rain_level > 0)) and is_workday\n",
       "```\n",
       "\n",
       "Whereas what we were trying to express would look more like:\n",
       "\n",
       "```python\n",
       "not (rain_level > 0 and is_workday)\n",
       "```"
      ]
     },
     "metadata": {},
     "output_type": "display_data"
    }
   ],
   "source": [
    "def prepared_for_weather(have_umbrella, rain_level, have_hood, is_workday):\n",
    "    # Don't change this code. Our goal is just to find the bug, not fix it!\n",
    "    return have_umbrella or rain_level < 5 and have_hood or not rain_level > 0 and is_workday\n",
    "\n",
    "# Change the values of these inputs so they represent a case where prepared_for_weather\n",
    "# returns the wrong answer.\n",
    "have_umbrella = False\n",
    "rain_level = 1.0\n",
    "have_hood = False\n",
    "is_workday = False\n",
    "\n",
    "# Check what the function returns given the current values of the variables above\n",
    "actual = prepared_for_weather(have_umbrella, rain_level, have_hood, is_workday)\n",
    "print(actual)\n",
    "\n",
    "# Check your answer\n",
    "q3.check()"
   ]
  },
  {
   "cell_type": "code",
   "execution_count": 9,
   "id": "6351bdc0",
   "metadata": {
    "execution": {
     "iopub.execute_input": "2023-03-04T10:50:23.786694Z",
     "iopub.status.busy": "2023-03-04T10:50:23.786288Z",
     "iopub.status.idle": "2023-03-04T10:50:23.796010Z",
     "shell.execute_reply": "2023-03-04T10:50:23.794791Z"
    },
    "papermill": {
     "duration": 0.024978,
     "end_time": "2023-03-04T10:50:23.798605",
     "exception": false,
     "start_time": "2023-03-04T10:50:23.773627",
     "status": "completed"
    },
    "tags": []
   },
   "outputs": [
    {
     "data": {
      "application/javascript": [
       "parent.postMessage({\"jupyterEvent\": \"custom.exercise_interaction\", \"data\": {\"interactionType\": 3, \"questionType\": 1, \"questionId\": \"3_WeatherDebug\", \"learnToolsVersion\": \"0.3.4\", \"valueTowardsCompletion\": 0.0, \"failureMessage\": \"\", \"exceptionClass\": \"\", \"trace\": \"\", \"outcomeType\": 4}}, \"*\")"
      ],
      "text/plain": [
       "<IPython.core.display.Javascript object>"
      ]
     },
     "metadata": {},
     "output_type": "display_data"
    },
    {
     "data": {
      "text/markdown": [
       "<span style=\"color:#33cc99\">Solution:</span> One example of a failing test case is:\n",
       "\n",
       "```python\n",
       "have_umbrella = False\n",
       "rain_level = 0.0\n",
       "have_hood = False\n",
       "is_workday = False\n",
       "```\n",
       "\n",
       "Clearly we're prepared for the weather in this case. It's not raining. Not only that, it's not a workday, so we don't even need to leave the house! But our function will return False on these inputs.\n",
       "\n",
       "The key problem is that Python implictly parenthesizes the last part as:\n",
       "\n",
       "```python\n",
       "(not (rain_level > 0)) and is_workday\n",
       "```\n",
       "\n",
       "Whereas what we were trying to express would look more like:\n",
       "\n",
       "```python\n",
       "not (rain_level > 0 and is_workday)\n",
       "```\n"
      ],
      "text/plain": [
       "Solution: One example of a failing test case is:\n",
       "\n",
       "```python\n",
       "have_umbrella = False\n",
       "rain_level = 0.0\n",
       "have_hood = False\n",
       "is_workday = False\n",
       "```\n",
       "\n",
       "Clearly we're prepared for the weather in this case. It's not raining. Not only that, it's not a workday, so we don't even need to leave the house! But our function will return False on these inputs.\n",
       "\n",
       "The key problem is that Python implictly parenthesizes the last part as:\n",
       "\n",
       "```python\n",
       "(not (rain_level > 0)) and is_workday\n",
       "```\n",
       "\n",
       "Whereas what we were trying to express would look more like:\n",
       "\n",
       "```python\n",
       "not (rain_level > 0 and is_workday)\n",
       "```"
      ]
     },
     "metadata": {},
     "output_type": "display_data"
    }
   ],
   "source": [
    "#q3.hint()\n",
    "q3.solution()"
   ]
  },
  {
   "cell_type": "markdown",
   "id": "eebe0a71",
   "metadata": {
    "papermill": {
     "duration": 0.010953,
     "end_time": "2023-03-04T10:50:23.821587",
     "exception": false,
     "start_time": "2023-03-04T10:50:23.810634",
     "status": "completed"
    },
    "tags": []
   },
   "source": [
    "# 4.\n",
    "\n",
    "The function `is_negative` below is implemented correctly - it returns True if the given number is negative and False otherwise.\n",
    "\n",
    "However, it's more verbose than it needs to be. We can actually reduce the number of lines of code in this function by *75%* while keeping the same behaviour. \n",
    "\n",
    "See if you can come up with an equivalent body that uses just **one line** of code, and put it in the function `concise_is_negative`. (HINT: you don't even need Python's ternary syntax)"
   ]
  },
  {
   "cell_type": "code",
   "execution_count": 10,
   "id": "2b23a3b4",
   "metadata": {
    "execution": {
     "iopub.execute_input": "2023-03-04T10:50:23.845886Z",
     "iopub.status.busy": "2023-03-04T10:50:23.845077Z",
     "iopub.status.idle": "2023-03-04T10:50:23.855128Z",
     "shell.execute_reply": "2023-03-04T10:50:23.853762Z"
    },
    "papermill": {
     "duration": 0.024946,
     "end_time": "2023-03-04T10:50:23.857523",
     "exception": false,
     "start_time": "2023-03-04T10:50:23.832577",
     "status": "completed"
    },
    "tags": []
   },
   "outputs": [
    {
     "data": {
      "application/javascript": [
       "parent.postMessage({\"jupyterEvent\": \"custom.exercise_interaction\", \"data\": {\"outcomeType\": 1, \"valueTowardsCompletion\": 0.2, \"interactionType\": 1, \"questionType\": 2, \"questionId\": \"4_ConciseIsNegative\", \"learnToolsVersion\": \"0.3.4\", \"failureMessage\": \"\", \"exceptionClass\": \"\", \"trace\": \"\"}}, \"*\")"
      ],
      "text/plain": [
       "<IPython.core.display.Javascript object>"
      ]
     },
     "metadata": {},
     "output_type": "display_data"
    },
    {
     "data": {
      "text/markdown": [
       "<span style=\"color:#33cc33\">Correct</span>"
      ],
      "text/plain": [
       "Correct"
      ]
     },
     "metadata": {},
     "output_type": "display_data"
    }
   ],
   "source": [
    "def is_negative(number):\n",
    "    if number < 0:\n",
    "        return True\n",
    "    else:\n",
    "        return False\n",
    "\n",
    "def concise_is_negative(number):\n",
    "    return number < 0 # Your code goes here (try to keep it to one line!)\n",
    "\n",
    "# Check your answer\n",
    "q4.check()"
   ]
  },
  {
   "cell_type": "code",
   "execution_count": 11,
   "id": "104ebfbd",
   "metadata": {
    "execution": {
     "iopub.execute_input": "2023-03-04T10:50:23.881750Z",
     "iopub.status.busy": "2023-03-04T10:50:23.881243Z",
     "iopub.status.idle": "2023-03-04T10:50:23.893881Z",
     "shell.execute_reply": "2023-03-04T10:50:23.892808Z"
    },
    "papermill": {
     "duration": 0.027425,
     "end_time": "2023-03-04T10:50:23.896068",
     "exception": false,
     "start_time": "2023-03-04T10:50:23.868643",
     "status": "completed"
    },
    "tags": []
   },
   "outputs": [
    {
     "data": {
      "application/javascript": [
       "parent.postMessage({\"jupyterEvent\": \"custom.exercise_interaction\", \"data\": {\"interactionType\": 2, \"questionType\": 2, \"questionId\": \"4_ConciseIsNegative\", \"learnToolsVersion\": \"0.3.4\", \"valueTowardsCompletion\": 0.0, \"failureMessage\": \"\", \"exceptionClass\": \"\", \"trace\": \"\", \"outcomeType\": 4}}, \"*\")"
      ],
      "text/plain": [
       "<IPython.core.display.Javascript object>"
      ]
     },
     "metadata": {},
     "output_type": "display_data"
    },
    {
     "data": {
      "text/markdown": [
       "<span style=\"color:#3366cc\">Hint:</span> If the value of the expression `number < 0` is `True`, then we return `True`. If it's `False`, then we return `False`..."
      ],
      "text/plain": [
       "Hint: If the value of the expression `number < 0` is `True`, then we return `True`. If it's `False`, then we return `False`..."
      ]
     },
     "metadata": {},
     "output_type": "display_data"
    },
    {
     "data": {
      "application/javascript": [
       "parent.postMessage({\"jupyterEvent\": \"custom.exercise_interaction\", \"data\": {\"interactionType\": 3, \"questionType\": 2, \"questionId\": \"4_ConciseIsNegative\", \"learnToolsVersion\": \"0.3.4\", \"valueTowardsCompletion\": 0.0, \"failureMessage\": \"\", \"exceptionClass\": \"\", \"trace\": \"\", \"outcomeType\": 4}}, \"*\")"
      ],
      "text/plain": [
       "<IPython.core.display.Javascript object>"
      ]
     },
     "metadata": {},
     "output_type": "display_data"
    },
    {
     "data": {
      "text/markdown": [
       "<span style=\"color:#33cc99\">Solution:</span> \n",
       "```python\n",
       "return number < 0\n",
       "```"
      ],
      "text/plain": [
       "Solution: \n",
       "```python\n",
       "return number < 0\n",
       "```"
      ]
     },
     "metadata": {},
     "output_type": "display_data"
    }
   ],
   "source": [
    "q4.hint()\n",
    "q4.solution()"
   ]
  },
  {
   "cell_type": "markdown",
   "id": "037da167",
   "metadata": {
    "papermill": {
     "duration": 0.011253,
     "end_time": "2023-03-04T10:50:23.918944",
     "exception": false,
     "start_time": "2023-03-04T10:50:23.907691",
     "status": "completed"
    },
    "tags": []
   },
   "source": [
    "# 5a.\n",
    "\n",
    "The boolean variables `ketchup`, `mustard` and `onion` represent whether a customer wants a particular topping on their hot dog. We want to implement a number of boolean functions that correspond to some yes-or-no questions about the customer's order. For example:"
   ]
  },
  {
   "cell_type": "code",
   "execution_count": 12,
   "id": "23503de6",
   "metadata": {
    "execution": {
     "iopub.execute_input": "2023-03-04T10:50:23.944698Z",
     "iopub.status.busy": "2023-03-04T10:50:23.943922Z",
     "iopub.status.idle": "2023-03-04T10:50:23.948760Z",
     "shell.execute_reply": "2023-03-04T10:50:23.947778Z"
    },
    "papermill": {
     "duration": 0.020287,
     "end_time": "2023-03-04T10:50:23.950959",
     "exception": false,
     "start_time": "2023-03-04T10:50:23.930672",
     "status": "completed"
    },
    "tags": []
   },
   "outputs": [],
   "source": [
    "def onionless(ketchup, mustard, onion):\n",
    "    \"\"\"Return whether the customer doesn't want onions.\n",
    "    \"\"\"\n",
    "    return not onion"
   ]
  },
  {
   "cell_type": "code",
   "execution_count": 13,
   "id": "b69016b7",
   "metadata": {
    "execution": {
     "iopub.execute_input": "2023-03-04T10:50:23.976608Z",
     "iopub.status.busy": "2023-03-04T10:50:23.975832Z",
     "iopub.status.idle": "2023-03-04T10:50:23.985457Z",
     "shell.execute_reply": "2023-03-04T10:50:23.984217Z"
    },
    "papermill": {
     "duration": 0.025159,
     "end_time": "2023-03-04T10:50:23.987774",
     "exception": false,
     "start_time": "2023-03-04T10:50:23.962615",
     "status": "completed"
    },
    "tags": []
   },
   "outputs": [
    {
     "data": {
      "application/javascript": [
       "parent.postMessage({\"jupyterEvent\": \"custom.exercise_interaction\", \"data\": {\"outcomeType\": 1, \"valueTowardsCompletion\": 0.2, \"interactionType\": 1, \"questionType\": 2, \"questionId\": \"5.1_AllToppings\", \"learnToolsVersion\": \"0.3.4\", \"failureMessage\": \"\", \"exceptionClass\": \"\", \"trace\": \"\"}}, \"*\")"
      ],
      "text/plain": [
       "<IPython.core.display.Javascript object>"
      ]
     },
     "metadata": {},
     "output_type": "display_data"
    },
    {
     "data": {
      "text/markdown": [
       "<span style=\"color:#33cc33\">Correct</span>"
      ],
      "text/plain": [
       "Correct"
      ]
     },
     "metadata": {},
     "output_type": "display_data"
    }
   ],
   "source": [
    "def wants_all_toppings(ketchup, mustard, onion):\n",
    "    \"\"\"Return whether the customer wants \"the works\" (all 3 toppings)\n",
    "    \"\"\"\n",
    "    return ketchup and mustard and onion\n",
    "\n",
    "# Check your answer\n",
    "q5.a.check()"
   ]
  },
  {
   "cell_type": "code",
   "execution_count": 14,
   "id": "5fb71c4b",
   "metadata": {
    "execution": {
     "iopub.execute_input": "2023-03-04T10:50:24.014630Z",
     "iopub.status.busy": "2023-03-04T10:50:24.014143Z",
     "iopub.status.idle": "2023-03-04T10:50:24.019121Z",
     "shell.execute_reply": "2023-03-04T10:50:24.018093Z"
    },
    "papermill": {
     "duration": 0.021336,
     "end_time": "2023-03-04T10:50:24.021457",
     "exception": false,
     "start_time": "2023-03-04T10:50:24.000121",
     "status": "completed"
    },
    "tags": []
   },
   "outputs": [],
   "source": [
    "#q5.a.hint()\n",
    "#q5.a.solution()"
   ]
  },
  {
   "cell_type": "markdown",
   "id": "4872792e",
   "metadata": {
    "papermill": {
     "duration": 0.018119,
     "end_time": "2023-03-04T10:50:24.051921",
     "exception": false,
     "start_time": "2023-03-04T10:50:24.033802",
     "status": "completed"
    },
    "tags": []
   },
   "source": [
    "# 5b.\n",
    "\n",
    "For the next function, fill in the body to match the English description in the docstring. "
   ]
  },
  {
   "cell_type": "code",
   "execution_count": 15,
   "id": "17ab8117",
   "metadata": {
    "execution": {
     "iopub.execute_input": "2023-03-04T10:50:24.082902Z",
     "iopub.status.busy": "2023-03-04T10:50:24.081340Z",
     "iopub.status.idle": "2023-03-04T10:50:24.100681Z",
     "shell.execute_reply": "2023-03-04T10:50:24.099144Z"
    },
    "papermill": {
     "duration": 0.038503,
     "end_time": "2023-03-04T10:50:24.103664",
     "exception": false,
     "start_time": "2023-03-04T10:50:24.065161",
     "status": "completed"
    },
    "tags": []
   },
   "outputs": [
    {
     "data": {
      "application/javascript": [
       "parent.postMessage({\"jupyterEvent\": \"custom.exercise_interaction\", \"data\": {\"outcomeType\": 1, \"valueTowardsCompletion\": 0.2, \"interactionType\": 1, \"questionType\": 2, \"questionId\": \"5.2_PlainDog\", \"learnToolsVersion\": \"0.3.4\", \"failureMessage\": \"\", \"exceptionClass\": \"\", \"trace\": \"\"}}, \"*\")"
      ],
      "text/plain": [
       "<IPython.core.display.Javascript object>"
      ]
     },
     "metadata": {},
     "output_type": "display_data"
    },
    {
     "data": {
      "text/markdown": [
       "<span style=\"color:#33cc33\">Correct:</span> \n",
       "\n",
       "One solution looks like:\n",
       "```python\n",
       "return not ketchup and not mustard and not onion\n",
       "```\n",
       "\n",
       "We can also [\"factor out\" the nots](https://en.wikipedia.org/wiki/De_Morgan%27s_laws) to get:\n",
       "\n",
       "```python\n",
       "return not (ketchup or mustard or onion)\n",
       "```"
      ],
      "text/plain": [
       "Correct: \n",
       "\n",
       "One solution looks like:\n",
       "```python\n",
       "return not ketchup and not mustard and not onion\n",
       "```\n",
       "\n",
       "We can also [\"factor out\" the nots](https://en.wikipedia.org/wiki/De_Morgan%27s_laws) to get:\n",
       "\n",
       "```python\n",
       "return not (ketchup or mustard or onion)\n",
       "```"
      ]
     },
     "metadata": {},
     "output_type": "display_data"
    }
   ],
   "source": [
    "def wants_plain_hotdog(ketchup, mustard, onion):\n",
    "    \"\"\"Return whether the customer wants a plain hot dog with no toppings.\n",
    "    \"\"\"\n",
    "    return not ketchup and not mustard and not onion\n",
    "\n",
    "# Check your answer\n",
    "q5.b.check()"
   ]
  },
  {
   "cell_type": "code",
   "execution_count": 16,
   "id": "fe2a3e71",
   "metadata": {
    "execution": {
     "iopub.execute_input": "2023-03-04T10:50:24.135384Z",
     "iopub.status.busy": "2023-03-04T10:50:24.134770Z",
     "iopub.status.idle": "2023-03-04T10:50:24.140528Z",
     "shell.execute_reply": "2023-03-04T10:50:24.138887Z"
    },
    "papermill": {
     "duration": 0.026541,
     "end_time": "2023-03-04T10:50:24.143651",
     "exception": false,
     "start_time": "2023-03-04T10:50:24.117110",
     "status": "completed"
    },
    "tags": []
   },
   "outputs": [],
   "source": [
    "#q5.b.hint()\n",
    "#q5.b.solution()"
   ]
  },
  {
   "cell_type": "markdown",
   "id": "b4a10289",
   "metadata": {
    "papermill": {
     "duration": 0.012021,
     "end_time": "2023-03-04T10:50:24.168248",
     "exception": false,
     "start_time": "2023-03-04T10:50:24.156227",
     "status": "completed"
    },
    "tags": []
   },
   "source": [
    "# 5c.\n",
    "\n",
    "You know what to do: for the next function, fill in the body to match the English description in the docstring."
   ]
  },
  {
   "cell_type": "code",
   "execution_count": 17,
   "id": "140d4eff",
   "metadata": {
    "execution": {
     "iopub.execute_input": "2023-03-04T10:50:24.195768Z",
     "iopub.status.busy": "2023-03-04T10:50:24.194466Z",
     "iopub.status.idle": "2023-03-04T10:50:24.205377Z",
     "shell.execute_reply": "2023-03-04T10:50:24.204219Z"
    },
    "papermill": {
     "duration": 0.027356,
     "end_time": "2023-03-04T10:50:24.208008",
     "exception": false,
     "start_time": "2023-03-04T10:50:24.180652",
     "status": "completed"
    },
    "tags": []
   },
   "outputs": [
    {
     "data": {
      "application/javascript": [
       "parent.postMessage({\"jupyterEvent\": \"custom.exercise_interaction\", \"data\": {\"outcomeType\": 1, \"valueTowardsCompletion\": 0.2, \"interactionType\": 1, \"questionType\": 2, \"questionId\": \"5.3_OneSauce\", \"learnToolsVersion\": \"0.3.4\", \"failureMessage\": \"\", \"exceptionClass\": \"\", \"trace\": \"\"}}, \"*\")"
      ],
      "text/plain": [
       "<IPython.core.display.Javascript object>"
      ]
     },
     "metadata": {},
     "output_type": "display_data"
    },
    {
     "data": {
      "text/markdown": [
       "<span style=\"color:#33cc33\">Correct</span>"
      ],
      "text/plain": [
       "Correct"
      ]
     },
     "metadata": {},
     "output_type": "display_data"
    }
   ],
   "source": [
    "def exactly_one_sauce(ketchup, mustard, onion):\n",
    "    \"\"\"Return whether the customer wants either ketchup or mustard, but not both.\n",
    "    (You may be familiar with this operation under the name \"exclusive or\")\n",
    "    \"\"\"\n",
    "    return (ketchup and onion) and not mustard or (mustard and onion) and not ketchup\n",
    "\n",
    "# Check your answer\n",
    "q5.c.check()"
   ]
  },
  {
   "cell_type": "code",
   "execution_count": 18,
   "id": "bd22da8a",
   "metadata": {
    "execution": {
     "iopub.execute_input": "2023-03-04T10:50:24.235933Z",
     "iopub.status.busy": "2023-03-04T10:50:24.234744Z",
     "iopub.status.idle": "2023-03-04T10:50:24.249029Z",
     "shell.execute_reply": "2023-03-04T10:50:24.247958Z"
    },
    "papermill": {
     "duration": 0.030409,
     "end_time": "2023-03-04T10:50:24.251271",
     "exception": false,
     "start_time": "2023-03-04T10:50:24.220862",
     "status": "completed"
    },
    "tags": []
   },
   "outputs": [
    {
     "data": {
      "application/javascript": [
       "parent.postMessage({\"jupyterEvent\": \"custom.exercise_interaction\", \"data\": {\"interactionType\": 2, \"questionType\": 2, \"questionId\": \"5.3_OneSauce\", \"learnToolsVersion\": \"0.3.4\", \"valueTowardsCompletion\": 0.0, \"failureMessage\": \"\", \"exceptionClass\": \"\", \"trace\": \"\", \"outcomeType\": 4}}, \"*\")"
      ],
      "text/plain": [
       "<IPython.core.display.Javascript object>"
      ]
     },
     "metadata": {},
     "output_type": "display_data"
    },
    {
     "data": {
      "text/markdown": [
       "<span style=\"color:#3366cc\">Hint:</span> There are exactly two ways to set ketchup and mustard to make this true. What are they?"
      ],
      "text/plain": [
       "Hint: There are exactly two ways to set ketchup and mustard to make this true. What are they?"
      ]
     },
     "metadata": {},
     "output_type": "display_data"
    },
    {
     "data": {
      "application/javascript": [
       "parent.postMessage({\"jupyterEvent\": \"custom.exercise_interaction\", \"data\": {\"interactionType\": 3, \"questionType\": 2, \"questionId\": \"5.3_OneSauce\", \"learnToolsVersion\": \"0.3.4\", \"valueTowardsCompletion\": 0.0, \"failureMessage\": \"\", \"exceptionClass\": \"\", \"trace\": \"\", \"outcomeType\": 4}}, \"*\")"
      ],
      "text/plain": [
       "<IPython.core.display.Javascript object>"
      ]
     },
     "metadata": {},
     "output_type": "display_data"
    },
    {
     "data": {
      "text/markdown": [
       "<span style=\"color:#33cc99\">Solution:</span> \n",
       "```python\n",
       "return (ketchup and not mustard) or (mustard and not ketchup)\n",
       "```"
      ],
      "text/plain": [
       "Solution: \n",
       "```python\n",
       "return (ketchup and not mustard) or (mustard and not ketchup)\n",
       "```"
      ]
     },
     "metadata": {},
     "output_type": "display_data"
    }
   ],
   "source": [
    "q5.c.hint()\n",
    "q5.c.solution()"
   ]
  },
  {
   "cell_type": "markdown",
   "id": "bfbbd5ed",
   "metadata": {
    "papermill": {
     "duration": 0.012499,
     "end_time": "2023-03-04T10:50:24.276846",
     "exception": false,
     "start_time": "2023-03-04T10:50:24.264347",
     "status": "completed"
    },
    "tags": []
   },
   "source": [
    "# 6. <span title=\"A bit spicy\" style=\"color: darkgreen \">🌶️</span>\n",
    "\n",
    "We’ve seen that calling `bool()` on an integer returns `False` if it’s equal to 0 and `True` otherwise. What happens if we call `int()` on a bool? Try it out in the notebook cell below.\n",
    "\n",
    "Can you take advantage of this to write a succinct function that corresponds to the English sentence \"does the customer want exactly one topping?\"?"
   ]
  },
  {
   "cell_type": "code",
   "execution_count": 19,
   "id": "0974aad8",
   "metadata": {
    "execution": {
     "iopub.execute_input": "2023-03-04T10:50:24.304770Z",
     "iopub.status.busy": "2023-03-04T10:50:24.304333Z",
     "iopub.status.idle": "2023-03-04T10:50:24.314092Z",
     "shell.execute_reply": "2023-03-04T10:50:24.313127Z"
    },
    "papermill": {
     "duration": 0.026888,
     "end_time": "2023-03-04T10:50:24.316544",
     "exception": false,
     "start_time": "2023-03-04T10:50:24.289656",
     "status": "completed"
    },
    "tags": []
   },
   "outputs": [
    {
     "data": {
      "application/javascript": [
       "parent.postMessage({\"jupyterEvent\": \"custom.exercise_interaction\", \"data\": {\"outcomeType\": 1, \"valueTowardsCompletion\": 0.2, \"interactionType\": 1, \"questionType\": 2, \"questionId\": \"6_OneTopping\", \"learnToolsVersion\": \"0.3.4\", \"failureMessage\": \"\", \"exceptionClass\": \"\", \"trace\": \"\"}}, \"*\")"
      ],
      "text/plain": [
       "<IPython.core.display.Javascript object>"
      ]
     },
     "metadata": {},
     "output_type": "display_data"
    },
    {
     "data": {
      "text/markdown": [
       "<span style=\"color:#33cc33\">Correct:</span> \n",
       "\n",
       "This condition would be pretty complicated to express using just `and`, `or` and `not`, but using boolean-to-integer conversion gives us this short solution:\n",
       "```python\n",
       "return (int(ketchup) + int(mustard) + int(onion)) == 1\n",
       "```\n",
       "\n",
       "Fun fact: we don't technically need to call `int` on the arguments. Just by doing addition with booleans, Python implicitly does the integer conversion. So we could also write...\n",
       "\n",
       "```python\n",
       "return (ketchup + mustard + onion) == 1\n",
       "```"
      ],
      "text/plain": [
       "Correct: \n",
       "\n",
       "This condition would be pretty complicated to express using just `and`, `or` and `not`, but using boolean-to-integer conversion gives us this short solution:\n",
       "```python\n",
       "return (int(ketchup) + int(mustard) + int(onion)) == 1\n",
       "```\n",
       "\n",
       "Fun fact: we don't technically need to call `int` on the arguments. Just by doing addition with booleans, Python implicitly does the integer conversion. So we could also write...\n",
       "\n",
       "```python\n",
       "return (ketchup + mustard + onion) == 1\n",
       "```"
      ]
     },
     "metadata": {},
     "output_type": "display_data"
    }
   ],
   "source": [
    "def exactly_one_topping(ketchup, mustard, onion):\n",
    "    \"\"\"Return whether the customer wants exactly one of the three available toppings\n",
    "    on their hot dog.\n",
    "    \"\"\"\n",
    "    return (int(ketchup) + int(mustard) + int(onion)) == 1\n",
    "    \n",
    "# Check your answer\n",
    "q6.check()"
   ]
  },
  {
   "cell_type": "code",
   "execution_count": 20,
   "id": "686ac76e",
   "metadata": {
    "execution": {
     "iopub.execute_input": "2023-03-04T10:50:24.346742Z",
     "iopub.status.busy": "2023-03-04T10:50:24.346343Z",
     "iopub.status.idle": "2023-03-04T10:50:24.351328Z",
     "shell.execute_reply": "2023-03-04T10:50:24.349745Z"
    },
    "papermill": {
     "duration": 0.023616,
     "end_time": "2023-03-04T10:50:24.353954",
     "exception": false,
     "start_time": "2023-03-04T10:50:24.330338",
     "status": "completed"
    },
    "tags": []
   },
   "outputs": [],
   "source": [
    "#q6.hint()\n",
    "#q6.solution()"
   ]
  },
  {
   "cell_type": "markdown",
   "id": "177c6810",
   "metadata": {
    "papermill": {
     "duration": 0.012957,
     "end_time": "2023-03-04T10:50:24.380687",
     "exception": false,
     "start_time": "2023-03-04T10:50:24.367730",
     "status": "completed"
    },
    "tags": []
   },
   "source": [
    "# 7. <span title=\"A bit spicy\" style=\"color: darkgreen \">🌶️</span> (Optional)\n",
    "\n",
    "In this problem we'll be working with a simplified version of [blackjack](https://en.wikipedia.org/wiki/Blackjack) (aka twenty-one). In this version there is one player (who you'll control) and a dealer. Play proceeds as follows:\n",
    "\n",
    "- The player is dealt two face-up cards. The dealer is dealt one face-up card.\n",
    "- The player may ask to be dealt another card ('hit') as many times as they wish. If the sum of their cards exceeds 21, they lose the round immediately.\n",
    "- The dealer then deals additional cards to himself until either:\n",
    "    - the sum of the dealer's cards exceeds 21, in which case the player wins the round\n",
    "    - the sum of the dealer's cards is greater than or equal to 17. If the player's total is greater than the dealer's, the player wins. Otherwise, the dealer wins (even in case of a tie).\n",
    "    \n",
    "When calculating the sum of cards, Jack, Queen, and King count for 10. Aces can count as 1 or 11 (when referring to a player's \"total\" above, we mean the largest total that can be made without exceeding 21. So e.g. A+8 = 19, A+8+8 = 17)\n",
    "\n",
    "For this problem, you'll write a function representing the player's decision-making strategy in this game. We've provided a very unintelligent implementation below:"
   ]
  },
  {
   "cell_type": "code",
   "execution_count": 21,
   "id": "2dc86dc2",
   "metadata": {
    "execution": {
     "iopub.execute_input": "2023-03-04T10:50:24.408832Z",
     "iopub.status.busy": "2023-03-04T10:50:24.408388Z",
     "iopub.status.idle": "2023-03-04T10:50:24.414355Z",
     "shell.execute_reply": "2023-03-04T10:50:24.413192Z"
    },
    "papermill": {
     "duration": 0.023114,
     "end_time": "2023-03-04T10:50:24.417009",
     "exception": false,
     "start_time": "2023-03-04T10:50:24.393895",
     "status": "completed"
    },
    "tags": []
   },
   "outputs": [],
   "source": [
    "def should_hit(dealer_total, player_total, player_low_aces, player_high_aces):\n",
    "    \"\"\"Return True if the player should hit (request another card) given the current game\n",
    "    state, or False if the player should stay.\n",
    "    When calculating a hand's total value, we count aces as \"high\" (with value 11) if doing so\n",
    "    doesn't bring the total above 21, otherwise we count them as low (with value 1). \n",
    "    For example, if the player's hand is {A, A, A, 7}, we will count it as 11 + 1 + 1 + 7,\n",
    "    and therefore set player_total=20, player_low_aces=2, player_high_aces=1.\n",
    "    \"\"\"\n",
    "    return False"
   ]
  },
  {
   "cell_type": "markdown",
   "id": "a59b313e",
   "metadata": {
    "papermill": {
     "duration": 0.013043,
     "end_time": "2023-03-04T10:50:24.444051",
     "exception": false,
     "start_time": "2023-03-04T10:50:24.431008",
     "status": "completed"
    },
    "tags": []
   },
   "source": [
    "This very conservative agent *always* sticks with the hand of two cards that they're dealt.\n",
    "\n",
    "We'll be simulating games between your player agent and our own dealer agent by calling your function.\n",
    "\n",
    "Try running the function below to see an example of a simulated game:"
   ]
  },
  {
   "cell_type": "code",
   "execution_count": 22,
   "id": "876c676b",
   "metadata": {
    "execution": {
     "iopub.execute_input": "2023-03-04T10:50:24.473331Z",
     "iopub.status.busy": "2023-03-04T10:50:24.472488Z",
     "iopub.status.idle": "2023-03-04T10:50:24.479372Z",
     "shell.execute_reply": "2023-03-04T10:50:24.478307Z"
    },
    "papermill": {
     "duration": 0.024164,
     "end_time": "2023-03-04T10:50:24.481726",
     "exception": false,
     "start_time": "2023-03-04T10:50:24.457562",
     "status": "completed"
    },
    "tags": []
   },
   "outputs": [
    {
     "name": "stdout",
     "output_type": "stream",
     "text": [
      "Player starts with 5 and 7 (total = 12)\n",
      "Dealer starts with 9\n",
      "\n",
      "__Player's turn__\n",
      "Player stays\n",
      "\n",
      "__Dealer's turn__\n",
      "Dealer hits and receives 8. (total = 17)\n",
      "Dealer stands.\n",
      "Dealer wins. 17 >= 12\n"
     ]
    }
   ],
   "source": [
    "q7.simulate_one_game()"
   ]
  },
  {
   "cell_type": "markdown",
   "id": "ea7da6b4",
   "metadata": {
    "papermill": {
     "duration": 0.01292,
     "end_time": "2023-03-04T10:50:24.507994",
     "exception": false,
     "start_time": "2023-03-04T10:50:24.495074",
     "status": "completed"
    },
    "tags": []
   },
   "source": [
    "The real test of your agent's mettle is their average win rate over many games. Try calling the function below to simulate 50000 games of blackjack (it may take a couple seconds):"
   ]
  },
  {
   "cell_type": "code",
   "execution_count": 23,
   "id": "03a6a4a6",
   "metadata": {
    "execution": {
     "iopub.execute_input": "2023-03-04T10:50:24.538103Z",
     "iopub.status.busy": "2023-03-04T10:50:24.537230Z",
     "iopub.status.idle": "2023-03-04T10:50:26.180148Z",
     "shell.execute_reply": "2023-03-04T10:50:26.178525Z"
    },
    "papermill": {
     "duration": 1.661277,
     "end_time": "2023-03-04T10:50:26.183071",
     "exception": false,
     "start_time": "2023-03-04T10:50:24.521794",
     "status": "completed"
    },
    "tags": []
   },
   "outputs": [
    {
     "name": "stdout",
     "output_type": "stream",
     "text": [
      "Player won 18926 out of 50000 games (win rate = 37.9%)\n"
     ]
    }
   ],
   "source": [
    "q7.simulate(n_games=50000)"
   ]
  },
  {
   "cell_type": "markdown",
   "id": "7eca7470",
   "metadata": {
    "papermill": {
     "duration": 0.013097,
     "end_time": "2023-03-04T10:50:26.210212",
     "exception": false,
     "start_time": "2023-03-04T10:50:26.197115",
     "status": "completed"
    },
    "tags": []
   },
   "source": [
    "Our dumb agent that completely ignores the game state still manages to win shockingly often!\n",
    "\n",
    "Try adding some more smarts to the `should_hit` function and see how it affects the results."
   ]
  },
  {
   "cell_type": "code",
   "execution_count": 24,
   "id": "9d983f39",
   "metadata": {
    "execution": {
     "iopub.execute_input": "2023-03-04T10:50:26.241410Z",
     "iopub.status.busy": "2023-03-04T10:50:26.240140Z",
     "iopub.status.idle": "2023-03-04T10:50:28.053452Z",
     "shell.execute_reply": "2023-03-04T10:50:28.052117Z"
    },
    "papermill": {
     "duration": 1.83186,
     "end_time": "2023-03-04T10:50:28.056182",
     "exception": false,
     "start_time": "2023-03-04T10:50:26.224322",
     "status": "completed"
    },
    "tags": []
   },
   "outputs": [
    {
     "name": "stdout",
     "output_type": "stream",
     "text": [
      "Player won 21263 out of 50000 games (win rate = 42.5%)\n"
     ]
    }
   ],
   "source": [
    "def should_hit(dealer_total, player_total, player_low_aces, player_high_aces):\n",
    "    \"\"\"Return True if the player should hit (request another card) given the current game\n",
    "    state, or False if the player should stay.\n",
    "    When calculating a hand's total value, we count aces as \"high\" (with value 11) if doing so\n",
    "    doesn't bring the total above 21, otherwise we count them as low (with value 1). \n",
    "    For example, if the player's hand is {A, A, A, 7}, we will count it as 11 + 1 + 1 + 7,\n",
    "    and therefore set player_total=20, player_low_aces=2, player_high_aces=1.\n",
    "    \"\"\"\n",
    "    if player_total <= 11:\n",
    "        return True\n",
    "    elif dealer_total >= 7 and player_total < 17:\n",
    "        return True\n",
    "    elif dealer_total < 7 and player_total > 11 and player_high_aces == 0:\n",
    "        return False\n",
    "\n",
    "q7.simulate(n_games=50000)"
   ]
  },
  {
   "cell_type": "markdown",
   "id": "c5f728cc",
   "metadata": {
    "papermill": {
     "duration": 0.01314,
     "end_time": "2023-03-04T10:50:28.082728",
     "exception": false,
     "start_time": "2023-03-04T10:50:28.069588",
     "status": "completed"
    },
    "tags": []
   },
   "source": [
    "# Keep Going\n",
    "\n",
    "Learn about **[lists and tuples](https://www.kaggle.com/colinmorris/lists)** to handle multiple items of data in a systematic way."
   ]
  },
  {
   "cell_type": "markdown",
   "id": "02c6efc7",
   "metadata": {
    "papermill": {
     "duration": 0.012999,
     "end_time": "2023-03-04T10:50:28.109016",
     "exception": false,
     "start_time": "2023-03-04T10:50:28.096017",
     "status": "completed"
    },
    "tags": []
   },
   "source": [
    "---\n",
    "\n",
    "\n",
    "\n",
    "\n",
    "*Have questions or comments? Visit the [course discussion forum](https://www.kaggle.com/learn/python/discussion) to chat with other learners.*"
   ]
  }
 ],
 "metadata": {
  "kernelspec": {
   "display_name": "Python 3",
   "language": "python",
   "name": "python3"
  },
  "language_info": {
   "codemirror_mode": {
    "name": "ipython",
    "version": 3
   },
   "file_extension": ".py",
   "mimetype": "text/x-python",
   "name": "python",
   "nbconvert_exporter": "python",
   "pygments_lexer": "ipython3",
   "version": "3.7.12"
  },
  "papermill": {
   "default_parameters": {},
   "duration": 15.686146,
   "end_time": "2023-03-04T10:50:28.847019",
   "environment_variables": {},
   "exception": null,
   "input_path": "__notebook__.ipynb",
   "output_path": "__notebook__.ipynb",
   "parameters": {},
   "start_time": "2023-03-04T10:50:13.160873",
   "version": "2.4.0"
  }
 },
 "nbformat": 4,
 "nbformat_minor": 5
}
