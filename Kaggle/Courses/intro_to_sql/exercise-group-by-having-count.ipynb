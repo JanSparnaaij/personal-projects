{
 "cells": [
  {
   "cell_type": "markdown",
   "id": "24d946d0",
   "metadata": {
    "papermill": {
     "duration": 0.005081,
     "end_time": "2023-03-06T22:02:41.916849",
     "exception": false,
     "start_time": "2023-03-06T22:02:41.911768",
     "status": "completed"
    },
    "tags": []
   },
   "source": [
    "**This notebook is an exercise in the [SQL](https://www.kaggle.com/learn/intro-to-sql) course.  You can reference the tutorial at [this link](https://www.kaggle.com/dansbecker/group-by-having-count).**\n",
    "\n",
    "---\n"
   ]
  },
  {
   "cell_type": "markdown",
   "id": "ee0d926f",
   "metadata": {
    "papermill": {
     "duration": 0.003573,
     "end_time": "2023-03-06T22:02:41.924494",
     "exception": false,
     "start_time": "2023-03-06T22:02:41.920921",
     "status": "completed"
    },
    "tags": []
   },
   "source": [
    "# Introduction\n",
    "\n",
    "Queries with **GROUP BY** can be powerful. There are many small things that can trip you up (like the order of the clauses), but it will start to feel natural once you've done it a few times. Here, you'll write queries using **GROUP BY** to answer questions from the Hacker News dataset.\n",
    "\n",
    "Before you get started, run the following cell to set everything up:"
   ]
  },
  {
   "cell_type": "code",
   "execution_count": 1,
   "id": "03d485c1",
   "metadata": {
    "execution": {
     "iopub.execute_input": "2023-03-06T22:02:41.934355Z",
     "iopub.status.busy": "2023-03-06T22:02:41.933585Z",
     "iopub.status.idle": "2023-03-06T22:02:44.964435Z",
     "shell.execute_reply": "2023-03-06T22:02:44.963139Z"
    },
    "papermill": {
     "duration": 3.039121,
     "end_time": "2023-03-06T22:02:44.967355",
     "exception": false,
     "start_time": "2023-03-06T22:02:41.928234",
     "status": "completed"
    },
    "tags": []
   },
   "outputs": [
    {
     "name": "stdout",
     "output_type": "stream",
     "text": [
      "Using Kaggle's public dataset BigQuery integration.\n"
     ]
    },
    {
     "name": "stderr",
     "output_type": "stream",
     "text": [
      "/opt/conda/lib/python3.7/site-packages/google/cloud/bigquery/client.py:440: UserWarning: Cannot create BigQuery Storage client, the dependency google-cloud-bigquery-storage is not installed.\n",
      "  \"Cannot create BigQuery Storage client, the dependency \"\n"
     ]
    },
    {
     "name": "stdout",
     "output_type": "stream",
     "text": [
      "Setup Complete\n"
     ]
    }
   ],
   "source": [
    "# Set up feedback system\n",
    "from learntools.core import binder\n",
    "binder.bind(globals())\n",
    "from learntools.sql.ex3 import *\n",
    "print(\"Setup Complete\")"
   ]
  },
  {
   "cell_type": "markdown",
   "id": "f9e55c48",
   "metadata": {
    "papermill": {
     "duration": 0.003765,
     "end_time": "2023-03-06T22:02:44.975281",
     "exception": false,
     "start_time": "2023-03-06T22:02:44.971516",
     "status": "completed"
    },
    "tags": []
   },
   "source": [
    "The code cell below fetches the `comments` table from the `hacker_news` dataset.  We also preview the first five rows of the table."
   ]
  },
  {
   "cell_type": "code",
   "execution_count": 2,
   "id": "ee8201c2",
   "metadata": {
    "execution": {
     "iopub.execute_input": "2023-03-06T22:02:44.985053Z",
     "iopub.status.busy": "2023-03-06T22:02:44.984630Z",
     "iopub.status.idle": "2023-03-06T22:02:46.444692Z",
     "shell.execute_reply": "2023-03-06T22:02:46.443341Z"
    },
    "papermill": {
     "duration": 1.46828,
     "end_time": "2023-03-06T22:02:46.447424",
     "exception": false,
     "start_time": "2023-03-06T22:02:44.979144",
     "status": "completed"
    },
    "tags": []
   },
   "outputs": [
    {
     "name": "stdout",
     "output_type": "stream",
     "text": [
      "Using Kaggle's public dataset BigQuery integration.\n"
     ]
    },
    {
     "name": "stderr",
     "output_type": "stream",
     "text": [
      "/opt/conda/lib/python3.7/site-packages/ipykernel_launcher.py:19: UserWarning: Cannot use bqstorage_client if max_results is set, reverting to fetching data with the tabledata.list endpoint.\n"
     ]
    },
    {
     "data": {
      "text/html": [
       "<div>\n",
       "<style scoped>\n",
       "    .dataframe tbody tr th:only-of-type {\n",
       "        vertical-align: middle;\n",
       "    }\n",
       "\n",
       "    .dataframe tbody tr th {\n",
       "        vertical-align: top;\n",
       "    }\n",
       "\n",
       "    .dataframe thead th {\n",
       "        text-align: right;\n",
       "    }\n",
       "</style>\n",
       "<table border=\"1\" class=\"dataframe\">\n",
       "  <thead>\n",
       "    <tr style=\"text-align: right;\">\n",
       "      <th></th>\n",
       "      <th>id</th>\n",
       "      <th>by</th>\n",
       "      <th>author</th>\n",
       "      <th>time</th>\n",
       "      <th>time_ts</th>\n",
       "      <th>text</th>\n",
       "      <th>parent</th>\n",
       "      <th>deleted</th>\n",
       "      <th>dead</th>\n",
       "      <th>ranking</th>\n",
       "    </tr>\n",
       "  </thead>\n",
       "  <tbody>\n",
       "    <tr>\n",
       "      <th>0</th>\n",
       "      <td>9734136</td>\n",
       "      <td>None</td>\n",
       "      <td>None</td>\n",
       "      <td>1434565400</td>\n",
       "      <td>2015-06-17 18:23:20+00:00</td>\n",
       "      <td>None</td>\n",
       "      <td>9733698</td>\n",
       "      <td>True</td>\n",
       "      <td>None</td>\n",
       "      <td>0</td>\n",
       "    </tr>\n",
       "    <tr>\n",
       "      <th>1</th>\n",
       "      <td>4921158</td>\n",
       "      <td>None</td>\n",
       "      <td>None</td>\n",
       "      <td>1355496966</td>\n",
       "      <td>2012-12-14 14:56:06+00:00</td>\n",
       "      <td>None</td>\n",
       "      <td>4921100</td>\n",
       "      <td>True</td>\n",
       "      <td>None</td>\n",
       "      <td>0</td>\n",
       "    </tr>\n",
       "    <tr>\n",
       "      <th>2</th>\n",
       "      <td>7500568</td>\n",
       "      <td>None</td>\n",
       "      <td>None</td>\n",
       "      <td>1396261158</td>\n",
       "      <td>2014-03-31 10:19:18+00:00</td>\n",
       "      <td>None</td>\n",
       "      <td>7499385</td>\n",
       "      <td>True</td>\n",
       "      <td>None</td>\n",
       "      <td>0</td>\n",
       "    </tr>\n",
       "    <tr>\n",
       "      <th>3</th>\n",
       "      <td>8909635</td>\n",
       "      <td>None</td>\n",
       "      <td>None</td>\n",
       "      <td>1421627275</td>\n",
       "      <td>2015-01-19 00:27:55+00:00</td>\n",
       "      <td>None</td>\n",
       "      <td>8901135</td>\n",
       "      <td>True</td>\n",
       "      <td>None</td>\n",
       "      <td>0</td>\n",
       "    </tr>\n",
       "    <tr>\n",
       "      <th>4</th>\n",
       "      <td>9256463</td>\n",
       "      <td>None</td>\n",
       "      <td>None</td>\n",
       "      <td>1427204705</td>\n",
       "      <td>2015-03-24 13:45:05+00:00</td>\n",
       "      <td>None</td>\n",
       "      <td>9256346</td>\n",
       "      <td>True</td>\n",
       "      <td>None</td>\n",
       "      <td>0</td>\n",
       "    </tr>\n",
       "  </tbody>\n",
       "</table>\n",
       "</div>"
      ],
      "text/plain": [
       "        id    by author        time                   time_ts  text   parent  \\\n",
       "0  9734136  None   None  1434565400 2015-06-17 18:23:20+00:00  None  9733698   \n",
       "1  4921158  None   None  1355496966 2012-12-14 14:56:06+00:00  None  4921100   \n",
       "2  7500568  None   None  1396261158 2014-03-31 10:19:18+00:00  None  7499385   \n",
       "3  8909635  None   None  1421627275 2015-01-19 00:27:55+00:00  None  8901135   \n",
       "4  9256463  None   None  1427204705 2015-03-24 13:45:05+00:00  None  9256346   \n",
       "\n",
       "   deleted  dead  ranking  \n",
       "0     True  None        0  \n",
       "1     True  None        0  \n",
       "2     True  None        0  \n",
       "3     True  None        0  \n",
       "4     True  None        0  "
      ]
     },
     "execution_count": 2,
     "metadata": {},
     "output_type": "execute_result"
    }
   ],
   "source": [
    "from google.cloud import bigquery\n",
    "\n",
    "# Create a \"Client\" object\n",
    "client = bigquery.Client()\n",
    "\n",
    "# Construct a reference to the \"hacker_news\" dataset\n",
    "dataset_ref = client.dataset(\"hacker_news\", project=\"bigquery-public-data\")\n",
    "\n",
    "# API request - fetch the dataset\n",
    "dataset = client.get_dataset(dataset_ref)\n",
    "\n",
    "# Construct a reference to the \"comments\" table\n",
    "table_ref = dataset_ref.table(\"comments\")\n",
    "\n",
    "# API request - fetch the table\n",
    "table = client.get_table(table_ref)\n",
    "\n",
    "# Preview the first five lines of the \"comments\" table\n",
    "client.list_rows(table, max_results=5).to_dataframe()"
   ]
  },
  {
   "cell_type": "markdown",
   "id": "5a3cb0d8",
   "metadata": {
    "papermill": {
     "duration": 0.004144,
     "end_time": "2023-03-06T22:02:46.456097",
     "exception": false,
     "start_time": "2023-03-06T22:02:46.451953",
     "status": "completed"
    },
    "tags": []
   },
   "source": [
    "# Exercises\n",
    "\n",
    "### 1) Prolific commenters\n",
    "\n",
    "Hacker News would like to send awards to everyone who has written more than 10,000 posts. Write a query that returns all authors with more than 10,000 posts as well as their post counts. Call the column with post counts `NumPosts`.\n",
    "\n",
    "In case sample query is helpful, here is a query you saw in the tutorial to answer a similar question:\n",
    "```\n",
    "query = \"\"\"\n",
    "        SELECT parent, COUNT(1) AS NumPosts\n",
    "        FROM `bigquery-public-data.hacker_news.comments`\n",
    "        GROUP BY parent\n",
    "        HAVING COUNT(1) > 10\n",
    "        \"\"\"\n",
    "```"
   ]
  },
  {
   "cell_type": "code",
   "execution_count": 3,
   "id": "eb420f1a",
   "metadata": {
    "execution": {
     "iopub.execute_input": "2023-03-06T22:02:46.467104Z",
     "iopub.status.busy": "2023-03-06T22:02:46.466412Z",
     "iopub.status.idle": "2023-03-06T22:02:47.871296Z",
     "shell.execute_reply": "2023-03-06T22:02:47.869703Z"
    },
    "papermill": {
     "duration": 1.413367,
     "end_time": "2023-03-06T22:02:47.873769",
     "exception": false,
     "start_time": "2023-03-06T22:02:46.460402",
     "status": "completed"
    },
    "tags": []
   },
   "outputs": [
    {
     "name": "stderr",
     "output_type": "stream",
     "text": [
      "/opt/conda/lib/python3.7/site-packages/google/cloud/bigquery/client.py:440: UserWarning: Cannot create BigQuery Storage client, the dependency google-cloud-bigquery-storage is not installed.\n",
      "  \"Cannot create BigQuery Storage client, the dependency \"\n"
     ]
    },
    {
     "name": "stdout",
     "output_type": "stream",
     "text": [
      "       author  NumPosts\n",
      "0        None    227736\n",
      "1     tptacek     33839\n",
      "2   anigbrowl     11395\n",
      "3  stcredzero     10092\n",
      "4       sp332     10882\n"
     ]
    },
    {
     "data": {
      "application/javascript": [
       "parent.postMessage({\"jupyterEvent\": \"custom.exercise_interaction\", \"data\": {\"outcomeType\": 1, \"valueTowardsCompletion\": 0.5, \"interactionType\": 1, \"questionType\": 2, \"questionId\": \"1_ProlificCommenters\", \"learnToolsVersion\": \"0.3.4\", \"failureMessage\": \"\", \"exceptionClass\": \"\", \"trace\": \"\"}}, \"*\")"
      ],
      "text/plain": [
       "<IPython.core.display.Javascript object>"
      ]
     },
     "metadata": {},
     "output_type": "display_data"
    },
    {
     "data": {
      "text/markdown": [
       "<span style=\"color:#33cc33\">Correct</span>"
      ],
      "text/plain": [
       "Correct"
      ]
     },
     "metadata": {},
     "output_type": "display_data"
    }
   ],
   "source": [
    "# Query to select prolific commenters and post counts\n",
    "prolific_commenters_query = \"\"\"\n",
    "SELECT author, COUNT(1) AS NumPosts\n",
    "FROM bigquery-public-data.hacker_news.comments\n",
    "GROUP BY author\n",
    "HAVING COUNT(1)>10000\n",
    "\"\"\"# Your code goes here\n",
    "\n",
    "# Set up the query (cancel the query if it would use too much of \n",
    "# your quota, with the limit set to 1 GB)\n",
    "safe_config = bigquery.QueryJobConfig(maximum_bytes_billed=10**10)\n",
    "query_job = client.query(prolific_commenters_query, job_config=safe_config)\n",
    "\n",
    "# API request - run the query, and return a pandas DataFrame\n",
    "prolific_commenters = query_job.to_dataframe()\n",
    "\n",
    "# View top few rows of results\n",
    "print(prolific_commenters.head())\n",
    "\n",
    "# Check your answer\n",
    "q_1.check()"
   ]
  },
  {
   "cell_type": "markdown",
   "id": "4a410777",
   "metadata": {
    "papermill": {
     "duration": 0.004532,
     "end_time": "2023-03-06T22:02:47.883384",
     "exception": false,
     "start_time": "2023-03-06T22:02:47.878852",
     "status": "completed"
    },
    "tags": []
   },
   "source": [
    "For the solution, uncomment the line below."
   ]
  },
  {
   "cell_type": "code",
   "execution_count": 4,
   "id": "6db2a1fd",
   "metadata": {
    "execution": {
     "iopub.execute_input": "2023-03-06T22:02:47.894939Z",
     "iopub.status.busy": "2023-03-06T22:02:47.894305Z",
     "iopub.status.idle": "2023-03-06T22:02:47.898363Z",
     "shell.execute_reply": "2023-03-06T22:02:47.897347Z"
    },
    "papermill": {
     "duration": 0.012442,
     "end_time": "2023-03-06T22:02:47.900458",
     "exception": false,
     "start_time": "2023-03-06T22:02:47.888016",
     "status": "completed"
    },
    "tags": []
   },
   "outputs": [],
   "source": [
    "#q_1.solution()"
   ]
  },
  {
   "cell_type": "markdown",
   "id": "49b69208",
   "metadata": {
    "papermill": {
     "duration": 0.004497,
     "end_time": "2023-03-06T22:02:47.909761",
     "exception": false,
     "start_time": "2023-03-06T22:02:47.905264",
     "status": "completed"
    },
    "tags": []
   },
   "source": [
    "### 2) Deleted comments\n",
    "\n",
    "How many comments have been deleted? (If a comment was deleted, the `deleted` column in the comments table will have the value `True`.)"
   ]
  },
  {
   "cell_type": "code",
   "execution_count": 5,
   "id": "c85c19d3",
   "metadata": {
    "execution": {
     "iopub.execute_input": "2023-03-06T22:02:47.921315Z",
     "iopub.status.busy": "2023-03-06T22:02:47.920907Z",
     "iopub.status.idle": "2023-03-06T22:02:49.361432Z",
     "shell.execute_reply": "2023-03-06T22:02:49.360168Z"
    },
    "papermill": {
     "duration": 1.449813,
     "end_time": "2023-03-06T22:02:49.364311",
     "exception": false,
     "start_time": "2023-03-06T22:02:47.914498",
     "status": "completed"
    },
    "tags": []
   },
   "outputs": [
    {
     "name": "stderr",
     "output_type": "stream",
     "text": [
      "/opt/conda/lib/python3.7/site-packages/google/cloud/bigquery/client.py:440: UserWarning: Cannot create BigQuery Storage client, the dependency google-cloud-bigquery-storage is not installed.\n",
      "  \"Cannot create BigQuery Storage client, the dependency \"\n"
     ]
    },
    {
     "name": "stdout",
     "output_type": "stream",
     "text": [
      "   deleted  deletedposts\n",
      "0     True        227736\n"
     ]
    }
   ],
   "source": [
    "# Write your query here and figure out the answer\n",
    "deleted = \"\"\"\n",
    "SELECT deleted, COUNT(1) AS deletedposts\n",
    "FROM bigquery-public-data.hacker_news.comments\n",
    "GROUP BY deleted\n",
    "HAVING deleted = True\n",
    "\"\"\"\n",
    "\n",
    "# Set up the query (cancel the query if it would use too much of \n",
    "# your quota, with the limit set to 1 GB)\n",
    "safe_config = bigquery.QueryJobConfig(maximum_bytes_billed=10**10)\n",
    "query_job = client.query(deleted, job_config=safe_config)\n",
    "\n",
    "# API request - run the query, and return a pandas DataFrame\n",
    "deleted_posts = query_job.to_dataframe()\n",
    "\n",
    "# View top few rows of results\n",
    "print(deleted_posts.head())"
   ]
  },
  {
   "cell_type": "code",
   "execution_count": 6,
   "id": "8f7ac07b",
   "metadata": {
    "execution": {
     "iopub.execute_input": "2023-03-06T22:02:49.377782Z",
     "iopub.status.busy": "2023-03-06T22:02:49.376817Z",
     "iopub.status.idle": "2023-03-06T22:02:49.385249Z",
     "shell.execute_reply": "2023-03-06T22:02:49.384259Z"
    },
    "papermill": {
     "duration": 0.017099,
     "end_time": "2023-03-06T22:02:49.387544",
     "exception": false,
     "start_time": "2023-03-06T22:02:49.370445",
     "status": "completed"
    },
    "tags": []
   },
   "outputs": [
    {
     "data": {
      "application/javascript": [
       "parent.postMessage({\"jupyterEvent\": \"custom.exercise_interaction\", \"data\": {\"outcomeType\": 1, \"valueTowardsCompletion\": 0.5, \"interactionType\": 1, \"questionType\": 1, \"questionId\": \"2_NumDeletedPosts\", \"learnToolsVersion\": \"0.3.4\", \"failureMessage\": \"\", \"exceptionClass\": \"\", \"trace\": \"\"}}, \"*\")"
      ],
      "text/plain": [
       "<IPython.core.display.Javascript object>"
      ]
     },
     "metadata": {},
     "output_type": "display_data"
    },
    {
     "data": {
      "text/markdown": [
       "<span style=\"color:#33cc33\">Correct</span>"
      ],
      "text/plain": [
       "Correct"
      ]
     },
     "metadata": {},
     "output_type": "display_data"
    }
   ],
   "source": [
    "num_deleted_posts = 227736 # Put your answer here\n",
    "\n",
    "# Check your answer\n",
    "q_2.check()"
   ]
  },
  {
   "cell_type": "markdown",
   "id": "40b45d2e",
   "metadata": {
    "papermill": {
     "duration": 0.004981,
     "end_time": "2023-03-06T22:02:49.397715",
     "exception": false,
     "start_time": "2023-03-06T22:02:49.392734",
     "status": "completed"
    },
    "tags": []
   },
   "source": [
    "For the solution, uncomment the line below."
   ]
  },
  {
   "cell_type": "code",
   "execution_count": 7,
   "id": "fbaec191",
   "metadata": {
    "execution": {
     "iopub.execute_input": "2023-03-06T22:02:49.410152Z",
     "iopub.status.busy": "2023-03-06T22:02:49.409326Z",
     "iopub.status.idle": "2023-03-06T22:02:49.413672Z",
     "shell.execute_reply": "2023-03-06T22:02:49.412593Z"
    },
    "papermill": {
     "duration": 0.012947,
     "end_time": "2023-03-06T22:02:49.415733",
     "exception": false,
     "start_time": "2023-03-06T22:02:49.402786",
     "status": "completed"
    },
    "tags": []
   },
   "outputs": [],
   "source": [
    "#q_2.solution()"
   ]
  },
  {
   "cell_type": "markdown",
   "id": "e875262c",
   "metadata": {
    "papermill": {
     "duration": 0.004953,
     "end_time": "2023-03-06T22:02:49.425942",
     "exception": false,
     "start_time": "2023-03-06T22:02:49.420989",
     "status": "completed"
    },
    "tags": []
   },
   "source": [
    "# Keep Going\n",
    "**[Click here](https://www.kaggle.com/dansbecker/order-by)** to move on and learn about the **ORDER BY** clause."
   ]
  },
  {
   "cell_type": "markdown",
   "id": "df54eecf",
   "metadata": {
    "papermill": {
     "duration": 0.004771,
     "end_time": "2023-03-06T22:02:49.435888",
     "exception": false,
     "start_time": "2023-03-06T22:02:49.431117",
     "status": "completed"
    },
    "tags": []
   },
   "source": [
    "---\n",
    "\n",
    "\n",
    "\n",
    "\n",
    "*Have questions or comments? Visit the [course discussion forum](https://www.kaggle.com/learn/intro-to-sql/discussion) to chat with other learners.*"
   ]
  }
 ],
 "metadata": {
  "kernelspec": {
   "display_name": "Python 3",
   "language": "python",
   "name": "python3"
  },
  "language_info": {
   "codemirror_mode": {
    "name": "ipython",
    "version": 3
   },
   "file_extension": ".py",
   "mimetype": "text/x-python",
   "name": "python",
   "nbconvert_exporter": "python",
   "pygments_lexer": "ipython3",
   "version": "3.7.12"
  },
  "papermill": {
   "default_parameters": {},
   "duration": 18.001614,
   "end_time": "2023-03-06T22:02:50.061994",
   "environment_variables": {},
   "exception": null,
   "input_path": "__notebook__.ipynb",
   "output_path": "__notebook__.ipynb",
   "parameters": {},
   "start_time": "2023-03-06T22:02:32.060380",
   "version": "2.4.0"
  }
 },
 "nbformat": 4,
 "nbformat_minor": 5
}
