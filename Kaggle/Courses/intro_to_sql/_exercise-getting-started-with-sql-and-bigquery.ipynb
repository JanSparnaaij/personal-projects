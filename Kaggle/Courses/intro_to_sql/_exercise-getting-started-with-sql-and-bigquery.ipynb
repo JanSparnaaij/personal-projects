{
 "cells": [
  {
   "cell_type": "markdown",
   "id": "d364c76d",
   "metadata": {
    "papermill": {
     "duration": 0.006187,
     "end_time": "2023-03-06T21:36:01.484767",
     "exception": false,
     "start_time": "2023-03-06T21:36:01.478580",
     "status": "completed"
    },
    "tags": []
   },
   "source": [
    "**This notebook is an exercise in the [SQL](https://www.kaggle.com/learn/intro-to-sql) course.  You can reference the tutorial at [this link](https://www.kaggle.com/dansbecker/getting-started-with-sql-and-bigquery).**\n",
    "\n",
    "---\n"
   ]
  },
  {
   "cell_type": "markdown",
   "id": "ae5fbff2",
   "metadata": {
    "papermill": {
     "duration": 0.004651,
     "end_time": "2023-03-06T21:36:01.494637",
     "exception": false,
     "start_time": "2023-03-06T21:36:01.489986",
     "status": "completed"
    },
    "tags": []
   },
   "source": [
    "# Introduction\n",
    "\n",
    "The first test of your new data exploration skills uses data describing crime in the city of Chicago.\n",
    "\n",
    "Before you get started, run the following cell. It sets up the automated feedback system to review your answers."
   ]
  },
  {
   "cell_type": "code",
   "execution_count": 1,
   "id": "d9635f41",
   "metadata": {
    "execution": {
     "iopub.execute_input": "2023-03-06T21:36:01.506998Z",
     "iopub.status.busy": "2023-03-06T21:36:01.506457Z",
     "iopub.status.idle": "2023-03-06T21:36:02.587973Z",
     "shell.execute_reply": "2023-03-06T21:36:02.586629Z"
    },
    "papermill": {
     "duration": 1.090946,
     "end_time": "2023-03-06T21:36:02.590563",
     "exception": false,
     "start_time": "2023-03-06T21:36:01.499617",
     "status": "completed"
    },
    "tags": []
   },
   "outputs": [
    {
     "name": "stdout",
     "output_type": "stream",
     "text": [
      "Using Kaggle's public dataset BigQuery integration.\n",
      "Setup Complete\n"
     ]
    }
   ],
   "source": [
    "# Set up feedack system\n",
    "from learntools.core import binder\n",
    "binder.bind(globals())\n",
    "from learntools.sql.ex1 import *\n",
    "print(\"Setup Complete\")"
   ]
  },
  {
   "cell_type": "markdown",
   "id": "ea570845",
   "metadata": {
    "papermill": {
     "duration": 0.005021,
     "end_time": "2023-03-06T21:36:02.600930",
     "exception": false,
     "start_time": "2023-03-06T21:36:02.595909",
     "status": "completed"
    },
    "tags": []
   },
   "source": [
    "Use the next code cell to fetch the dataset."
   ]
  },
  {
   "cell_type": "code",
   "execution_count": 2,
   "id": "4e031f3b",
   "metadata": {
    "execution": {
     "iopub.execute_input": "2023-03-06T21:36:02.613391Z",
     "iopub.status.busy": "2023-03-06T21:36:02.612745Z",
     "iopub.status.idle": "2023-03-06T21:36:02.985999Z",
     "shell.execute_reply": "2023-03-06T21:36:02.984752Z"
    },
    "papermill": {
     "duration": 0.382789,
     "end_time": "2023-03-06T21:36:02.988844",
     "exception": false,
     "start_time": "2023-03-06T21:36:02.606055",
     "status": "completed"
    },
    "tags": []
   },
   "outputs": [
    {
     "name": "stdout",
     "output_type": "stream",
     "text": [
      "Using Kaggle's public dataset BigQuery integration.\n"
     ]
    }
   ],
   "source": [
    "from google.cloud import bigquery\n",
    "\n",
    "# Create a \"Client\" object\n",
    "client = bigquery.Client()\n",
    "\n",
    "# Construct a reference to the \"chicago_crime\" dataset\n",
    "dataset_ref = client.dataset(\"chicago_crime\", project=\"bigquery-public-data\")\n",
    "\n",
    "# API request - fetch the dataset\n",
    "dataset = client.get_dataset(dataset_ref)"
   ]
  },
  {
   "cell_type": "markdown",
   "id": "c4b82f78",
   "metadata": {
    "papermill": {
     "duration": 0.004991,
     "end_time": "2023-03-06T21:36:02.999469",
     "exception": false,
     "start_time": "2023-03-06T21:36:02.994478",
     "status": "completed"
    },
    "tags": []
   },
   "source": [
    "# Exercises\n",
    "\n",
    "### 1) Count tables in the dataset\n",
    "\n",
    "How many tables are in the Chicago Crime dataset?"
   ]
  },
  {
   "cell_type": "code",
   "execution_count": 3,
   "id": "754b5e5b",
   "metadata": {
    "execution": {
     "iopub.execute_input": "2023-03-06T21:36:03.012020Z",
     "iopub.status.busy": "2023-03-06T21:36:03.011351Z",
     "iopub.status.idle": "2023-03-06T21:36:03.299093Z",
     "shell.execute_reply": "2023-03-06T21:36:03.297554Z"
    },
    "papermill": {
     "duration": 0.297918,
     "end_time": "2023-03-06T21:36:03.302515",
     "exception": false,
     "start_time": "2023-03-06T21:36:03.004597",
     "status": "completed"
    },
    "tags": []
   },
   "outputs": [
    {
     "name": "stdout",
     "output_type": "stream",
     "text": [
      "crime\n"
     ]
    }
   ],
   "source": [
    "# Write the code you need here to figure out the answer\n",
    "tables = list(client.list_tables(dataset))\n",
    "for table in tables:\n",
    "    print(table.table_id)"
   ]
  },
  {
   "cell_type": "code",
   "execution_count": 4,
   "id": "b372e29c",
   "metadata": {
    "execution": {
     "iopub.execute_input": "2023-03-06T21:36:03.315412Z",
     "iopub.status.busy": "2023-03-06T21:36:03.314456Z",
     "iopub.status.idle": "2023-03-06T21:36:03.322771Z",
     "shell.execute_reply": "2023-03-06T21:36:03.322012Z"
    },
    "papermill": {
     "duration": 0.016846,
     "end_time": "2023-03-06T21:36:03.324846",
     "exception": false,
     "start_time": "2023-03-06T21:36:03.308000",
     "status": "completed"
    },
    "tags": []
   },
   "outputs": [
    {
     "data": {
      "application/javascript": [
       "parent.postMessage({\"jupyterEvent\": \"custom.exercise_interaction\", \"data\": {\"outcomeType\": 1, \"valueTowardsCompletion\": 0.3333333333333333, \"interactionType\": 1, \"questionType\": 1, \"questionId\": \"1_CountTables\", \"learnToolsVersion\": \"0.3.4\", \"failureMessage\": \"\", \"exceptionClass\": \"\", \"trace\": \"\"}}, \"*\")"
      ],
      "text/plain": [
       "<IPython.core.display.Javascript object>"
      ]
     },
     "metadata": {},
     "output_type": "display_data"
    },
    {
     "data": {
      "text/markdown": [
       "<span style=\"color:#33cc33\">Correct</span>"
      ],
      "text/plain": [
       "Correct"
      ]
     },
     "metadata": {},
     "output_type": "display_data"
    }
   ],
   "source": [
    "num_tables = 1  # Store the answer as num_tables and then run this cell\n",
    "\n",
    "# Check your answer\n",
    "q_1.check()"
   ]
  },
  {
   "cell_type": "markdown",
   "id": "3eb69ba3",
   "metadata": {
    "papermill": {
     "duration": 0.00528,
     "end_time": "2023-03-06T21:36:03.335965",
     "exception": false,
     "start_time": "2023-03-06T21:36:03.330685",
     "status": "completed"
    },
    "tags": []
   },
   "source": [
    "For a hint or the solution, uncomment the appropriate line below."
   ]
  },
  {
   "cell_type": "code",
   "execution_count": 5,
   "id": "970469d4",
   "metadata": {
    "execution": {
     "iopub.execute_input": "2023-03-06T21:36:03.348454Z",
     "iopub.status.busy": "2023-03-06T21:36:03.347790Z",
     "iopub.status.idle": "2023-03-06T21:36:03.352265Z",
     "shell.execute_reply": "2023-03-06T21:36:03.351171Z"
    },
    "papermill": {
     "duration": 0.013257,
     "end_time": "2023-03-06T21:36:03.354527",
     "exception": false,
     "start_time": "2023-03-06T21:36:03.341270",
     "status": "completed"
    },
    "tags": []
   },
   "outputs": [],
   "source": [
    "#q_1.hint()\n",
    "#q_1.solution()"
   ]
  },
  {
   "cell_type": "markdown",
   "id": "425b3b75",
   "metadata": {
    "papermill": {
     "duration": 0.005308,
     "end_time": "2023-03-06T21:36:03.365339",
     "exception": false,
     "start_time": "2023-03-06T21:36:03.360031",
     "status": "completed"
    },
    "tags": []
   },
   "source": [
    "### 2) Explore the table schema\n",
    "\n",
    "How many columns in the `crime` table have `TIMESTAMP` data?"
   ]
  },
  {
   "cell_type": "code",
   "execution_count": 6,
   "id": "be21feb9",
   "metadata": {
    "execution": {
     "iopub.execute_input": "2023-03-06T21:36:03.378912Z",
     "iopub.status.busy": "2023-03-06T21:36:03.378496Z",
     "iopub.status.idle": "2023-03-06T21:36:03.667371Z",
     "shell.execute_reply": "2023-03-06T21:36:03.666221Z"
    },
    "papermill": {
     "duration": 0.298129,
     "end_time": "2023-03-06T21:36:03.669910",
     "exception": false,
     "start_time": "2023-03-06T21:36:03.371781",
     "status": "completed"
    },
    "tags": []
   },
   "outputs": [
    {
     "data": {
      "text/plain": [
       "[SchemaField('unique_key', 'INTEGER', 'REQUIRED', None, (), None),\n",
       " SchemaField('case_number', 'STRING', 'NULLABLE', None, (), None),\n",
       " SchemaField('date', 'TIMESTAMP', 'NULLABLE', None, (), None),\n",
       " SchemaField('block', 'STRING', 'NULLABLE', None, (), None),\n",
       " SchemaField('iucr', 'STRING', 'NULLABLE', None, (), None),\n",
       " SchemaField('primary_type', 'STRING', 'NULLABLE', None, (), None),\n",
       " SchemaField('description', 'STRING', 'NULLABLE', None, (), None),\n",
       " SchemaField('location_description', 'STRING', 'NULLABLE', None, (), None),\n",
       " SchemaField('arrest', 'BOOLEAN', 'NULLABLE', None, (), None),\n",
       " SchemaField('domestic', 'BOOLEAN', 'NULLABLE', None, (), None),\n",
       " SchemaField('beat', 'INTEGER', 'NULLABLE', None, (), None),\n",
       " SchemaField('district', 'INTEGER', 'NULLABLE', None, (), None),\n",
       " SchemaField('ward', 'INTEGER', 'NULLABLE', None, (), None),\n",
       " SchemaField('community_area', 'INTEGER', 'NULLABLE', None, (), None),\n",
       " SchemaField('fbi_code', 'STRING', 'NULLABLE', None, (), None),\n",
       " SchemaField('x_coordinate', 'FLOAT', 'NULLABLE', None, (), None),\n",
       " SchemaField('y_coordinate', 'FLOAT', 'NULLABLE', None, (), None),\n",
       " SchemaField('year', 'INTEGER', 'NULLABLE', None, (), None),\n",
       " SchemaField('updated_on', 'TIMESTAMP', 'NULLABLE', None, (), None),\n",
       " SchemaField('latitude', 'FLOAT', 'NULLABLE', None, (), None),\n",
       " SchemaField('longitude', 'FLOAT', 'NULLABLE', None, (), None),\n",
       " SchemaField('location', 'STRING', 'NULLABLE', None, (), None)]"
      ]
     },
     "execution_count": 6,
     "metadata": {},
     "output_type": "execute_result"
    }
   ],
   "source": [
    "# Write the code to figure out the answer\n",
    "table_ref = dataset_ref.table(\"crime\")\n",
    "table = client.get_table(table_ref)\n",
    "table.schema"
   ]
  },
  {
   "cell_type": "code",
   "execution_count": 7,
   "id": "8c6a529d",
   "metadata": {
    "execution": {
     "iopub.execute_input": "2023-03-06T21:36:03.683357Z",
     "iopub.status.busy": "2023-03-06T21:36:03.682529Z",
     "iopub.status.idle": "2023-03-06T21:36:03.691963Z",
     "shell.execute_reply": "2023-03-06T21:36:03.690908Z"
    },
    "papermill": {
     "duration": 0.018734,
     "end_time": "2023-03-06T21:36:03.694375",
     "exception": false,
     "start_time": "2023-03-06T21:36:03.675641",
     "status": "completed"
    },
    "tags": []
   },
   "outputs": [
    {
     "data": {
      "application/javascript": [
       "parent.postMessage({\"jupyterEvent\": \"custom.exercise_interaction\", \"data\": {\"outcomeType\": 1, \"valueTowardsCompletion\": 0.3333333333333333, \"interactionType\": 1, \"questionType\": 1, \"questionId\": \"2_CountTimestampFields\", \"learnToolsVersion\": \"0.3.4\", \"failureMessage\": \"\", \"exceptionClass\": \"\", \"trace\": \"\"}}, \"*\")"
      ],
      "text/plain": [
       "<IPython.core.display.Javascript object>"
      ]
     },
     "metadata": {},
     "output_type": "display_data"
    },
    {
     "data": {
      "text/markdown": [
       "<span style=\"color:#33cc33\">Correct</span>"
      ],
      "text/plain": [
       "Correct"
      ]
     },
     "metadata": {},
     "output_type": "display_data"
    }
   ],
   "source": [
    "num_timestamp_fields = 2 # Put your answer here\n",
    "\n",
    "# Check your answer\n",
    "q_2.check()"
   ]
  },
  {
   "cell_type": "markdown",
   "id": "76bbc35b",
   "metadata": {
    "papermill": {
     "duration": 0.005809,
     "end_time": "2023-03-06T21:36:03.706075",
     "exception": false,
     "start_time": "2023-03-06T21:36:03.700266",
     "status": "completed"
    },
    "tags": []
   },
   "source": [
    "For a hint or the solution, uncomment the appropriate line below."
   ]
  },
  {
   "cell_type": "code",
   "execution_count": 8,
   "id": "e6f3393c",
   "metadata": {
    "execution": {
     "iopub.execute_input": "2023-03-06T21:36:03.720157Z",
     "iopub.status.busy": "2023-03-06T21:36:03.719712Z",
     "iopub.status.idle": "2023-03-06T21:36:03.724172Z",
     "shell.execute_reply": "2023-03-06T21:36:03.723075Z"
    },
    "papermill": {
     "duration": 0.014449,
     "end_time": "2023-03-06T21:36:03.726431",
     "exception": false,
     "start_time": "2023-03-06T21:36:03.711982",
     "status": "completed"
    },
    "tags": []
   },
   "outputs": [],
   "source": [
    "#q_2.hint()\n",
    "#q_2.solution()"
   ]
  },
  {
   "cell_type": "markdown",
   "id": "718a3908",
   "metadata": {
    "papermill": {
     "duration": 0.005653,
     "end_time": "2023-03-06T21:36:03.738073",
     "exception": false,
     "start_time": "2023-03-06T21:36:03.732420",
     "status": "completed"
    },
    "tags": []
   },
   "source": [
    "### 3) Create a crime map\n",
    "\n",
    "If you wanted to create a map with a dot at the location of each crime, what are the names of the two fields you likely need to pull out of the `crime` table to plot the crimes on a map?"
   ]
  },
  {
   "cell_type": "code",
   "execution_count": 9,
   "id": "4b550e5c",
   "metadata": {
    "execution": {
     "iopub.execute_input": "2023-03-06T21:36:03.751466Z",
     "iopub.status.busy": "2023-03-06T21:36:03.751089Z",
     "iopub.status.idle": "2023-03-06T21:36:03.757813Z",
     "shell.execute_reply": "2023-03-06T21:36:03.756748Z"
    },
    "papermill": {
     "duration": 0.016112,
     "end_time": "2023-03-06T21:36:03.760101",
     "exception": false,
     "start_time": "2023-03-06T21:36:03.743989",
     "status": "completed"
    },
    "tags": []
   },
   "outputs": [
    {
     "data": {
      "text/plain": [
       "[SchemaField('unique_key', 'INTEGER', 'REQUIRED', None, (), None),\n",
       " SchemaField('case_number', 'STRING', 'NULLABLE', None, (), None),\n",
       " SchemaField('date', 'TIMESTAMP', 'NULLABLE', None, (), None),\n",
       " SchemaField('block', 'STRING', 'NULLABLE', None, (), None),\n",
       " SchemaField('iucr', 'STRING', 'NULLABLE', None, (), None),\n",
       " SchemaField('primary_type', 'STRING', 'NULLABLE', None, (), None),\n",
       " SchemaField('description', 'STRING', 'NULLABLE', None, (), None),\n",
       " SchemaField('location_description', 'STRING', 'NULLABLE', None, (), None),\n",
       " SchemaField('arrest', 'BOOLEAN', 'NULLABLE', None, (), None),\n",
       " SchemaField('domestic', 'BOOLEAN', 'NULLABLE', None, (), None),\n",
       " SchemaField('beat', 'INTEGER', 'NULLABLE', None, (), None),\n",
       " SchemaField('district', 'INTEGER', 'NULLABLE', None, (), None),\n",
       " SchemaField('ward', 'INTEGER', 'NULLABLE', None, (), None),\n",
       " SchemaField('community_area', 'INTEGER', 'NULLABLE', None, (), None),\n",
       " SchemaField('fbi_code', 'STRING', 'NULLABLE', None, (), None),\n",
       " SchemaField('x_coordinate', 'FLOAT', 'NULLABLE', None, (), None),\n",
       " SchemaField('y_coordinate', 'FLOAT', 'NULLABLE', None, (), None),\n",
       " SchemaField('year', 'INTEGER', 'NULLABLE', None, (), None),\n",
       " SchemaField('updated_on', 'TIMESTAMP', 'NULLABLE', None, (), None),\n",
       " SchemaField('latitude', 'FLOAT', 'NULLABLE', None, (), None),\n",
       " SchemaField('longitude', 'FLOAT', 'NULLABLE', None, (), None),\n",
       " SchemaField('location', 'STRING', 'NULLABLE', None, (), None)]"
      ]
     },
     "execution_count": 9,
     "metadata": {},
     "output_type": "execute_result"
    }
   ],
   "source": [
    "# Write the code here to explore the data so you can find the answer\n",
    "table.schema\n"
   ]
  },
  {
   "cell_type": "code",
   "execution_count": 10,
   "id": "f956cfa6",
   "metadata": {
    "execution": {
     "iopub.execute_input": "2023-03-06T21:36:03.773630Z",
     "iopub.status.busy": "2023-03-06T21:36:03.773259Z",
     "iopub.status.idle": "2023-03-06T21:36:03.782446Z",
     "shell.execute_reply": "2023-03-06T21:36:03.781272Z"
    },
    "papermill": {
     "duration": 0.018495,
     "end_time": "2023-03-06T21:36:03.784608",
     "exception": false,
     "start_time": "2023-03-06T21:36:03.766113",
     "status": "completed"
    },
    "tags": []
   },
   "outputs": [
    {
     "data": {
      "application/javascript": [
       "parent.postMessage({\"jupyterEvent\": \"custom.exercise_interaction\", \"data\": {\"outcomeType\": 1, \"valueTowardsCompletion\": 0.3333333333333333, \"interactionType\": 1, \"questionType\": 2, \"questionId\": \"3_IdentifyFieldsForPlotting\", \"learnToolsVersion\": \"0.3.4\", \"failureMessage\": \"\", \"exceptionClass\": \"\", \"trace\": \"\"}}, \"*\")"
      ],
      "text/plain": [
       "<IPython.core.display.Javascript object>"
      ]
     },
     "metadata": {},
     "output_type": "display_data"
    },
    {
     "data": {
      "text/markdown": [
       "<span style=\"color:#33cc33\">Correct</span>"
      ],
      "text/plain": [
       "Correct"
      ]
     },
     "metadata": {},
     "output_type": "display_data"
    }
   ],
   "source": [
    "fields_for_plotting = ['latitude', 'longitude'] # Put your answers here\n",
    "\n",
    "# Check your answer\n",
    "q_3.check()"
   ]
  },
  {
   "cell_type": "markdown",
   "id": "91bc1056",
   "metadata": {
    "papermill": {
     "duration": 0.006128,
     "end_time": "2023-03-06T21:36:03.797373",
     "exception": false,
     "start_time": "2023-03-06T21:36:03.791245",
     "status": "completed"
    },
    "tags": []
   },
   "source": [
    "For a hint or the solution, uncomment the appropriate line below."
   ]
  },
  {
   "cell_type": "code",
   "execution_count": 11,
   "id": "8b001f97",
   "metadata": {
    "execution": {
     "iopub.execute_input": "2023-03-06T21:36:03.811642Z",
     "iopub.status.busy": "2023-03-06T21:36:03.811237Z",
     "iopub.status.idle": "2023-03-06T21:36:03.815909Z",
     "shell.execute_reply": "2023-03-06T21:36:03.814868Z"
    },
    "papermill": {
     "duration": 0.014441,
     "end_time": "2023-03-06T21:36:03.818062",
     "exception": false,
     "start_time": "2023-03-06T21:36:03.803621",
     "status": "completed"
    },
    "tags": []
   },
   "outputs": [],
   "source": [
    "#q_3.hint()\n",
    "#q_3.solution()"
   ]
  },
  {
   "cell_type": "markdown",
   "id": "0cedabcd",
   "metadata": {
    "papermill": {
     "duration": 0.006261,
     "end_time": "2023-03-06T21:36:03.830707",
     "exception": false,
     "start_time": "2023-03-06T21:36:03.824446",
     "status": "completed"
    },
    "tags": []
   },
   "source": [
    "Thinking about the question above, there are a few columns that appear to have geographic data. Look at a few values (with the `list_rows()` command) to see if you can determine their relationship.  Two columns will still be hard to interpret. But it should be obvious how the `location` column relates to `latitude` and `longitude`."
   ]
  },
  {
   "cell_type": "code",
   "execution_count": 12,
   "id": "4a34bb60",
   "metadata": {
    "execution": {
     "iopub.execute_input": "2023-03-06T21:36:03.845461Z",
     "iopub.status.busy": "2023-03-06T21:36:03.844706Z",
     "iopub.status.idle": "2023-03-06T21:36:04.368011Z",
     "shell.execute_reply": "2023-03-06T21:36:04.366894Z"
    },
    "papermill": {
     "duration": 0.533445,
     "end_time": "2023-03-06T21:36:04.370525",
     "exception": false,
     "start_time": "2023-03-06T21:36:03.837080",
     "status": "completed"
    },
    "tags": []
   },
   "outputs": [
    {
     "name": "stderr",
     "output_type": "stream",
     "text": [
      "/opt/conda/lib/python3.7/site-packages/ipykernel_launcher.py:2: UserWarning: Cannot use bqstorage_client if max_results is set, reverting to fetching data with the tabledata.list endpoint.\n",
      "  \n"
     ]
    },
    {
     "data": {
      "text/html": [
       "<div>\n",
       "<style scoped>\n",
       "    .dataframe tbody tr th:only-of-type {\n",
       "        vertical-align: middle;\n",
       "    }\n",
       "\n",
       "    .dataframe tbody tr th {\n",
       "        vertical-align: top;\n",
       "    }\n",
       "\n",
       "    .dataframe thead th {\n",
       "        text-align: right;\n",
       "    }\n",
       "</style>\n",
       "<table border=\"1\" class=\"dataframe\">\n",
       "  <thead>\n",
       "    <tr style=\"text-align: right;\">\n",
       "      <th></th>\n",
       "      <th>latitude</th>\n",
       "      <th>longitude</th>\n",
       "    </tr>\n",
       "  </thead>\n",
       "  <tbody>\n",
       "    <tr>\n",
       "      <th>0</th>\n",
       "      <td>41.703073</td>\n",
       "      <td>-87.602673</td>\n",
       "    </tr>\n",
       "    <tr>\n",
       "      <th>1</th>\n",
       "      <td>41.701619</td>\n",
       "      <td>-87.629579</td>\n",
       "    </tr>\n",
       "    <tr>\n",
       "      <th>2</th>\n",
       "      <td>41.705791</td>\n",
       "      <td>-87.628241</td>\n",
       "    </tr>\n",
       "    <tr>\n",
       "      <th>3</th>\n",
       "      <td>41.702501</td>\n",
       "      <td>-87.626958</td>\n",
       "    </tr>\n",
       "    <tr>\n",
       "      <th>4</th>\n",
       "      <td>41.703068</td>\n",
       "      <td>-87.628168</td>\n",
       "    </tr>\n",
       "  </tbody>\n",
       "</table>\n",
       "</div>"
      ],
      "text/plain": [
       "    latitude  longitude\n",
       "0  41.703073 -87.602673\n",
       "1  41.701619 -87.629579\n",
       "2  41.705791 -87.628241\n",
       "3  41.702501 -87.626958\n",
       "4  41.703068 -87.628168"
      ]
     },
     "execution_count": 12,
     "metadata": {},
     "output_type": "execute_result"
    }
   ],
   "source": [
    "# Scratch space for your code\n",
    "client.list_rows(table, selected_fields=table.schema[19:21], max_results = 5).to_dataframe()"
   ]
  },
  {
   "cell_type": "markdown",
   "id": "8334046c",
   "metadata": {
    "papermill": {
     "duration": 0.006671,
     "end_time": "2023-03-06T21:36:04.383963",
     "exception": false,
     "start_time": "2023-03-06T21:36:04.377292",
     "status": "completed"
    },
    "tags": []
   },
   "source": [
    "# Keep going\n",
    "\n",
    "You've looked at the schema, but you haven't yet done anything exciting with the data itself. Things get more interesting when you get to the data, so keep going to **[write your first SQL query](https://www.kaggle.com/dansbecker/select-from-where).**"
   ]
  },
  {
   "cell_type": "markdown",
   "id": "1d9cf696",
   "metadata": {
    "papermill": {
     "duration": 0.006311,
     "end_time": "2023-03-06T21:36:04.396961",
     "exception": false,
     "start_time": "2023-03-06T21:36:04.390650",
     "status": "completed"
    },
    "tags": []
   },
   "source": [
    "---\n",
    "\n",
    "\n",
    "\n",
    "\n",
    "*Have questions or comments? Visit the [course discussion forum](https://www.kaggle.com/learn/intro-to-sql/discussion) to chat with other learners.*"
   ]
  }
 ],
 "metadata": {
  "kernelspec": {
   "display_name": "Python 3",
   "language": "python",
   "name": "python3"
  },
  "language_info": {
   "codemirror_mode": {
    "name": "ipython",
    "version": 3
   },
   "file_extension": ".py",
   "mimetype": "text/x-python",
   "name": "python",
   "nbconvert_exporter": "python",
   "pygments_lexer": "ipython3",
   "version": "3.7.12"
  },
  "papermill": {
   "default_parameters": {},
   "duration": 13.436036,
   "end_time": "2023-03-06T21:36:05.025085",
   "environment_variables": {},
   "exception": null,
   "input_path": "__notebook__.ipynb",
   "output_path": "__notebook__.ipynb",
   "parameters": {},
   "start_time": "2023-03-06T21:35:51.589049",
   "version": "2.4.0"
  }
 },
 "nbformat": 4,
 "nbformat_minor": 5
}
