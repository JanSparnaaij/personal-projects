{
 "cells": [
  {
   "cell_type": "markdown",
   "id": "a737f0c4",
   "metadata": {
    "papermill": {
     "duration": 0.007298,
     "end_time": "2023-03-10T13:03:36.395526",
     "exception": false,
     "start_time": "2023-03-10T13:03:36.388228",
     "status": "completed"
    },
    "tags": []
   },
   "source": [
    "**This notebook is an exercise in the [SQL](https://www.kaggle.com/learn/intro-to-sql) course.  You can reference the tutorial at [this link](https://www.kaggle.com/dansbecker/as-with).**\n",
    "\n",
    "---\n"
   ]
  },
  {
   "cell_type": "markdown",
   "id": "13c8bda2",
   "metadata": {
    "papermill": {
     "duration": 0.005782,
     "end_time": "2023-03-10T13:03:36.407557",
     "exception": false,
     "start_time": "2023-03-10T13:03:36.401775",
     "status": "completed"
    },
    "tags": []
   },
   "source": [
    "# Introduction\n",
    "\n",
    "You are getting to the point where you can own an analysis from beginning to end. So you'll do more data exploration in this exercise than you've done before.  Before you get started, run the following set-up code as usual. "
   ]
  },
  {
   "cell_type": "code",
   "execution_count": 1,
   "id": "be3d26a1",
   "metadata": {
    "execution": {
     "iopub.execute_input": "2023-03-10T13:03:36.422137Z",
     "iopub.status.busy": "2023-03-10T13:03:36.421599Z",
     "iopub.status.idle": "2023-03-10T13:03:59.569866Z",
     "shell.execute_reply": "2023-03-10T13:03:59.568080Z"
    },
    "papermill": {
     "duration": 23.159805,
     "end_time": "2023-03-10T13:03:59.573380",
     "exception": false,
     "start_time": "2023-03-10T13:03:36.413575",
     "status": "completed"
    },
    "tags": []
   },
   "outputs": [
    {
     "name": "stdout",
     "output_type": "stream",
     "text": [
      "Collecting git+https://github.com/Kaggle/learntools.git\r\n",
      "  Cloning https://github.com/Kaggle/learntools.git to /tmp/pip-req-build-ne0f205h\r\n",
      "  Running command git clone --filter=blob:none --quiet https://github.com/Kaggle/learntools.git /tmp/pip-req-build-ne0f205h\r\n",
      "  Resolved https://github.com/Kaggle/learntools.git to commit 9750c602dbc2f78b9182e68b5ae6edfda9e30c3b\r\n",
      "  Preparing metadata (setup.py) ... \u001b[?25l-\b \bdone\r\n",
      "\u001b[?25hBuilding wheels for collected packages: learntools\r\n",
      "  Building wheel for learntools (setup.py) ... \u001b[?25l-\b \b\\\b \b|\b \bdone\r\n",
      "\u001b[?25h  Created wheel for learntools: filename=learntools-0.3.4-py3-none-any.whl size=268926 sha256=27ebd9943f35bdf38d82f611d98677269ae18f522a4d2bb2bf7c4b0e2ce96ddc\r\n",
      "  Stored in directory: /tmp/pip-ephem-wheel-cache-yu00p3bu/wheels/dd/d7/6b/0fc758f52767fd281d6dceded6757c6cb5bb90ccd2dbb1de9f\r\n",
      "Successfully built learntools\r\n",
      "Installing collected packages: learntools\r\n",
      "Successfully installed learntools-0.3.4\r\n",
      "\u001b[33mWARNING: Running pip as the 'root' user can result in broken permissions and conflicting behaviour with the system package manager. It is recommended to use a virtual environment instead: https://pip.pypa.io/warnings/venv\u001b[0m\u001b[33m\r\n",
      "\u001b[0mUsing Kaggle's public dataset BigQuery integration.\n"
     ]
    },
    {
     "name": "stderr",
     "output_type": "stream",
     "text": [
      "/opt/conda/lib/python3.7/site-packages/google/cloud/bigquery/client.py:440: UserWarning: Cannot create BigQuery Storage client, the dependency google-cloud-bigquery-storage is not installed.\n",
      "  \"Cannot create BigQuery Storage client, the dependency \"\n"
     ]
    },
    {
     "name": "stdout",
     "output_type": "stream",
     "text": [
      "Setup Complete\n"
     ]
    }
   ],
   "source": [
    "# Get most recent checking code\n",
    "!pip install -U -t /kaggle/working/ git+https://github.com/Kaggle/learntools.git\n",
    "# Set up feedback system\n",
    "from learntools.core import binder\n",
    "binder.bind(globals())\n",
    "from learntools.sql.ex5 import *\n",
    "print(\"Setup Complete\")"
   ]
  },
  {
   "cell_type": "markdown",
   "id": "809a5db5",
   "metadata": {
    "papermill": {
     "duration": 0.007032,
     "end_time": "2023-03-10T13:03:59.588005",
     "exception": false,
     "start_time": "2023-03-10T13:03:59.580973",
     "status": "completed"
    },
    "tags": []
   },
   "source": [
    "You'll work with a dataset about taxi trips in the city of Chicago. Run the cell below to fetch the `chicago_taxi_trips` dataset."
   ]
  },
  {
   "cell_type": "code",
   "execution_count": 2,
   "id": "3121aafa",
   "metadata": {
    "execution": {
     "iopub.execute_input": "2023-03-10T13:03:59.604697Z",
     "iopub.status.busy": "2023-03-10T13:03:59.604229Z",
     "iopub.status.idle": "2023-03-10T13:03:59.971798Z",
     "shell.execute_reply": "2023-03-10T13:03:59.970758Z"
    },
    "papermill": {
     "duration": 0.379378,
     "end_time": "2023-03-10T13:03:59.974554",
     "exception": false,
     "start_time": "2023-03-10T13:03:59.595176",
     "status": "completed"
    },
    "tags": []
   },
   "outputs": [
    {
     "name": "stdout",
     "output_type": "stream",
     "text": [
      "Using Kaggle's public dataset BigQuery integration.\n"
     ]
    }
   ],
   "source": [
    "from google.cloud import bigquery\n",
    "\n",
    "# Create a \"Client\" object\n",
    "client = bigquery.Client()\n",
    "\n",
    "# Construct a reference to the \"chicago_taxi_trips\" dataset\n",
    "dataset_ref = client.dataset(\"chicago_taxi_trips\", project=\"bigquery-public-data\")\n",
    "\n",
    "# API request - fetch the dataset\n",
    "dataset = client.get_dataset(dataset_ref)"
   ]
  },
  {
   "cell_type": "markdown",
   "id": "63fc39b4",
   "metadata": {
    "papermill": {
     "duration": 0.007003,
     "end_time": "2023-03-10T13:03:59.989158",
     "exception": false,
     "start_time": "2023-03-10T13:03:59.982155",
     "status": "completed"
    },
    "tags": []
   },
   "source": [
    "# Exercises\n",
    "\n",
    "You are curious how much slower traffic moves when traffic volume is high. This involves a few steps.\n",
    "\n",
    "### 1) Find the data\n",
    "Before you can access the data, you need to find the table name with the data.\n",
    "\n",
    "*Hint*: Tab completion is helpful whenever you can't remember a command. Type `client.` and then hit the tab key. Don't forget the period before hitting tab."
   ]
  },
  {
   "cell_type": "code",
   "execution_count": 3,
   "id": "2cb9a10c",
   "metadata": {
    "execution": {
     "iopub.execute_input": "2023-03-10T13:04:00.007638Z",
     "iopub.status.busy": "2023-03-10T13:04:00.006658Z",
     "iopub.status.idle": "2023-03-10T13:04:00.296727Z",
     "shell.execute_reply": "2023-03-10T13:04:00.295337Z"
    },
    "papermill": {
     "duration": 0.302519,
     "end_time": "2023-03-10T13:04:00.299394",
     "exception": false,
     "start_time": "2023-03-10T13:03:59.996875",
     "status": "completed"
    },
    "tags": []
   },
   "outputs": [
    {
     "name": "stdout",
     "output_type": "stream",
     "text": [
      "taxi_trips\n"
     ]
    }
   ],
   "source": [
    "# Your code here to find the table name\n",
    "table = client.list_tables(dataset)\n",
    "\n",
    "for tab in table:\n",
    "    print(tab.table_id)"
   ]
  },
  {
   "cell_type": "code",
   "execution_count": 4,
   "id": "0934ff7f",
   "metadata": {
    "execution": {
     "iopub.execute_input": "2023-03-10T13:04:00.319768Z",
     "iopub.status.busy": "2023-03-10T13:04:00.318645Z",
     "iopub.status.idle": "2023-03-10T13:04:00.330438Z",
     "shell.execute_reply": "2023-03-10T13:04:00.329156Z"
    },
    "papermill": {
     "duration": 0.024407,
     "end_time": "2023-03-10T13:04:00.333056",
     "exception": false,
     "start_time": "2023-03-10T13:04:00.308649",
     "status": "completed"
    },
    "tags": []
   },
   "outputs": [
    {
     "data": {
      "application/javascript": [
       "parent.postMessage({\"jupyterEvent\": \"custom.exercise_interaction\", \"data\": {\"outcomeType\": 1, \"valueTowardsCompletion\": 0.16666666666666666, \"interactionType\": 1, \"questionType\": 1, \"questionId\": \"1_GetTableName\", \"learnToolsVersion\": \"0.3.4\", \"failureMessage\": \"\", \"exceptionClass\": \"\", \"trace\": \"\"}}, \"*\")"
      ],
      "text/plain": [
       "<IPython.core.display.Javascript object>"
      ]
     },
     "metadata": {},
     "output_type": "display_data"
    },
    {
     "data": {
      "text/markdown": [
       "<span style=\"color:#33cc33\">Correct</span>"
      ],
      "text/plain": [
       "Correct"
      ]
     },
     "metadata": {},
     "output_type": "display_data"
    }
   ],
   "source": [
    "# Write the table name as a string below\n",
    "table_name = \"taxi_trips\"\n",
    "\n",
    "# Check your answer\n",
    "q_1.check()"
   ]
  },
  {
   "cell_type": "markdown",
   "id": "10d75daa",
   "metadata": {
    "papermill": {
     "duration": 0.009692,
     "end_time": "2023-03-10T13:04:00.350264",
     "exception": false,
     "start_time": "2023-03-10T13:04:00.340572",
     "status": "completed"
    },
    "tags": []
   },
   "source": [
    "For the solution, uncomment the line below."
   ]
  },
  {
   "cell_type": "code",
   "execution_count": 5,
   "id": "da231a1d",
   "metadata": {
    "execution": {
     "iopub.execute_input": "2023-03-10T13:04:00.367699Z",
     "iopub.status.busy": "2023-03-10T13:04:00.367239Z",
     "iopub.status.idle": "2023-03-10T13:04:00.376520Z",
     "shell.execute_reply": "2023-03-10T13:04:00.375516Z"
    },
    "papermill": {
     "duration": 0.02053,
     "end_time": "2023-03-10T13:04:00.378807",
     "exception": false,
     "start_time": "2023-03-10T13:04:00.358277",
     "status": "completed"
    },
    "tags": []
   },
   "outputs": [
    {
     "data": {
      "application/javascript": [
       "parent.postMessage({\"jupyterEvent\": \"custom.exercise_interaction\", \"data\": {\"interactionType\": 3, \"questionType\": 1, \"questionId\": \"1_GetTableName\", \"learnToolsVersion\": \"0.3.4\", \"valueTowardsCompletion\": 0.0, \"failureMessage\": \"\", \"exceptionClass\": \"\", \"trace\": \"\", \"outcomeType\": 4}}, \"*\")"
      ],
      "text/plain": [
       "<IPython.core.display.Javascript object>"
      ]
     },
     "metadata": {},
     "output_type": "display_data"
    },
    {
     "data": {
      "text/markdown": [
       "<span style=\"color:#33cc99\">Solution:</span> \n",
       "```python\n",
       "\n",
       "# List all the tables in the dataset\n",
       "tables = list(client.list_tables(dataset))\n",
       "\n",
       "# Print names of all tables in the dataset (there is only one!)\n",
       "for table in tables:  \n",
       "    print(table.table_id)\n",
       "\n",
       "table_name = 'taxi_trips'\n",
       "    \n",
       "```"
      ],
      "text/plain": [
       "Solution: \n",
       "```python\n",
       "\n",
       "# List all the tables in the dataset\n",
       "tables = list(client.list_tables(dataset))\n",
       "\n",
       "# Print names of all tables in the dataset (there is only one!)\n",
       "for table in tables:  \n",
       "    print(table.table_id)\n",
       "\n",
       "table_name = 'taxi_trips'\n",
       "    \n",
       "```"
      ]
     },
     "metadata": {},
     "output_type": "display_data"
    }
   ],
   "source": [
    "q_1.solution()"
   ]
  },
  {
   "cell_type": "markdown",
   "id": "6e07cb26",
   "metadata": {
    "papermill": {
     "duration": 0.008605,
     "end_time": "2023-03-10T13:04:00.396068",
     "exception": false,
     "start_time": "2023-03-10T13:04:00.387463",
     "status": "completed"
    },
    "tags": []
   },
   "source": [
    "### 2) Peek at the data\n",
    "\n",
    "Use the next code cell to peek at the top few rows of the data. Inspect the data and see if any issues with data quality are immediately obvious. "
   ]
  },
  {
   "cell_type": "code",
   "execution_count": 6,
   "id": "3d546d29",
   "metadata": {
    "execution": {
     "iopub.execute_input": "2023-03-10T13:04:00.414295Z",
     "iopub.status.busy": "2023-03-10T13:04:00.413813Z",
     "iopub.status.idle": "2023-03-10T13:04:01.597989Z",
     "shell.execute_reply": "2023-03-10T13:04:01.596692Z"
    },
    "papermill": {
     "duration": 1.196758,
     "end_time": "2023-03-10T13:04:01.601151",
     "exception": false,
     "start_time": "2023-03-10T13:04:00.404393",
     "status": "completed"
    },
    "tags": []
   },
   "outputs": [
    {
     "name": "stderr",
     "output_type": "stream",
     "text": [
      "/opt/conda/lib/python3.7/site-packages/ipykernel_launcher.py:4: UserWarning: Cannot use bqstorage_client if max_results is set, reverting to fetching data with the tabledata.list endpoint.\n",
      "  after removing the cwd from sys.path.\n"
     ]
    },
    {
     "data": {
      "text/html": [
       "<div>\n",
       "<style scoped>\n",
       "    .dataframe tbody tr th:only-of-type {\n",
       "        vertical-align: middle;\n",
       "    }\n",
       "\n",
       "    .dataframe tbody tr th {\n",
       "        vertical-align: top;\n",
       "    }\n",
       "\n",
       "    .dataframe thead th {\n",
       "        text-align: right;\n",
       "    }\n",
       "</style>\n",
       "<table border=\"1\" class=\"dataframe\">\n",
       "  <thead>\n",
       "    <tr style=\"text-align: right;\">\n",
       "      <th></th>\n",
       "      <th>unique_key</th>\n",
       "      <th>taxi_id</th>\n",
       "      <th>trip_start_timestamp</th>\n",
       "      <th>trip_end_timestamp</th>\n",
       "      <th>trip_seconds</th>\n",
       "      <th>trip_miles</th>\n",
       "      <th>pickup_census_tract</th>\n",
       "      <th>dropoff_census_tract</th>\n",
       "      <th>pickup_community_area</th>\n",
       "      <th>dropoff_community_area</th>\n",
       "      <th>...</th>\n",
       "      <th>extras</th>\n",
       "      <th>trip_total</th>\n",
       "      <th>payment_type</th>\n",
       "      <th>company</th>\n",
       "      <th>pickup_latitude</th>\n",
       "      <th>pickup_longitude</th>\n",
       "      <th>pickup_location</th>\n",
       "      <th>dropoff_latitude</th>\n",
       "      <th>dropoff_longitude</th>\n",
       "      <th>dropoff_location</th>\n",
       "    </tr>\n",
       "  </thead>\n",
       "  <tbody>\n",
       "    <tr>\n",
       "      <th>0</th>\n",
       "      <td>0523e3d9d670b1730853950fa33f3ca42cfe9e35</td>\n",
       "      <td>7c3d71cce1e7d945d5d1736ff35a8f3c05669d8106df27...</td>\n",
       "      <td>2014-11-03 16:00:00+00:00</td>\n",
       "      <td>2014-11-03 16:30:00+00:00</td>\n",
       "      <td>1920</td>\n",
       "      <td>0.6</td>\n",
       "      <td>1.703184e+10</td>\n",
       "      <td>1.703198e+10</td>\n",
       "      <td>32.0</td>\n",
       "      <td>56.0</td>\n",
       "      <td>...</td>\n",
       "      <td>3.0</td>\n",
       "      <td>28.05</td>\n",
       "      <td>Cash</td>\n",
       "      <td>Taxi Affiliation Services</td>\n",
       "      <td>41.880994</td>\n",
       "      <td>-87.632746</td>\n",
       "      <td>POINT (-87.6327464887 41.8809944707)</td>\n",
       "      <td>41.785999</td>\n",
       "      <td>-87.750934</td>\n",
       "      <td>POINT (-87.7509342894 41.785998518)</td>\n",
       "    </tr>\n",
       "    <tr>\n",
       "      <th>1</th>\n",
       "      <td>89b7e0e6d6e3579fc2f00a430aabc3365c1a8043</td>\n",
       "      <td>c9945e7e18aa8663c2619baf25d0df8730793b96b5003f...</td>\n",
       "      <td>2014-11-20 13:15:00+00:00</td>\n",
       "      <td>2014-11-20 13:45:00+00:00</td>\n",
       "      <td>2040</td>\n",
       "      <td>0.0</td>\n",
       "      <td>1.703132e+10</td>\n",
       "      <td>1.703198e+10</td>\n",
       "      <td>32.0</td>\n",
       "      <td>76.0</td>\n",
       "      <td>...</td>\n",
       "      <td>6.0</td>\n",
       "      <td>44.45</td>\n",
       "      <td>Cash</td>\n",
       "      <td>Dispatch Taxi Affiliation</td>\n",
       "      <td>41.884987</td>\n",
       "      <td>-87.620993</td>\n",
       "      <td>POINT (-87.6209929134 41.8849871918)</td>\n",
       "      <td>41.979071</td>\n",
       "      <td>-87.903040</td>\n",
       "      <td>POINT (-87.9030396611 41.9790708201)</td>\n",
       "    </tr>\n",
       "    <tr>\n",
       "      <th>2</th>\n",
       "      <td>33c8c13f8d630ac734672db3d50bc55d78a9c366</td>\n",
       "      <td>da4802fcc8e9eb10ee00b1212582430f9a6af7bc2982f9...</td>\n",
       "      <td>2014-11-02 02:30:00+00:00</td>\n",
       "      <td>2014-11-02 02:30:00+00:00</td>\n",
       "      <td>0</td>\n",
       "      <td>0.0</td>\n",
       "      <td>NaN</td>\n",
       "      <td>NaN</td>\n",
       "      <td>NaN</td>\n",
       "      <td>NaN</td>\n",
       "      <td>...</td>\n",
       "      <td>0.0</td>\n",
       "      <td>16.14</td>\n",
       "      <td>Credit Card</td>\n",
       "      <td>Chicago Elite Cab Corp. (Chicago Carriag</td>\n",
       "      <td>NaN</td>\n",
       "      <td>NaN</td>\n",
       "      <td>None</td>\n",
       "      <td>NaN</td>\n",
       "      <td>NaN</td>\n",
       "      <td>None</td>\n",
       "    </tr>\n",
       "    <tr>\n",
       "      <th>3</th>\n",
       "      <td>e5983cc70ed90161180145340c52dfe9d10d1fdb</td>\n",
       "      <td>2509c81056c1e0cb62c7506298a354992d45550bba9fd0...</td>\n",
       "      <td>2014-11-20 13:15:00+00:00</td>\n",
       "      <td>2014-11-20 13:45:00+00:00</td>\n",
       "      <td>1920</td>\n",
       "      <td>12.4</td>\n",
       "      <td>1.703108e+10</td>\n",
       "      <td>1.703198e+10</td>\n",
       "      <td>8.0</td>\n",
       "      <td>56.0</td>\n",
       "      <td>...</td>\n",
       "      <td>3.0</td>\n",
       "      <td>37.25</td>\n",
       "      <td>Credit Card</td>\n",
       "      <td>Taxi Affiliation Services</td>\n",
       "      <td>41.892508</td>\n",
       "      <td>-87.626215</td>\n",
       "      <td>POINT (-87.6262149064 41.8925077809)</td>\n",
       "      <td>41.785999</td>\n",
       "      <td>-87.750934</td>\n",
       "      <td>POINT (-87.7509342894 41.785998518)</td>\n",
       "    </tr>\n",
       "    <tr>\n",
       "      <th>4</th>\n",
       "      <td>47cee9258b9b4acc51191761018d8d2d5f6115cd</td>\n",
       "      <td>4dd2c499779e1efe86d8e7484cbccafef02bac165c79e7...</td>\n",
       "      <td>2014-11-07 19:15:00+00:00</td>\n",
       "      <td>2014-11-07 19:15:00+00:00</td>\n",
       "      <td>420</td>\n",
       "      <td>0.0</td>\n",
       "      <td>1.703108e+10</td>\n",
       "      <td>1.703108e+10</td>\n",
       "      <td>8.0</td>\n",
       "      <td>8.0</td>\n",
       "      <td>...</td>\n",
       "      <td>0.0</td>\n",
       "      <td>6.05</td>\n",
       "      <td>Cash</td>\n",
       "      <td>Taxi Affiliation Services</td>\n",
       "      <td>41.895033</td>\n",
       "      <td>-87.619711</td>\n",
       "      <td>POINT (-87.6197106717 41.8950334495)</td>\n",
       "      <td>41.892042</td>\n",
       "      <td>-87.631864</td>\n",
       "      <td>POINT (-87.6318639497 41.8920421365)</td>\n",
       "    </tr>\n",
       "  </tbody>\n",
       "</table>\n",
       "<p>5 rows × 23 columns</p>\n",
       "</div>"
      ],
      "text/plain": [
       "                                 unique_key  \\\n",
       "0  0523e3d9d670b1730853950fa33f3ca42cfe9e35   \n",
       "1  89b7e0e6d6e3579fc2f00a430aabc3365c1a8043   \n",
       "2  33c8c13f8d630ac734672db3d50bc55d78a9c366   \n",
       "3  e5983cc70ed90161180145340c52dfe9d10d1fdb   \n",
       "4  47cee9258b9b4acc51191761018d8d2d5f6115cd   \n",
       "\n",
       "                                             taxi_id  \\\n",
       "0  7c3d71cce1e7d945d5d1736ff35a8f3c05669d8106df27...   \n",
       "1  c9945e7e18aa8663c2619baf25d0df8730793b96b5003f...   \n",
       "2  da4802fcc8e9eb10ee00b1212582430f9a6af7bc2982f9...   \n",
       "3  2509c81056c1e0cb62c7506298a354992d45550bba9fd0...   \n",
       "4  4dd2c499779e1efe86d8e7484cbccafef02bac165c79e7...   \n",
       "\n",
       "       trip_start_timestamp        trip_end_timestamp  trip_seconds  \\\n",
       "0 2014-11-03 16:00:00+00:00 2014-11-03 16:30:00+00:00          1920   \n",
       "1 2014-11-20 13:15:00+00:00 2014-11-20 13:45:00+00:00          2040   \n",
       "2 2014-11-02 02:30:00+00:00 2014-11-02 02:30:00+00:00             0   \n",
       "3 2014-11-20 13:15:00+00:00 2014-11-20 13:45:00+00:00          1920   \n",
       "4 2014-11-07 19:15:00+00:00 2014-11-07 19:15:00+00:00           420   \n",
       "\n",
       "   trip_miles  pickup_census_tract  dropoff_census_tract  \\\n",
       "0         0.6         1.703184e+10          1.703198e+10   \n",
       "1         0.0         1.703132e+10          1.703198e+10   \n",
       "2         0.0                  NaN                   NaN   \n",
       "3        12.4         1.703108e+10          1.703198e+10   \n",
       "4         0.0         1.703108e+10          1.703108e+10   \n",
       "\n",
       "   pickup_community_area  dropoff_community_area  ...  extras  trip_total  \\\n",
       "0                   32.0                    56.0  ...     3.0       28.05   \n",
       "1                   32.0                    76.0  ...     6.0       44.45   \n",
       "2                    NaN                     NaN  ...     0.0       16.14   \n",
       "3                    8.0                    56.0  ...     3.0       37.25   \n",
       "4                    8.0                     8.0  ...     0.0        6.05   \n",
       "\n",
       "   payment_type                                   company  pickup_latitude  \\\n",
       "0          Cash                 Taxi Affiliation Services        41.880994   \n",
       "1          Cash                 Dispatch Taxi Affiliation        41.884987   \n",
       "2   Credit Card  Chicago Elite Cab Corp. (Chicago Carriag              NaN   \n",
       "3   Credit Card                 Taxi Affiliation Services        41.892508   \n",
       "4          Cash                 Taxi Affiliation Services        41.895033   \n",
       "\n",
       "  pickup_longitude                       pickup_location  dropoff_latitude  \\\n",
       "0       -87.632746  POINT (-87.6327464887 41.8809944707)         41.785999   \n",
       "1       -87.620993  POINT (-87.6209929134 41.8849871918)         41.979071   \n",
       "2              NaN                                  None               NaN   \n",
       "3       -87.626215  POINT (-87.6262149064 41.8925077809)         41.785999   \n",
       "4       -87.619711  POINT (-87.6197106717 41.8950334495)         41.892042   \n",
       "\n",
       "   dropoff_longitude                      dropoff_location  \n",
       "0         -87.750934   POINT (-87.7509342894 41.785998518)  \n",
       "1         -87.903040  POINT (-87.9030396611 41.9790708201)  \n",
       "2                NaN                                  None  \n",
       "3         -87.750934   POINT (-87.7509342894 41.785998518)  \n",
       "4         -87.631864  POINT (-87.6318639497 41.8920421365)  \n",
       "\n",
       "[5 rows x 23 columns]"
      ]
     },
     "execution_count": 6,
     "metadata": {},
     "output_type": "execute_result"
    }
   ],
   "source": [
    "# Your code here\n",
    "table_ref = dataset_ref.table(table_name)\n",
    "table = client.get_table(table_ref)\n",
    "client.list_rows(table, max_results = 5).to_dataframe()"
   ]
  },
  {
   "cell_type": "markdown",
   "id": "599629d7",
   "metadata": {
    "papermill": {
     "duration": 0.008553,
     "end_time": "2023-03-10T13:04:01.618347",
     "exception": false,
     "start_time": "2023-03-10T13:04:01.609794",
     "status": "completed"
    },
    "tags": []
   },
   "source": [
    "After deciding whether you see any important issues, run the code cell below."
   ]
  },
  {
   "cell_type": "code",
   "execution_count": 7,
   "id": "e83e2db6",
   "metadata": {
    "execution": {
     "iopub.execute_input": "2023-03-10T13:04:01.636722Z",
     "iopub.status.busy": "2023-03-10T13:04:01.636302Z",
     "iopub.status.idle": "2023-03-10T13:04:01.646587Z",
     "shell.execute_reply": "2023-03-10T13:04:01.645299Z"
    },
    "papermill": {
     "duration": 0.022368,
     "end_time": "2023-03-10T13:04:01.648986",
     "exception": false,
     "start_time": "2023-03-10T13:04:01.626618",
     "status": "completed"
    },
    "tags": []
   },
   "outputs": [
    {
     "data": {
      "application/javascript": [
       "parent.postMessage({\"jupyterEvent\": \"custom.exercise_interaction\", \"data\": {\"interactionType\": 3, \"questionType\": 4, \"questionId\": \"2_WhatsWrongWithData\", \"learnToolsVersion\": \"0.3.4\", \"valueTowardsCompletion\": 0.0, \"failureMessage\": \"\", \"exceptionClass\": \"\", \"trace\": \"\", \"outcomeType\": 4}}, \"*\")"
      ],
      "text/plain": [
       "<IPython.core.display.Javascript object>"
      ]
     },
     "metadata": {},
     "output_type": "display_data"
    },
    {
     "data": {
      "text/markdown": [
       "<span style=\"color:#33cc99\">Solution:</span> \n",
       "You can see the data by calling: \n",
       "```python\n",
       "# Construct a reference to the \"taxi_trips\" table\n",
       "table_ref = dataset_ref.table(\"taxi_trips\")\n",
       "\n",
       "# API request - fetch the table\n",
       "table = client.get_table(table_ref)\n",
       "\n",
       "# Preview the first five lines of the \"taxi_trips\" table\n",
       "client.list_rows(table, max_results=5).to_dataframe()\n",
       "```\n",
       "\n",
       "Some location fields have values of `None` or `NaN`. That is a problem if we want to use those fields.\n"
      ],
      "text/plain": [
       "Solution: \n",
       "You can see the data by calling: \n",
       "```python\n",
       "# Construct a reference to the \"taxi_trips\" table\n",
       "table_ref = dataset_ref.table(\"taxi_trips\")\n",
       "\n",
       "# API request - fetch the table\n",
       "table = client.get_table(table_ref)\n",
       "\n",
       "# Preview the first five lines of the \"taxi_trips\" table\n",
       "client.list_rows(table, max_results=5).to_dataframe()\n",
       "```\n",
       "\n",
       "Some location fields have values of `None` or `NaN`. That is a problem if we want to use those fields."
      ]
     },
     "metadata": {},
     "output_type": "display_data"
    }
   ],
   "source": [
    "# Check your answer (Run this code cell to receive credit!)\n",
    "q_2.solution()"
   ]
  },
  {
   "cell_type": "markdown",
   "id": "4e792541",
   "metadata": {
    "papermill": {
     "duration": 0.008053,
     "end_time": "2023-03-10T13:04:01.665477",
     "exception": false,
     "start_time": "2023-03-10T13:04:01.657424",
     "status": "completed"
    },
    "tags": []
   },
   "source": [
    "### 3) Determine when this data is from\n",
    "\n",
    "If the data is sufficiently old, we might be careful before assuming the data is still relevant to traffic patterns today. Write a query that counts the number of trips in each year.  \n",
    "\n",
    "Your results should have two columns:\n",
    "- `year` - the year of the trips\n",
    "- `num_trips` - the number of trips in that year\n",
    "\n",
    "Hints:\n",
    "- When using **GROUP BY** and **ORDER BY**, you should refer to the columns by the alias `year` that you set at the top of the **SELECT** query.\n",
    "- The SQL code to **SELECT** the year from `trip_start_timestamp` is <code>SELECT EXTRACT(YEAR FROM trip_start_timestamp)</code>\n",
    "- The **FROM** field can be a little tricky until you are used to it.  The format is:\n",
    "    1. A backick (the symbol \\`).\n",
    "    2. The project name. In this case it is `bigquery-public-data`.\n",
    "    3. A period.\n",
    "    4. The dataset name. In this case, it is `chicago_taxi_trips`.\n",
    "    5. A period.\n",
    "    6. The table name. You used this as your answer in **1) Find the data**.\n",
    "    7. A backtick (the symbol \\`)."
   ]
  },
  {
   "cell_type": "code",
   "execution_count": 8,
   "id": "66536b17",
   "metadata": {
    "execution": {
     "iopub.execute_input": "2023-03-10T13:04:01.685115Z",
     "iopub.status.busy": "2023-03-10T13:04:01.683791Z",
     "iopub.status.idle": "2023-03-10T13:04:02.827378Z",
     "shell.execute_reply": "2023-03-10T13:04:02.825915Z"
    },
    "papermill": {
     "duration": 1.156232,
     "end_time": "2023-03-10T13:04:02.830125",
     "exception": false,
     "start_time": "2023-03-10T13:04:01.673893",
     "status": "completed"
    },
    "tags": []
   },
   "outputs": [
    {
     "name": "stderr",
     "output_type": "stream",
     "text": [
      "/opt/conda/lib/python3.7/site-packages/google/cloud/bigquery/client.py:440: UserWarning: Cannot create BigQuery Storage client, the dependency google-cloud-bigquery-storage is not installed.\n",
      "  \"Cannot create BigQuery Storage client, the dependency \"\n"
     ]
    },
    {
     "name": "stdout",
     "output_type": "stream",
     "text": [
      "      year  num_trips\n",
      "0      NaN          1\n",
      "1   2013.0   10623653\n",
      "2   2014.0   20695122\n",
      "3   2015.0   18304557\n",
      "4   2016.0    3781729\n",
      "5   2017.0     676343\n",
      "6   2018.0     336980\n",
      "7   2019.0     225194\n",
      "8   2020.0     955104\n",
      "9   2021.0      85137\n",
      "10  2022.0    3723914\n"
     ]
    },
    {
     "data": {
      "application/javascript": [
       "parent.postMessage({\"jupyterEvent\": \"custom.exercise_interaction\", \"data\": {\"outcomeType\": 1, \"valueTowardsCompletion\": 0.16666666666666666, \"interactionType\": 1, \"questionType\": 2, \"questionId\": \"3_YearDistrib\", \"learnToolsVersion\": \"0.3.4\", \"failureMessage\": \"\", \"exceptionClass\": \"\", \"trace\": \"\"}}, \"*\")"
      ],
      "text/plain": [
       "<IPython.core.display.Javascript object>"
      ]
     },
     "metadata": {},
     "output_type": "display_data"
    },
    {
     "data": {
      "text/markdown": [
       "<span style=\"color:#33cc33\">Correct</span>"
      ],
      "text/plain": [
       "Correct"
      ]
     },
     "metadata": {},
     "output_type": "display_data"
    }
   ],
   "source": [
    "# Your code goes here\n",
    "rides_per_year_query =\"\"\"\n",
    "                       SELECT EXTRACT(YEAR FROM trip_start_timestamp) AS year, \n",
    "                              COUNT(1) AS num_trips\n",
    "FROM `bigquery-public-data.chicago_taxi_trips.taxi_trips`\n",
    "GROUP BY year\n",
    "ORDER BY year\n",
    "\"\"\"\n",
    "\n",
    "# Set up the query (cancel the query if it would use too much of \n",
    "# your quota)\n",
    "safe_config = bigquery.QueryJobConfig(maximum_bytes_billed=10**10)\n",
    "rides_per_year_query_job = client.query(rides_per_year_query, job_config=safe_config) # Your code goes here\n",
    "\n",
    "# API request - run the query, and return a pandas DataFrame\n",
    "rides_per_year_result = rides_per_year_query_job.to_dataframe() # Your code goes here\n",
    "\n",
    "\n",
    "# View results\n",
    "print(rides_per_year_result)\n",
    "\n",
    "# Check your answer\n",
    "q_3.check()"
   ]
  },
  {
   "cell_type": "markdown",
   "id": "e14fafdf",
   "metadata": {
    "papermill": {
     "duration": 0.009385,
     "end_time": "2023-03-10T13:04:02.848436",
     "exception": false,
     "start_time": "2023-03-10T13:04:02.839051",
     "status": "completed"
    },
    "tags": []
   },
   "source": [
    "For a hint or the solution, uncomment the appropriate line below."
   ]
  },
  {
   "cell_type": "code",
   "execution_count": 9,
   "id": "c6233f27",
   "metadata": {
    "execution": {
     "iopub.execute_input": "2023-03-10T13:04:02.870269Z",
     "iopub.status.busy": "2023-03-10T13:04:02.869516Z",
     "iopub.status.idle": "2023-03-10T13:04:02.881130Z",
     "shell.execute_reply": "2023-03-10T13:04:02.879723Z"
    },
    "papermill": {
     "duration": 0.026382,
     "end_time": "2023-03-10T13:04:02.883729",
     "exception": false,
     "start_time": "2023-03-10T13:04:02.857347",
     "status": "completed"
    },
    "tags": []
   },
   "outputs": [
    {
     "data": {
      "application/javascript": [
       "parent.postMessage({\"jupyterEvent\": \"custom.exercise_interaction\", \"data\": {\"interactionType\": 3, \"questionType\": 2, \"questionId\": \"3_YearDistrib\", \"learnToolsVersion\": \"0.3.4\", \"valueTowardsCompletion\": 0.0, \"failureMessage\": \"\", \"exceptionClass\": \"\", \"trace\": \"\", \"outcomeType\": 4}}, \"*\")"
      ],
      "text/plain": [
       "<IPython.core.display.Javascript object>"
      ]
     },
     "metadata": {},
     "output_type": "display_data"
    },
    {
     "data": {
      "text/markdown": [
       "<span style=\"color:#33cc99\">Solution:</span> \n",
       "```python\n",
       "\n",
       "rides_per_year_query = \"\"\"\n",
       "                       SELECT EXTRACT(YEAR FROM trip_start_timestamp) AS year, \n",
       "                              COUNT(1) AS num_trips\n",
       "                       FROM `bigquery-public-data.chicago_taxi_trips.taxi_trips`\n",
       "                       GROUP BY year\n",
       "                       ORDER BY year\n",
       "                       \"\"\"\n",
       "\n",
       "# Set up the query (cancel the query if it would use too much of \n",
       "# your quota)\n",
       "safe_config = bigquery.QueryJobConfig(maximum_bytes_billed=10**10)\n",
       "rides_per_year_query_job = client.query(rides_per_year_query, job_config=safe_config)\n",
       "\n",
       "# API request - run the query, and return a pandas DataFrame\n",
       "rides_per_year_result = rides_per_year_query_job.to_dataframe()\n",
       "\n",
       "```"
      ],
      "text/plain": [
       "Solution: \n",
       "```python\n",
       "\n",
       "rides_per_year_query = \"\"\"\n",
       "                       SELECT EXTRACT(YEAR FROM trip_start_timestamp) AS year, \n",
       "                              COUNT(1) AS num_trips\n",
       "                       FROM `bigquery-public-data.chicago_taxi_trips.taxi_trips`\n",
       "                       GROUP BY year\n",
       "                       ORDER BY year\n",
       "                       \"\"\"\n",
       "\n",
       "# Set up the query (cancel the query if it would use too much of \n",
       "# your quota)\n",
       "safe_config = bigquery.QueryJobConfig(maximum_bytes_billed=10**10)\n",
       "rides_per_year_query_job = client.query(rides_per_year_query, job_config=safe_config)\n",
       "\n",
       "# API request - run the query, and return a pandas DataFrame\n",
       "rides_per_year_result = rides_per_year_query_job.to_dataframe()\n",
       "\n",
       "```"
      ]
     },
     "metadata": {},
     "output_type": "display_data"
    }
   ],
   "source": [
    "#q_3.hint()\n",
    "q_3.solution()"
   ]
  },
  {
   "cell_type": "markdown",
   "id": "05fc89bd",
   "metadata": {
    "papermill": {
     "duration": 0.00977,
     "end_time": "2023-03-10T13:04:02.902698",
     "exception": false,
     "start_time": "2023-03-10T13:04:02.892928",
     "status": "completed"
    },
    "tags": []
   },
   "source": [
    "### 4) Dive slightly deeper\n",
    "\n",
    "You'd like to take a closer look at rides from 2016.  Copy the query you used above in `rides_per_year_query` into the cell below for `rides_per_month_query`.  Then modify it in two ways:\n",
    "1. Use a **WHERE** clause to limit the query to data from 2016.\n",
    "2. Modify the query to extract the month rather than the year."
   ]
  },
  {
   "cell_type": "code",
   "execution_count": 10,
   "id": "2b10b735",
   "metadata": {
    "execution": {
     "iopub.execute_input": "2023-03-10T13:04:02.923442Z",
     "iopub.status.busy": "2023-03-10T13:04:02.923024Z",
     "iopub.status.idle": "2023-03-10T13:04:02.936368Z",
     "shell.execute_reply": "2023-03-10T13:04:02.934395Z"
    },
    "papermill": {
     "duration": 0.026921,
     "end_time": "2023-03-10T13:04:02.939236",
     "exception": false,
     "start_time": "2023-03-10T13:04:02.912315",
     "status": "completed"
    },
    "tags": []
   },
   "outputs": [
    {
     "name": "stdout",
     "output_type": "stream",
     "text": [
      "<learntools.core.constants.PlaceholderValue object at 0x7fe475fb0650>\n"
     ]
    },
    {
     "data": {
      "application/javascript": [
       "parent.postMessage({\"jupyterEvent\": \"custom.exercise_interaction\", \"data\": {\"outcomeType\": 4, \"interactionType\": 1, \"questionType\": 2, \"questionId\": \"4_MonthDistrib\", \"learnToolsVersion\": \"0.3.4\", \"valueTowardsCompletion\": 0.0, \"failureMessage\": \"\", \"exceptionClass\": \"\", \"trace\": \"\"}}, \"*\")"
      ],
      "text/plain": [
       "<IPython.core.display.Javascript object>"
      ]
     },
     "metadata": {},
     "output_type": "display_data"
    },
    {
     "data": {
      "text/markdown": [
       "<span style=\"color:#ccaa33\">Check:</span> When you've updated the starter code, `check()` will tell you whether your code is correct. You need to update the code that creates variable `rides_per_month_result`"
      ],
      "text/plain": [
       "Check: When you've updated the starter code, `check()` will tell you whether your code is correct. You need to update the code that creates variable `rides_per_month_result`"
      ]
     },
     "metadata": {},
     "output_type": "display_data"
    }
   ],
   "source": [
    "# Your code goes here\n",
    "rides_per_month_query = \"\"\"____\"\"\" \n",
    "\n",
    "# Set up the query\n",
    "safe_config = bigquery.QueryJobConfig(maximum_bytes_billed=10**10)\n",
    "rides_per_month_query_job = ____ # Your code goes here\n",
    "\n",
    "# API request - run the query, and return a pandas DataFrame\n",
    "rides_per_month_result = ____ # Your code goes here\n",
    "\n",
    "# View results\n",
    "print(rides_per_month_result)\n",
    "\n",
    "# Check your answer\n",
    "q_4.check()"
   ]
  },
  {
   "cell_type": "markdown",
   "id": "ddcb21ee",
   "metadata": {
    "papermill": {
     "duration": 0.009136,
     "end_time": "2023-03-10T13:04:02.960289",
     "exception": false,
     "start_time": "2023-03-10T13:04:02.951153",
     "status": "completed"
    },
    "tags": []
   },
   "source": [
    "For a hint or the solution, uncomment the appropriate line below."
   ]
  },
  {
   "cell_type": "code",
   "execution_count": 11,
   "id": "958dc70d",
   "metadata": {
    "execution": {
     "iopub.execute_input": "2023-03-10T13:04:02.981140Z",
     "iopub.status.busy": "2023-03-10T13:04:02.980687Z",
     "iopub.status.idle": "2023-03-10T13:04:02.985476Z",
     "shell.execute_reply": "2023-03-10T13:04:02.984206Z"
    },
    "papermill": {
     "duration": 0.018164,
     "end_time": "2023-03-10T13:04:02.987858",
     "exception": false,
     "start_time": "2023-03-10T13:04:02.969694",
     "status": "completed"
    },
    "tags": []
   },
   "outputs": [],
   "source": [
    "#q_4.hint()\n",
    "#q_4.solution()"
   ]
  },
  {
   "cell_type": "markdown",
   "id": "4dee2645",
   "metadata": {
    "papermill": {
     "duration": 0.009052,
     "end_time": "2023-03-10T13:04:03.006350",
     "exception": false,
     "start_time": "2023-03-10T13:04:02.997298",
     "status": "completed"
    },
    "tags": []
   },
   "source": [
    "### 5) Write the query\n",
    "\n",
    "It's time to step up the sophistication of your queries.  Write a query that shows, for each hour of the day in the dataset, the corresponding number of trips and average speed.\n",
    "\n",
    "Your results should have three columns:\n",
    "- `hour_of_day` - sort by this column, which holds the result of extracting the hour from `trip_start_timestamp`.\n",
    "- `num_trips` - the count of the total number of trips in each hour of the day (e.g. how many trips were started between 6AM and 7AM, independent of which day it occurred on).\n",
    "- `avg_mph` - the average speed, measured in miles per hour, for trips that started in that hour of the day.  Average speed in miles per hour is calculated as `3600 * SUM(trip_miles) / SUM(trip_seconds)`. (The value 3600 is used to convert from seconds to hours.)\n",
    "\n",
    "Restrict your query to data meeting the following criteria:\n",
    "- a `trip_start_timestamp` > **2016-01-01** and < **2016-04-01**\n",
    "- `trip_seconds` > 0 and `trip_miles` > 0\n",
    "\n",
    "You will use a common table expression (CTE) to select just the relevant rides.  Because this dataset is very big, this CTE should select only the columns you'll need to create the final output (though you won't actually create those in the CTE -- instead you'll create those in the later **SELECT** statement below the CTE).\n",
    "\n",
    "This is a much harder query than anything you've written so far.  Good luck!"
   ]
  },
  {
   "cell_type": "code",
   "execution_count": 12,
   "id": "c6cc323d",
   "metadata": {
    "execution": {
     "iopub.execute_input": "2023-03-10T13:04:03.027621Z",
     "iopub.status.busy": "2023-03-10T13:04:03.027178Z",
     "iopub.status.idle": "2023-03-10T13:04:03.039375Z",
     "shell.execute_reply": "2023-03-10T13:04:03.038162Z"
    },
    "papermill": {
     "duration": 0.025821,
     "end_time": "2023-03-10T13:04:03.041738",
     "exception": false,
     "start_time": "2023-03-10T13:04:03.015917",
     "status": "completed"
    },
    "tags": []
   },
   "outputs": [
    {
     "name": "stdout",
     "output_type": "stream",
     "text": [
      "<learntools.core.constants.PlaceholderValue object at 0x7fe475fb0650>\n"
     ]
    },
    {
     "data": {
      "application/javascript": [
       "parent.postMessage({\"jupyterEvent\": \"custom.exercise_interaction\", \"data\": {\"outcomeType\": 4, \"interactionType\": 1, \"questionType\": 2, \"questionId\": \"5_TheLongQuery\", \"learnToolsVersion\": \"0.3.4\", \"valueTowardsCompletion\": 0.0, \"failureMessage\": \"\", \"exceptionClass\": \"\", \"trace\": \"\"}}, \"*\")"
      ],
      "text/plain": [
       "<IPython.core.display.Javascript object>"
      ]
     },
     "metadata": {},
     "output_type": "display_data"
    },
    {
     "data": {
      "text/markdown": [
       "<span style=\"color:#ccaa33\">Check:</span> When you've updated the starter code, `check()` will tell you whether your code is correct. You need to update the code that creates variable `speeds_result`"
      ],
      "text/plain": [
       "Check: When you've updated the starter code, `check()` will tell you whether your code is correct. You need to update the code that creates variable `speeds_result`"
      ]
     },
     "metadata": {},
     "output_type": "display_data"
    }
   ],
   "source": [
    "# Your code goes here\n",
    "speeds_query = \"\"\"\n",
    "               WITH RelevantRides AS\n",
    "               (\n",
    "                   SELECT ____\n",
    "                   FROM ____\n",
    "                   WHERE ____\n",
    "               )\n",
    "               SELECT ______\n",
    "               FROM RelevantRides\n",
    "               GROUP BY ____\n",
    "               ORDER BY ____\n",
    "               \"\"\"\n",
    "\n",
    "# Set up the query\n",
    "safe_config = bigquery.QueryJobConfig(maximum_bytes_billed=10**10)\n",
    "speeds_query_job = ____ # Your code here\n",
    "\n",
    "# API request - run the query, and return a pandas DataFrame\n",
    "speeds_result = ____ # Your code here\n",
    "\n",
    "# View results\n",
    "print(speeds_result)\n",
    "\n",
    "# Check your answer\n",
    "q_5.check()"
   ]
  },
  {
   "cell_type": "markdown",
   "id": "e569ab05",
   "metadata": {
    "papermill": {
     "duration": 0.009699,
     "end_time": "2023-03-10T13:04:03.061330",
     "exception": false,
     "start_time": "2023-03-10T13:04:03.051631",
     "status": "completed"
    },
    "tags": []
   },
   "source": [
    "For the solution, uncomment the appropriate line below."
   ]
  },
  {
   "cell_type": "code",
   "execution_count": 13,
   "id": "5f0a7ad9",
   "metadata": {
    "execution": {
     "iopub.execute_input": "2023-03-10T13:04:03.082806Z",
     "iopub.status.busy": "2023-03-10T13:04:03.082352Z",
     "iopub.status.idle": "2023-03-10T13:04:03.087616Z",
     "shell.execute_reply": "2023-03-10T13:04:03.086381Z"
    },
    "papermill": {
     "duration": 0.019,
     "end_time": "2023-03-10T13:04:03.090189",
     "exception": false,
     "start_time": "2023-03-10T13:04:03.071189",
     "status": "completed"
    },
    "tags": []
   },
   "outputs": [],
   "source": [
    "#q_5.solution()"
   ]
  },
  {
   "cell_type": "markdown",
   "id": "77c8c09b",
   "metadata": {
    "papermill": {
     "duration": 0.009673,
     "end_time": "2023-03-10T13:04:03.110024",
     "exception": false,
     "start_time": "2023-03-10T13:04:03.100351",
     "status": "completed"
    },
    "tags": []
   },
   "source": [
    "That's a hard query. If you made good progress towards the solution, congratulations!"
   ]
  },
  {
   "cell_type": "markdown",
   "id": "0e784cf9",
   "metadata": {
    "papermill": {
     "duration": 0.009589,
     "end_time": "2023-03-10T13:04:03.129483",
     "exception": false,
     "start_time": "2023-03-10T13:04:03.119894",
     "status": "completed"
    },
    "tags": []
   },
   "source": [
    "# Keep going\n",
    "\n",
    "You can write very complex queries now with a single data source. But nothing expands the horizons of SQL as much as the ability to combine or **JOIN** tables.\n",
    "\n",
    "**[Click here](https://www.kaggle.com/dansbecker/joining-data)** to start the last lesson in the Intro to SQL course."
   ]
  },
  {
   "cell_type": "markdown",
   "id": "79dd6cbc",
   "metadata": {
    "papermill": {
     "duration": 0.010291,
     "end_time": "2023-03-10T13:04:03.149968",
     "exception": false,
     "start_time": "2023-03-10T13:04:03.139677",
     "status": "completed"
    },
    "tags": []
   },
   "source": [
    "---\n",
    "\n",
    "\n",
    "\n",
    "\n",
    "*Have questions or comments? Visit the [course discussion forum](https://www.kaggle.com/learn/intro-to-sql/discussion) to chat with other learners.*"
   ]
  }
 ],
 "metadata": {
  "kernelspec": {
   "display_name": "Python 3",
   "language": "python",
   "name": "python3"
  },
  "language_info": {
   "codemirror_mode": {
    "name": "ipython",
    "version": 3
   },
   "file_extension": ".py",
   "mimetype": "text/x-python",
   "name": "python",
   "nbconvert_exporter": "python",
   "pygments_lexer": "ipython3",
   "version": "3.7.12"
  },
  "papermill": {
   "default_parameters": {},
   "duration": 38.855724,
   "end_time": "2023-03-10T13:04:03.882520",
   "environment_variables": {},
   "exception": null,
   "input_path": "__notebook__.ipynb",
   "output_path": "__notebook__.ipynb",
   "parameters": {},
   "start_time": "2023-03-10T13:03:25.026796",
   "version": "2.4.0"
  }
 },
 "nbformat": 4,
 "nbformat_minor": 5
}
