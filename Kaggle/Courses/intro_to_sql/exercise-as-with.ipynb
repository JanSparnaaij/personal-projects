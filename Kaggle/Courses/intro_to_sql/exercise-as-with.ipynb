{
 "cells": [
  {
   "cell_type": "markdown",
   "id": "10fe4cdb",
   "metadata": {
    "papermill": {
     "duration": 0.00582,
     "end_time": "2023-03-10T12:35:07.938129",
     "exception": false,
     "start_time": "2023-03-10T12:35:07.932309",
     "status": "completed"
    },
    "tags": []
   },
   "source": [
    "**This notebook is an exercise in the [SQL](https://www.kaggle.com/learn/intro-to-sql) course.  You can reference the tutorial at [this link](https://www.kaggle.com/dansbecker/as-with).**\n",
    "\n",
    "---\n"
   ]
  },
  {
   "cell_type": "markdown",
   "id": "2ee24bfb",
   "metadata": {
    "papermill": {
     "duration": 0.004581,
     "end_time": "2023-03-10T12:35:07.947670",
     "exception": false,
     "start_time": "2023-03-10T12:35:07.943089",
     "status": "completed"
    },
    "tags": []
   },
   "source": [
    "# Introduction\n",
    "\n",
    "You are getting to the point where you can own an analysis from beginning to end. So you'll do more data exploration in this exercise than you've done before.  Before you get started, run the following set-up code as usual. "
   ]
  },
  {
   "cell_type": "code",
   "execution_count": 1,
   "id": "8201dcb4",
   "metadata": {
    "execution": {
     "iopub.execute_input": "2023-03-10T12:35:07.958927Z",
     "iopub.status.busy": "2023-03-10T12:35:07.958533Z",
     "iopub.status.idle": "2023-03-10T12:35:25.927353Z",
     "shell.execute_reply": "2023-03-10T12:35:25.926402Z"
    },
    "papermill": {
     "duration": 17.978522,
     "end_time": "2023-03-10T12:35:25.931035",
     "exception": false,
     "start_time": "2023-03-10T12:35:07.952513",
     "status": "completed"
    },
    "tags": []
   },
   "outputs": [
    {
     "name": "stdout",
     "output_type": "stream",
     "text": [
      "Collecting git+https://github.com/Kaggle/learntools.git\r\n",
      "  Cloning https://github.com/Kaggle/learntools.git to /tmp/pip-req-build-vwhqo33v\r\n",
      "  Running command git clone --filter=blob:none --quiet https://github.com/Kaggle/learntools.git /tmp/pip-req-build-vwhqo33v\r\n",
      "  Resolved https://github.com/Kaggle/learntools.git to commit 9750c602dbc2f78b9182e68b5ae6edfda9e30c3b\r\n",
      "  Preparing metadata (setup.py) ... \u001b[?25l-\b \bdone\r\n",
      "\u001b[?25hBuilding wheels for collected packages: learntools\r\n",
      "  Building wheel for learntools (setup.py) ... \u001b[?25l-\b \b\\\b \b|\b \bdone\r\n",
      "\u001b[?25h  Created wheel for learntools: filename=learntools-0.3.4-py3-none-any.whl size=268926 sha256=25191ef4f654e4305373dbb3850f4bfec0990ff813bb6380871a83c69890e426\r\n",
      "  Stored in directory: /tmp/pip-ephem-wheel-cache-6w84s_5l/wheels/dd/d7/6b/0fc758f52767fd281d6dceded6757c6cb5bb90ccd2dbb1de9f\r\n",
      "Successfully built learntools\r\n",
      "Installing collected packages: learntools\r\n",
      "Successfully installed learntools-0.3.4\r\n",
      "\u001b[33mWARNING: Running pip as the 'root' user can result in broken permissions and conflicting behaviour with the system package manager. It is recommended to use a virtual environment instead: https://pip.pypa.io/warnings/venv\u001b[0m\u001b[33m\r\n",
      "\u001b[0mUsing Kaggle's public dataset BigQuery integration.\n"
     ]
    },
    {
     "name": "stderr",
     "output_type": "stream",
     "text": [
      "/opt/conda/lib/python3.7/site-packages/google/cloud/bigquery/client.py:440: UserWarning: Cannot create BigQuery Storage client, the dependency google-cloud-bigquery-storage is not installed.\n",
      "  \"Cannot create BigQuery Storage client, the dependency \"\n"
     ]
    },
    {
     "name": "stdout",
     "output_type": "stream",
     "text": [
      "Setup Complete\n"
     ]
    }
   ],
   "source": [
    "# Get most recent checking code\n",
    "!pip install -U -t /kaggle/working/ git+https://github.com/Kaggle/learntools.git\n",
    "# Set up feedback system\n",
    "from learntools.core import binder\n",
    "binder.bind(globals())\n",
    "from learntools.sql.ex5 import *\n",
    "print(\"Setup Complete\")"
   ]
  },
  {
   "cell_type": "markdown",
   "id": "913d6575",
   "metadata": {
    "papermill": {
     "duration": 0.00619,
     "end_time": "2023-03-10T12:35:25.943425",
     "exception": false,
     "start_time": "2023-03-10T12:35:25.937235",
     "status": "completed"
    },
    "tags": []
   },
   "source": [
    "You'll work with a dataset about taxi trips in the city of Chicago. Run the cell below to fetch the `chicago_taxi_trips` dataset."
   ]
  },
  {
   "cell_type": "code",
   "execution_count": 2,
   "id": "6c4b8cc5",
   "metadata": {
    "execution": {
     "iopub.execute_input": "2023-03-10T12:35:25.957517Z",
     "iopub.status.busy": "2023-03-10T12:35:25.957136Z",
     "iopub.status.idle": "2023-03-10T12:35:26.244465Z",
     "shell.execute_reply": "2023-03-10T12:35:26.242847Z"
    },
    "papermill": {
     "duration": 0.297941,
     "end_time": "2023-03-10T12:35:26.247443",
     "exception": false,
     "start_time": "2023-03-10T12:35:25.949502",
     "status": "completed"
    },
    "tags": []
   },
   "outputs": [
    {
     "name": "stdout",
     "output_type": "stream",
     "text": [
      "Using Kaggle's public dataset BigQuery integration.\n"
     ]
    }
   ],
   "source": [
    "from google.cloud import bigquery\n",
    "\n",
    "# Create a \"Client\" object\n",
    "client = bigquery.Client()\n",
    "\n",
    "# Construct a reference to the \"chicago_taxi_trips\" dataset\n",
    "dataset_ref = client.dataset(\"chicago_taxi_trips\", project=\"bigquery-public-data\")\n",
    "\n",
    "# API request - fetch the dataset\n",
    "dataset = client.get_dataset(dataset_ref)"
   ]
  },
  {
   "cell_type": "markdown",
   "id": "4c2d423f",
   "metadata": {
    "papermill": {
     "duration": 0.005911,
     "end_time": "2023-03-10T12:35:26.259566",
     "exception": false,
     "start_time": "2023-03-10T12:35:26.253655",
     "status": "completed"
    },
    "tags": []
   },
   "source": [
    "# Exercises\n",
    "\n",
    "You are curious how much slower traffic moves when traffic volume is high. This involves a few steps.\n",
    "\n",
    "### 1) Find the data\n",
    "Before you can access the data, you need to find the table name with the data.\n",
    "\n",
    "*Hint*: Tab completion is helpful whenever you can't remember a command. Type `client.` and then hit the tab key. Don't forget the period before hitting tab."
   ]
  },
  {
   "cell_type": "code",
   "execution_count": 3,
   "id": "763ad8b9",
   "metadata": {
    "execution": {
     "iopub.execute_input": "2023-03-10T12:35:26.273944Z",
     "iopub.status.busy": "2023-03-10T12:35:26.273503Z",
     "iopub.status.idle": "2023-03-10T12:35:26.279900Z",
     "shell.execute_reply": "2023-03-10T12:35:26.278096Z"
    },
    "papermill": {
     "duration": 0.01626,
     "end_time": "2023-03-10T12:35:26.282270",
     "exception": false,
     "start_time": "2023-03-10T12:35:26.266010",
     "status": "completed"
    },
    "tags": []
   },
   "outputs": [],
   "source": [
    "# Your code here to find the table name"
   ]
  },
  {
   "cell_type": "code",
   "execution_count": 4,
   "id": "8b067505",
   "metadata": {
    "execution": {
     "iopub.execute_input": "2023-03-10T12:35:26.296420Z",
     "iopub.status.busy": "2023-03-10T12:35:26.296034Z",
     "iopub.status.idle": "2023-03-10T12:35:26.306344Z",
     "shell.execute_reply": "2023-03-10T12:35:26.305256Z"
    },
    "papermill": {
     "duration": 0.019865,
     "end_time": "2023-03-10T12:35:26.308321",
     "exception": false,
     "start_time": "2023-03-10T12:35:26.288456",
     "status": "completed"
    },
    "tags": []
   },
   "outputs": [
    {
     "data": {
      "application/javascript": [
       "parent.postMessage({\"jupyterEvent\": \"custom.exercise_interaction\", \"data\": {\"outcomeType\": 4, \"interactionType\": 1, \"questionType\": 1, \"questionId\": \"1_GetTableName\", \"learnToolsVersion\": \"0.3.4\", \"valueTowardsCompletion\": 0.0, \"failureMessage\": \"\", \"exceptionClass\": \"\", \"trace\": \"\"}}, \"*\")"
      ],
      "text/plain": [
       "<IPython.core.display.Javascript object>"
      ]
     },
     "metadata": {},
     "output_type": "display_data"
    },
    {
     "data": {
      "text/markdown": [
       "<span style=\"color:#ccaa33\">Check:</span> When you've updated the starter code, `check()` will tell you whether your code is correct. You need to update the code that creates variable `table_name`"
      ],
      "text/plain": [
       "Check: When you've updated the starter code, `check()` will tell you whether your code is correct. You need to update the code that creates variable `table_name`"
      ]
     },
     "metadata": {},
     "output_type": "display_data"
    }
   ],
   "source": [
    "# Write the table name as a string below\n",
    "table_name = ____\n",
    "\n",
    "# Check your answer\n",
    "q_1.check()"
   ]
  },
  {
   "cell_type": "markdown",
   "id": "dfa0f799",
   "metadata": {
    "papermill": {
     "duration": 0.006256,
     "end_time": "2023-03-10T12:35:26.321124",
     "exception": false,
     "start_time": "2023-03-10T12:35:26.314868",
     "status": "completed"
    },
    "tags": []
   },
   "source": [
    "For the solution, uncomment the line below."
   ]
  },
  {
   "cell_type": "code",
   "execution_count": 5,
   "id": "b8d89799",
   "metadata": {
    "execution": {
     "iopub.execute_input": "2023-03-10T12:35:26.335843Z",
     "iopub.status.busy": "2023-03-10T12:35:26.335406Z",
     "iopub.status.idle": "2023-03-10T12:35:26.341350Z",
     "shell.execute_reply": "2023-03-10T12:35:26.339564Z"
    },
    "papermill": {
     "duration": 0.016935,
     "end_time": "2023-03-10T12:35:26.344378",
     "exception": false,
     "start_time": "2023-03-10T12:35:26.327443",
     "status": "completed"
    },
    "tags": []
   },
   "outputs": [],
   "source": [
    "#q_1.solution()"
   ]
  },
  {
   "cell_type": "markdown",
   "id": "ff9e76d8",
   "metadata": {
    "papermill": {
     "duration": 0.006329,
     "end_time": "2023-03-10T12:35:26.358398",
     "exception": false,
     "start_time": "2023-03-10T12:35:26.352069",
     "status": "completed"
    },
    "tags": []
   },
   "source": [
    "### 2) Peek at the data\n",
    "\n",
    "Use the next code cell to peek at the top few rows of the data. Inspect the data and see if any issues with data quality are immediately obvious. "
   ]
  },
  {
   "cell_type": "code",
   "execution_count": 6,
   "id": "cf7e3eea",
   "metadata": {
    "execution": {
     "iopub.execute_input": "2023-03-10T12:35:26.373355Z",
     "iopub.status.busy": "2023-03-10T12:35:26.372985Z",
     "iopub.status.idle": "2023-03-10T12:35:26.377949Z",
     "shell.execute_reply": "2023-03-10T12:35:26.376632Z"
    },
    "papermill": {
     "duration": 0.015623,
     "end_time": "2023-03-10T12:35:26.380588",
     "exception": false,
     "start_time": "2023-03-10T12:35:26.364965",
     "status": "completed"
    },
    "tags": []
   },
   "outputs": [],
   "source": [
    "# Your code here"
   ]
  },
  {
   "cell_type": "markdown",
   "id": "370bc38a",
   "metadata": {
    "papermill": {
     "duration": 0.006129,
     "end_time": "2023-03-10T12:35:26.393327",
     "exception": false,
     "start_time": "2023-03-10T12:35:26.387198",
     "status": "completed"
    },
    "tags": []
   },
   "source": [
    "After deciding whether you see any important issues, run the code cell below."
   ]
  },
  {
   "cell_type": "code",
   "execution_count": 7,
   "id": "5dc667b0",
   "metadata": {
    "execution": {
     "iopub.execute_input": "2023-03-10T12:35:26.407950Z",
     "iopub.status.busy": "2023-03-10T12:35:26.407585Z",
     "iopub.status.idle": "2023-03-10T12:35:26.415212Z",
     "shell.execute_reply": "2023-03-10T12:35:26.413631Z"
    },
    "papermill": {
     "duration": 0.018447,
     "end_time": "2023-03-10T12:35:26.418103",
     "exception": false,
     "start_time": "2023-03-10T12:35:26.399656",
     "status": "completed"
    },
    "tags": []
   },
   "outputs": [
    {
     "data": {
      "application/javascript": [
       "parent.postMessage({\"jupyterEvent\": \"custom.exercise_interaction\", \"data\": {\"interactionType\": 3, \"questionType\": 4, \"questionId\": \"2_WhatsWrongWithData\", \"learnToolsVersion\": \"0.3.4\", \"valueTowardsCompletion\": 0.0, \"failureMessage\": \"\", \"exceptionClass\": \"\", \"trace\": \"\", \"outcomeType\": 4}}, \"*\")"
      ],
      "text/plain": [
       "<IPython.core.display.Javascript object>"
      ]
     },
     "metadata": {},
     "output_type": "display_data"
    },
    {
     "data": {
      "text/markdown": [
       "<span style=\"color:#33cc99\">Solution:</span> \n",
       "You can see the data by calling: \n",
       "```python\n",
       "# Construct a reference to the \"taxi_trips\" table\n",
       "table_ref = dataset_ref.table(\"taxi_trips\")\n",
       "\n",
       "# API request - fetch the table\n",
       "table = client.get_table(table_ref)\n",
       "\n",
       "# Preview the first five lines of the \"taxi_trips\" table\n",
       "client.list_rows(table, max_results=5).to_dataframe()\n",
       "```\n",
       "\n",
       "Some location fields have values of `None` or `NaN`. That is a problem if we want to use those fields.\n"
      ],
      "text/plain": [
       "Solution: \n",
       "You can see the data by calling: \n",
       "```python\n",
       "# Construct a reference to the \"taxi_trips\" table\n",
       "table_ref = dataset_ref.table(\"taxi_trips\")\n",
       "\n",
       "# API request - fetch the table\n",
       "table = client.get_table(table_ref)\n",
       "\n",
       "# Preview the first five lines of the \"taxi_trips\" table\n",
       "client.list_rows(table, max_results=5).to_dataframe()\n",
       "```\n",
       "\n",
       "Some location fields have values of `None` or `NaN`. That is a problem if we want to use those fields."
      ]
     },
     "metadata": {},
     "output_type": "display_data"
    }
   ],
   "source": [
    "# Check your answer (Run this code cell to receive credit!)\n",
    "q_2.solution()"
   ]
  },
  {
   "cell_type": "markdown",
   "id": "1569d1ae",
   "metadata": {
    "papermill": {
     "duration": 0.006682,
     "end_time": "2023-03-10T12:35:26.431994",
     "exception": false,
     "start_time": "2023-03-10T12:35:26.425312",
     "status": "completed"
    },
    "tags": []
   },
   "source": [
    "### 3) Determine when this data is from\n",
    "\n",
    "If the data is sufficiently old, we might be careful before assuming the data is still relevant to traffic patterns today. Write a query that counts the number of trips in each year.  \n",
    "\n",
    "Your results should have two columns:\n",
    "- `year` - the year of the trips\n",
    "- `num_trips` - the number of trips in that year\n",
    "\n",
    "Hints:\n",
    "- When using **GROUP BY** and **ORDER BY**, you should refer to the columns by the alias `year` that you set at the top of the **SELECT** query.\n",
    "- The SQL code to **SELECT** the year from `trip_start_timestamp` is <code>SELECT EXTRACT(YEAR FROM trip_start_timestamp)</code>\n",
    "- The **FROM** field can be a little tricky until you are used to it.  The format is:\n",
    "    1. A backick (the symbol \\`).\n",
    "    2. The project name. In this case it is `bigquery-public-data`.\n",
    "    3. A period.\n",
    "    4. The dataset name. In this case, it is `chicago_taxi_trips`.\n",
    "    5. A period.\n",
    "    6. The table name. You used this as your answer in **1) Find the data**.\n",
    "    7. A backtick (the symbol \\`)."
   ]
  },
  {
   "cell_type": "code",
   "execution_count": 8,
   "id": "7cd6e249",
   "metadata": {
    "execution": {
     "iopub.execute_input": "2023-03-10T12:35:26.448299Z",
     "iopub.status.busy": "2023-03-10T12:35:26.447929Z",
     "iopub.status.idle": "2023-03-10T12:35:26.460926Z",
     "shell.execute_reply": "2023-03-10T12:35:26.459484Z"
    },
    "papermill": {
     "duration": 0.023897,
     "end_time": "2023-03-10T12:35:26.463053",
     "exception": false,
     "start_time": "2023-03-10T12:35:26.439156",
     "status": "completed"
    },
    "tags": []
   },
   "outputs": [
    {
     "name": "stdout",
     "output_type": "stream",
     "text": [
      "<learntools.core.constants.PlaceholderValue object at 0x7fb6ba8a4510>\n"
     ]
    },
    {
     "data": {
      "application/javascript": [
       "parent.postMessage({\"jupyterEvent\": \"custom.exercise_interaction\", \"data\": {\"outcomeType\": 4, \"interactionType\": 1, \"questionType\": 2, \"questionId\": \"3_YearDistrib\", \"learnToolsVersion\": \"0.3.4\", \"valueTowardsCompletion\": 0.0, \"failureMessage\": \"\", \"exceptionClass\": \"\", \"trace\": \"\"}}, \"*\")"
      ],
      "text/plain": [
       "<IPython.core.display.Javascript object>"
      ]
     },
     "metadata": {},
     "output_type": "display_data"
    },
    {
     "data": {
      "text/markdown": [
       "<span style=\"color:#ccaa33\">Check:</span> When you've updated the starter code, `check()` will tell you whether your code is correct. You need to update the code that creates variable `rides_per_year_result`"
      ],
      "text/plain": [
       "Check: When you've updated the starter code, `check()` will tell you whether your code is correct. You need to update the code that creates variable `rides_per_year_result`"
      ]
     },
     "metadata": {},
     "output_type": "display_data"
    }
   ],
   "source": [
    "# Your code goes here\n",
    "rides_per_year_query = \"\"\"____\"\"\"\n",
    "\n",
    "# Set up the query (cancel the query if it would use too much of \n",
    "# your quota)\n",
    "safe_config = bigquery.QueryJobConfig(maximum_bytes_billed=10**10)\n",
    "rides_per_year_query_job = ____ # Your code goes here\n",
    "\n",
    "# API request - run the query, and return a pandas DataFrame\n",
    "rides_per_year_result = ____ # Your code goes here\n",
    "\n",
    "# View results\n",
    "print(rides_per_year_result)\n",
    "\n",
    "# Check your answer\n",
    "q_3.check()"
   ]
  },
  {
   "cell_type": "markdown",
   "id": "bedcb8ab",
   "metadata": {
    "papermill": {
     "duration": 0.007788,
     "end_time": "2023-03-10T12:35:26.478306",
     "exception": false,
     "start_time": "2023-03-10T12:35:26.470518",
     "status": "completed"
    },
    "tags": []
   },
   "source": [
    "For a hint or the solution, uncomment the appropriate line below."
   ]
  },
  {
   "cell_type": "code",
   "execution_count": 9,
   "id": "924c5bcd",
   "metadata": {
    "execution": {
     "iopub.execute_input": "2023-03-10T12:35:26.494780Z",
     "iopub.status.busy": "2023-03-10T12:35:26.494403Z",
     "iopub.status.idle": "2023-03-10T12:35:26.500180Z",
     "shell.execute_reply": "2023-03-10T12:35:26.498418Z"
    },
    "papermill": {
     "duration": 0.016705,
     "end_time": "2023-03-10T12:35:26.502423",
     "exception": false,
     "start_time": "2023-03-10T12:35:26.485718",
     "status": "completed"
    },
    "tags": []
   },
   "outputs": [],
   "source": [
    "#q_3.hint()\n",
    "#q_3.solution()"
   ]
  },
  {
   "cell_type": "markdown",
   "id": "3fdb9ec2",
   "metadata": {
    "papermill": {
     "duration": 0.007688,
     "end_time": "2023-03-10T12:35:26.517689",
     "exception": false,
     "start_time": "2023-03-10T12:35:26.510001",
     "status": "completed"
    },
    "tags": []
   },
   "source": [
    "### 4) Dive slightly deeper\n",
    "\n",
    "You'd like to take a closer look at rides from 2016.  Copy the query you used above in `rides_per_year_query` into the cell below for `rides_per_month_query`.  Then modify it in two ways:\n",
    "1. Use a **WHERE** clause to limit the query to data from 2016.\n",
    "2. Modify the query to extract the month rather than the year."
   ]
  },
  {
   "cell_type": "code",
   "execution_count": 10,
   "id": "74deadf3",
   "metadata": {
    "execution": {
     "iopub.execute_input": "2023-03-10T12:35:26.535530Z",
     "iopub.status.busy": "2023-03-10T12:35:26.535150Z",
     "iopub.status.idle": "2023-03-10T12:35:26.545428Z",
     "shell.execute_reply": "2023-03-10T12:35:26.544133Z"
    },
    "papermill": {
     "duration": 0.022302,
     "end_time": "2023-03-10T12:35:26.547777",
     "exception": false,
     "start_time": "2023-03-10T12:35:26.525475",
     "status": "completed"
    },
    "tags": []
   },
   "outputs": [
    {
     "name": "stdout",
     "output_type": "stream",
     "text": [
      "<learntools.core.constants.PlaceholderValue object at 0x7fb6ba8a4510>\n"
     ]
    },
    {
     "data": {
      "application/javascript": [
       "parent.postMessage({\"jupyterEvent\": \"custom.exercise_interaction\", \"data\": {\"outcomeType\": 4, \"interactionType\": 1, \"questionType\": 2, \"questionId\": \"4_MonthDistrib\", \"learnToolsVersion\": \"0.3.4\", \"valueTowardsCompletion\": 0.0, \"failureMessage\": \"\", \"exceptionClass\": \"\", \"trace\": \"\"}}, \"*\")"
      ],
      "text/plain": [
       "<IPython.core.display.Javascript object>"
      ]
     },
     "metadata": {},
     "output_type": "display_data"
    },
    {
     "data": {
      "text/markdown": [
       "<span style=\"color:#ccaa33\">Check:</span> When you've updated the starter code, `check()` will tell you whether your code is correct. You need to update the code that creates variable `rides_per_month_result`"
      ],
      "text/plain": [
       "Check: When you've updated the starter code, `check()` will tell you whether your code is correct. You need to update the code that creates variable `rides_per_month_result`"
      ]
     },
     "metadata": {},
     "output_type": "display_data"
    }
   ],
   "source": [
    "# Your code goes here\n",
    "rides_per_month_query = \"\"\"____\"\"\" \n",
    "\n",
    "# Set up the query\n",
    "safe_config = bigquery.QueryJobConfig(maximum_bytes_billed=10**10)\n",
    "rides_per_month_query_job = ____ # Your code goes here\n",
    "\n",
    "# API request - run the query, and return a pandas DataFrame\n",
    "rides_per_month_result = ____ # Your code goes here\n",
    "\n",
    "# View results\n",
    "print(rides_per_month_result)\n",
    "\n",
    "# Check your answer\n",
    "q_4.check()"
   ]
  },
  {
   "cell_type": "markdown",
   "id": "859182ec",
   "metadata": {
    "papermill": {
     "duration": 0.007499,
     "end_time": "2023-03-10T12:35:26.563258",
     "exception": false,
     "start_time": "2023-03-10T12:35:26.555759",
     "status": "completed"
    },
    "tags": []
   },
   "source": [
    "For a hint or the solution, uncomment the appropriate line below."
   ]
  },
  {
   "cell_type": "code",
   "execution_count": 11,
   "id": "9efaae25",
   "metadata": {
    "execution": {
     "iopub.execute_input": "2023-03-10T12:35:26.580928Z",
     "iopub.status.busy": "2023-03-10T12:35:26.580441Z",
     "iopub.status.idle": "2023-03-10T12:35:26.584872Z",
     "shell.execute_reply": "2023-03-10T12:35:26.583846Z"
    },
    "papermill": {
     "duration": 0.015891,
     "end_time": "2023-03-10T12:35:26.586846",
     "exception": false,
     "start_time": "2023-03-10T12:35:26.570955",
     "status": "completed"
    },
    "tags": []
   },
   "outputs": [],
   "source": [
    "#q_4.hint()\n",
    "#q_4.solution()"
   ]
  },
  {
   "cell_type": "markdown",
   "id": "0dcf1703",
   "metadata": {
    "papermill": {
     "duration": 0.007148,
     "end_time": "2023-03-10T12:35:26.601704",
     "exception": false,
     "start_time": "2023-03-10T12:35:26.594556",
     "status": "completed"
    },
    "tags": []
   },
   "source": [
    "### 5) Write the query\n",
    "\n",
    "It's time to step up the sophistication of your queries.  Write a query that shows, for each hour of the day in the dataset, the corresponding number of trips and average speed.\n",
    "\n",
    "Your results should have three columns:\n",
    "- `hour_of_day` - sort by this column, which holds the result of extracting the hour from `trip_start_timestamp`.\n",
    "- `num_trips` - the count of the total number of trips in each hour of the day (e.g. how many trips were started between 6AM and 7AM, independent of which day it occurred on).\n",
    "- `avg_mph` - the average speed, measured in miles per hour, for trips that started in that hour of the day.  Average speed in miles per hour is calculated as `3600 * SUM(trip_miles) / SUM(trip_seconds)`. (The value 3600 is used to convert from seconds to hours.)\n",
    "\n",
    "Restrict your query to data meeting the following criteria:\n",
    "- a `trip_start_timestamp` > **2016-01-01** and < **2016-04-01**\n",
    "- `trip_seconds` > 0 and `trip_miles` > 0\n",
    "\n",
    "You will use a common table expression (CTE) to select just the relevant rides.  Because this dataset is very big, this CTE should select only the columns you'll need to create the final output (though you won't actually create those in the CTE -- instead you'll create those in the later **SELECT** statement below the CTE).\n",
    "\n",
    "This is a much harder query than anything you've written so far.  Good luck!"
   ]
  },
  {
   "cell_type": "code",
   "execution_count": 12,
   "id": "b0fc6c2c",
   "metadata": {
    "execution": {
     "iopub.execute_input": "2023-03-10T12:35:26.619309Z",
     "iopub.status.busy": "2023-03-10T12:35:26.618932Z",
     "iopub.status.idle": "2023-03-10T12:35:26.632101Z",
     "shell.execute_reply": "2023-03-10T12:35:26.630815Z"
    },
    "papermill": {
     "duration": 0.025664,
     "end_time": "2023-03-10T12:35:26.634999",
     "exception": false,
     "start_time": "2023-03-10T12:35:26.609335",
     "status": "completed"
    },
    "tags": []
   },
   "outputs": [
    {
     "name": "stdout",
     "output_type": "stream",
     "text": [
      "<learntools.core.constants.PlaceholderValue object at 0x7fb6ba8a4510>\n"
     ]
    },
    {
     "data": {
      "application/javascript": [
       "parent.postMessage({\"jupyterEvent\": \"custom.exercise_interaction\", \"data\": {\"outcomeType\": 4, \"interactionType\": 1, \"questionType\": 2, \"questionId\": \"5_TheLongQuery\", \"learnToolsVersion\": \"0.3.4\", \"valueTowardsCompletion\": 0.0, \"failureMessage\": \"\", \"exceptionClass\": \"\", \"trace\": \"\"}}, \"*\")"
      ],
      "text/plain": [
       "<IPython.core.display.Javascript object>"
      ]
     },
     "metadata": {},
     "output_type": "display_data"
    },
    {
     "data": {
      "text/markdown": [
       "<span style=\"color:#ccaa33\">Check:</span> When you've updated the starter code, `check()` will tell you whether your code is correct. You need to update the code that creates variable `speeds_result`"
      ],
      "text/plain": [
       "Check: When you've updated the starter code, `check()` will tell you whether your code is correct. You need to update the code that creates variable `speeds_result`"
      ]
     },
     "metadata": {},
     "output_type": "display_data"
    }
   ],
   "source": [
    "# Your code goes here\n",
    "speeds_query = \"\"\"\n",
    "               WITH RelevantRides AS\n",
    "               (\n",
    "                   SELECT ____\n",
    "                   FROM ____\n",
    "                   WHERE ____\n",
    "               )\n",
    "               SELECT ______\n",
    "               FROM RelevantRides\n",
    "               GROUP BY ____\n",
    "               ORDER BY ____\n",
    "               \"\"\"\n",
    "\n",
    "# Set up the query\n",
    "safe_config = bigquery.QueryJobConfig(maximum_bytes_billed=10**10)\n",
    "speeds_query_job = ____ # Your code here\n",
    "\n",
    "# API request - run the query, and return a pandas DataFrame\n",
    "speeds_result = ____ # Your code here\n",
    "\n",
    "# View results\n",
    "print(speeds_result)\n",
    "\n",
    "# Check your answer\n",
    "q_5.check()"
   ]
  },
  {
   "cell_type": "markdown",
   "id": "d561682b",
   "metadata": {
    "papermill": {
     "duration": 0.007853,
     "end_time": "2023-03-10T12:35:26.651066",
     "exception": false,
     "start_time": "2023-03-10T12:35:26.643213",
     "status": "completed"
    },
    "tags": []
   },
   "source": [
    "For the solution, uncomment the appropriate line below."
   ]
  },
  {
   "cell_type": "code",
   "execution_count": 13,
   "id": "617805ed",
   "metadata": {
    "execution": {
     "iopub.execute_input": "2023-03-10T12:35:26.669229Z",
     "iopub.status.busy": "2023-03-10T12:35:26.668816Z",
     "iopub.status.idle": "2023-03-10T12:35:26.674197Z",
     "shell.execute_reply": "2023-03-10T12:35:26.672663Z"
    },
    "papermill": {
     "duration": 0.017702,
     "end_time": "2023-03-10T12:35:26.677006",
     "exception": false,
     "start_time": "2023-03-10T12:35:26.659304",
     "status": "completed"
    },
    "tags": []
   },
   "outputs": [],
   "source": [
    "#q_5.solution()"
   ]
  },
  {
   "cell_type": "markdown",
   "id": "ceb07abd",
   "metadata": {
    "papermill": {
     "duration": 0.008011,
     "end_time": "2023-03-10T12:35:26.693312",
     "exception": false,
     "start_time": "2023-03-10T12:35:26.685301",
     "status": "completed"
    },
    "tags": []
   },
   "source": [
    "That's a hard query. If you made good progress towards the solution, congratulations!"
   ]
  },
  {
   "cell_type": "markdown",
   "id": "e3b4b8bf",
   "metadata": {
    "papermill": {
     "duration": 0.008032,
     "end_time": "2023-03-10T12:35:26.710056",
     "exception": false,
     "start_time": "2023-03-10T12:35:26.702024",
     "status": "completed"
    },
    "tags": []
   },
   "source": [
    "# Keep going\n",
    "\n",
    "You can write very complex queries now with a single data source. But nothing expands the horizons of SQL as much as the ability to combine or **JOIN** tables.\n",
    "\n",
    "**[Click here](https://www.kaggle.com/dansbecker/joining-data)** to start the last lesson in the Intro to SQL course."
   ]
  },
  {
   "cell_type": "markdown",
   "id": "ead3a01c",
   "metadata": {
    "papermill": {
     "duration": 0.007786,
     "end_time": "2023-03-10T12:35:26.726128",
     "exception": false,
     "start_time": "2023-03-10T12:35:26.718342",
     "status": "completed"
    },
    "tags": []
   },
   "source": [
    "---\n",
    "\n",
    "\n",
    "\n",
    "\n",
    "*Have questions or comments? Visit the [course discussion forum](https://www.kaggle.com/learn/intro-to-sql/discussion) to chat with other learners.*"
   ]
  }
 ],
 "metadata": {
  "kernelspec": {
   "display_name": "Python 3",
   "language": "python",
   "name": "python3"
  },
  "language_info": {
   "codemirror_mode": {
    "name": "ipython",
    "version": 3
   },
   "file_extension": ".py",
   "mimetype": "text/x-python",
   "name": "python",
   "nbconvert_exporter": "python",
   "pygments_lexer": "ipython3",
   "version": "3.7.12"
  },
  "papermill": {
   "default_parameters": {},
   "duration": 28.844365,
   "end_time": "2023-03-10T12:35:27.457174",
   "environment_variables": {},
   "exception": null,
   "input_path": "__notebook__.ipynb",
   "output_path": "__notebook__.ipynb",
   "parameters": {},
   "start_time": "2023-03-10T12:34:58.612809",
   "version": "2.4.0"
  }
 },
 "nbformat": 4,
 "nbformat_minor": 5
}
