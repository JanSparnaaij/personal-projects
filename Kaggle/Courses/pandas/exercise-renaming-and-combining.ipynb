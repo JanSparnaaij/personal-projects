{
 "cells": [
  {
   "cell_type": "markdown",
   "id": "db01a1cb",
   "metadata": {
    "papermill": {
     "duration": 0.006032,
     "end_time": "2023-03-05T11:38:49.986126",
     "exception": false,
     "start_time": "2023-03-05T11:38:49.980094",
     "status": "completed"
    },
    "tags": []
   },
   "source": [
    "**This notebook is an exercise in the [Pandas](https://www.kaggle.com/learn/pandas) course.  You can reference the tutorial at [this link](https://www.kaggle.com/residentmario/renaming-and-combining).**\n",
    "\n",
    "---\n"
   ]
  },
  {
   "cell_type": "markdown",
   "id": "f679ef9b",
   "metadata": {
    "papermill": {
     "duration": 0.004399,
     "end_time": "2023-03-05T11:38:49.995482",
     "exception": false,
     "start_time": "2023-03-05T11:38:49.991083",
     "status": "completed"
    },
    "tags": []
   },
   "source": [
    "# Introduction\n",
    "\n",
    "Run the following cell to load your data and some utility functions."
   ]
  },
  {
   "cell_type": "code",
   "execution_count": 1,
   "id": "746d3a06",
   "metadata": {
    "execution": {
     "iopub.execute_input": "2023-03-05T11:38:50.007347Z",
     "iopub.status.busy": "2023-03-05T11:38:50.006921Z",
     "iopub.status.idle": "2023-03-05T11:38:54.051100Z",
     "shell.execute_reply": "2023-03-05T11:38:54.048953Z"
    },
    "papermill": {
     "duration": 4.053961,
     "end_time": "2023-03-05T11:38:54.054231",
     "exception": false,
     "start_time": "2023-03-05T11:38:50.000270",
     "status": "completed"
    },
    "tags": []
   },
   "outputs": [
    {
     "name": "stdout",
     "output_type": "stream",
     "text": [
      "Setup complete.\n"
     ]
    }
   ],
   "source": [
    "import pandas as pd\n",
    "\n",
    "reviews = pd.read_csv(\"../input/wine-reviews/winemag-data-130k-v2.csv\", index_col=0)\n",
    "\n",
    "from learntools.core import binder; binder.bind(globals())\n",
    "from learntools.pandas.renaming_and_combining import *\n",
    "print(\"Setup complete.\")"
   ]
  },
  {
   "cell_type": "markdown",
   "id": "ab335cfc",
   "metadata": {
    "papermill": {
     "duration": 0.004749,
     "end_time": "2023-03-05T11:38:54.064097",
     "exception": false,
     "start_time": "2023-03-05T11:38:54.059348",
     "status": "completed"
    },
    "tags": []
   },
   "source": [
    "# Exercises\n",
    "\n",
    "View the first several lines of your data by running the cell below:"
   ]
  },
  {
   "cell_type": "code",
   "execution_count": 2,
   "id": "ec8693ee",
   "metadata": {
    "execution": {
     "iopub.execute_input": "2023-03-05T11:38:54.075992Z",
     "iopub.status.busy": "2023-03-05T11:38:54.075489Z",
     "iopub.status.idle": "2023-03-05T11:38:54.108731Z",
     "shell.execute_reply": "2023-03-05T11:38:54.107497Z"
    },
    "papermill": {
     "duration": 0.042327,
     "end_time": "2023-03-05T11:38:54.111350",
     "exception": false,
     "start_time": "2023-03-05T11:38:54.069023",
     "status": "completed"
    },
    "tags": []
   },
   "outputs": [
    {
     "data": {
      "text/html": [
       "<div>\n",
       "<style scoped>\n",
       "    .dataframe tbody tr th:only-of-type {\n",
       "        vertical-align: middle;\n",
       "    }\n",
       "\n",
       "    .dataframe tbody tr th {\n",
       "        vertical-align: top;\n",
       "    }\n",
       "\n",
       "    .dataframe thead th {\n",
       "        text-align: right;\n",
       "    }\n",
       "</style>\n",
       "<table border=\"1\" class=\"dataframe\">\n",
       "  <thead>\n",
       "    <tr style=\"text-align: right;\">\n",
       "      <th></th>\n",
       "      <th>country</th>\n",
       "      <th>description</th>\n",
       "      <th>designation</th>\n",
       "      <th>points</th>\n",
       "      <th>price</th>\n",
       "      <th>province</th>\n",
       "      <th>region_1</th>\n",
       "      <th>region_2</th>\n",
       "      <th>taster_name</th>\n",
       "      <th>taster_twitter_handle</th>\n",
       "      <th>title</th>\n",
       "      <th>variety</th>\n",
       "      <th>winery</th>\n",
       "    </tr>\n",
       "  </thead>\n",
       "  <tbody>\n",
       "    <tr>\n",
       "      <th>0</th>\n",
       "      <td>Italy</td>\n",
       "      <td>Aromas include tropical fruit, broom, brimston...</td>\n",
       "      <td>Vulkà Bianco</td>\n",
       "      <td>87</td>\n",
       "      <td>NaN</td>\n",
       "      <td>Sicily &amp; Sardinia</td>\n",
       "      <td>Etna</td>\n",
       "      <td>NaN</td>\n",
       "      <td>Kerin O’Keefe</td>\n",
       "      <td>@kerinokeefe</td>\n",
       "      <td>Nicosia 2013 Vulkà Bianco  (Etna)</td>\n",
       "      <td>White Blend</td>\n",
       "      <td>Nicosia</td>\n",
       "    </tr>\n",
       "    <tr>\n",
       "      <th>1</th>\n",
       "      <td>Portugal</td>\n",
       "      <td>This is ripe and fruity, a wine that is smooth...</td>\n",
       "      <td>Avidagos</td>\n",
       "      <td>87</td>\n",
       "      <td>15.0</td>\n",
       "      <td>Douro</td>\n",
       "      <td>NaN</td>\n",
       "      <td>NaN</td>\n",
       "      <td>Roger Voss</td>\n",
       "      <td>@vossroger</td>\n",
       "      <td>Quinta dos Avidagos 2011 Avidagos Red (Douro)</td>\n",
       "      <td>Portuguese Red</td>\n",
       "      <td>Quinta dos Avidagos</td>\n",
       "    </tr>\n",
       "    <tr>\n",
       "      <th>2</th>\n",
       "      <td>US</td>\n",
       "      <td>Tart and snappy, the flavors of lime flesh and...</td>\n",
       "      <td>NaN</td>\n",
       "      <td>87</td>\n",
       "      <td>14.0</td>\n",
       "      <td>Oregon</td>\n",
       "      <td>Willamette Valley</td>\n",
       "      <td>Willamette Valley</td>\n",
       "      <td>Paul Gregutt</td>\n",
       "      <td>@paulgwine</td>\n",
       "      <td>Rainstorm 2013 Pinot Gris (Willamette Valley)</td>\n",
       "      <td>Pinot Gris</td>\n",
       "      <td>Rainstorm</td>\n",
       "    </tr>\n",
       "    <tr>\n",
       "      <th>3</th>\n",
       "      <td>US</td>\n",
       "      <td>Pineapple rind, lemon pith and orange blossom ...</td>\n",
       "      <td>Reserve Late Harvest</td>\n",
       "      <td>87</td>\n",
       "      <td>13.0</td>\n",
       "      <td>Michigan</td>\n",
       "      <td>Lake Michigan Shore</td>\n",
       "      <td>NaN</td>\n",
       "      <td>Alexander Peartree</td>\n",
       "      <td>NaN</td>\n",
       "      <td>St. Julian 2013 Reserve Late Harvest Riesling ...</td>\n",
       "      <td>Riesling</td>\n",
       "      <td>St. Julian</td>\n",
       "    </tr>\n",
       "    <tr>\n",
       "      <th>4</th>\n",
       "      <td>US</td>\n",
       "      <td>Much like the regular bottling from 2012, this...</td>\n",
       "      <td>Vintner's Reserve Wild Child Block</td>\n",
       "      <td>87</td>\n",
       "      <td>65.0</td>\n",
       "      <td>Oregon</td>\n",
       "      <td>Willamette Valley</td>\n",
       "      <td>Willamette Valley</td>\n",
       "      <td>Paul Gregutt</td>\n",
       "      <td>@paulgwine</td>\n",
       "      <td>Sweet Cheeks 2012 Vintner's Reserve Wild Child...</td>\n",
       "      <td>Pinot Noir</td>\n",
       "      <td>Sweet Cheeks</td>\n",
       "    </tr>\n",
       "  </tbody>\n",
       "</table>\n",
       "</div>"
      ],
      "text/plain": [
       "    country                                        description  \\\n",
       "0     Italy  Aromas include tropical fruit, broom, brimston...   \n",
       "1  Portugal  This is ripe and fruity, a wine that is smooth...   \n",
       "2        US  Tart and snappy, the flavors of lime flesh and...   \n",
       "3        US  Pineapple rind, lemon pith and orange blossom ...   \n",
       "4        US  Much like the regular bottling from 2012, this...   \n",
       "\n",
       "                          designation  points  price           province  \\\n",
       "0                        Vulkà Bianco      87    NaN  Sicily & Sardinia   \n",
       "1                            Avidagos      87   15.0              Douro   \n",
       "2                                 NaN      87   14.0             Oregon   \n",
       "3                Reserve Late Harvest      87   13.0           Michigan   \n",
       "4  Vintner's Reserve Wild Child Block      87   65.0             Oregon   \n",
       "\n",
       "              region_1           region_2         taster_name  \\\n",
       "0                 Etna                NaN       Kerin O’Keefe   \n",
       "1                  NaN                NaN          Roger Voss   \n",
       "2    Willamette Valley  Willamette Valley        Paul Gregutt   \n",
       "3  Lake Michigan Shore                NaN  Alexander Peartree   \n",
       "4    Willamette Valley  Willamette Valley        Paul Gregutt   \n",
       "\n",
       "  taster_twitter_handle                                              title  \\\n",
       "0          @kerinokeefe                  Nicosia 2013 Vulkà Bianco  (Etna)   \n",
       "1            @vossroger      Quinta dos Avidagos 2011 Avidagos Red (Douro)   \n",
       "2           @paulgwine       Rainstorm 2013 Pinot Gris (Willamette Valley)   \n",
       "3                   NaN  St. Julian 2013 Reserve Late Harvest Riesling ...   \n",
       "4           @paulgwine   Sweet Cheeks 2012 Vintner's Reserve Wild Child...   \n",
       "\n",
       "          variety               winery  \n",
       "0     White Blend              Nicosia  \n",
       "1  Portuguese Red  Quinta dos Avidagos  \n",
       "2      Pinot Gris            Rainstorm  \n",
       "3        Riesling           St. Julian  \n",
       "4      Pinot Noir         Sweet Cheeks  "
      ]
     },
     "execution_count": 2,
     "metadata": {},
     "output_type": "execute_result"
    }
   ],
   "source": [
    "reviews.head()"
   ]
  },
  {
   "cell_type": "markdown",
   "id": "069f4884",
   "metadata": {
    "papermill": {
     "duration": 0.005224,
     "end_time": "2023-03-05T11:38:54.122801",
     "exception": false,
     "start_time": "2023-03-05T11:38:54.117577",
     "status": "completed"
    },
    "tags": []
   },
   "source": [
    "## 1.\n",
    "`region_1` and `region_2` are pretty uninformative names for locale columns in the dataset. Create a copy of `reviews` with these columns renamed to `region` and `locale`, respectively."
   ]
  },
  {
   "cell_type": "code",
   "execution_count": 3,
   "id": "e003e436",
   "metadata": {
    "execution": {
     "iopub.execute_input": "2023-03-05T11:38:54.136746Z",
     "iopub.status.busy": "2023-03-05T11:38:54.136121Z",
     "iopub.status.idle": "2023-03-05T11:38:54.145995Z",
     "shell.execute_reply": "2023-03-05T11:38:54.144777Z"
    },
    "papermill": {
     "duration": 0.020147,
     "end_time": "2023-03-05T11:38:54.148304",
     "exception": false,
     "start_time": "2023-03-05T11:38:54.128157",
     "status": "completed"
    },
    "tags": []
   },
   "outputs": [
    {
     "data": {
      "application/javascript": [
       "parent.postMessage({\"jupyterEvent\": \"custom.exercise_interaction\", \"data\": {\"outcomeType\": 4, \"interactionType\": 1, \"questionType\": 1, \"questionId\": \"1_RenameCols\", \"learnToolsVersion\": \"0.3.4\", \"valueTowardsCompletion\": 0.0, \"failureMessage\": \"\", \"exceptionClass\": \"\", \"trace\": \"\"}}, \"*\")"
      ],
      "text/plain": [
       "<IPython.core.display.Javascript object>"
      ]
     },
     "metadata": {},
     "output_type": "display_data"
    },
    {
     "data": {
      "text/markdown": [
       "<span style=\"color:#ccaa33\">Check:</span> When you've updated the starter code, `check()` will tell you whether your code is correct. You need to update the code that creates variable `renamed`"
      ],
      "text/plain": [
       "Check: When you've updated the starter code, `check()` will tell you whether your code is correct. You need to update the code that creates variable `renamed`"
      ]
     },
     "metadata": {},
     "output_type": "display_data"
    }
   ],
   "source": [
    "# Your code here\n",
    "renamed = ____\n",
    "\n",
    "# Check your answer\n",
    "q1.check()"
   ]
  },
  {
   "cell_type": "code",
   "execution_count": 4,
   "id": "1a1adaae",
   "metadata": {
    "execution": {
     "iopub.execute_input": "2023-03-05T11:38:54.161512Z",
     "iopub.status.busy": "2023-03-05T11:38:54.161096Z",
     "iopub.status.idle": "2023-03-05T11:38:54.165177Z",
     "shell.execute_reply": "2023-03-05T11:38:54.164186Z"
    },
    "papermill": {
     "duration": 0.013553,
     "end_time": "2023-03-05T11:38:54.167548",
     "exception": false,
     "start_time": "2023-03-05T11:38:54.153995",
     "status": "completed"
    },
    "tags": []
   },
   "outputs": [],
   "source": [
    "#q1.hint()\n",
    "#q1.solution()"
   ]
  },
  {
   "cell_type": "markdown",
   "id": "64e057c5",
   "metadata": {
    "papermill": {
     "duration": 0.005298,
     "end_time": "2023-03-05T11:38:54.178504",
     "exception": false,
     "start_time": "2023-03-05T11:38:54.173206",
     "status": "completed"
    },
    "tags": []
   },
   "source": [
    "## 2.\n",
    "Set the index name in the dataset to `wines`."
   ]
  },
  {
   "cell_type": "code",
   "execution_count": 5,
   "id": "820091ba",
   "metadata": {
    "execution": {
     "iopub.execute_input": "2023-03-05T11:38:54.192696Z",
     "iopub.status.busy": "2023-03-05T11:38:54.191416Z",
     "iopub.status.idle": "2023-03-05T11:38:54.203496Z",
     "shell.execute_reply": "2023-03-05T11:38:54.201896Z"
    },
    "papermill": {
     "duration": 0.022029,
     "end_time": "2023-03-05T11:38:54.206113",
     "exception": false,
     "start_time": "2023-03-05T11:38:54.184084",
     "status": "completed"
    },
    "tags": []
   },
   "outputs": [
    {
     "data": {
      "application/javascript": [
       "parent.postMessage({\"jupyterEvent\": \"custom.exercise_interaction\", \"data\": {\"outcomeType\": 4, \"interactionType\": 1, \"questionType\": 1, \"questionId\": \"2_RenameIndex\", \"learnToolsVersion\": \"0.3.4\", \"valueTowardsCompletion\": 0.0, \"failureMessage\": \"\", \"exceptionClass\": \"\", \"trace\": \"\"}}, \"*\")"
      ],
      "text/plain": [
       "<IPython.core.display.Javascript object>"
      ]
     },
     "metadata": {},
     "output_type": "display_data"
    },
    {
     "data": {
      "text/markdown": [
       "<span style=\"color:#ccaa33\">Check:</span> When you've updated the starter code, `check()` will tell you whether your code is correct. You need to update the code that creates variable `reindexed`"
      ],
      "text/plain": [
       "Check: When you've updated the starter code, `check()` will tell you whether your code is correct. You need to update the code that creates variable `reindexed`"
      ]
     },
     "metadata": {},
     "output_type": "display_data"
    }
   ],
   "source": [
    "reindexed = ____\n",
    "\n",
    "# Check your answer\n",
    "q2.check()"
   ]
  },
  {
   "cell_type": "code",
   "execution_count": 6,
   "id": "a12f5328",
   "metadata": {
    "execution": {
     "iopub.execute_input": "2023-03-05T11:38:54.220194Z",
     "iopub.status.busy": "2023-03-05T11:38:54.219382Z",
     "iopub.status.idle": "2023-03-05T11:38:54.223728Z",
     "shell.execute_reply": "2023-03-05T11:38:54.222827Z"
    },
    "papermill": {
     "duration": 0.013808,
     "end_time": "2023-03-05T11:38:54.225893",
     "exception": false,
     "start_time": "2023-03-05T11:38:54.212085",
     "status": "completed"
    },
    "tags": []
   },
   "outputs": [],
   "source": [
    "#q2.hint()\n",
    "#q2.solution()"
   ]
  },
  {
   "cell_type": "markdown",
   "id": "aa667593",
   "metadata": {
    "papermill": {
     "duration": 0.006737,
     "end_time": "2023-03-05T11:38:54.238801",
     "exception": false,
     "start_time": "2023-03-05T11:38:54.232064",
     "status": "completed"
    },
    "tags": []
   },
   "source": [
    "## 3.\n",
    "The [Things on Reddit](https://www.kaggle.com/residentmario/things-on-reddit/data) dataset includes product links from a selection of top-ranked forums (\"subreddits\") on reddit.com. Run the cell below to load a dataframe of products mentioned on the */r/gaming* subreddit and another dataframe for products mentioned on the *r//movies* subreddit."
   ]
  },
  {
   "cell_type": "code",
   "execution_count": 7,
   "id": "fa33598d",
   "metadata": {
    "execution": {
     "iopub.execute_input": "2023-03-05T11:38:54.253395Z",
     "iopub.status.busy": "2023-03-05T11:38:54.252551Z",
     "iopub.status.idle": "2023-03-05T11:38:54.268439Z",
     "shell.execute_reply": "2023-03-05T11:38:54.267336Z"
    },
    "papermill": {
     "duration": 0.026428,
     "end_time": "2023-03-05T11:38:54.271211",
     "exception": false,
     "start_time": "2023-03-05T11:38:54.244783",
     "status": "completed"
    },
    "tags": []
   },
   "outputs": [],
   "source": [
    "gaming_products = pd.read_csv(\"../input/things-on-reddit/top-things/top-things/reddits/g/gaming.csv\")\n",
    "gaming_products['subreddit'] = \"r/gaming\"\n",
    "movie_products = pd.read_csv(\"../input/things-on-reddit/top-things/top-things/reddits/m/movies.csv\")\n",
    "movie_products['subreddit'] = \"r/movies\""
   ]
  },
  {
   "cell_type": "markdown",
   "id": "f9e5802f",
   "metadata": {
    "papermill": {
     "duration": 0.005768,
     "end_time": "2023-03-05T11:38:54.283091",
     "exception": false,
     "start_time": "2023-03-05T11:38:54.277323",
     "status": "completed"
    },
    "tags": []
   },
   "source": [
    "Create a `DataFrame` of products mentioned on *either* subreddit."
   ]
  },
  {
   "cell_type": "code",
   "execution_count": 8,
   "id": "b9fd1017",
   "metadata": {
    "execution": {
     "iopub.execute_input": "2023-03-05T11:38:54.297780Z",
     "iopub.status.busy": "2023-03-05T11:38:54.296667Z",
     "iopub.status.idle": "2023-03-05T11:38:54.305431Z",
     "shell.execute_reply": "2023-03-05T11:38:54.304573Z"
    },
    "papermill": {
     "duration": 0.018535,
     "end_time": "2023-03-05T11:38:54.307708",
     "exception": false,
     "start_time": "2023-03-05T11:38:54.289173",
     "status": "completed"
    },
    "tags": []
   },
   "outputs": [
    {
     "data": {
      "application/javascript": [
       "parent.postMessage({\"jupyterEvent\": \"custom.exercise_interaction\", \"data\": {\"outcomeType\": 4, \"interactionType\": 1, \"questionType\": 2, \"questionId\": \"3_ConcatReddit\", \"learnToolsVersion\": \"0.3.4\", \"valueTowardsCompletion\": 0.0, \"failureMessage\": \"\", \"exceptionClass\": \"\", \"trace\": \"\"}}, \"*\")"
      ],
      "text/plain": [
       "<IPython.core.display.Javascript object>"
      ]
     },
     "metadata": {},
     "output_type": "display_data"
    },
    {
     "data": {
      "text/markdown": [
       "<span style=\"color:#ccaa33\">Check:</span> When you've updated the starter code, `check()` will tell you whether your code is correct. You need to update the code that creates variable `combined_products`"
      ],
      "text/plain": [
       "Check: When you've updated the starter code, `check()` will tell you whether your code is correct. You need to update the code that creates variable `combined_products`"
      ]
     },
     "metadata": {},
     "output_type": "display_data"
    }
   ],
   "source": [
    "combined_products = ____\n",
    "\n",
    "# Check your answer\n",
    "q3.check()"
   ]
  },
  {
   "cell_type": "code",
   "execution_count": 9,
   "id": "cf40a429",
   "metadata": {
    "execution": {
     "iopub.execute_input": "2023-03-05T11:38:54.322837Z",
     "iopub.status.busy": "2023-03-05T11:38:54.322059Z",
     "iopub.status.idle": "2023-03-05T11:38:54.326148Z",
     "shell.execute_reply": "2023-03-05T11:38:54.325259Z"
    },
    "papermill": {
     "duration": 0.0146,
     "end_time": "2023-03-05T11:38:54.328672",
     "exception": false,
     "start_time": "2023-03-05T11:38:54.314072",
     "status": "completed"
    },
    "tags": []
   },
   "outputs": [],
   "source": [
    "#q3.hint()\n",
    "#q3.solution()"
   ]
  },
  {
   "cell_type": "markdown",
   "id": "a3898919",
   "metadata": {
    "papermill": {
     "duration": 0.006336,
     "end_time": "2023-03-05T11:38:54.342618",
     "exception": false,
     "start_time": "2023-03-05T11:38:54.336282",
     "status": "completed"
    },
    "tags": []
   },
   "source": [
    "## 4.\n",
    "The [Powerlifting Database](https://www.kaggle.com/open-powerlifting/powerlifting-database) dataset on Kaggle includes one CSV table for powerlifting meets and a separate one for powerlifting competitors. Run the cell below to load these datasets into dataframes:"
   ]
  },
  {
   "cell_type": "code",
   "execution_count": 10,
   "id": "d207ef57",
   "metadata": {
    "execution": {
     "iopub.execute_input": "2023-03-05T11:38:54.358126Z",
     "iopub.status.busy": "2023-03-05T11:38:54.357355Z",
     "iopub.status.idle": "2023-03-05T11:38:55.140850Z",
     "shell.execute_reply": "2023-03-05T11:38:55.139301Z"
    },
    "papermill": {
     "duration": 0.795217,
     "end_time": "2023-03-05T11:38:55.144428",
     "exception": false,
     "start_time": "2023-03-05T11:38:54.349211",
     "status": "completed"
    },
    "tags": []
   },
   "outputs": [],
   "source": [
    "powerlifting_meets = pd.read_csv(\"../input/powerlifting-database/meets.csv\")\n",
    "powerlifting_competitors = pd.read_csv(\"../input/powerlifting-database/openpowerlifting.csv\")"
   ]
  },
  {
   "cell_type": "markdown",
   "id": "34b9d1d9",
   "metadata": {
    "papermill": {
     "duration": 0.007182,
     "end_time": "2023-03-05T11:38:55.158864",
     "exception": false,
     "start_time": "2023-03-05T11:38:55.151682",
     "status": "completed"
    },
    "tags": []
   },
   "source": [
    "Both tables include references to a `MeetID`, a unique key for each meet (competition) included in the database. Using this, generate a dataset combining the two tables into one."
   ]
  },
  {
   "cell_type": "code",
   "execution_count": 11,
   "id": "42044502",
   "metadata": {
    "execution": {
     "iopub.execute_input": "2023-03-05T11:38:55.174554Z",
     "iopub.status.busy": "2023-03-05T11:38:55.174083Z",
     "iopub.status.idle": "2023-03-05T11:38:55.184228Z",
     "shell.execute_reply": "2023-03-05T11:38:55.182897Z"
    },
    "papermill": {
     "duration": 0.021211,
     "end_time": "2023-03-05T11:38:55.187156",
     "exception": false,
     "start_time": "2023-03-05T11:38:55.165945",
     "status": "completed"
    },
    "tags": []
   },
   "outputs": [
    {
     "data": {
      "application/javascript": [
       "parent.postMessage({\"jupyterEvent\": \"custom.exercise_interaction\", \"data\": {\"outcomeType\": 4, \"interactionType\": 1, \"questionType\": 2, \"questionId\": \"4_JoinLifting\", \"learnToolsVersion\": \"0.3.4\", \"valueTowardsCompletion\": 0.0, \"failureMessage\": \"\", \"exceptionClass\": \"\", \"trace\": \"\"}}, \"*\")"
      ],
      "text/plain": [
       "<IPython.core.display.Javascript object>"
      ]
     },
     "metadata": {},
     "output_type": "display_data"
    },
    {
     "data": {
      "text/markdown": [
       "<span style=\"color:#ccaa33\">Check:</span> When you've updated the starter code, `check()` will tell you whether your code is correct. You need to update the code that creates variable `powerlifting_combined`"
      ],
      "text/plain": [
       "Check: When you've updated the starter code, `check()` will tell you whether your code is correct. You need to update the code that creates variable `powerlifting_combined`"
      ]
     },
     "metadata": {},
     "output_type": "display_data"
    }
   ],
   "source": [
    "powerlifting_combined = ____\n",
    "\n",
    "# Check your answer\n",
    "q4.check()"
   ]
  },
  {
   "cell_type": "code",
   "execution_count": 12,
   "id": "aaf8ae6e",
   "metadata": {
    "execution": {
     "iopub.execute_input": "2023-03-05T11:38:55.204052Z",
     "iopub.status.busy": "2023-03-05T11:38:55.203115Z",
     "iopub.status.idle": "2023-03-05T11:38:55.208223Z",
     "shell.execute_reply": "2023-03-05T11:38:55.207248Z"
    },
    "papermill": {
     "duration": 0.016742,
     "end_time": "2023-03-05T11:38:55.210928",
     "exception": false,
     "start_time": "2023-03-05T11:38:55.194186",
     "status": "completed"
    },
    "tags": []
   },
   "outputs": [],
   "source": [
    "#q4.hint()\n",
    "#q4.solution()"
   ]
  },
  {
   "cell_type": "markdown",
   "id": "3cc367e3",
   "metadata": {
    "papermill": {
     "duration": 0.007135,
     "end_time": "2023-03-05T11:38:55.224990",
     "exception": false,
     "start_time": "2023-03-05T11:38:55.217855",
     "status": "completed"
    },
    "tags": []
   },
   "source": [
    "# Congratulations!\n",
    "\n",
    "You've finished the Pandas micro-course.  Many data scientists feel efficiency with Pandas is the most useful and practical skill they have, because it allows you to progress quickly in any project you have.\n",
    "\n",
    "If you'd like to apply your new skills to examining geospatial data, you're encouraged to check out our **[Geospatial Analysis](https://www.kaggle.com/learn/geospatial-analysis)** micro-course.\n",
    "\n",
    "You can also take advantage of your Pandas skills by entering a **[Kaggle Competition](https://www.kaggle.com/competitions)** or by answering a question you find interesting using **[Kaggle Datasets](https://www.kaggle.com/datasets)**."
   ]
  },
  {
   "cell_type": "markdown",
   "id": "1c11045e",
   "metadata": {
    "papermill": {
     "duration": 0.006534,
     "end_time": "2023-03-05T11:38:55.238605",
     "exception": false,
     "start_time": "2023-03-05T11:38:55.232071",
     "status": "completed"
    },
    "tags": []
   },
   "source": [
    "---\n",
    "\n",
    "\n",
    "\n",
    "\n",
    "*Have questions or comments? Visit the [course discussion forum](https://www.kaggle.com/learn/pandas/discussion) to chat with other learners.*"
   ]
  }
 ],
 "metadata": {
  "kernelspec": {
   "display_name": "Python 3",
   "language": "python",
   "name": "python3"
  },
  "language_info": {
   "codemirror_mode": {
    "name": "ipython",
    "version": 3
   },
   "file_extension": ".py",
   "mimetype": "text/x-python",
   "name": "python",
   "nbconvert_exporter": "python",
   "pygments_lexer": "ipython3",
   "version": "3.7.12"
  },
  "papermill": {
   "default_parameters": {},
   "duration": 17.136404,
   "end_time": "2023-03-05T11:38:56.070042",
   "environment_variables": {},
   "exception": null,
   "input_path": "__notebook__.ipynb",
   "output_path": "__notebook__.ipynb",
   "parameters": {},
   "start_time": "2023-03-05T11:38:38.933638",
   "version": "2.4.0"
  }
 },
 "nbformat": 4,
 "nbformat_minor": 5
}
