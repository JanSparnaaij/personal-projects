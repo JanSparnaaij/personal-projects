{
 "cells": [
  {
   "cell_type": "markdown",
   "id": "12bad00b",
   "metadata": {
    "papermill": {
     "duration": 0.00554,
     "end_time": "2023-03-05T11:38:01.660408",
     "exception": false,
     "start_time": "2023-03-05T11:38:01.654868",
     "status": "completed"
    },
    "tags": []
   },
   "source": [
    "**This notebook is an exercise in the [Pandas](https://www.kaggle.com/learn/pandas) course.  You can reference the tutorial at [this link](https://www.kaggle.com/residentmario/data-types-and-missing-values).**\n",
    "\n",
    "---\n"
   ]
  },
  {
   "cell_type": "markdown",
   "id": "c2510f2a",
   "metadata": {
    "papermill": {
     "duration": 0.00395,
     "end_time": "2023-03-05T11:38:01.668830",
     "exception": false,
     "start_time": "2023-03-05T11:38:01.664880",
     "status": "completed"
    },
    "tags": []
   },
   "source": [
    "# Introduction\n",
    "\n",
    "Run the following cell to load your data and some utility functions."
   ]
  },
  {
   "cell_type": "code",
   "execution_count": 1,
   "id": "1d426514",
   "metadata": {
    "execution": {
     "iopub.execute_input": "2023-03-05T11:38:01.680515Z",
     "iopub.status.busy": "2023-03-05T11:38:01.679202Z",
     "iopub.status.idle": "2023-03-05T11:38:04.662486Z",
     "shell.execute_reply": "2023-03-05T11:38:04.661315Z"
    },
    "papermill": {
     "duration": 2.992524,
     "end_time": "2023-03-05T11:38:04.665549",
     "exception": false,
     "start_time": "2023-03-05T11:38:01.673025",
     "status": "completed"
    },
    "tags": []
   },
   "outputs": [
    {
     "name": "stdout",
     "output_type": "stream",
     "text": [
      "Setup complete.\n"
     ]
    }
   ],
   "source": [
    "import pandas as pd\n",
    "\n",
    "reviews = pd.read_csv(\"../input/wine-reviews/winemag-data-130k-v2.csv\", index_col=0)\n",
    "\n",
    "from learntools.core import binder; binder.bind(globals())\n",
    "from learntools.pandas.data_types_and_missing_data import *\n",
    "print(\"Setup complete.\")"
   ]
  },
  {
   "cell_type": "markdown",
   "id": "58ed7f42",
   "metadata": {
    "papermill": {
     "duration": 0.004079,
     "end_time": "2023-03-05T11:38:04.674184",
     "exception": false,
     "start_time": "2023-03-05T11:38:04.670105",
     "status": "completed"
    },
    "tags": []
   },
   "source": [
    "# Exercises"
   ]
  },
  {
   "cell_type": "markdown",
   "id": "6bef9121",
   "metadata": {
    "papermill": {
     "duration": 0.004002,
     "end_time": "2023-03-05T11:38:04.682579",
     "exception": false,
     "start_time": "2023-03-05T11:38:04.678577",
     "status": "completed"
    },
    "tags": []
   },
   "source": [
    "## 1. \n",
    "What is the data type of the `points` column in the dataset?"
   ]
  },
  {
   "cell_type": "code",
   "execution_count": 2,
   "id": "27167c9a",
   "metadata": {
    "execution": {
     "iopub.execute_input": "2023-03-05T11:38:04.693107Z",
     "iopub.status.busy": "2023-03-05T11:38:04.692630Z",
     "iopub.status.idle": "2023-03-05T11:38:04.704638Z",
     "shell.execute_reply": "2023-03-05T11:38:04.703204Z"
    },
    "papermill": {
     "duration": 0.02034,
     "end_time": "2023-03-05T11:38:04.707208",
     "exception": false,
     "start_time": "2023-03-05T11:38:04.686868",
     "status": "completed"
    },
    "tags": []
   },
   "outputs": [
    {
     "data": {
      "application/javascript": [
       "parent.postMessage({\"jupyterEvent\": \"custom.exercise_interaction\", \"data\": {\"outcomeType\": 1, \"valueTowardsCompletion\": 0.25, \"interactionType\": 1, \"questionType\": 1, \"questionId\": \"1_PointsDtype\", \"learnToolsVersion\": \"0.3.4\", \"failureMessage\": \"\", \"exceptionClass\": \"\", \"trace\": \"\"}}, \"*\")"
      ],
      "text/plain": [
       "<IPython.core.display.Javascript object>"
      ]
     },
     "metadata": {},
     "output_type": "display_data"
    },
    {
     "data": {
      "text/markdown": [
       "<span style=\"color:#33cc33\">Correct</span>"
      ],
      "text/plain": [
       "Correct"
      ]
     },
     "metadata": {},
     "output_type": "display_data"
    }
   ],
   "source": [
    "# Your code here\n",
    "dtype = reviews.points.dtype\n",
    "\n",
    "# Check your answer\n",
    "q1.check()"
   ]
  },
  {
   "cell_type": "code",
   "execution_count": 3,
   "id": "1ff42b3f",
   "metadata": {
    "execution": {
     "iopub.execute_input": "2023-03-05T11:38:04.720989Z",
     "iopub.status.busy": "2023-03-05T11:38:04.719828Z",
     "iopub.status.idle": "2023-03-05T11:38:04.725677Z",
     "shell.execute_reply": "2023-03-05T11:38:04.724216Z"
    },
    "papermill": {
     "duration": 0.016887,
     "end_time": "2023-03-05T11:38:04.729389",
     "exception": false,
     "start_time": "2023-03-05T11:38:04.712502",
     "status": "completed"
    },
    "tags": []
   },
   "outputs": [],
   "source": [
    "#q1.hint()\n",
    "#q1.solution()"
   ]
  },
  {
   "cell_type": "markdown",
   "id": "2c84959a",
   "metadata": {
    "papermill": {
     "duration": 0.004463,
     "end_time": "2023-03-05T11:38:04.739277",
     "exception": false,
     "start_time": "2023-03-05T11:38:04.734814",
     "status": "completed"
    },
    "tags": []
   },
   "source": [
    "## 2. \n",
    "Create a Series from entries in the `points` column, but convert the entries to strings. Hint: strings are `str` in native Python."
   ]
  },
  {
   "cell_type": "code",
   "execution_count": 4,
   "id": "7ad467d2",
   "metadata": {
    "execution": {
     "iopub.execute_input": "2023-03-05T11:38:04.751271Z",
     "iopub.status.busy": "2023-03-05T11:38:04.750106Z",
     "iopub.status.idle": "2023-03-05T11:38:04.840175Z",
     "shell.execute_reply": "2023-03-05T11:38:04.838901Z"
    },
    "papermill": {
     "duration": 0.098701,
     "end_time": "2023-03-05T11:38:04.842734",
     "exception": false,
     "start_time": "2023-03-05T11:38:04.744033",
     "status": "completed"
    },
    "tags": []
   },
   "outputs": [
    {
     "data": {
      "application/javascript": [
       "parent.postMessage({\"jupyterEvent\": \"custom.exercise_interaction\", \"data\": {\"outcomeType\": 1, \"valueTowardsCompletion\": 0.25, \"interactionType\": 1, \"questionType\": 1, \"questionId\": \"2_StrPoints\", \"learnToolsVersion\": \"0.3.4\", \"failureMessage\": \"\", \"exceptionClass\": \"\", \"trace\": \"\"}}, \"*\")"
      ],
      "text/plain": [
       "<IPython.core.display.Javascript object>"
      ]
     },
     "metadata": {},
     "output_type": "display_data"
    },
    {
     "data": {
      "text/markdown": [
       "<span style=\"color:#33cc33\">Correct</span>"
      ],
      "text/plain": [
       "Correct"
      ]
     },
     "metadata": {},
     "output_type": "display_data"
    }
   ],
   "source": [
    "point_strings = reviews.points.astype('str')\n",
    "\n",
    "# Check your answer\n",
    "q2.check()"
   ]
  },
  {
   "cell_type": "code",
   "execution_count": 5,
   "id": "ac0cf268",
   "metadata": {
    "execution": {
     "iopub.execute_input": "2023-03-05T11:38:04.855432Z",
     "iopub.status.busy": "2023-03-05T11:38:04.854124Z",
     "iopub.status.idle": "2023-03-05T11:38:04.860238Z",
     "shell.execute_reply": "2023-03-05T11:38:04.858717Z"
    },
    "papermill": {
     "duration": 0.015391,
     "end_time": "2023-03-05T11:38:04.863104",
     "exception": false,
     "start_time": "2023-03-05T11:38:04.847713",
     "status": "completed"
    },
    "tags": []
   },
   "outputs": [],
   "source": [
    "#q2.hint()\n",
    "#q2.solution()"
   ]
  },
  {
   "cell_type": "markdown",
   "id": "7c097c7e",
   "metadata": {
    "papermill": {
     "duration": 0.004691,
     "end_time": "2023-03-05T11:38:04.873076",
     "exception": false,
     "start_time": "2023-03-05T11:38:04.868385",
     "status": "completed"
    },
    "tags": []
   },
   "source": [
    "## 3.\n",
    "Sometimes the price column is null. How many reviews in the dataset are missing a price?"
   ]
  },
  {
   "cell_type": "code",
   "execution_count": 6,
   "id": "cca9fa3d",
   "metadata": {
    "execution": {
     "iopub.execute_input": "2023-03-05T11:38:04.885444Z",
     "iopub.status.busy": "2023-03-05T11:38:04.884582Z",
     "iopub.status.idle": "2023-03-05T11:38:04.902998Z",
     "shell.execute_reply": "2023-03-05T11:38:04.901783Z"
    },
    "papermill": {
     "duration": 0.027476,
     "end_time": "2023-03-05T11:38:04.905446",
     "exception": false,
     "start_time": "2023-03-05T11:38:04.877970",
     "status": "completed"
    },
    "tags": []
   },
   "outputs": [
    {
     "data": {
      "application/javascript": [
       "parent.postMessage({\"jupyterEvent\": \"custom.exercise_interaction\", \"data\": {\"outcomeType\": 1, \"valueTowardsCompletion\": 0.25, \"interactionType\": 1, \"questionType\": 1, \"questionId\": \"3_CountMissingPrices\", \"learnToolsVersion\": \"0.3.4\", \"failureMessage\": \"\", \"exceptionClass\": \"\", \"trace\": \"\"}}, \"*\")"
      ],
      "text/plain": [
       "<IPython.core.display.Javascript object>"
      ]
     },
     "metadata": {},
     "output_type": "display_data"
    },
    {
     "data": {
      "text/markdown": [
       "<span style=\"color:#33cc33\">Correct</span>"
      ],
      "text/plain": [
       "Correct"
      ]
     },
     "metadata": {},
     "output_type": "display_data"
    }
   ],
   "source": [
    "missing_prices = reviews[reviews.price.isnull()]\n",
    "n_missing_prices = len(missing_prices)\n",
    "\n",
    "# Check your answer\n",
    "q3.check()"
   ]
  },
  {
   "cell_type": "code",
   "execution_count": 7,
   "id": "20278a39",
   "metadata": {
    "execution": {
     "iopub.execute_input": "2023-03-05T11:38:04.918069Z",
     "iopub.status.busy": "2023-03-05T11:38:04.917039Z",
     "iopub.status.idle": "2023-03-05T11:38:04.924429Z",
     "shell.execute_reply": "2023-03-05T11:38:04.923620Z"
    },
    "papermill": {
     "duration": 0.015957,
     "end_time": "2023-03-05T11:38:04.926519",
     "exception": false,
     "start_time": "2023-03-05T11:38:04.910562",
     "status": "completed"
    },
    "tags": []
   },
   "outputs": [
    {
     "data": {
      "application/javascript": [
       "parent.postMessage({\"jupyterEvent\": \"custom.exercise_interaction\", \"data\": {\"interactionType\": 3, \"questionType\": 1, \"questionId\": \"3_CountMissingPrices\", \"learnToolsVersion\": \"0.3.4\", \"valueTowardsCompletion\": 0.0, \"failureMessage\": \"\", \"exceptionClass\": \"\", \"trace\": \"\", \"outcomeType\": 4}}, \"*\")"
      ],
      "text/plain": [
       "<IPython.core.display.Javascript object>"
      ]
     },
     "metadata": {},
     "output_type": "display_data"
    },
    {
     "data": {
      "text/markdown": [
       "<span style=\"color:#33cc99\">Solution:</span> \n",
       "```python\n",
       "missing_price_reviews = reviews[reviews.price.isnull()]\n",
       "n_missing_prices = len(missing_price_reviews)\n",
       "# Cute alternative solution: if we sum a boolean series, True is treated as 1 and False as 0\n",
       "n_missing_prices = reviews.price.isnull().sum()\n",
       "# or equivalently:\n",
       "n_missing_prices = pd.isnull(reviews.price).sum()\n",
       "\n",
       "```"
      ],
      "text/plain": [
       "Solution: \n",
       "```python\n",
       "missing_price_reviews = reviews[reviews.price.isnull()]\n",
       "n_missing_prices = len(missing_price_reviews)\n",
       "# Cute alternative solution: if we sum a boolean series, True is treated as 1 and False as 0\n",
       "n_missing_prices = reviews.price.isnull().sum()\n",
       "# or equivalently:\n",
       "n_missing_prices = pd.isnull(reviews.price).sum()\n",
       "\n",
       "```"
      ]
     },
     "metadata": {},
     "output_type": "display_data"
    }
   ],
   "source": [
    "#q3.hint()\n",
    "q3.solution()"
   ]
  },
  {
   "cell_type": "markdown",
   "id": "0926afff",
   "metadata": {
    "papermill": {
     "duration": 0.005083,
     "end_time": "2023-03-05T11:38:04.936944",
     "exception": false,
     "start_time": "2023-03-05T11:38:04.931861",
     "status": "completed"
    },
    "tags": []
   },
   "source": [
    "## 4.\n",
    "What are the most common wine-producing regions? Create a Series counting the number of times each value occurs in the `region_1` field. This field is often missing data, so replace missing values with `Unknown`. Sort in descending order.  Your output should look something like this:\n",
    "\n",
    "```\n",
    "Unknown                    21247\n",
    "Napa Valley                 4480\n",
    "                           ...  \n",
    "Bardolino Superiore            1\n",
    "Primitivo del Tarantino        1\n",
    "Name: region_1, Length: 1230, dtype: int64\n",
    "```"
   ]
  },
  {
   "cell_type": "code",
   "execution_count": 8,
   "id": "bb5c2ccf",
   "metadata": {
    "execution": {
     "iopub.execute_input": "2023-03-05T11:38:04.950208Z",
     "iopub.status.busy": "2023-03-05T11:38:04.949224Z",
     "iopub.status.idle": "2023-03-05T11:38:04.996670Z",
     "shell.execute_reply": "2023-03-05T11:38:04.995429Z"
    },
    "papermill": {
     "duration": 0.056625,
     "end_time": "2023-03-05T11:38:04.999131",
     "exception": false,
     "start_time": "2023-03-05T11:38:04.942506",
     "status": "completed"
    },
    "tags": []
   },
   "outputs": [
    {
     "data": {
      "application/javascript": [
       "parent.postMessage({\"jupyterEvent\": \"custom.exercise_interaction\", \"data\": {\"outcomeType\": 1, \"valueTowardsCompletion\": 0.25, \"interactionType\": 1, \"questionType\": 2, \"questionId\": \"4_ReviewsPerRegion\", \"learnToolsVersion\": \"0.3.4\", \"failureMessage\": \"\", \"exceptionClass\": \"\", \"trace\": \"\"}}, \"*\")"
      ],
      "text/plain": [
       "<IPython.core.display.Javascript object>"
      ]
     },
     "metadata": {},
     "output_type": "display_data"
    },
    {
     "data": {
      "text/markdown": [
       "<span style=\"color:#33cc33\">Correct</span>"
      ],
      "text/plain": [
       "Correct"
      ]
     },
     "metadata": {},
     "output_type": "display_data"
    }
   ],
   "source": [
    "replace_missing = reviews.region_1.fillna(\"Unknown\")\n",
    "reviews_per_region = replace_missing.value_counts().sort_values(ascending = False)\n",
    "\n",
    "# Check your answer\n",
    "q4.check()"
   ]
  },
  {
   "cell_type": "code",
   "execution_count": 9,
   "id": "afcf57a4",
   "metadata": {
    "execution": {
     "iopub.execute_input": "2023-03-05T11:38:05.012994Z",
     "iopub.status.busy": "2023-03-05T11:38:05.012566Z",
     "iopub.status.idle": "2023-03-05T11:38:05.021895Z",
     "shell.execute_reply": "2023-03-05T11:38:05.020576Z"
    },
    "papermill": {
     "duration": 0.019189,
     "end_time": "2023-03-05T11:38:05.024266",
     "exception": false,
     "start_time": "2023-03-05T11:38:05.005077",
     "status": "completed"
    },
    "tags": []
   },
   "outputs": [
    {
     "data": {
      "application/javascript": [
       "parent.postMessage({\"jupyterEvent\": \"custom.exercise_interaction\", \"data\": {\"interactionType\": 3, \"questionType\": 2, \"questionId\": \"4_ReviewsPerRegion\", \"learnToolsVersion\": \"0.3.4\", \"valueTowardsCompletion\": 0.0, \"failureMessage\": \"\", \"exceptionClass\": \"\", \"trace\": \"\", \"outcomeType\": 4}}, \"*\")"
      ],
      "text/plain": [
       "<IPython.core.display.Javascript object>"
      ]
     },
     "metadata": {},
     "output_type": "display_data"
    },
    {
     "data": {
      "text/markdown": [
       "<span style=\"color:#33cc99\">Solution:</span> \n",
       "```python\n",
       "reviews_per_region = reviews.region_1.fillna('Unknown').value_counts().sort_values(ascending=False)\n",
       "```"
      ],
      "text/plain": [
       "Solution: \n",
       "```python\n",
       "reviews_per_region = reviews.region_1.fillna('Unknown').value_counts().sort_values(ascending=False)\n",
       "```"
      ]
     },
     "metadata": {},
     "output_type": "display_data"
    }
   ],
   "source": [
    "#q4.hint()\n",
    "q4.solution()"
   ]
  },
  {
   "cell_type": "markdown",
   "id": "3e049fd0",
   "metadata": {
    "papermill": {
     "duration": 0.005557,
     "end_time": "2023-03-05T11:38:05.035838",
     "exception": false,
     "start_time": "2023-03-05T11:38:05.030281",
     "status": "completed"
    },
    "tags": []
   },
   "source": [
    "# Keep going\n",
    "\n",
    "Move on to **[renaming and combining](https://www.kaggle.com/residentmario/renaming-and-combining)**."
   ]
  },
  {
   "cell_type": "markdown",
   "id": "203bb90c",
   "metadata": {
    "papermill": {
     "duration": 0.005474,
     "end_time": "2023-03-05T11:38:05.047262",
     "exception": false,
     "start_time": "2023-03-05T11:38:05.041788",
     "status": "completed"
    },
    "tags": []
   },
   "source": [
    "---\n",
    "\n",
    "\n",
    "\n",
    "\n",
    "*Have questions or comments? Visit the [course discussion forum](https://www.kaggle.com/learn/pandas/discussion) to chat with other learners.*"
   ]
  }
 ],
 "metadata": {
  "kernelspec": {
   "display_name": "Python 3",
   "language": "python",
   "name": "python3"
  },
  "language_info": {
   "codemirror_mode": {
    "name": "ipython",
    "version": 3
   },
   "file_extension": ".py",
   "mimetype": "text/x-python",
   "name": "python",
   "nbconvert_exporter": "python",
   "pygments_lexer": "ipython3",
   "version": "3.7.12"
  },
  "papermill": {
   "default_parameters": {},
   "duration": 16.002582,
   "end_time": "2023-03-05T11:38:05.775270",
   "environment_variables": {},
   "exception": null,
   "input_path": "__notebook__.ipynb",
   "output_path": "__notebook__.ipynb",
   "parameters": {},
   "start_time": "2023-03-05T11:37:49.772688",
   "version": "2.4.0"
  }
 },
 "nbformat": 4,
 "nbformat_minor": 5
}
