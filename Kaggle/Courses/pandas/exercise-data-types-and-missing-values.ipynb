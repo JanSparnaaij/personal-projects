{
 "cells": [
  {
   "cell_type": "markdown",
   "id": "05a2c9e6",
   "metadata": {
    "papermill": {
     "duration": 0.005155,
     "end_time": "2023-03-05T11:29:01.752208",
     "exception": false,
     "start_time": "2023-03-05T11:29:01.747053",
     "status": "completed"
    },
    "tags": []
   },
   "source": [
    "**This notebook is an exercise in the [Pandas](https://www.kaggle.com/learn/pandas) course.  You can reference the tutorial at [this link](https://www.kaggle.com/residentmario/data-types-and-missing-values).**\n",
    "\n",
    "---\n"
   ]
  },
  {
   "cell_type": "markdown",
   "id": "2d6eda30",
   "metadata": {
    "papermill": {
     "duration": 0.003765,
     "end_time": "2023-03-05T11:29:01.760221",
     "exception": false,
     "start_time": "2023-03-05T11:29:01.756456",
     "status": "completed"
    },
    "tags": []
   },
   "source": [
    "# Introduction\n",
    "\n",
    "Run the following cell to load your data and some utility functions."
   ]
  },
  {
   "cell_type": "code",
   "execution_count": 1,
   "id": "55012256",
   "metadata": {
    "execution": {
     "iopub.execute_input": "2023-03-05T11:29:01.770957Z",
     "iopub.status.busy": "2023-03-05T11:29:01.770502Z",
     "iopub.status.idle": "2023-03-05T11:29:05.125057Z",
     "shell.execute_reply": "2023-03-05T11:29:05.123664Z"
    },
    "papermill": {
     "duration": 3.363208,
     "end_time": "2023-03-05T11:29:05.127939",
     "exception": false,
     "start_time": "2023-03-05T11:29:01.764731",
     "status": "completed"
    },
    "tags": []
   },
   "outputs": [
    {
     "name": "stdout",
     "output_type": "stream",
     "text": [
      "Setup complete.\n"
     ]
    }
   ],
   "source": [
    "import pandas as pd\n",
    "\n",
    "reviews = pd.read_csv(\"../input/wine-reviews/winemag-data-130k-v2.csv\", index_col=0)\n",
    "\n",
    "from learntools.core import binder; binder.bind(globals())\n",
    "from learntools.pandas.data_types_and_missing_data import *\n",
    "print(\"Setup complete.\")"
   ]
  },
  {
   "cell_type": "markdown",
   "id": "891f5c23",
   "metadata": {
    "papermill": {
     "duration": 0.003716,
     "end_time": "2023-03-05T11:29:05.135754",
     "exception": false,
     "start_time": "2023-03-05T11:29:05.132038",
     "status": "completed"
    },
    "tags": []
   },
   "source": [
    "# Exercises"
   ]
  },
  {
   "cell_type": "markdown",
   "id": "663bd8b8",
   "metadata": {
    "papermill": {
     "duration": 0.003711,
     "end_time": "2023-03-05T11:29:05.143458",
     "exception": false,
     "start_time": "2023-03-05T11:29:05.139747",
     "status": "completed"
    },
    "tags": []
   },
   "source": [
    "## 1. \n",
    "What is the data type of the `points` column in the dataset?"
   ]
  },
  {
   "cell_type": "code",
   "execution_count": 2,
   "id": "09856815",
   "metadata": {
    "execution": {
     "iopub.execute_input": "2023-03-05T11:29:05.153623Z",
     "iopub.status.busy": "2023-03-05T11:29:05.152927Z",
     "iopub.status.idle": "2023-03-05T11:29:05.164507Z",
     "shell.execute_reply": "2023-03-05T11:29:05.162985Z"
    },
    "papermill": {
     "duration": 0.019729,
     "end_time": "2023-03-05T11:29:05.167080",
     "exception": false,
     "start_time": "2023-03-05T11:29:05.147351",
     "status": "completed"
    },
    "tags": []
   },
   "outputs": [
    {
     "data": {
      "application/javascript": [
       "parent.postMessage({\"jupyterEvent\": \"custom.exercise_interaction\", \"data\": {\"outcomeType\": 4, \"interactionType\": 1, \"questionType\": 1, \"questionId\": \"1_PointsDtype\", \"learnToolsVersion\": \"0.3.4\", \"valueTowardsCompletion\": 0.0, \"failureMessage\": \"\", \"exceptionClass\": \"\", \"trace\": \"\"}}, \"*\")"
      ],
      "text/plain": [
       "<IPython.core.display.Javascript object>"
      ]
     },
     "metadata": {},
     "output_type": "display_data"
    },
    {
     "data": {
      "text/markdown": [
       "<span style=\"color:#ccaa33\">Check:</span> When you've updated the starter code, `check()` will tell you whether your code is correct. You need to update the code that creates variable `dtype`"
      ],
      "text/plain": [
       "Check: When you've updated the starter code, `check()` will tell you whether your code is correct. You need to update the code that creates variable `dtype`"
      ]
     },
     "metadata": {},
     "output_type": "display_data"
    }
   ],
   "source": [
    "# Your code here\n",
    "dtype = ____\n",
    "\n",
    "# Check your answer\n",
    "q1.check()"
   ]
  },
  {
   "cell_type": "code",
   "execution_count": 3,
   "id": "3dd0e080",
   "metadata": {
    "execution": {
     "iopub.execute_input": "2023-03-05T11:29:05.178521Z",
     "iopub.status.busy": "2023-03-05T11:29:05.177426Z",
     "iopub.status.idle": "2023-03-05T11:29:05.182556Z",
     "shell.execute_reply": "2023-03-05T11:29:05.181177Z"
    },
    "papermill": {
     "duration": 0.013874,
     "end_time": "2023-03-05T11:29:05.185342",
     "exception": false,
     "start_time": "2023-03-05T11:29:05.171468",
     "status": "completed"
    },
    "tags": []
   },
   "outputs": [],
   "source": [
    "#q1.hint()\n",
    "#q1.solution()"
   ]
  },
  {
   "cell_type": "markdown",
   "id": "a6e761ca",
   "metadata": {
    "papermill": {
     "duration": 0.004265,
     "end_time": "2023-03-05T11:29:05.194402",
     "exception": false,
     "start_time": "2023-03-05T11:29:05.190137",
     "status": "completed"
    },
    "tags": []
   },
   "source": [
    "## 2. \n",
    "Create a Series from entries in the `points` column, but convert the entries to strings. Hint: strings are `str` in native Python."
   ]
  },
  {
   "cell_type": "code",
   "execution_count": 4,
   "id": "dab13e7d",
   "metadata": {
    "execution": {
     "iopub.execute_input": "2023-03-05T11:29:05.205680Z",
     "iopub.status.busy": "2023-03-05T11:29:05.204867Z",
     "iopub.status.idle": "2023-03-05T11:29:05.214968Z",
     "shell.execute_reply": "2023-03-05T11:29:05.213927Z"
    },
    "papermill": {
     "duration": 0.018531,
     "end_time": "2023-03-05T11:29:05.217439",
     "exception": false,
     "start_time": "2023-03-05T11:29:05.198908",
     "status": "completed"
    },
    "tags": []
   },
   "outputs": [
    {
     "data": {
      "application/javascript": [
       "parent.postMessage({\"jupyterEvent\": \"custom.exercise_interaction\", \"data\": {\"outcomeType\": 4, \"interactionType\": 1, \"questionType\": 1, \"questionId\": \"2_StrPoints\", \"learnToolsVersion\": \"0.3.4\", \"valueTowardsCompletion\": 0.0, \"failureMessage\": \"\", \"exceptionClass\": \"\", \"trace\": \"\"}}, \"*\")"
      ],
      "text/plain": [
       "<IPython.core.display.Javascript object>"
      ]
     },
     "metadata": {},
     "output_type": "display_data"
    },
    {
     "data": {
      "text/markdown": [
       "<span style=\"color:#ccaa33\">Check:</span> When you've updated the starter code, `check()` will tell you whether your code is correct. You need to update the code that creates variable `point_strings`"
      ],
      "text/plain": [
       "Check: When you've updated the starter code, `check()` will tell you whether your code is correct. You need to update the code that creates variable `point_strings`"
      ]
     },
     "metadata": {},
     "output_type": "display_data"
    }
   ],
   "source": [
    "point_strings = ____\n",
    "\n",
    "# Check your answer\n",
    "q2.check()"
   ]
  },
  {
   "cell_type": "code",
   "execution_count": 5,
   "id": "6490eb79",
   "metadata": {
    "execution": {
     "iopub.execute_input": "2023-03-05T11:29:05.228790Z",
     "iopub.status.busy": "2023-03-05T11:29:05.228369Z",
     "iopub.status.idle": "2023-03-05T11:29:05.233516Z",
     "shell.execute_reply": "2023-03-05T11:29:05.232412Z"
    },
    "papermill": {
     "duration": 0.013851,
     "end_time": "2023-03-05T11:29:05.236020",
     "exception": false,
     "start_time": "2023-03-05T11:29:05.222169",
     "status": "completed"
    },
    "tags": []
   },
   "outputs": [],
   "source": [
    "#q2.hint()\n",
    "#q2.solution()"
   ]
  },
  {
   "cell_type": "markdown",
   "id": "49690f96",
   "metadata": {
    "papermill": {
     "duration": 0.004621,
     "end_time": "2023-03-05T11:29:05.245463",
     "exception": false,
     "start_time": "2023-03-05T11:29:05.240842",
     "status": "completed"
    },
    "tags": []
   },
   "source": [
    "## 3.\n",
    "Sometimes the price column is null. How many reviews in the dataset are missing a price?"
   ]
  },
  {
   "cell_type": "code",
   "execution_count": 6,
   "id": "ef5c1a1e",
   "metadata": {
    "execution": {
     "iopub.execute_input": "2023-03-05T11:29:05.257604Z",
     "iopub.status.busy": "2023-03-05T11:29:05.256740Z",
     "iopub.status.idle": "2023-03-05T11:29:05.265486Z",
     "shell.execute_reply": "2023-03-05T11:29:05.264457Z"
    },
    "papermill": {
     "duration": 0.017627,
     "end_time": "2023-03-05T11:29:05.267798",
     "exception": false,
     "start_time": "2023-03-05T11:29:05.250171",
     "status": "completed"
    },
    "tags": []
   },
   "outputs": [
    {
     "data": {
      "application/javascript": [
       "parent.postMessage({\"jupyterEvent\": \"custom.exercise_interaction\", \"data\": {\"outcomeType\": 4, \"interactionType\": 1, \"questionType\": 1, \"questionId\": \"3_CountMissingPrices\", \"learnToolsVersion\": \"0.3.4\", \"valueTowardsCompletion\": 0.0, \"failureMessage\": \"\", \"exceptionClass\": \"\", \"trace\": \"\"}}, \"*\")"
      ],
      "text/plain": [
       "<IPython.core.display.Javascript object>"
      ]
     },
     "metadata": {},
     "output_type": "display_data"
    },
    {
     "data": {
      "text/markdown": [
       "<span style=\"color:#ccaa33\">Check:</span> When you've updated the starter code, `check()` will tell you whether your code is correct. You need to update the code that creates variable `n_missing_prices`"
      ],
      "text/plain": [
       "Check: When you've updated the starter code, `check()` will tell you whether your code is correct. You need to update the code that creates variable `n_missing_prices`"
      ]
     },
     "metadata": {},
     "output_type": "display_data"
    }
   ],
   "source": [
    "n_missing_prices = ____\n",
    "\n",
    "# Check your answer\n",
    "q3.check()"
   ]
  },
  {
   "cell_type": "code",
   "execution_count": 7,
   "id": "263948ce",
   "metadata": {
    "execution": {
     "iopub.execute_input": "2023-03-05T11:29:05.279850Z",
     "iopub.status.busy": "2023-03-05T11:29:05.279397Z",
     "iopub.status.idle": "2023-03-05T11:29:05.284268Z",
     "shell.execute_reply": "2023-03-05T11:29:05.283124Z"
    },
    "papermill": {
     "duration": 0.013883,
     "end_time": "2023-03-05T11:29:05.286743",
     "exception": false,
     "start_time": "2023-03-05T11:29:05.272860",
     "status": "completed"
    },
    "tags": []
   },
   "outputs": [],
   "source": [
    "#q3.hint()\n",
    "#q3.solution()"
   ]
  },
  {
   "cell_type": "markdown",
   "id": "b1c5e0d2",
   "metadata": {
    "papermill": {
     "duration": 0.004725,
     "end_time": "2023-03-05T11:29:05.296666",
     "exception": false,
     "start_time": "2023-03-05T11:29:05.291941",
     "status": "completed"
    },
    "tags": []
   },
   "source": [
    "## 4.\n",
    "What are the most common wine-producing regions? Create a Series counting the number of times each value occurs in the `region_1` field. This field is often missing data, so replace missing values with `Unknown`. Sort in descending order.  Your output should look something like this:\n",
    "\n",
    "```\n",
    "Unknown                    21247\n",
    "Napa Valley                 4480\n",
    "                           ...  \n",
    "Bardolino Superiore            1\n",
    "Primitivo del Tarantino        1\n",
    "Name: region_1, Length: 1230, dtype: int64\n",
    "```"
   ]
  },
  {
   "cell_type": "code",
   "execution_count": 8,
   "id": "e3bb57e2",
   "metadata": {
    "execution": {
     "iopub.execute_input": "2023-03-05T11:29:05.308776Z",
     "iopub.status.busy": "2023-03-05T11:29:05.308298Z",
     "iopub.status.idle": "2023-03-05T11:29:05.317622Z",
     "shell.execute_reply": "2023-03-05T11:29:05.316305Z"
    },
    "papermill": {
     "duration": 0.018176,
     "end_time": "2023-03-05T11:29:05.319871",
     "exception": false,
     "start_time": "2023-03-05T11:29:05.301695",
     "status": "completed"
    },
    "tags": []
   },
   "outputs": [
    {
     "data": {
      "application/javascript": [
       "parent.postMessage({\"jupyterEvent\": \"custom.exercise_interaction\", \"data\": {\"outcomeType\": 4, \"interactionType\": 1, \"questionType\": 2, \"questionId\": \"4_ReviewsPerRegion\", \"learnToolsVersion\": \"0.3.4\", \"valueTowardsCompletion\": 0.0, \"failureMessage\": \"\", \"exceptionClass\": \"\", \"trace\": \"\"}}, \"*\")"
      ],
      "text/plain": [
       "<IPython.core.display.Javascript object>"
      ]
     },
     "metadata": {},
     "output_type": "display_data"
    },
    {
     "data": {
      "text/markdown": [
       "<span style=\"color:#ccaa33\">Check:</span> When you've updated the starter code, `check()` will tell you whether your code is correct. You need to update the code that creates variable `reviews_per_region`"
      ],
      "text/plain": [
       "Check: When you've updated the starter code, `check()` will tell you whether your code is correct. You need to update the code that creates variable `reviews_per_region`"
      ]
     },
     "metadata": {},
     "output_type": "display_data"
    }
   ],
   "source": [
    "reviews_per_region = ____\n",
    "\n",
    "# Check your answer\n",
    "q4.check()"
   ]
  },
  {
   "cell_type": "code",
   "execution_count": 9,
   "id": "39e69037",
   "metadata": {
    "execution": {
     "iopub.execute_input": "2023-03-05T11:29:05.333250Z",
     "iopub.status.busy": "2023-03-05T11:29:05.332843Z",
     "iopub.status.idle": "2023-03-05T11:29:05.336927Z",
     "shell.execute_reply": "2023-03-05T11:29:05.335912Z"
    },
    "papermill": {
     "duration": 0.013775,
     "end_time": "2023-03-05T11:29:05.339608",
     "exception": false,
     "start_time": "2023-03-05T11:29:05.325833",
     "status": "completed"
    },
    "tags": []
   },
   "outputs": [],
   "source": [
    "#q4.hint()\n",
    "#q4.solution()"
   ]
  },
  {
   "cell_type": "markdown",
   "id": "f6b3ef54",
   "metadata": {
    "papermill": {
     "duration": 0.005219,
     "end_time": "2023-03-05T11:29:05.350393",
     "exception": false,
     "start_time": "2023-03-05T11:29:05.345174",
     "status": "completed"
    },
    "tags": []
   },
   "source": [
    "# Keep going\n",
    "\n",
    "Move on to **[renaming and combining](https://www.kaggle.com/residentmario/renaming-and-combining)**."
   ]
  },
  {
   "cell_type": "markdown",
   "id": "98f445a7",
   "metadata": {
    "papermill": {
     "duration": 0.005222,
     "end_time": "2023-03-05T11:29:05.361099",
     "exception": false,
     "start_time": "2023-03-05T11:29:05.355877",
     "status": "completed"
    },
    "tags": []
   },
   "source": [
    "---\n",
    "\n",
    "\n",
    "\n",
    "\n",
    "*Have questions or comments? Visit the [course discussion forum](https://www.kaggle.com/learn/pandas/discussion) to chat with other learners.*"
   ]
  }
 ],
 "metadata": {
  "kernelspec": {
   "display_name": "Python 3",
   "language": "python",
   "name": "python3"
  },
  "language_info": {
   "codemirror_mode": {
    "name": "ipython",
    "version": 3
   },
   "file_extension": ".py",
   "mimetype": "text/x-python",
   "name": "python",
   "nbconvert_exporter": "python",
   "pygments_lexer": "ipython3",
   "version": "3.7.12"
  },
  "papermill": {
   "default_parameters": {},
   "duration": 14.840882,
   "end_time": "2023-03-05T11:29:06.190502",
   "environment_variables": {},
   "exception": null,
   "input_path": "__notebook__.ipynb",
   "output_path": "__notebook__.ipynb",
   "parameters": {},
   "start_time": "2023-03-05T11:28:51.349620",
   "version": "2.4.0"
  }
 },
 "nbformat": 4,
 "nbformat_minor": 5
}
