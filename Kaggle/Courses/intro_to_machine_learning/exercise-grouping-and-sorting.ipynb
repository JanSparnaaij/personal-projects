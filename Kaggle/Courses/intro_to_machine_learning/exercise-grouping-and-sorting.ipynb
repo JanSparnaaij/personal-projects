{
 "cells": [
  {
   "cell_type": "markdown",
   "id": "ff7cc2ac",
   "metadata": {
    "papermill": {
     "duration": 0.006825,
     "end_time": "2023-03-05T11:25:32.476217",
     "exception": false,
     "start_time": "2023-03-05T11:25:32.469392",
     "status": "completed"
    },
    "tags": []
   },
   "source": [
    "**This notebook is an exercise in the [Pandas](https://www.kaggle.com/learn/pandas) course.  You can reference the tutorial at [this link](https://www.kaggle.com/residentmario/grouping-and-sorting).**\n",
    "\n",
    "---\n"
   ]
  },
  {
   "cell_type": "markdown",
   "id": "93b69c50",
   "metadata": {
    "papermill": {
     "duration": 0.005253,
     "end_time": "2023-03-05T11:25:32.487226",
     "exception": false,
     "start_time": "2023-03-05T11:25:32.481973",
     "status": "completed"
    },
    "tags": []
   },
   "source": [
    "# Introduction\n",
    "\n",
    "In these exercises we'll apply groupwise analysis to our dataset.\n",
    "\n",
    "Run the code cell below to load the data before running the exercises."
   ]
  },
  {
   "cell_type": "code",
   "execution_count": 1,
   "id": "8d218ebf",
   "metadata": {
    "execution": {
     "iopub.execute_input": "2023-03-05T11:25:32.500266Z",
     "iopub.status.busy": "2023-03-05T11:25:32.499841Z",
     "iopub.status.idle": "2023-03-05T11:25:35.287725Z",
     "shell.execute_reply": "2023-03-05T11:25:35.286478Z"
    },
    "papermill": {
     "duration": 2.798023,
     "end_time": "2023-03-05T11:25:35.290849",
     "exception": false,
     "start_time": "2023-03-05T11:25:32.492826",
     "status": "completed"
    },
    "tags": []
   },
   "outputs": [
    {
     "name": "stdout",
     "output_type": "stream",
     "text": [
      "Setup complete.\n"
     ]
    }
   ],
   "source": [
    "import pandas as pd\n",
    "\n",
    "reviews = pd.read_csv(\"../input/wine-reviews/winemag-data-130k-v2.csv\", index_col=0)\n",
    "#pd.set_option(\"display.max_rows\", 5)\n",
    "\n",
    "from learntools.core import binder; binder.bind(globals())\n",
    "from learntools.pandas.grouping_and_sorting import *\n",
    "print(\"Setup complete.\")"
   ]
  },
  {
   "cell_type": "markdown",
   "id": "6dec0ea4",
   "metadata": {
    "papermill": {
     "duration": 0.005561,
     "end_time": "2023-03-05T11:25:35.302713",
     "exception": false,
     "start_time": "2023-03-05T11:25:35.297152",
     "status": "completed"
    },
    "tags": []
   },
   "source": [
    "# Exercises"
   ]
  },
  {
   "cell_type": "markdown",
   "id": "abc70d62",
   "metadata": {
    "papermill": {
     "duration": 0.005777,
     "end_time": "2023-03-05T11:25:35.314251",
     "exception": false,
     "start_time": "2023-03-05T11:25:35.308474",
     "status": "completed"
    },
    "tags": []
   },
   "source": [
    "## 1.\n",
    "Who are the most common wine reviewers in the dataset? Create a `Series` whose index is the `taster_twitter_handle` category from the dataset, and whose values count how many reviews each person wrote."
   ]
  },
  {
   "cell_type": "code",
   "execution_count": 2,
   "id": "90862982",
   "metadata": {
    "execution": {
     "iopub.execute_input": "2023-03-05T11:25:35.328033Z",
     "iopub.status.busy": "2023-03-05T11:25:35.327032Z",
     "iopub.status.idle": "2023-03-05T11:25:35.356768Z",
     "shell.execute_reply": "2023-03-05T11:25:35.355358Z"
    },
    "papermill": {
     "duration": 0.039686,
     "end_time": "2023-03-05T11:25:35.359646",
     "exception": false,
     "start_time": "2023-03-05T11:25:35.319960",
     "status": "completed"
    },
    "tags": []
   },
   "outputs": [
    {
     "data": {
      "application/javascript": [
       "parent.postMessage({\"jupyterEvent\": \"custom.exercise_interaction\", \"data\": {\"outcomeType\": 1, \"valueTowardsCompletion\": 0.16666666666666666, \"interactionType\": 1, \"questionType\": 1, \"questionId\": \"1_ReviewsWritten\", \"learnToolsVersion\": \"0.3.4\", \"failureMessage\": \"\", \"exceptionClass\": \"\", \"trace\": \"\"}}, \"*\")"
      ],
      "text/plain": [
       "<IPython.core.display.Javascript object>"
      ]
     },
     "metadata": {},
     "output_type": "display_data"
    },
    {
     "data": {
      "text/markdown": [
       "<span style=\"color:#33cc33\">Correct:</span> \n",
       "\n",
       "\n",
       "```python\n",
       "reviews_written = reviews.groupby('taster_twitter_handle').size()\n",
       "```\n",
       "or\n",
       "```python\n",
       "reviews_written = reviews.groupby('taster_twitter_handle').taster_twitter_handle.count()\n",
       "```\n"
      ],
      "text/plain": [
       "Correct: \n",
       "\n",
       "\n",
       "```python\n",
       "reviews_written = reviews.groupby('taster_twitter_handle').size()\n",
       "```\n",
       "or\n",
       "```python\n",
       "reviews_written = reviews.groupby('taster_twitter_handle').taster_twitter_handle.count()\n",
       "```"
      ]
     },
     "metadata": {},
     "output_type": "display_data"
    }
   ],
   "source": [
    "# Your code here\n",
    "reviews_written = reviews.groupby('taster_twitter_handle').taster_twitter_handle.count()\n",
    "\n",
    "# Check your answer\n",
    "q1.check()"
   ]
  },
  {
   "cell_type": "code",
   "execution_count": 3,
   "id": "e1140e79",
   "metadata": {
    "execution": {
     "iopub.execute_input": "2023-03-05T11:25:35.374752Z",
     "iopub.status.busy": "2023-03-05T11:25:35.373795Z",
     "iopub.status.idle": "2023-03-05T11:25:35.385993Z",
     "shell.execute_reply": "2023-03-05T11:25:35.384873Z"
    },
    "papermill": {
     "duration": 0.021961,
     "end_time": "2023-03-05T11:25:35.388319",
     "exception": false,
     "start_time": "2023-03-05T11:25:35.366358",
     "status": "completed"
    },
    "tags": []
   },
   "outputs": [
    {
     "data": {
      "application/javascript": [
       "parent.postMessage({\"jupyterEvent\": \"custom.exercise_interaction\", \"data\": {\"interactionType\": 2, \"questionType\": 1, \"questionId\": \"1_ReviewsWritten\", \"learnToolsVersion\": \"0.3.4\", \"valueTowardsCompletion\": 0.0, \"failureMessage\": \"\", \"exceptionClass\": \"\", \"trace\": \"\", \"outcomeType\": 4}}, \"*\")"
      ],
      "text/plain": [
       "<IPython.core.display.Javascript object>"
      ]
     },
     "metadata": {},
     "output_type": "display_data"
    },
    {
     "data": {
      "text/markdown": [
       "<span style=\"color:#3366cc\">Hint:</span> Use the `groupby` operation and `size()` (or `count()`)."
      ],
      "text/plain": [
       "Hint: Use the `groupby` operation and `size()` (or `count()`)."
      ]
     },
     "metadata": {},
     "output_type": "display_data"
    },
    {
     "data": {
      "application/javascript": [
       "parent.postMessage({\"jupyterEvent\": \"custom.exercise_interaction\", \"data\": {\"interactionType\": 3, \"questionType\": 1, \"questionId\": \"1_ReviewsWritten\", \"learnToolsVersion\": \"0.3.4\", \"valueTowardsCompletion\": 0.0, \"failureMessage\": \"\", \"exceptionClass\": \"\", \"trace\": \"\", \"outcomeType\": 4}}, \"*\")"
      ],
      "text/plain": [
       "<IPython.core.display.Javascript object>"
      ]
     },
     "metadata": {},
     "output_type": "display_data"
    },
    {
     "data": {
      "text/markdown": [
       "<span style=\"color:#33cc99\">Solution:</span> \n",
       "```python\n",
       "reviews_written = reviews.groupby('taster_twitter_handle').size()\n",
       "```\n",
       "or\n",
       "```python\n",
       "reviews_written = reviews.groupby('taster_twitter_handle').taster_twitter_handle.count()\n",
       "```\n"
      ],
      "text/plain": [
       "Solution: \n",
       "```python\n",
       "reviews_written = reviews.groupby('taster_twitter_handle').size()\n",
       "```\n",
       "or\n",
       "```python\n",
       "reviews_written = reviews.groupby('taster_twitter_handle').taster_twitter_handle.count()\n",
       "```"
      ]
     },
     "metadata": {},
     "output_type": "display_data"
    }
   ],
   "source": [
    "q1.hint()\n",
    "q1.solution()"
   ]
  },
  {
   "cell_type": "markdown",
   "id": "32337c97",
   "metadata": {
    "papermill": {
     "duration": 0.006316,
     "end_time": "2023-03-05T11:25:35.401108",
     "exception": false,
     "start_time": "2023-03-05T11:25:35.394792",
     "status": "completed"
    },
    "tags": []
   },
   "source": [
    "## 2.\n",
    "What is the best wine I can buy for a given amount of money? Create a `Series` whose index is wine prices and whose values is the maximum number of points a wine costing that much was given in a review. Sort the values by price, ascending (so that `4.0` dollars is at the top and `3300.0` dollars is at the bottom)."
   ]
  },
  {
   "cell_type": "code",
   "execution_count": 4,
   "id": "0e199428",
   "metadata": {
    "execution": {
     "iopub.execute_input": "2023-03-05T11:25:35.416125Z",
     "iopub.status.busy": "2023-03-05T11:25:35.415036Z",
     "iopub.status.idle": "2023-03-05T11:25:35.428996Z",
     "shell.execute_reply": "2023-03-05T11:25:35.427880Z"
    },
    "papermill": {
     "duration": 0.023886,
     "end_time": "2023-03-05T11:25:35.431308",
     "exception": false,
     "start_time": "2023-03-05T11:25:35.407422",
     "status": "completed"
    },
    "tags": []
   },
   "outputs": [
    {
     "data": {
      "application/javascript": [
       "parent.postMessage({\"jupyterEvent\": \"custom.exercise_interaction\", \"data\": {\"outcomeType\": 1, \"valueTowardsCompletion\": 0.16666666666666666, \"interactionType\": 1, \"questionType\": 1, \"questionId\": \"2_BestRatingPerPrice\", \"learnToolsVersion\": \"0.3.4\", \"failureMessage\": \"\", \"exceptionClass\": \"\", \"trace\": \"\"}}, \"*\")"
      ],
      "text/plain": [
       "<IPython.core.display.Javascript object>"
      ]
     },
     "metadata": {},
     "output_type": "display_data"
    },
    {
     "data": {
      "text/markdown": [
       "<span style=\"color:#33cc33\">Correct</span>"
      ],
      "text/plain": [
       "Correct"
      ]
     },
     "metadata": {},
     "output_type": "display_data"
    }
   ],
   "source": [
    "best_rating_per_price = reviews.groupby('price')['points'].max().sort_index()\n",
    "\n",
    "# Check your answer\n",
    "q2.check()"
   ]
  },
  {
   "cell_type": "code",
   "execution_count": 5,
   "id": "3b6f41fa",
   "metadata": {
    "execution": {
     "iopub.execute_input": "2023-03-05T11:25:35.446656Z",
     "iopub.status.busy": "2023-03-05T11:25:35.445923Z",
     "iopub.status.idle": "2023-03-05T11:25:35.454212Z",
     "shell.execute_reply": "2023-03-05T11:25:35.453399Z"
    },
    "papermill": {
     "duration": 0.018169,
     "end_time": "2023-03-05T11:25:35.456222",
     "exception": false,
     "start_time": "2023-03-05T11:25:35.438053",
     "status": "completed"
    },
    "tags": []
   },
   "outputs": [
    {
     "data": {
      "application/javascript": [
       "parent.postMessage({\"jupyterEvent\": \"custom.exercise_interaction\", \"data\": {\"interactionType\": 3, \"questionType\": 1, \"questionId\": \"2_BestRatingPerPrice\", \"learnToolsVersion\": \"0.3.4\", \"valueTowardsCompletion\": 0.0, \"failureMessage\": \"\", \"exceptionClass\": \"\", \"trace\": \"\", \"outcomeType\": 4}}, \"*\")"
      ],
      "text/plain": [
       "<IPython.core.display.Javascript object>"
      ]
     },
     "metadata": {},
     "output_type": "display_data"
    },
    {
     "data": {
      "text/markdown": [
       "<span style=\"color:#33cc99\">Solution:</span> \n",
       "```python\n",
       "best_rating_per_price = reviews.groupby('price')['points'].max().sort_index()\n",
       "```"
      ],
      "text/plain": [
       "Solution: \n",
       "```python\n",
       "best_rating_per_price = reviews.groupby('price')['points'].max().sort_index()\n",
       "```"
      ]
     },
     "metadata": {},
     "output_type": "display_data"
    }
   ],
   "source": [
    "#q2.hint()\n",
    "q2.solution()"
   ]
  },
  {
   "cell_type": "markdown",
   "id": "48dd7cca",
   "metadata": {
    "papermill": {
     "duration": 0.007546,
     "end_time": "2023-03-05T11:25:35.470584",
     "exception": false,
     "start_time": "2023-03-05T11:25:35.463038",
     "status": "completed"
    },
    "tags": []
   },
   "source": [
    "## 3.\n",
    "What are the minimum and maximum prices for each `variety` of wine? Create a `DataFrame` whose index is the `variety` category from the dataset and whose values are the `min` and `max` values thereof."
   ]
  },
  {
   "cell_type": "code",
   "execution_count": 6,
   "id": "5cc59b4b",
   "metadata": {
    "execution": {
     "iopub.execute_input": "2023-03-05T11:25:35.486318Z",
     "iopub.status.busy": "2023-03-05T11:25:35.485282Z",
     "iopub.status.idle": "2023-03-05T11:25:35.510699Z",
     "shell.execute_reply": "2023-03-05T11:25:35.509692Z"
    },
    "papermill": {
     "duration": 0.035648,
     "end_time": "2023-03-05T11:25:35.512954",
     "exception": false,
     "start_time": "2023-03-05T11:25:35.477306",
     "status": "completed"
    },
    "tags": []
   },
   "outputs": [
    {
     "data": {
      "application/javascript": [
       "parent.postMessage({\"jupyterEvent\": \"custom.exercise_interaction\", \"data\": {\"outcomeType\": 1, \"valueTowardsCompletion\": 0.16666666666666666, \"interactionType\": 1, \"questionType\": 1, \"questionId\": \"3_PriceExtremes\", \"learnToolsVersion\": \"0.3.4\", \"failureMessage\": \"\", \"exceptionClass\": \"\", \"trace\": \"\"}}, \"*\")"
      ],
      "text/plain": [
       "<IPython.core.display.Javascript object>"
      ]
     },
     "metadata": {},
     "output_type": "display_data"
    },
    {
     "data": {
      "text/markdown": [
       "<span style=\"color:#33cc33\">Correct</span>"
      ],
      "text/plain": [
       "Correct"
      ]
     },
     "metadata": {},
     "output_type": "display_data"
    }
   ],
   "source": [
    "price_extremes = reviews.groupby('variety').price.agg([min,max])\n",
    "# Check your answer\n",
    "q3.check()"
   ]
  },
  {
   "cell_type": "code",
   "execution_count": 7,
   "id": "15476e1a",
   "metadata": {
    "execution": {
     "iopub.execute_input": "2023-03-05T11:25:35.529800Z",
     "iopub.status.busy": "2023-03-05T11:25:35.528991Z",
     "iopub.status.idle": "2023-03-05T11:25:35.538749Z",
     "shell.execute_reply": "2023-03-05T11:25:35.537793Z"
    },
    "papermill": {
     "duration": 0.020769,
     "end_time": "2023-03-05T11:25:35.541024",
     "exception": false,
     "start_time": "2023-03-05T11:25:35.520255",
     "status": "completed"
    },
    "tags": []
   },
   "outputs": [
    {
     "data": {
      "application/javascript": [
       "parent.postMessage({\"jupyterEvent\": \"custom.exercise_interaction\", \"data\": {\"interactionType\": 3, \"questionType\": 1, \"questionId\": \"3_PriceExtremes\", \"learnToolsVersion\": \"0.3.4\", \"valueTowardsCompletion\": 0.0, \"failureMessage\": \"\", \"exceptionClass\": \"\", \"trace\": \"\", \"outcomeType\": 4}}, \"*\")"
      ],
      "text/plain": [
       "<IPython.core.display.Javascript object>"
      ]
     },
     "metadata": {},
     "output_type": "display_data"
    },
    {
     "data": {
      "text/markdown": [
       "<span style=\"color:#33cc99\">Solution:</span> \n",
       "```python\n",
       "price_extremes = reviews.groupby('variety').price.agg([min, max])\n",
       "```"
      ],
      "text/plain": [
       "Solution: \n",
       "```python\n",
       "price_extremes = reviews.groupby('variety').price.agg([min, max])\n",
       "```"
      ]
     },
     "metadata": {},
     "output_type": "display_data"
    }
   ],
   "source": [
    "#q3.hint()\n",
    "q3.solution()"
   ]
  },
  {
   "cell_type": "markdown",
   "id": "4c6eaba9",
   "metadata": {
    "papermill": {
     "duration": 0.007181,
     "end_time": "2023-03-05T11:25:35.555809",
     "exception": false,
     "start_time": "2023-03-05T11:25:35.548628",
     "status": "completed"
    },
    "tags": []
   },
   "source": [
    "## 4.\n",
    "What are the most expensive wine varieties? Create a variable `sorted_varieties` containing a copy of the dataframe from the previous question where varieties are sorted in descending order based on minimum price, then on maximum price (to break ties)."
   ]
  },
  {
   "cell_type": "code",
   "execution_count": 8,
   "id": "b669a3f1",
   "metadata": {
    "execution": {
     "iopub.execute_input": "2023-03-05T11:25:35.573280Z",
     "iopub.status.busy": "2023-03-05T11:25:35.572169Z",
     "iopub.status.idle": "2023-03-05T11:25:35.584242Z",
     "shell.execute_reply": "2023-03-05T11:25:35.583301Z"
    },
    "papermill": {
     "duration": 0.023304,
     "end_time": "2023-03-05T11:25:35.586524",
     "exception": false,
     "start_time": "2023-03-05T11:25:35.563220",
     "status": "completed"
    },
    "tags": []
   },
   "outputs": [
    {
     "data": {
      "application/javascript": [
       "parent.postMessage({\"jupyterEvent\": \"custom.exercise_interaction\", \"data\": {\"outcomeType\": 1, \"valueTowardsCompletion\": 0.16666666666666666, \"interactionType\": 1, \"questionType\": 1, \"questionId\": \"4_SortedVarieties\", \"learnToolsVersion\": \"0.3.4\", \"failureMessage\": \"\", \"exceptionClass\": \"\", \"trace\": \"\"}}, \"*\")"
      ],
      "text/plain": [
       "<IPython.core.display.Javascript object>"
      ]
     },
     "metadata": {},
     "output_type": "display_data"
    },
    {
     "data": {
      "text/markdown": [
       "<span style=\"color:#33cc33\">Correct</span>"
      ],
      "text/plain": [
       "Correct"
      ]
     },
     "metadata": {},
     "output_type": "display_data"
    }
   ],
   "source": [
    "sorted_varieties = price_extremes.sort_values(by=['min','max'], ascending=False)\n",
    "# Check your answer\n",
    "q4.check()"
   ]
  },
  {
   "cell_type": "code",
   "execution_count": 9,
   "id": "ed5d4f8b",
   "metadata": {
    "execution": {
     "iopub.execute_input": "2023-03-05T11:25:35.603784Z",
     "iopub.status.busy": "2023-03-05T11:25:35.603069Z",
     "iopub.status.idle": "2023-03-05T11:25:35.611024Z",
     "shell.execute_reply": "2023-03-05T11:25:35.610204Z"
    },
    "papermill": {
     "duration": 0.018874,
     "end_time": "2023-03-05T11:25:35.613067",
     "exception": false,
     "start_time": "2023-03-05T11:25:35.594193",
     "status": "completed"
    },
    "tags": []
   },
   "outputs": [
    {
     "data": {
      "application/javascript": [
       "parent.postMessage({\"jupyterEvent\": \"custom.exercise_interaction\", \"data\": {\"interactionType\": 3, \"questionType\": 1, \"questionId\": \"4_SortedVarieties\", \"learnToolsVersion\": \"0.3.4\", \"valueTowardsCompletion\": 0.0, \"failureMessage\": \"\", \"exceptionClass\": \"\", \"trace\": \"\", \"outcomeType\": 4}}, \"*\")"
      ],
      "text/plain": [
       "<IPython.core.display.Javascript object>"
      ]
     },
     "metadata": {},
     "output_type": "display_data"
    },
    {
     "data": {
      "text/markdown": [
       "<span style=\"color:#33cc99\">Solution:</span> \n",
       "```python\n",
       "sorted_varieties = price_extremes.sort_values(by=['min', 'max'], ascending=False)\n",
       "```"
      ],
      "text/plain": [
       "Solution: \n",
       "```python\n",
       "sorted_varieties = price_extremes.sort_values(by=['min', 'max'], ascending=False)\n",
       "```"
      ]
     },
     "metadata": {},
     "output_type": "display_data"
    }
   ],
   "source": [
    "#q4.hint()\n",
    "q4.solution()"
   ]
  },
  {
   "cell_type": "markdown",
   "id": "2926af31",
   "metadata": {
    "papermill": {
     "duration": 0.007499,
     "end_time": "2023-03-05T11:25:35.628537",
     "exception": false,
     "start_time": "2023-03-05T11:25:35.621038",
     "status": "completed"
    },
    "tags": []
   },
   "source": [
    "## 5.\n",
    "Create a `Series` whose index is reviewers and whose values is the average review score given out by that reviewer. Hint: you will need the `taster_name` and `points` columns."
   ]
  },
  {
   "cell_type": "code",
   "execution_count": 10,
   "id": "76f119c2",
   "metadata": {
    "execution": {
     "iopub.execute_input": "2023-03-05T11:25:35.645735Z",
     "iopub.status.busy": "2023-03-05T11:25:35.645326Z",
     "iopub.status.idle": "2023-03-05T11:25:35.666422Z",
     "shell.execute_reply": "2023-03-05T11:25:35.665120Z"
    },
    "papermill": {
     "duration": 0.032592,
     "end_time": "2023-03-05T11:25:35.668772",
     "exception": false,
     "start_time": "2023-03-05T11:25:35.636180",
     "status": "completed"
    },
    "tags": []
   },
   "outputs": [
    {
     "data": {
      "application/javascript": [
       "parent.postMessage({\"jupyterEvent\": \"custom.exercise_interaction\", \"data\": {\"outcomeType\": 1, \"valueTowardsCompletion\": 0.16666666666666666, \"interactionType\": 1, \"questionType\": 1, \"questionId\": \"5_ReviewerMeanRatings\", \"learnToolsVersion\": \"0.3.4\", \"failureMessage\": \"\", \"exceptionClass\": \"\", \"trace\": \"\"}}, \"*\")"
      ],
      "text/plain": [
       "<IPython.core.display.Javascript object>"
      ]
     },
     "metadata": {},
     "output_type": "display_data"
    },
    {
     "data": {
      "text/markdown": [
       "<span style=\"color:#33cc33\">Correct</span>"
      ],
      "text/plain": [
       "Correct"
      ]
     },
     "metadata": {},
     "output_type": "display_data"
    }
   ],
   "source": [
    "reviewer_mean_ratings = reviews.groupby('taster_name').points.mean()\n",
    "\n",
    "# Check your answer\n",
    "q5.check()"
   ]
  },
  {
   "cell_type": "code",
   "execution_count": 11,
   "id": "2b0ed593",
   "metadata": {
    "execution": {
     "iopub.execute_input": "2023-03-05T11:25:35.687307Z",
     "iopub.status.busy": "2023-03-05T11:25:35.686663Z",
     "iopub.status.idle": "2023-03-05T11:25:35.691355Z",
     "shell.execute_reply": "2023-03-05T11:25:35.690361Z"
    },
    "papermill": {
     "duration": 0.016895,
     "end_time": "2023-03-05T11:25:35.693703",
     "exception": false,
     "start_time": "2023-03-05T11:25:35.676808",
     "status": "completed"
    },
    "tags": []
   },
   "outputs": [],
   "source": [
    "#q5.hint()\n",
    "#q5.solution()"
   ]
  },
  {
   "cell_type": "markdown",
   "id": "ef64b56d",
   "metadata": {
    "papermill": {
     "duration": 0.007947,
     "end_time": "2023-03-05T11:25:35.709907",
     "exception": false,
     "start_time": "2023-03-05T11:25:35.701960",
     "status": "completed"
    },
    "tags": []
   },
   "source": [
    "Are there significant differences in the average scores assigned by the various reviewers? Run the cell below to use the `describe()` method to see a summary of the range of values."
   ]
  },
  {
   "cell_type": "code",
   "execution_count": 12,
   "id": "24d098dd",
   "metadata": {
    "execution": {
     "iopub.execute_input": "2023-03-05T11:25:35.728810Z",
     "iopub.status.busy": "2023-03-05T11:25:35.727667Z",
     "iopub.status.idle": "2023-03-05T11:25:35.740047Z",
     "shell.execute_reply": "2023-03-05T11:25:35.738878Z"
    },
    "papermill": {
     "duration": 0.024828,
     "end_time": "2023-03-05T11:25:35.742899",
     "exception": false,
     "start_time": "2023-03-05T11:25:35.718071",
     "status": "completed"
    },
    "tags": []
   },
   "outputs": [
    {
     "data": {
      "text/plain": [
       "count    19.000000\n",
       "mean     88.233026\n",
       "std       1.243610\n",
       "min      85.855422\n",
       "25%      87.323501\n",
       "50%      88.536235\n",
       "75%      88.975256\n",
       "max      90.562551\n",
       "Name: points, dtype: float64"
      ]
     },
     "execution_count": 12,
     "metadata": {},
     "output_type": "execute_result"
    }
   ],
   "source": [
    "reviewer_mean_ratings.describe()"
   ]
  },
  {
   "cell_type": "markdown",
   "id": "ba839067",
   "metadata": {
    "papermill": {
     "duration": 0.007909,
     "end_time": "2023-03-05T11:25:35.759042",
     "exception": false,
     "start_time": "2023-03-05T11:25:35.751133",
     "status": "completed"
    },
    "tags": []
   },
   "source": [
    "## 6.\n",
    "What combination of countries and varieties are most common? Create a `Series` whose index is a `MultiIndex`of `{country, variety}` pairs. For example, a pinot noir produced in the US should map to `{\"US\", \"Pinot Noir\"}`. Sort the values in the `Series` in descending order based on wine count."
   ]
  },
  {
   "cell_type": "code",
   "execution_count": 13,
   "id": "d35fb11b",
   "metadata": {
    "execution": {
     "iopub.execute_input": "2023-03-05T11:25:35.777570Z",
     "iopub.status.busy": "2023-03-05T11:25:35.777115Z",
     "iopub.status.idle": "2023-03-05T11:25:35.813024Z",
     "shell.execute_reply": "2023-03-05T11:25:35.812253Z"
    },
    "papermill": {
     "duration": 0.047796,
     "end_time": "2023-03-05T11:25:35.815063",
     "exception": false,
     "start_time": "2023-03-05T11:25:35.767267",
     "status": "completed"
    },
    "tags": []
   },
   "outputs": [
    {
     "data": {
      "application/javascript": [
       "parent.postMessage({\"jupyterEvent\": \"custom.exercise_interaction\", \"data\": {\"outcomeType\": 1, \"valueTowardsCompletion\": 0.16666666666666666, \"interactionType\": 1, \"questionType\": 1, \"questionId\": \"6_GroupbyCountryVariety\", \"learnToolsVersion\": \"0.3.4\", \"failureMessage\": \"\", \"exceptionClass\": \"\", \"trace\": \"\"}}, \"*\")"
      ],
      "text/plain": [
       "<IPython.core.display.Javascript object>"
      ]
     },
     "metadata": {},
     "output_type": "display_data"
    },
    {
     "data": {
      "text/markdown": [
       "<span style=\"color:#33cc33\">Correct</span>"
      ],
      "text/plain": [
       "Correct"
      ]
     },
     "metadata": {},
     "output_type": "display_data"
    }
   ],
   "source": [
    "country_variety_counts = reviews.groupby(['country', 'variety']).size().sort_values(ascending = False)\n",
    "\n",
    "# Check your answer\n",
    "q6.check()"
   ]
  },
  {
   "cell_type": "code",
   "execution_count": 14,
   "id": "4293daa8",
   "metadata": {
    "execution": {
     "iopub.execute_input": "2023-03-05T11:25:35.834233Z",
     "iopub.status.busy": "2023-03-05T11:25:35.833221Z",
     "iopub.status.idle": "2023-03-05T11:25:35.841731Z",
     "shell.execute_reply": "2023-03-05T11:25:35.840803Z"
    },
    "papermill": {
     "duration": 0.020457,
     "end_time": "2023-03-05T11:25:35.843941",
     "exception": false,
     "start_time": "2023-03-05T11:25:35.823484",
     "status": "completed"
    },
    "tags": []
   },
   "outputs": [
    {
     "data": {
      "application/javascript": [
       "parent.postMessage({\"jupyterEvent\": \"custom.exercise_interaction\", \"data\": {\"interactionType\": 3, \"questionType\": 1, \"questionId\": \"6_GroupbyCountryVariety\", \"learnToolsVersion\": \"0.3.4\", \"valueTowardsCompletion\": 0.0, \"failureMessage\": \"\", \"exceptionClass\": \"\", \"trace\": \"\", \"outcomeType\": 4}}, \"*\")"
      ],
      "text/plain": [
       "<IPython.core.display.Javascript object>"
      ]
     },
     "metadata": {},
     "output_type": "display_data"
    },
    {
     "data": {
      "text/markdown": [
       "<span style=\"color:#33cc99\">Solution:</span> \n",
       "```python\n",
       "country_variety_counts = reviews.groupby(['country', 'variety']).size().sort_values(ascending=False)\n",
       "```"
      ],
      "text/plain": [
       "Solution: \n",
       "```python\n",
       "country_variety_counts = reviews.groupby(['country', 'variety']).size().sort_values(ascending=False)\n",
       "```"
      ]
     },
     "metadata": {},
     "output_type": "display_data"
    }
   ],
   "source": [
    "#q6.hint()\n",
    "q6.solution()"
   ]
  },
  {
   "cell_type": "markdown",
   "id": "1c16a3cc",
   "metadata": {
    "papermill": {
     "duration": 0.008482,
     "end_time": "2023-03-05T11:25:35.861424",
     "exception": false,
     "start_time": "2023-03-05T11:25:35.852942",
     "status": "completed"
    },
    "tags": []
   },
   "source": [
    "# Keep going\n",
    "\n",
    "Move on to the [**data types and missing data**](https://www.kaggle.com/residentmario/data-types-and-missing-values)."
   ]
  },
  {
   "cell_type": "markdown",
   "id": "2c9bdd6c",
   "metadata": {
    "papermill": {
     "duration": 0.008359,
     "end_time": "2023-03-05T11:25:35.878696",
     "exception": false,
     "start_time": "2023-03-05T11:25:35.870337",
     "status": "completed"
    },
    "tags": []
   },
   "source": [
    "---\n",
    "\n",
    "\n",
    "\n",
    "\n",
    "*Have questions or comments? Visit the [course discussion forum](https://www.kaggle.com/learn/pandas/discussion) to chat with other learners.*"
   ]
  }
 ],
 "metadata": {
  "kernelspec": {
   "display_name": "Python 3",
   "language": "python",
   "name": "python3"
  },
  "language_info": {
   "codemirror_mode": {
    "name": "ipython",
    "version": 3
   },
   "file_extension": ".py",
   "mimetype": "text/x-python",
   "name": "python",
   "nbconvert_exporter": "python",
   "pygments_lexer": "ipython3",
   "version": "3.7.12"
  },
  "papermill": {
   "default_parameters": {},
   "duration": 14.419183,
   "end_time": "2023-03-05T11:25:36.610369",
   "environment_variables": {},
   "exception": null,
   "input_path": "__notebook__.ipynb",
   "output_path": "__notebook__.ipynb",
   "parameters": {},
   "start_time": "2023-03-05T11:25:22.191186",
   "version": "2.4.0"
  }
 },
 "nbformat": 4,
 "nbformat_minor": 5
}
