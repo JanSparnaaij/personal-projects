{
 "cells": [
  {
   "cell_type": "markdown",
   "id": "5c05536e",
   "metadata": {
    "papermill": {
     "duration": 0.00793,
     "end_time": "2023-03-05T14:01:57.851557",
     "exception": false,
     "start_time": "2023-03-05T14:01:57.843627",
     "status": "completed"
    },
    "tags": []
   },
   "source": [
    "**This notebook is an exercise in the [Intro to Programming](https://www.kaggle.com/learn/intro-to-programming) course.  You can reference the tutorial at [this link](https://www.kaggle.com/alexisbcook/functions).**\n",
    "\n",
    "---\n"
   ]
  },
  {
   "cell_type": "markdown",
   "id": "61723a63",
   "metadata": {
    "papermill": {
     "duration": 0.005508,
     "end_time": "2023-03-05T14:01:57.863755",
     "exception": false,
     "start_time": "2023-03-05T14:01:57.858247",
     "status": "completed"
    },
    "tags": []
   },
   "source": [
    "In the tutorial, you learned about functions. In this exercise, you'll write some of your own!\n",
    "\n",
    "# Set up the notebook\n",
    "\n",
    "Run the next code cell without changes to set up the notebook."
   ]
  },
  {
   "cell_type": "code",
   "execution_count": 1,
   "id": "7f820c7b",
   "metadata": {
    "execution": {
     "iopub.execute_input": "2023-03-05T14:01:57.878333Z",
     "iopub.status.busy": "2023-03-05T14:01:57.877583Z",
     "iopub.status.idle": "2023-03-05T14:01:57.935957Z",
     "shell.execute_reply": "2023-03-05T14:01:57.934641Z"
    },
    "papermill": {
     "duration": 0.069255,
     "end_time": "2023-03-05T14:01:57.938937",
     "exception": false,
     "start_time": "2023-03-05T14:01:57.869682",
     "status": "completed"
    },
    "tags": []
   },
   "outputs": [
    {
     "name": "stdout",
     "output_type": "stream",
     "text": [
      "Setup complete.\n"
     ]
    }
   ],
   "source": [
    "# Set up the exercise\n",
    "import math\n",
    "from learntools.core import binder\n",
    "binder.bind(globals())\n",
    "from learntools.intro_to_programming.ex2 import *\n",
    "print('Setup complete.')"
   ]
  },
  {
   "cell_type": "markdown",
   "id": "9c580db1",
   "metadata": {
    "papermill": {
     "duration": 0.005655,
     "end_time": "2023-03-05T14:01:57.950802",
     "exception": false,
     "start_time": "2023-03-05T14:01:57.945147",
     "status": "completed"
    },
    "tags": []
   },
   "source": [
    "# Question 1\n",
    "\n",
    "In the [House Prices - Advanced Regression Techniques competition](https://www.kaggle.com/c/house-prices-advanced-regression-techniques/overview), you need to use information like the number of bedrooms and bathrooms to predict the price of a house.  Inspired by this competition, you'll write your own function to do this.\n",
    "\n",
    "In the next code cell, create a function `get_expected_cost()` that has two arguments:\n",
    "- `beds` - number of bedrooms \n",
    "- `baths` - number of bathrooms\n",
    "\n",
    "It should return the expected cost of a house with that number of bedrooms and bathrooms.  Assume that:\n",
    "- the expected cost for a house with 0 bedrooms and 0 bathrooms is `80000`.  \n",
    "- each bedroom adds `30000` to the expected cost\n",
    "- each bathroom adds `10000` to the expected cost.\n",
    "\n",
    "For instance, \n",
    "- a house with 1 bedroom and 1 bathroom has an expected cost of `120000`, and \n",
    "- a house with 2 bedrooms and 1 bathroom has an expected cost of `150000`."
   ]
  },
  {
   "cell_type": "code",
   "execution_count": 2,
   "id": "c78d03b8",
   "metadata": {
    "execution": {
     "iopub.execute_input": "2023-03-05T14:01:57.964719Z",
     "iopub.status.busy": "2023-03-05T14:01:57.964254Z",
     "iopub.status.idle": "2023-03-05T14:01:57.976592Z",
     "shell.execute_reply": "2023-03-05T14:01:57.975302Z"
    },
    "papermill": {
     "duration": 0.022512,
     "end_time": "2023-03-05T14:01:57.979254",
     "exception": false,
     "start_time": "2023-03-05T14:01:57.956742",
     "status": "completed"
    },
    "tags": []
   },
   "outputs": [
    {
     "data": {
      "application/javascript": [
       "parent.postMessage({\"jupyterEvent\": \"custom.exercise_interaction\", \"data\": {\"outcomeType\": 2, \"failureMessage\": \"Expected return value of `80000` given `beds=0`, `baths=0`, but got `<learntools.core.constants.PlaceholderValue object at 0x7f8d2aece110>` instead.\", \"interactionType\": 1, \"questionType\": 2, \"questionId\": \"1_GetExpectedCost\", \"learnToolsVersion\": \"0.3.4\", \"valueTowardsCompletion\": 0.0, \"exceptionClass\": \"\", \"trace\": \"\"}}, \"*\")"
      ],
      "text/plain": [
       "<IPython.core.display.Javascript object>"
      ]
     },
     "metadata": {},
     "output_type": "display_data"
    },
    {
     "data": {
      "text/markdown": [
       "<span style=\"color:#cc3333\">Incorrect:</span> Expected return value of `80000` given `beds=0`, `baths=0`, but got `<learntools.core.constants.PlaceholderValue object at 0x7f8d2aece110>` instead."
      ],
      "text/plain": [
       "Incorrect: Expected return value of `80000` given `beds=0`, `baths=0`, but got `<learntools.core.constants.PlaceholderValue object at 0x7f8d2aece110>` instead."
      ]
     },
     "metadata": {},
     "output_type": "display_data"
    }
   ],
   "source": [
    "# TODO: Complete the function\n",
    "def get_expected_cost(beds, baths):\n",
    "    value = ____\n",
    "    return value\n",
    "\n",
    "# Check your answer \n",
    "q1.check()"
   ]
  },
  {
   "cell_type": "code",
   "execution_count": 3,
   "id": "2b8bb1b8",
   "metadata": {
    "execution": {
     "iopub.execute_input": "2023-03-05T14:01:57.995989Z",
     "iopub.status.busy": "2023-03-05T14:01:57.995156Z",
     "iopub.status.idle": "2023-03-05T14:01:58.000341Z",
     "shell.execute_reply": "2023-03-05T14:01:57.999406Z"
    },
    "papermill": {
     "duration": 0.017202,
     "end_time": "2023-03-05T14:01:58.003353",
     "exception": false,
     "start_time": "2023-03-05T14:01:57.986151",
     "status": "completed"
    },
    "tags": []
   },
   "outputs": [],
   "source": [
    "# Uncomment to see a hint\n",
    "#q1.hint()\n",
    "\n",
    "# Uncomment to view the solution\n",
    "#q1.solution()"
   ]
  },
  {
   "cell_type": "markdown",
   "id": "713dbac4",
   "metadata": {
    "papermill": {
     "duration": 0.006567,
     "end_time": "2023-03-05T14:01:58.017487",
     "exception": false,
     "start_time": "2023-03-05T14:01:58.010920",
     "status": "completed"
    },
    "tags": []
   },
   "source": [
    "# Question 2\n",
    "\n",
    "You are thinking about buying a home and want to get an idea of how much you will spend, based on the number of bedrooms and bathrooms.  You are trying to decide between four different options:\n",
    "- Option 1: house with two bedrooms and three bathrooms\n",
    "- Option 2: house with three bedrooms and two bathrooms\n",
    "- Option 3: house with three bedrooms and three bathrooms\n",
    "- Option 4: house with three bedrooms and four bathrooms\n",
    "\n",
    "Use the `get_expected_cost()` function you defined in question 1 to set `option_1`, `option_2`, `option_3`, and `option_4` to the expected cost of each option."
   ]
  },
  {
   "cell_type": "code",
   "execution_count": 4,
   "id": "f0bae3d2",
   "metadata": {
    "execution": {
     "iopub.execute_input": "2023-03-05T14:01:58.033040Z",
     "iopub.status.busy": "2023-03-05T14:01:58.032322Z",
     "iopub.status.idle": "2023-03-05T14:01:58.046851Z",
     "shell.execute_reply": "2023-03-05T14:01:58.045138Z"
    },
    "papermill": {
     "duration": 0.025905,
     "end_time": "2023-03-05T14:01:58.049724",
     "exception": false,
     "start_time": "2023-03-05T14:01:58.023819",
     "status": "completed"
    },
    "tags": []
   },
   "outputs": [
    {
     "name": "stdout",
     "output_type": "stream",
     "text": [
      "<learntools.core.constants.PlaceholderValue object at 0x7f8d2aece110>\n",
      "<learntools.core.constants.PlaceholderValue object at 0x7f8d2aece110>\n",
      "<learntools.core.constants.PlaceholderValue object at 0x7f8d2aece110>\n",
      "<learntools.core.constants.PlaceholderValue object at 0x7f8d2aece110>\n"
     ]
    },
    {
     "data": {
      "application/javascript": [
       "parent.postMessage({\"jupyterEvent\": \"custom.exercise_interaction\", \"data\": {\"outcomeType\": 4, \"interactionType\": 1, \"questionType\": 1, \"questionId\": \"2_RunGetExpectedCost\", \"learnToolsVersion\": \"0.3.4\", \"valueTowardsCompletion\": 0.0, \"failureMessage\": \"\", \"exceptionClass\": \"\", \"trace\": \"\"}}, \"*\")"
      ],
      "text/plain": [
       "<IPython.core.display.Javascript object>"
      ]
     },
     "metadata": {},
     "output_type": "display_data"
    },
    {
     "data": {
      "text/markdown": [
       "<span style=\"color:#ccaa33\">Check:</span> When you've updated the starter code, `check()` will tell you whether your code is correct. You need to update the code that creates variables `option_one`, `option_two`, `option_three`, `option_four`"
      ],
      "text/plain": [
       "Check: When you've updated the starter code, `check()` will tell you whether your code is correct. You need to update the code that creates variables `option_one`, `option_two`, `option_three`, `option_four`"
      ]
     },
     "metadata": {},
     "output_type": "display_data"
    }
   ],
   "source": [
    "# TODO: Use the get_expected_cost function to fill in each value\n",
    "option_one = ____\n",
    "option_two = ____\n",
    "option_three = ____\n",
    "option_four = ____\n",
    "\n",
    "print(option_one)\n",
    "print(option_two)\n",
    "print(option_three)\n",
    "print(option_four)\n",
    "\n",
    "# Check your answer\n",
    "q2.check()"
   ]
  },
  {
   "cell_type": "code",
   "execution_count": 5,
   "id": "e64c13ef",
   "metadata": {
    "execution": {
     "iopub.execute_input": "2023-03-05T14:01:58.065312Z",
     "iopub.status.busy": "2023-03-05T14:01:58.064587Z",
     "iopub.status.idle": "2023-03-05T14:01:58.069515Z",
     "shell.execute_reply": "2023-03-05T14:01:58.068504Z"
    },
    "papermill": {
     "duration": 0.015755,
     "end_time": "2023-03-05T14:01:58.072096",
     "exception": false,
     "start_time": "2023-03-05T14:01:58.056341",
     "status": "completed"
    },
    "tags": []
   },
   "outputs": [],
   "source": [
    "# Uncomment to see a hint\n",
    "#q2.hint()\n",
    "\n",
    "# Uncomment to view the solution\n",
    "#q2.solution()"
   ]
  },
  {
   "cell_type": "markdown",
   "id": "20a6a347",
   "metadata": {
    "papermill": {
     "duration": 0.006318,
     "end_time": "2023-03-05T14:01:58.085161",
     "exception": false,
     "start_time": "2023-03-05T14:01:58.078843",
     "status": "completed"
    },
    "tags": []
   },
   "source": [
    "# Question 3\n",
    "\n",
    "You're a home decorator, and you'd like to use Python to streamline some of your work.  Specifically, you're creating a tool that you intend to use to calculate the cost of painting a room.\n",
    "\n",
    "As a first step, define a function `get_cost()` that takes as input:\n",
    "- `sqft_walls` = total square feet of walls to be painted\n",
    "- `sqft_ceiling` = square feet of ceiling to be painted\n",
    "- `sqft_per_gallon` = number of square feet that you can cover with one gallon of paint\n",
    "- `cost_per_gallon` = cost (in dollars) of one gallon of paint\n",
    "\n",
    "It should return the cost (in dollars) of putting one coat of paint on all walls and the ceiling.  Assume you can buy the exact amount of paint that you need, so you can buy partial gallons (e.g., if you need 7.523 gallons, you can buy that exact amount, instead of needing to buy 8 gallons and waste some paint).  Do not round your answer."
   ]
  },
  {
   "cell_type": "code",
   "execution_count": 6,
   "id": "74028e06",
   "metadata": {
    "execution": {
     "iopub.execute_input": "2023-03-05T14:01:58.101537Z",
     "iopub.status.busy": "2023-03-05T14:01:58.101088Z",
     "iopub.status.idle": "2023-03-05T14:01:58.111833Z",
     "shell.execute_reply": "2023-03-05T14:01:58.109903Z"
    },
    "papermill": {
     "duration": 0.023402,
     "end_time": "2023-03-05T14:01:58.115156",
     "exception": false,
     "start_time": "2023-03-05T14:01:58.091754",
     "status": "completed"
    },
    "tags": []
   },
   "outputs": [
    {
     "data": {
      "application/javascript": [
       "parent.postMessage({\"jupyterEvent\": \"custom.exercise_interaction\", \"data\": {\"outcomeType\": 2, \"failureMessage\": \"Expected return value of `21.599999999999998` given `sqft_walls=432`, `sqft_ceiling=144`, `sqft_per_gallon=400`, `cost_per_gallon=15`, but got `<learntools.core.constants.PlaceholderValue object at 0x7f8d2aece110>` instead.\", \"interactionType\": 1, \"questionType\": 2, \"questionId\": \"3_GetCostPaint\", \"learnToolsVersion\": \"0.3.4\", \"valueTowardsCompletion\": 0.0, \"exceptionClass\": \"\", \"trace\": \"\"}}, \"*\")"
      ],
      "text/plain": [
       "<IPython.core.display.Javascript object>"
      ]
     },
     "metadata": {},
     "output_type": "display_data"
    },
    {
     "data": {
      "text/markdown": [
       "<span style=\"color:#cc3333\">Incorrect:</span> Expected return value of `21.599999999999998` given `sqft_walls=432`, `sqft_ceiling=144`, `sqft_per_gallon=400`, `cost_per_gallon=15`, but got `<learntools.core.constants.PlaceholderValue object at 0x7f8d2aece110>` instead."
      ],
      "text/plain": [
       "Incorrect: Expected return value of `21.599999999999998` given `sqft_walls=432`, `sqft_ceiling=144`, `sqft_per_gallon=400`, `cost_per_gallon=15`, but got `<learntools.core.constants.PlaceholderValue object at 0x7f8d2aece110>` instead."
      ]
     },
     "metadata": {},
     "output_type": "display_data"
    }
   ],
   "source": [
    "# TODO: Finish defining the function\n",
    "def get_cost(sqft_walls, sqft_ceiling, sqft_per_gallon, cost_per_gallon):\n",
    "    cost = ____\n",
    "    return cost\n",
    "\n",
    "# Check your answer\n",
    "q3.check()"
   ]
  },
  {
   "cell_type": "code",
   "execution_count": 7,
   "id": "078e91a7",
   "metadata": {
    "execution": {
     "iopub.execute_input": "2023-03-05T14:01:58.132076Z",
     "iopub.status.busy": "2023-03-05T14:01:58.131638Z",
     "iopub.status.idle": "2023-03-05T14:01:58.136750Z",
     "shell.execute_reply": "2023-03-05T14:01:58.135442Z"
    },
    "papermill": {
     "duration": 0.016308,
     "end_time": "2023-03-05T14:01:58.139242",
     "exception": false,
     "start_time": "2023-03-05T14:01:58.122934",
     "status": "completed"
    },
    "tags": []
   },
   "outputs": [],
   "source": [
    "# Uncomment to see a hint\n",
    "#q3.hint()\n",
    "\n",
    "# Uncomment to view the solution\n",
    "#q3.solution()"
   ]
  },
  {
   "cell_type": "markdown",
   "id": "1284304e",
   "metadata": {
    "papermill": {
     "duration": 0.006719,
     "end_time": "2023-03-05T14:01:58.153119",
     "exception": false,
     "start_time": "2023-03-05T14:01:58.146400",
     "status": "completed"
    },
    "tags": []
   },
   "source": [
    "# Question 4\n",
    "\n",
    "Use the `get_cost()` function you defined in Question 3 to calculate the cost of applying one coat of paint to a room with:\n",
    "- 432 square feet of walls, and\n",
    "- 144 square feet of ceiling.\n",
    "\n",
    "Assume that one gallon of paint covers 400 square feet and costs $15.  As in Question 3, assume you can buy partial gallons of paint.  Do not round your answer."
   ]
  },
  {
   "cell_type": "code",
   "execution_count": 8,
   "id": "60a8fb17",
   "metadata": {
    "execution": {
     "iopub.execute_input": "2023-03-05T14:01:58.170243Z",
     "iopub.status.busy": "2023-03-05T14:01:58.169841Z",
     "iopub.status.idle": "2023-03-05T14:01:58.180596Z",
     "shell.execute_reply": "2023-03-05T14:01:58.178988Z"
    },
    "papermill": {
     "duration": 0.022712,
     "end_time": "2023-03-05T14:01:58.183287",
     "exception": false,
     "start_time": "2023-03-05T14:01:58.160575",
     "status": "completed"
    },
    "tags": []
   },
   "outputs": [
    {
     "data": {
      "application/javascript": [
       "parent.postMessage({\"jupyterEvent\": \"custom.exercise_interaction\", \"data\": {\"outcomeType\": 4, \"interactionType\": 1, \"questionType\": 1, \"questionId\": \"4_GetCostPaintExample\", \"learnToolsVersion\": \"0.3.4\", \"valueTowardsCompletion\": 0.0, \"failureMessage\": \"\", \"exceptionClass\": \"\", \"trace\": \"\"}}, \"*\")"
      ],
      "text/plain": [
       "<IPython.core.display.Javascript object>"
      ]
     },
     "metadata": {},
     "output_type": "display_data"
    },
    {
     "data": {
      "text/markdown": [
       "<span style=\"color:#ccaa33\">Check:</span> When you've updated the starter code, `check()` will tell you whether your code is correct. You need to update the code that creates variable `project_cost`"
      ],
      "text/plain": [
       "Check: When you've updated the starter code, `check()` will tell you whether your code is correct. You need to update the code that creates variable `project_cost`"
      ]
     },
     "metadata": {},
     "output_type": "display_data"
    }
   ],
   "source": [
    "# TODO: Set the project_cost variable to the cost of the project\n",
    "project_cost = ____\n",
    "\n",
    "# Check your answer\n",
    "q4.check()"
   ]
  },
  {
   "cell_type": "code",
   "execution_count": 9,
   "id": "a0f151c7",
   "metadata": {
    "execution": {
     "iopub.execute_input": "2023-03-05T14:01:58.200062Z",
     "iopub.status.busy": "2023-03-05T14:01:58.199641Z",
     "iopub.status.idle": "2023-03-05T14:01:58.205116Z",
     "shell.execute_reply": "2023-03-05T14:01:58.203753Z"
    },
    "papermill": {
     "duration": 0.017027,
     "end_time": "2023-03-05T14:01:58.207793",
     "exception": false,
     "start_time": "2023-03-05T14:01:58.190766",
     "status": "completed"
    },
    "tags": []
   },
   "outputs": [],
   "source": [
    "# Uncomment to see a hint\n",
    "#q4.hint()\n",
    "\n",
    "# Uncomment to view the solution\n",
    "#q4.solution()"
   ]
  },
  {
   "cell_type": "markdown",
   "id": "d4e0c7bd",
   "metadata": {
    "papermill": {
     "duration": 0.007354,
     "end_time": "2023-03-05T14:01:58.222558",
     "exception": false,
     "start_time": "2023-03-05T14:01:58.215204",
     "status": "completed"
    },
    "tags": []
   },
   "source": [
    "# 🌶️ Question 5\n",
    "\n",
    "Now say you can no longer buy fractions of a gallon.  (For instance, if you need 4.3 gallons to do a project, then you have to buy 5 gallons of paint.)\n",
    "\n",
    "With this new scenario, you will create a new function `get_actual_cost` that uses the same inputs and calculates the cost of your project.\n",
    "\n",
    "One function that you'll need to use to do this is `math.ceil()`.  We demonstrate usage of this function in the code cell below.  It takes as a number as input and rounds the number up to the nearest integer.  \n",
    "\n",
    "Run the next code cell to test this function for yourself.  Feel free to change the value of `test_value` and make sure `math.ceil()` returns the number you expect."
   ]
  },
  {
   "cell_type": "code",
   "execution_count": 10,
   "id": "2dcea3c0",
   "metadata": {
    "execution": {
     "iopub.execute_input": "2023-03-05T14:01:58.239461Z",
     "iopub.status.busy": "2023-03-05T14:01:58.238954Z",
     "iopub.status.idle": "2023-03-05T14:01:58.245958Z",
     "shell.execute_reply": "2023-03-05T14:01:58.244292Z"
    },
    "papermill": {
     "duration": 0.019411,
     "end_time": "2023-03-05T14:01:58.249290",
     "exception": false,
     "start_time": "2023-03-05T14:01:58.229879",
     "status": "completed"
    },
    "tags": []
   },
   "outputs": [
    {
     "name": "stdout",
     "output_type": "stream",
     "text": [
      "3\n"
     ]
    }
   ],
   "source": [
    "test_value = 2.17\n",
    "\n",
    "rounded_value = math.ceil(test_value)\n",
    "print(rounded_value)"
   ]
  },
  {
   "cell_type": "markdown",
   "id": "6c46e957",
   "metadata": {
    "papermill": {
     "duration": 0.007668,
     "end_time": "2023-03-05T14:01:58.264778",
     "exception": false,
     "start_time": "2023-03-05T14:01:58.257110",
     "status": "completed"
    },
    "tags": []
   },
   "source": [
    "Use the next code cell to define the function `get_actual_cost()`.  You'll need to use the `math.ceil()` function to do this.\n",
    "\n",
    "When answering this question, note that it's completely valid to define a function that makes use of another function.  For instance, we can define a function `round_up_and_divide_by_three` that makes use of the `math.ceil` function:\n",
    "```\n",
    "def round_up_and_divide_by_three(num):\n",
    "    new_value = math.ceil(num)\n",
    "    final_value = new_value / 3\n",
    "    return final_value\n",
    "```"
   ]
  },
  {
   "cell_type": "code",
   "execution_count": 11,
   "id": "d80f635a",
   "metadata": {
    "execution": {
     "iopub.execute_input": "2023-03-05T14:01:58.281974Z",
     "iopub.status.busy": "2023-03-05T14:01:58.281561Z",
     "iopub.status.idle": "2023-03-05T14:01:58.293347Z",
     "shell.execute_reply": "2023-03-05T14:01:58.291694Z"
    },
    "papermill": {
     "duration": 0.023935,
     "end_time": "2023-03-05T14:01:58.296361",
     "exception": false,
     "start_time": "2023-03-05T14:01:58.272426",
     "status": "completed"
    },
    "tags": []
   },
   "outputs": [
    {
     "data": {
      "application/javascript": [
       "parent.postMessage({\"jupyterEvent\": \"custom.exercise_interaction\", \"data\": {\"outcomeType\": 2, \"failureMessage\": \"Expected return value of `30` given `sqft_walls=432`, `sqft_ceiling=144`, `sqft_per_gallon=400`, `cost_per_gallon=15`, but got `<learntools.core.constants.PlaceholderValue object at 0x7f8d2aece110>` instead.\", \"interactionType\": 1, \"questionType\": 2, \"questionId\": \"5_NoMoreFractions\", \"learnToolsVersion\": \"0.3.4\", \"valueTowardsCompletion\": 0.0, \"exceptionClass\": \"\", \"trace\": \"\"}}, \"*\")"
      ],
      "text/plain": [
       "<IPython.core.display.Javascript object>"
      ]
     },
     "metadata": {},
     "output_type": "display_data"
    },
    {
     "data": {
      "text/markdown": [
       "<span style=\"color:#cc3333\">Incorrect:</span> Expected return value of `30` given `sqft_walls=432`, `sqft_ceiling=144`, `sqft_per_gallon=400`, `cost_per_gallon=15`, but got `<learntools.core.constants.PlaceholderValue object at 0x7f8d2aece110>` instead."
      ],
      "text/plain": [
       "Incorrect: Expected return value of `30` given `sqft_walls=432`, `sqft_ceiling=144`, `sqft_per_gallon=400`, `cost_per_gallon=15`, but got `<learntools.core.constants.PlaceholderValue object at 0x7f8d2aece110>` instead."
      ]
     },
     "metadata": {},
     "output_type": "display_data"
    }
   ],
   "source": [
    "def get_actual_cost(sqft_walls, sqft_ceiling, sqft_per_gallon, cost_per_gallon):\n",
    "    cost = ____\n",
    "    return cost\n",
    "\n",
    "# Check your answer\n",
    "q5.check()"
   ]
  },
  {
   "cell_type": "code",
   "execution_count": 12,
   "id": "071db134",
   "metadata": {
    "execution": {
     "iopub.execute_input": "2023-03-05T14:01:58.313989Z",
     "iopub.status.busy": "2023-03-05T14:01:58.313468Z",
     "iopub.status.idle": "2023-03-05T14:01:58.318677Z",
     "shell.execute_reply": "2023-03-05T14:01:58.317435Z"
    },
    "papermill": {
     "duration": 0.01738,
     "end_time": "2023-03-05T14:01:58.321553",
     "exception": false,
     "start_time": "2023-03-05T14:01:58.304173",
     "status": "completed"
    },
    "tags": []
   },
   "outputs": [],
   "source": [
    "# Uncomment to see a hint\n",
    "#q5.hint()\n",
    "\n",
    "# Uncomment to view the solution\n",
    "#q5.solution()"
   ]
  },
  {
   "cell_type": "markdown",
   "id": "2d37ffd0",
   "metadata": {
    "papermill": {
     "duration": 0.007662,
     "end_time": "2023-03-05T14:01:58.336831",
     "exception": false,
     "start_time": "2023-03-05T14:01:58.329169",
     "status": "completed"
    },
    "tags": []
   },
   "source": [
    "Once your function is verified as correct, run the next code cell to calculate the updated cost of your project."
   ]
  },
  {
   "cell_type": "code",
   "execution_count": 13,
   "id": "ee1f7b12",
   "metadata": {
    "execution": {
     "iopub.execute_input": "2023-03-05T14:01:58.357530Z",
     "iopub.status.busy": "2023-03-05T14:01:58.356780Z",
     "iopub.status.idle": "2023-03-05T14:01:58.364612Z",
     "shell.execute_reply": "2023-03-05T14:01:58.363247Z"
    },
    "papermill": {
     "duration": 0.023021,
     "end_time": "2023-03-05T14:01:58.367433",
     "exception": false,
     "start_time": "2023-03-05T14:01:58.344412",
     "status": "completed"
    },
    "tags": []
   },
   "outputs": [
    {
     "data": {
      "text/markdown": [],
      "text/plain": [
       "<learntools.core.constants.PlaceholderValue at 0x7f8d2aece110>"
      ]
     },
     "execution_count": 13,
     "metadata": {},
     "output_type": "execute_result"
    }
   ],
   "source": [
    "get_actual_cost(432, 144, 400, 15) "
   ]
  },
  {
   "cell_type": "markdown",
   "id": "9ff3593b",
   "metadata": {
    "papermill": {
     "duration": 0.008272,
     "end_time": "2023-03-05T14:01:58.383416",
     "exception": false,
     "start_time": "2023-03-05T14:01:58.375144",
     "status": "completed"
    },
    "tags": []
   },
   "source": [
    "Say you're working with a slightly larger room.  Run the next code cell to calculate the cost of the project."
   ]
  },
  {
   "cell_type": "code",
   "execution_count": 14,
   "id": "c3372dd7",
   "metadata": {
    "execution": {
     "iopub.execute_input": "2023-03-05T14:01:58.403032Z",
     "iopub.status.busy": "2023-03-05T14:01:58.402370Z",
     "iopub.status.idle": "2023-03-05T14:01:58.409811Z",
     "shell.execute_reply": "2023-03-05T14:01:58.408620Z"
    },
    "papermill": {
     "duration": 0.020753,
     "end_time": "2023-03-05T14:01:58.412176",
     "exception": false,
     "start_time": "2023-03-05T14:01:58.391423",
     "status": "completed"
    },
    "tags": []
   },
   "outputs": [
    {
     "data": {
      "text/markdown": [],
      "text/plain": [
       "<learntools.core.constants.PlaceholderValue at 0x7f8d2aece110>"
      ]
     },
     "execution_count": 14,
     "metadata": {},
     "output_type": "execute_result"
    }
   ],
   "source": [
    "get_actual_cost(594, 288, 400, 15) "
   ]
  },
  {
   "cell_type": "markdown",
   "id": "1d301692",
   "metadata": {
    "papermill": {
     "duration": 0.007829,
     "end_time": "2023-03-05T14:01:58.427653",
     "exception": false,
     "start_time": "2023-03-05T14:01:58.419824",
     "status": "completed"
    },
    "tags": []
   },
   "source": [
    "# Keep going\n",
    "\n",
    "Continue to learn about **[data types](https://www.kaggle.com/alexisbcook/data-types)**."
   ]
  },
  {
   "cell_type": "markdown",
   "id": "dde1c125",
   "metadata": {
    "papermill": {
     "duration": 0.007662,
     "end_time": "2023-03-05T14:01:58.443483",
     "exception": false,
     "start_time": "2023-03-05T14:01:58.435821",
     "status": "completed"
    },
    "tags": []
   },
   "source": [
    "---\n",
    "\n",
    "\n",
    "\n",
    "\n",
    "*Have questions or comments? Visit the [course discussion forum](https://www.kaggle.com/learn/intro-to-programming/discussion) to chat with other learners.*"
   ]
  }
 ],
 "metadata": {
  "kernelspec": {
   "display_name": "Python 3",
   "language": "python",
   "name": "python3"
  },
  "language_info": {
   "codemirror_mode": {
    "name": "ipython",
    "version": 3
   },
   "file_extension": ".py",
   "mimetype": "text/x-python",
   "name": "python",
   "nbconvert_exporter": "python",
   "pygments_lexer": "ipython3",
   "version": "3.7.12"
  },
  "papermill": {
   "default_parameters": {},
   "duration": 13.193679,
   "end_time": "2023-03-05T14:01:59.174549",
   "environment_variables": {},
   "exception": null,
   "input_path": "__notebook__.ipynb",
   "output_path": "__notebook__.ipynb",
   "parameters": {},
   "start_time": "2023-03-05T14:01:45.980870",
   "version": "2.4.0"
  }
 },
 "nbformat": 4,
 "nbformat_minor": 5
}
