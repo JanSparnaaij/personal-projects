{
 "cells": [
  {
   "cell_type": "markdown",
   "id": "0d899a9c",
   "metadata": {
    "papermill": {
     "duration": 0.008268,
     "end_time": "2023-03-06T20:31:46.504263",
     "exception": false,
     "start_time": "2023-03-06T20:31:46.495995",
     "status": "completed"
    },
    "tags": []
   },
   "source": [
    "**This notebook is an exercise in the [Intro to Programming](https://www.kaggle.com/learn/intro-to-programming) course.  You can reference the tutorial at [this link](https://www.kaggle.com/alexisbcook/conditions-and-conditional-statements).**\n",
    "\n",
    "---\n"
   ]
  },
  {
   "cell_type": "markdown",
   "id": "8e05bab0",
   "metadata": {
    "papermill": {
     "duration": 0.006618,
     "end_time": "2023-03-06T20:31:46.518054",
     "exception": false,
     "start_time": "2023-03-06T20:31:46.511436",
     "status": "completed"
    },
    "tags": []
   },
   "source": [
    "In the tutorial, you learned about conditions and conditional statements. In this exercise, you will use what you learned to answer several questions.\n",
    "\n",
    "# Set up the notebook\n",
    "\n",
    "Run the next code cell without changes to set up the notebook."
   ]
  },
  {
   "cell_type": "code",
   "execution_count": 1,
   "id": "5313ccd4",
   "metadata": {
    "execution": {
     "iopub.execute_input": "2023-03-06T20:31:46.534051Z",
     "iopub.status.busy": "2023-03-06T20:31:46.533628Z",
     "iopub.status.idle": "2023-03-06T20:31:46.587843Z",
     "shell.execute_reply": "2023-03-06T20:31:46.586530Z"
    },
    "papermill": {
     "duration": 0.067021,
     "end_time": "2023-03-06T20:31:46.591909",
     "exception": false,
     "start_time": "2023-03-06T20:31:46.524888",
     "status": "completed"
    },
    "tags": []
   },
   "outputs": [
    {
     "name": "stdout",
     "output_type": "stream",
     "text": [
      "Setup complete.\n"
     ]
    }
   ],
   "source": [
    "from learntools.core import binder\n",
    "binder.bind(globals())\n",
    "from learntools.intro_to_programming.ex4 import *\n",
    "print('Setup complete.')"
   ]
  },
  {
   "cell_type": "markdown",
   "id": "82b7e857",
   "metadata": {
    "papermill": {
     "duration": 0.006728,
     "end_time": "2023-03-06T20:31:46.606963",
     "exception": false,
     "start_time": "2023-03-06T20:31:46.600235",
     "status": "completed"
    },
    "tags": []
   },
   "source": [
    "# Question 1\n",
    "\n",
    "You work at a college admissions office.  When inspecting a dataset of college applicants, you notice that some students have represented their grades with letters (`\"A\"`, `\"B\"`, `\"C\"`, `\"D\"`, `\"F\"`), whereas others have represented their grades with a number between 0 and 100.\n",
    "\n",
    "You realize that for consistency, all of the grades should be formatted in the same way, and you decide to format them all as letters.  For the conversion, you decide to assign:\n",
    "- `\"A\"` - any grade 90-100, inclusive\n",
    "- `\"B\"` - any grade 80-89, inclusive\n",
    "- `\"C\"` - any grade 70-79, inclusive\n",
    "- `\"D\"` - any grade 60-69, inclusive\n",
    "- `\"F\"` - any grade <60\n",
    "\n",
    "Write a function `get_grade()` that takes as input:\n",
    "- `score` - an integer 0-100 corresponding to a numerical grade\n",
    "\n",
    "It should return a Python string with the letter grade that it corresponds to.  For instance,\n",
    "- A score of 85 corresponds to a B grade.  In other words, `get_grade(85)` should return `\"B\"`.\n",
    "- A score of 49 corresponds to an F grade.  In other words, `get_grade(49)` should return `\"F\"`.\n",
    "\n",
    "Make sure that when supplying the grade that is returned by the function, it is enclosed in quotes.  (For instance, if you want to return `\"A\"`, you should write `return \"A\"` and not `return A`.)"
   ]
  },
  {
   "cell_type": "code",
   "execution_count": 2,
   "id": "11fc5e29",
   "metadata": {
    "execution": {
     "iopub.execute_input": "2023-03-06T20:31:46.623221Z",
     "iopub.status.busy": "2023-03-06T20:31:46.622766Z",
     "iopub.status.idle": "2023-03-06T20:31:46.635911Z",
     "shell.execute_reply": "2023-03-06T20:31:46.634232Z"
    },
    "papermill": {
     "duration": 0.024839,
     "end_time": "2023-03-06T20:31:46.638977",
     "exception": false,
     "start_time": "2023-03-06T20:31:46.614138",
     "status": "completed"
    },
    "tags": []
   },
   "outputs": [
    {
     "data": {
      "application/javascript": [
       "parent.postMessage({\"jupyterEvent\": \"custom.exercise_interaction\", \"data\": {\"outcomeType\": 2, \"failureMessage\": \"Expected return value of `'F'` given `score=0`, but got `'A'` instead.\", \"interactionType\": 1, \"questionType\": 2, \"questionId\": \"1_GetGrade\", \"learnToolsVersion\": \"0.3.4\", \"valueTowardsCompletion\": 0.0, \"exceptionClass\": \"\", \"trace\": \"\"}}, \"*\")"
      ],
      "text/plain": [
       "<IPython.core.display.Javascript object>"
      ]
     },
     "metadata": {},
     "output_type": "display_data"
    },
    {
     "data": {
      "text/markdown": [
       "<span style=\"color:#cc3333\">Incorrect:</span> Expected return value of `'F'` given `score=0`, but got `'A'` instead."
      ],
      "text/plain": [
       "Incorrect: Expected return value of `'F'` given `score=0`, but got `'A'` instead."
      ]
     },
     "metadata": {},
     "output_type": "display_data"
    }
   ],
   "source": [
    "# TODO: Edit the function to return the correct grade for different scores\n",
    "def get_grade(score):\n",
    "    grade = \"A\"\n",
    "    return grade\n",
    "    \n",
    "# Check your answer\n",
    "q1.check()"
   ]
  },
  {
   "cell_type": "code",
   "execution_count": 3,
   "id": "079d3ded",
   "metadata": {
    "execution": {
     "iopub.execute_input": "2023-03-06T20:31:46.656579Z",
     "iopub.status.busy": "2023-03-06T20:31:46.656103Z",
     "iopub.status.idle": "2023-03-06T20:31:46.662102Z",
     "shell.execute_reply": "2023-03-06T20:31:46.660528Z"
    },
    "papermill": {
     "duration": 0.018276,
     "end_time": "2023-03-06T20:31:46.665154",
     "exception": false,
     "start_time": "2023-03-06T20:31:46.646878",
     "status": "completed"
    },
    "tags": []
   },
   "outputs": [],
   "source": [
    "# Uncomment to see a hint\n",
    "#q1.hint()\n",
    "\n",
    "# Uncomment to see the solution\n",
    "#q1.solution()"
   ]
  },
  {
   "cell_type": "markdown",
   "id": "05cd872e",
   "metadata": {
    "papermill": {
     "duration": 0.007123,
     "end_time": "2023-03-06T20:31:46.679692",
     "exception": false,
     "start_time": "2023-03-06T20:31:46.672569",
     "status": "completed"
    },
    "tags": []
   },
   "source": [
    "# Question 2\n",
    "\n",
    "In the exercise for the previous lesson, you wrote a function `cost_of_project()` that estimated the price of rings for an online shop that sells rings with custom engravings.  This function did not use conditional statements.  In this exercise, you will rewrite the function to use conditional statements.  Recall that the online shop has the following price structure:\n",
    "- Gold plated rings have a base cost of \\\\$50, and you charge \\\\$7 per engraved unit.  \n",
    "- Solid gold rings have a base cost of \\\\$100, and you charge \\\\$10 per engraved unit.\n",
    "- Spaces and punctuation are counted as engraved units.\n",
    "\n",
    "Your function `cost_of_project()` takes two arguments:\n",
    "- `engraving` - a Python string with the text of the engraving\n",
    "- `solid_gold` - a Boolean that indicates whether the ring is solid gold\n",
    "\n",
    "It should return the cost of the project.  \n",
    "\n",
    "The function has been partially completed for you, and you need to fill in the blanks to complete the function."
   ]
  },
  {
   "cell_type": "code",
   "execution_count": 4,
   "id": "4871abfc",
   "metadata": {
    "execution": {
     "iopub.execute_input": "2023-03-06T20:31:46.697268Z",
     "iopub.status.busy": "2023-03-06T20:31:46.696386Z",
     "iopub.status.idle": "2023-03-06T20:31:46.707217Z",
     "shell.execute_reply": "2023-03-06T20:31:46.705654Z"
    },
    "papermill": {
     "duration": 0.022851,
     "end_time": "2023-03-06T20:31:46.710087",
     "exception": false,
     "start_time": "2023-03-06T20:31:46.687236",
     "status": "completed"
    },
    "tags": []
   },
   "outputs": [
    {
     "data": {
      "application/javascript": [
       "parent.postMessage({\"jupyterEvent\": \"custom.exercise_interaction\", \"data\": {\"outcomeType\": 2, \"failureMessage\": \"Expected return value of `240` given `engraving='Charlie+Denver'`, `solid_gold=True`, but got `<learntools.core.constants.PlaceholderValue object at 0x7fec2cf53090>` instead.\", \"interactionType\": 1, \"questionType\": 2, \"questionId\": \"2_CostProjectPartDeux\", \"learnToolsVersion\": \"0.3.4\", \"valueTowardsCompletion\": 0.0, \"exceptionClass\": \"\", \"trace\": \"\"}}, \"*\")"
      ],
      "text/plain": [
       "<IPython.core.display.Javascript object>"
      ]
     },
     "metadata": {},
     "output_type": "display_data"
    },
    {
     "data": {
      "text/markdown": [
       "<span style=\"color:#cc3333\">Incorrect:</span> Expected return value of `240` given `engraving='Charlie+Denver'`, `solid_gold=True`, but got `<learntools.core.constants.PlaceholderValue object at 0x7fec2cf53090>` instead."
      ],
      "text/plain": [
       "Incorrect: Expected return value of `240` given `engraving='Charlie+Denver'`, `solid_gold=True`, but got `<learntools.core.constants.PlaceholderValue object at 0x7fec2cf53090>` instead."
      ]
     },
     "metadata": {},
     "output_type": "display_data"
    }
   ],
   "source": [
    "def cost_of_project(engraving, solid_gold):\n",
    "    if solid_gold == True:\n",
    "        cost = ____\n",
    "    else:\n",
    "        cost = ____\n",
    "    return cost\n",
    "\n",
    "# Check your answer\n",
    "q2.check()"
   ]
  },
  {
   "cell_type": "code",
   "execution_count": 5,
   "id": "79968389",
   "metadata": {
    "execution": {
     "iopub.execute_input": "2023-03-06T20:31:46.728498Z",
     "iopub.status.busy": "2023-03-06T20:31:46.727530Z",
     "iopub.status.idle": "2023-03-06T20:31:46.732411Z",
     "shell.execute_reply": "2023-03-06T20:31:46.731151Z"
    },
    "papermill": {
     "duration": 0.016998,
     "end_time": "2023-03-06T20:31:46.735080",
     "exception": false,
     "start_time": "2023-03-06T20:31:46.718082",
     "status": "completed"
    },
    "tags": []
   },
   "outputs": [],
   "source": [
    "# Uncomment to see a hint\n",
    "#q2.hint()\n",
    "\n",
    "# Uncomment to see the solution\n",
    "#q2.solution()"
   ]
  },
  {
   "cell_type": "markdown",
   "id": "d4210dcd",
   "metadata": {
    "papermill": {
     "duration": 0.008742,
     "end_time": "2023-03-06T20:31:46.751668",
     "exception": false,
     "start_time": "2023-03-06T20:31:46.742926",
     "status": "completed"
    },
    "tags": []
   },
   "source": [
    "# Question 3\n",
    "\n",
    "You are a programmer at a water agency.  Recently, you have been tasked to write a function `get_water_bill()` that takes as input:\n",
    "- `num_gallons` = the number of gallons of water that a customer used that month.  (This will always be an integer with no decimal part.)\n",
    "\n",
    "It should output the water bill.  \n",
    "\n",
    "The water agency uses this pricing structure:\n",
    "<table style=\"width: 100%;\">\n",
    "<tbody>\n",
    "<tr><th><b>Tier</b></th><th><b>Amount in gallons</b></th><th><b>Price per 1000 gallons</b></th></tr>\n",
    "<tr>\n",
    "<td>Tier 1</td>\n",
    "<td>0 - 8,000</td>\n",
    "<td>\\$5</td>\n",
    "</tr>\n",
    "<tr>\n",
    "<td>Tier 2</td>\n",
    "<td>8,001 - 22,000</td>\n",
    "<td>\\$6</td>\n",
    "</tr>\n",
    "<tr>\n",
    "<td>Tier 3</td>\n",
    "<td>22,001 - 30,000</td>\n",
    "<td>\\$7</td>\n",
    "</tr>\n",
    "<tr>\n",
    "<td>Tier 4</td>\n",
    "<td>30,001+</td>\n",
    "<td>\\$10</td>\n",
    "</tr>\n",
    "</tbody>\n",
    "</table>\n",
    "\n",
    "For example: \n",
    "- Someone who uses 10,000 gallons of water in a month is placed in Tier 2, and needs to pay a water bill of \\\\$6 * 10 = \\\\$60.  In other words, `get_water_bill(10000)` should return `60.0`.\n",
    "- Someone who uses 25,000 gallons of water in a month is placed in Tier 3, and needs to pay a water bill of \\\\$7 * 25 = \\\\$175.  In other words, `get_water_bill(25000)` should return `175.0`.\n",
    "\n",
    "**Do not round your answer.**  So, your answer might return fractions of a penny."
   ]
  },
  {
   "cell_type": "code",
   "execution_count": 6,
   "id": "ecf707b9",
   "metadata": {
    "execution": {
     "iopub.execute_input": "2023-03-06T20:31:46.769239Z",
     "iopub.status.busy": "2023-03-06T20:31:46.768769Z",
     "iopub.status.idle": "2023-03-06T20:31:46.780259Z",
     "shell.execute_reply": "2023-03-06T20:31:46.778898Z"
    },
    "papermill": {
     "duration": 0.023702,
     "end_time": "2023-03-06T20:31:46.783080",
     "exception": false,
     "start_time": "2023-03-06T20:31:46.759378",
     "status": "completed"
    },
    "tags": []
   },
   "outputs": [
    {
     "data": {
      "application/javascript": [
       "parent.postMessage({\"jupyterEvent\": \"custom.exercise_interaction\", \"data\": {\"outcomeType\": 2, \"failureMessage\": \"Expected return value of `0.0` given `num_gallons=0`, but got `1000` instead.\", \"interactionType\": 1, \"questionType\": 2, \"questionId\": \"3_GetWaterBill\", \"learnToolsVersion\": \"0.3.4\", \"valueTowardsCompletion\": 0.0, \"exceptionClass\": \"\", \"trace\": \"\"}}, \"*\")"
      ],
      "text/plain": [
       "<IPython.core.display.Javascript object>"
      ]
     },
     "metadata": {},
     "output_type": "display_data"
    },
    {
     "data": {
      "text/markdown": [
       "<span style=\"color:#cc3333\">Incorrect:</span> Expected return value of `0.0` given `num_gallons=0`, but got `1000` instead."
      ],
      "text/plain": [
       "Incorrect: Expected return value of `0.0` given `num_gallons=0`, but got `1000` instead."
      ]
     },
     "metadata": {},
     "output_type": "display_data"
    }
   ],
   "source": [
    "# TODO: Edit the function to return the correct bill for different\n",
    "# values of num_gallons\n",
    "def get_water_bill(num_gallons):\n",
    "    bill = 1000\n",
    "    return bill\n",
    "\n",
    "# Check your answer\n",
    "q3.check()"
   ]
  },
  {
   "cell_type": "code",
   "execution_count": 7,
   "id": "0490ea9a",
   "metadata": {
    "execution": {
     "iopub.execute_input": "2023-03-06T20:31:46.801142Z",
     "iopub.status.busy": "2023-03-06T20:31:46.800696Z",
     "iopub.status.idle": "2023-03-06T20:31:46.805831Z",
     "shell.execute_reply": "2023-03-06T20:31:46.804414Z"
    },
    "papermill": {
     "duration": 0.017086,
     "end_time": "2023-03-06T20:31:46.808270",
     "exception": false,
     "start_time": "2023-03-06T20:31:46.791184",
     "status": "completed"
    },
    "tags": []
   },
   "outputs": [],
   "source": [
    "# Uncomment to see a hint\n",
    "#q3.hint()\n",
    "\n",
    "# Uncomment to see the solution\n",
    "#q3.solution()"
   ]
  },
  {
   "cell_type": "markdown",
   "id": "eabc8368",
   "metadata": {
    "papermill": {
     "duration": 0.007494,
     "end_time": "2023-03-06T20:31:46.823565",
     "exception": false,
     "start_time": "2023-03-06T20:31:46.816071",
     "status": "completed"
    },
    "tags": []
   },
   "source": [
    "# Question 4\n",
    "\n",
    "You work for a company that provides data services.  For \\\\$100/month, your company provides 15 gigabytes (GB) of data.  Then, any additional data is billed at \\\\$0.10/MB (or \\\\$100/GB, since 1,000 MB are in 1 GB).\n",
    "\n",
    "Use the next code cell to write a function `get_phone_bill()` that takes as input:\n",
    "- `gb` = number of GB that the customer used in a month\n",
    "\n",
    "It should return the customer's total phone bill.\n",
    "\n",
    "For instance:\n",
    "- A customer who uses 10 GB of data in one month is billed only \\\\$100, since the usage stayed under 15 GB.  In other words, `get_phone_bill(10)` should return `100`.\n",
    "- A customer who uses 15.1 GB (or 15 GB + 100 MB) of data in one month has gone over by .1 GB, so they must pay \\\\$100 (cost of plan), plus \\\\$0.10 * 100 = \\\\$10, for a total bill of \\\\$110.  In other words, `get_phone_bill(15.1)` should return `110`.\n",
    "\n",
    "Do not round your answer."
   ]
  },
  {
   "cell_type": "code",
   "execution_count": 8,
   "id": "3208f7b5",
   "metadata": {
    "execution": {
     "iopub.execute_input": "2023-03-06T20:31:46.842324Z",
     "iopub.status.busy": "2023-03-06T20:31:46.840997Z",
     "iopub.status.idle": "2023-03-06T20:31:46.851065Z",
     "shell.execute_reply": "2023-03-06T20:31:46.850130Z"
    },
    "papermill": {
     "duration": 0.021954,
     "end_time": "2023-03-06T20:31:46.853326",
     "exception": false,
     "start_time": "2023-03-06T20:31:46.831372",
     "status": "completed"
    },
    "tags": []
   },
   "outputs": [
    {
     "data": {
      "application/javascript": [
       "parent.postMessage({\"jupyterEvent\": \"custom.exercise_interaction\", \"data\": {\"outcomeType\": 2, \"failureMessage\": \"Expected return value of `150.0` given `gb=15.5`, but got `100` instead.\", \"interactionType\": 1, \"questionType\": 2, \"questionId\": \"4_GetPhoneBill\", \"learnToolsVersion\": \"0.3.4\", \"valueTowardsCompletion\": 0.0, \"exceptionClass\": \"\", \"trace\": \"\"}}, \"*\")"
      ],
      "text/plain": [
       "<IPython.core.display.Javascript object>"
      ]
     },
     "metadata": {},
     "output_type": "display_data"
    },
    {
     "data": {
      "text/markdown": [
       "<span style=\"color:#cc3333\">Incorrect:</span> Expected return value of `150.0` given `gb=15.5`, but got `100` instead."
      ],
      "text/plain": [
       "Incorrect: Expected return value of `150.0` given `gb=15.5`, but got `100` instead."
      ]
     },
     "metadata": {},
     "output_type": "display_data"
    }
   ],
   "source": [
    "# TODO: Edit the function to return the correct bill for different\n",
    "# values of GB\n",
    "def get_phone_bill(gb):\n",
    "    bill = 100\n",
    "    return bill\n",
    "\n",
    "# Check your answer\n",
    "q4.check()"
   ]
  },
  {
   "cell_type": "code",
   "execution_count": 9,
   "id": "8a2e09c8",
   "metadata": {
    "execution": {
     "iopub.execute_input": "2023-03-06T20:31:46.874038Z",
     "iopub.status.busy": "2023-03-06T20:31:46.873110Z",
     "iopub.status.idle": "2023-03-06T20:31:46.878290Z",
     "shell.execute_reply": "2023-03-06T20:31:46.877118Z"
    },
    "papermill": {
     "duration": 0.019661,
     "end_time": "2023-03-06T20:31:46.881274",
     "exception": false,
     "start_time": "2023-03-06T20:31:46.861613",
     "status": "completed"
    },
    "tags": []
   },
   "outputs": [],
   "source": [
    "# Uncomment to see a hint\n",
    "#q4.hint()\n",
    "\n",
    "# Uncomment to see the solution\n",
    "#q4.solution()"
   ]
  },
  {
   "cell_type": "markdown",
   "id": "ca842bb2",
   "metadata": {
    "papermill": {
     "duration": 0.008557,
     "end_time": "2023-03-06T20:31:46.898458",
     "exception": false,
     "start_time": "2023-03-06T20:31:46.889901",
     "status": "completed"
    },
    "tags": []
   },
   "source": [
    "# 🌶️ Question 5\n",
    "\n",
    "In Mexico, foods and beverages that are high in saturated fat, trans fat, sugar, sodium, and/or calories appear with warning labels that are designed to help consumers make healthy food choices.\n",
    "\n",
    "For instance, the [box of cookies](https://world.openfoodfacts.org/product/7501000673209/florentinas-gamesa) in the image below appears with two labels (in the upper right corner):\n",
    "- EXCESO CALORÍAS (in English, EXCESS CALORIES)\n",
    "- EXCESO AZÚCARES (in English, EXCESS SUGAR)\n",
    "\n",
    "<center><img src=\"https://i.imgur.com/VXYKHnM.png\" alt=\"drawing\" width=\"500\"/></center>\n",
    "\n",
    "In this question, you'll work with a function `get_labels()` that takes the nutritional details about a food item and prints the needed warning labels.  This function takes several inputs:\n",
    "- `food_type` = one of `\"solid\"` or `\"liquid\"`\n",
    "- `serving_size` = size of one serving (if solid, in grams; if liquid, in milliliters)\n",
    "- `calories_per_serving` = calories in one serving\n",
    "- `saturated_fat_g` = grams of saturated fat in one serving\n",
    "- `trans_fat_g` = grams of trans fat in one serving\n",
    "- `sodium_mg` = mg of sodium in one serving\n",
    "- `sugars_g` = grams of sugar in one serving\n",
    "\n",
    "Note that some of the code here should feel unfamiliar to you, since we have not shared the details of how some of the functions like `excess_sugar()` or `excess_saturated_fat()` work.  But at a high level, these are functions that return a value of `True` if the food is deemed to have an excess of sugar or saturated fat, respectively.  These functions are used within the `get_labels()` function, and whenever there is an excess (of sugar or saturated fat, but also of trans fat, sodium, or calories), it prints the corresponding label."
   ]
  },
  {
   "cell_type": "code",
   "execution_count": 10,
   "id": "82dd31a3",
   "metadata": {
    "execution": {
     "iopub.execute_input": "2023-03-06T20:31:46.918125Z",
     "iopub.status.busy": "2023-03-06T20:31:46.917420Z",
     "iopub.status.idle": "2023-03-06T20:31:46.926180Z",
     "shell.execute_reply": "2023-03-06T20:31:46.925028Z"
    },
    "papermill": {
     "duration": 0.022557,
     "end_time": "2023-03-06T20:31:46.929405",
     "exception": false,
     "start_time": "2023-03-06T20:31:46.906848",
     "status": "completed"
    },
    "tags": []
   },
   "outputs": [],
   "source": [
    "# import functions needed to make get_labels work\n",
    "from learntools.intro_to_programming.ex4q5 import excess_sugar, excess_saturated_fat, excess_trans_fat, excess_sodium, excess_calories\n",
    "\n",
    "def get_labels(food_type, serving_size, calories_per_serving, saturated_fat_g, trans_fat_g, sodium_mg, sugars_g):\n",
    "    # Print messages based on findings\n",
    "    if excess_sugar(sugars_g, calories_per_serving) == True:\n",
    "        print(\"EXCESO AZÚCARES / EXCESS SUGAR\")\n",
    "    if excess_saturated_fat(saturated_fat_g, calories_per_serving) == True:\n",
    "        print(\"EXCESO GRASAS SATURADAS / EXCESS SATURATED FAT\")\n",
    "    if excess_trans_fat(trans_fat_g, calories_per_serving) == True:\n",
    "        print(\"EXCESO GRASAS TRANS / EXCESS TRANS FAT\")\n",
    "    if excess_sodium(calories_per_serving, sodium_mg) == True:\n",
    "        print(\"EXCESO SODIO / EXCESS SODIUM\")\n",
    "    if excess_calories(food_type, calories_per_serving, serving_size) == True:\n",
    "        print(\"EXCESO CALORÍAS / EXCESS CALORIES\")"
   ]
  },
  {
   "cell_type": "markdown",
   "id": "0fadedff",
   "metadata": {
    "papermill": {
     "duration": 0.007939,
     "end_time": "2023-03-06T20:31:46.945888",
     "exception": false,
     "start_time": "2023-03-06T20:31:46.937949",
     "status": "completed"
    },
    "tags": []
   },
   "source": [
    "The next code cell demonstrates how to use `get_labels()` to get the warning labels that the food item should contain.  We begin with [bologna](https://world.openfoodfacts.org/product/4099100179378/bologna).  Here is [an image](https://imgur.com/Cfcx72e) with all of the nutritional information.  Note that for this food,\n",
    "- `food_type = \"solid\"` (because bologna is a solid and not a liquid)\n",
    "- `serving_size = 32` (the serving size is 32 grams)\n",
    "- `calories_per_serving = 110` (there are 110 calories per serving)\n",
    "- `saturated_fat_g = 2.5` (there are 2.5 grams of saturated fat per serving)\n",
    "- `trans_fat_g = 0` (there are 0 grams of trans fat per serving)\n",
    "- `sodium_mg = 400` (there are 400 mg of sodium per serving)\n",
    "- `sugars_g = 1` (the nutrition facts say <1g, but we will round it up to 1 gram per serving to be safe)\n",
    "\n",
    "By supplying all of these values to the function, we can print the warning labels."
   ]
  },
  {
   "cell_type": "code",
   "execution_count": 11,
   "id": "19e74e53",
   "metadata": {
    "execution": {
     "iopub.execute_input": "2023-03-06T20:31:46.964708Z",
     "iopub.status.busy": "2023-03-06T20:31:46.964071Z",
     "iopub.status.idle": "2023-03-06T20:31:46.969864Z",
     "shell.execute_reply": "2023-03-06T20:31:46.968204Z"
    },
    "papermill": {
     "duration": 0.018861,
     "end_time": "2023-03-06T20:31:46.972992",
     "exception": false,
     "start_time": "2023-03-06T20:31:46.954131",
     "status": "completed"
    },
    "tags": []
   },
   "outputs": [
    {
     "name": "stdout",
     "output_type": "stream",
     "text": [
      "EXCESO GRASAS SATURADAS / EXCESS SATURATED FAT\n",
      "EXCESO SODIO / EXCESS SODIUM\n",
      "EXCESO CALORÍAS / EXCESS CALORIES\n"
     ]
    }
   ],
   "source": [
    "# bologna https://world.openfoodfacts.org/product/4099100179378/bologna\n",
    "get_labels(\"solid\", 32, 110, 2.5, 0, 400, 1)"
   ]
  },
  {
   "cell_type": "markdown",
   "id": "1a63b11e",
   "metadata": {
    "papermill": {
     "duration": 0.008012,
     "end_time": "2023-03-06T20:31:46.989562",
     "exception": false,
     "start_time": "2023-03-06T20:31:46.981550",
     "status": "completed"
    },
    "tags": []
   },
   "source": [
    "This bologna has three labels, printed in the output above.\n",
    "\n",
    "For the rest of this question, you will use the same `get_labels()` function to determine the labels for more foods.  This question is designed to help you get practice with feeling comfortable with code that other people have written, and where you don't have time to review every single line of code before interacting with it.  For instance, when you take the [Intro to Machine Learning course](http://www.kaggle.com/learn/intro-to-machine-learning), you'll work with a Python package called \"scikit-learn\", which is a large collection of code that you'll learn how to run without reviewing all of the code in detail (as it would take too long, and you can trust that it was implemented correctly).\n",
    "\n",
    "In general, as you continue coding in Python, you will often be running code that other people have written.  This is common practice for advanced programmers.\n",
    "\n",
    "In the next code cell, fill in the values for [this cereal](https://world.openfoodfacts.org/product/7501008023624/zucaritas-kellogg-s).  Here is [an image](https://imgur.com/a/MUxzHVU) with all of the nutritional information.\n",
    "\n",
    "**Note**: running the line of code below as-is will return an error.  You have to fill in the nutritional values first."
   ]
  },
  {
   "cell_type": "code",
   "execution_count": 12,
   "id": "255353f6",
   "metadata": {
    "execution": {
     "iopub.execute_input": "2023-03-06T20:31:47.009712Z",
     "iopub.status.busy": "2023-03-06T20:31:47.009288Z",
     "iopub.status.idle": "2023-03-06T20:31:47.014454Z",
     "shell.execute_reply": "2023-03-06T20:31:47.012961Z"
    },
    "papermill": {
     "duration": 0.018967,
     "end_time": "2023-03-06T20:31:47.017179",
     "exception": false,
     "start_time": "2023-03-06T20:31:46.998212",
     "status": "completed"
    },
    "tags": []
   },
   "outputs": [],
   "source": [
    "# zucaritas cereal https://world.openfoodfacts.org/product/7501008023624/zucaritas-kellogg-s\n",
    "# TODO: Uncomment the line below, fill in the values, and run the function\n",
    "#get_labels()"
   ]
  },
  {
   "cell_type": "markdown",
   "id": "36ef0f8c",
   "metadata": {
    "papermill": {
     "duration": 0.008019,
     "end_time": "2023-03-06T20:31:47.033541",
     "exception": false,
     "start_time": "2023-03-06T20:31:47.025522",
     "status": "completed"
    },
    "tags": []
   },
   "source": [
    "Next, try [these mozzarella sticks](https://world-es.openfoodfacts.org/producto/0062325540104/mozzarella-cheese-sticks).  Here is [an image](https://imgur.com/rcdB7VH) with all of the nutritional information."
   ]
  },
  {
   "cell_type": "code",
   "execution_count": 13,
   "id": "5f7743d8",
   "metadata": {
    "execution": {
     "iopub.execute_input": "2023-03-06T20:31:47.052339Z",
     "iopub.status.busy": "2023-03-06T20:31:47.051927Z",
     "iopub.status.idle": "2023-03-06T20:31:47.057710Z",
     "shell.execute_reply": "2023-03-06T20:31:47.056225Z"
    },
    "papermill": {
     "duration": 0.018676,
     "end_time": "2023-03-06T20:31:47.060566",
     "exception": false,
     "start_time": "2023-03-06T20:31:47.041890",
     "status": "completed"
    },
    "tags": []
   },
   "outputs": [],
   "source": [
    "# mozzarella sticks https://world-es.openfoodfacts.org/producto/0062325540104/mozzarella-cheese-sticks\n",
    "# TODO: Uncomment the line below, fill in the values, and run the function\n",
    "#get_labels()"
   ]
  },
  {
   "cell_type": "markdown",
   "id": "f17ca27c",
   "metadata": {
    "papermill": {
     "duration": 0.008155,
     "end_time": "2023-03-06T20:31:47.077176",
     "exception": false,
     "start_time": "2023-03-06T20:31:47.069021",
     "status": "completed"
    },
    "tags": []
   },
   "source": [
    "Feel free to skip to the end of the notebook now and run `q5.check()` to complete the exercise.  If you want to try more foods, \n",
    "- try [these cookies](https://world.openfoodfacts.org/product/0069700118545/biscuits-au-sucre-pretraches).  Here is [an image](https://imgur.com/2Bc271o) with all of the nutritional information.\n",
    "- try [this soda](https://world-es.openfoodfacts.org/producto/0078000113464/orange-soda-sunkist).  Here is [an image](https://imgur.com/RsBYa8E) with all of the nutritional information.\n",
    "\n",
    "Use the two code cells below for this."
   ]
  },
  {
   "cell_type": "code",
   "execution_count": 14,
   "id": "53ccd15a",
   "metadata": {
    "execution": {
     "iopub.execute_input": "2023-03-06T20:31:47.096063Z",
     "iopub.status.busy": "2023-03-06T20:31:47.095603Z",
     "iopub.status.idle": "2023-03-06T20:31:47.100365Z",
     "shell.execute_reply": "2023-03-06T20:31:47.099129Z"
    },
    "papermill": {
     "duration": 0.017559,
     "end_time": "2023-03-06T20:31:47.102952",
     "exception": false,
     "start_time": "2023-03-06T20:31:47.085393",
     "status": "completed"
    },
    "tags": []
   },
   "outputs": [],
   "source": [
    "# pillsbury cookies https://world.openfoodfacts.org/product/0069700118545/biscuits-au-sucre-pretraches\n",
    "# TODO: Uncomment the line below, fill in the values, and run the function\n",
    "#get_labels()"
   ]
  },
  {
   "cell_type": "code",
   "execution_count": 15,
   "id": "78a5827d",
   "metadata": {
    "execution": {
     "iopub.execute_input": "2023-03-06T20:31:47.122379Z",
     "iopub.status.busy": "2023-03-06T20:31:47.121470Z",
     "iopub.status.idle": "2023-03-06T20:31:47.127503Z",
     "shell.execute_reply": "2023-03-06T20:31:47.125770Z"
    },
    "papermill": {
     "duration": 0.018794,
     "end_time": "2023-03-06T20:31:47.130291",
     "exception": false,
     "start_time": "2023-03-06T20:31:47.111497",
     "status": "completed"
    },
    "tags": []
   },
   "outputs": [],
   "source": [
    "# sunkist orange soda https://world-es.openfoodfacts.org/producto/0078000113464/orange-soda-sunkist\n",
    "# TODO: Uncomment the line below, fill in the values, and run the function\n",
    "#get_labels()"
   ]
  },
  {
   "cell_type": "markdown",
   "id": "263e33cf",
   "metadata": {
    "papermill": {
     "duration": 0.008225,
     "end_time": "2023-03-06T20:31:47.146892",
     "exception": false,
     "start_time": "2023-03-06T20:31:47.138667",
     "status": "completed"
    },
    "tags": []
   },
   "source": [
    "Once you have finished investigating the food items in this question, run the final code cell to get credit for completing this problem."
   ]
  },
  {
   "cell_type": "code",
   "execution_count": 16,
   "id": "4a1932fa",
   "metadata": {
    "execution": {
     "iopub.execute_input": "2023-03-06T20:31:47.165738Z",
     "iopub.status.busy": "2023-03-06T20:31:47.165159Z",
     "iopub.status.idle": "2023-03-06T20:31:47.175842Z",
     "shell.execute_reply": "2023-03-06T20:31:47.174560Z"
    },
    "papermill": {
     "duration": 0.023294,
     "end_time": "2023-03-06T20:31:47.178419",
     "exception": false,
     "start_time": "2023-03-06T20:31:47.155125",
     "status": "completed"
    },
    "tags": []
   },
   "outputs": [
    {
     "data": {
      "application/javascript": [
       "parent.postMessage({\"jupyterEvent\": \"custom.exercise_interaction\", \"data\": {\"outcomeType\": 1, \"valueTowardsCompletion\": 0.2, \"interactionType\": 1, \"questionType\": 2, \"questionId\": \"5_GetLabels\", \"learnToolsVersion\": \"0.3.4\", \"failureMessage\": \"\", \"exceptionClass\": \"\", \"trace\": \"\"}}, \"*\")"
      ],
      "text/plain": [
       "<IPython.core.display.Javascript object>"
      ]
     },
     "metadata": {},
     "output_type": "display_data"
    },
    {
     "data": {
      "text/markdown": [
       "<span style=\"color:#33cc33\">Once you have determined the labels for all of the food items, you're ready to move on to the next lesson!</span>"
      ],
      "text/plain": [
       "Once you have determined the labels for all of the food items, you're ready to move on to the next lesson!"
      ]
     },
     "metadata": {},
     "output_type": "display_data"
    }
   ],
   "source": [
    "# Get credit for completing the problem\n",
    "q5.check()"
   ]
  },
  {
   "cell_type": "markdown",
   "id": "779ec9f3",
   "metadata": {
    "papermill": {
     "duration": 0.008367,
     "end_time": "2023-03-06T20:31:47.195443",
     "exception": false,
     "start_time": "2023-03-06T20:31:47.187076",
     "status": "completed"
    },
    "tags": []
   },
   "source": [
    "# Keep going\n",
    "\n",
    "Continue to the next lesson to **[learn about Python lists](https://www.kaggle.com/alexisbcook/intro-to-lists)**."
   ]
  },
  {
   "cell_type": "markdown",
   "id": "9040c853",
   "metadata": {
    "papermill": {
     "duration": 0.00844,
     "end_time": "2023-03-06T20:31:47.212910",
     "exception": false,
     "start_time": "2023-03-06T20:31:47.204470",
     "status": "completed"
    },
    "tags": []
   },
   "source": [
    "---\n",
    "\n",
    "\n",
    "\n",
    "\n",
    "*Have questions or comments? Visit the [course discussion forum](https://www.kaggle.com/learn/intro-to-programming/discussion) to chat with other learners.*"
   ]
  }
 ],
 "metadata": {
  "kernelspec": {
   "display_name": "Python 3",
   "language": "python",
   "name": "python3"
  },
  "language_info": {
   "codemirror_mode": {
    "name": "ipython",
    "version": 3
   },
   "file_extension": ".py",
   "mimetype": "text/x-python",
   "name": "python",
   "nbconvert_exporter": "python",
   "pygments_lexer": "ipython3",
   "version": "3.7.12"
  },
  "papermill": {
   "default_parameters": {},
   "duration": 12.538632,
   "end_time": "2023-03-06T20:31:47.945508",
   "environment_variables": {},
   "exception": null,
   "input_path": "__notebook__.ipynb",
   "output_path": "__notebook__.ipynb",
   "parameters": {},
   "start_time": "2023-03-06T20:31:35.406876",
   "version": "2.4.0"
  }
 },
 "nbformat": 4,
 "nbformat_minor": 5
}
