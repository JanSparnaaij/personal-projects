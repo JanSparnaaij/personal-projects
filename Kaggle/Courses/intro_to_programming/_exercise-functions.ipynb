{
 "cells": [
  {
   "cell_type": "markdown",
   "id": "1a304308",
   "metadata": {
    "papermill": {
     "duration": 0.005783,
     "end_time": "2023-03-05T14:08:38.616030",
     "exception": false,
     "start_time": "2023-03-05T14:08:38.610247",
     "status": "completed"
    },
    "tags": []
   },
   "source": [
    "**This notebook is an exercise in the [Intro to Programming](https://www.kaggle.com/learn/intro-to-programming) course.  You can reference the tutorial at [this link](https://www.kaggle.com/alexisbcook/functions).**\n",
    "\n",
    "---\n"
   ]
  },
  {
   "cell_type": "markdown",
   "id": "b74a5496",
   "metadata": {
    "papermill": {
     "duration": 0.004653,
     "end_time": "2023-03-05T14:08:38.625676",
     "exception": false,
     "start_time": "2023-03-05T14:08:38.621023",
     "status": "completed"
    },
    "tags": []
   },
   "source": [
    "In the tutorial, you learned about functions. In this exercise, you'll write some of your own!\n",
    "\n",
    "# Set up the notebook\n",
    "\n",
    "Run the next code cell without changes to set up the notebook."
   ]
  },
  {
   "cell_type": "code",
   "execution_count": 1,
   "id": "63ac9530",
   "metadata": {
    "execution": {
     "iopub.execute_input": "2023-03-05T14:08:38.639766Z",
     "iopub.status.busy": "2023-03-05T14:08:38.639290Z",
     "iopub.status.idle": "2023-03-05T14:08:38.693010Z",
     "shell.execute_reply": "2023-03-05T14:08:38.691107Z"
    },
    "papermill": {
     "duration": 0.062988,
     "end_time": "2023-03-05T14:08:38.695262",
     "exception": false,
     "start_time": "2023-03-05T14:08:38.632274",
     "status": "completed"
    },
    "tags": []
   },
   "outputs": [
    {
     "name": "stdout",
     "output_type": "stream",
     "text": [
      "Setup complete.\n"
     ]
    }
   ],
   "source": [
    "# Set up the exercise\n",
    "import math\n",
    "from learntools.core import binder\n",
    "binder.bind(globals())\n",
    "from learntools.intro_to_programming.ex2 import *\n",
    "print('Setup complete.')"
   ]
  },
  {
   "cell_type": "markdown",
   "id": "53b4967c",
   "metadata": {
    "papermill": {
     "duration": 0.004711,
     "end_time": "2023-03-05T14:08:38.705187",
     "exception": false,
     "start_time": "2023-03-05T14:08:38.700476",
     "status": "completed"
    },
    "tags": []
   },
   "source": [
    "# Question 1\n",
    "\n",
    "In the [House Prices - Advanced Regression Techniques competition](https://www.kaggle.com/c/house-prices-advanced-regression-techniques/overview), you need to use information like the number of bedrooms and bathrooms to predict the price of a house.  Inspired by this competition, you'll write your own function to do this.\n",
    "\n",
    "In the next code cell, create a function `get_expected_cost()` that has two arguments:\n",
    "- `beds` - number of bedrooms \n",
    "- `baths` - number of bathrooms\n",
    "\n",
    "It should return the expected cost of a house with that number of bedrooms and bathrooms.  Assume that:\n",
    "- the expected cost for a house with 0 bedrooms and 0 bathrooms is `80000`.  \n",
    "- each bedroom adds `30000` to the expected cost\n",
    "- each bathroom adds `10000` to the expected cost.\n",
    "\n",
    "For instance, \n",
    "- a house with 1 bedroom and 1 bathroom has an expected cost of `120000`, and \n",
    "- a house with 2 bedrooms and 1 bathroom has an expected cost of `150000`."
   ]
  },
  {
   "cell_type": "code",
   "execution_count": 2,
   "id": "748a273a",
   "metadata": {
    "execution": {
     "iopub.execute_input": "2023-03-05T14:08:38.716847Z",
     "iopub.status.busy": "2023-03-05T14:08:38.716480Z",
     "iopub.status.idle": "2023-03-05T14:08:38.728389Z",
     "shell.execute_reply": "2023-03-05T14:08:38.726758Z"
    },
    "papermill": {
     "duration": 0.020359,
     "end_time": "2023-03-05T14:08:38.730457",
     "exception": false,
     "start_time": "2023-03-05T14:08:38.710098",
     "status": "completed"
    },
    "tags": []
   },
   "outputs": [
    {
     "data": {
      "application/javascript": [
       "parent.postMessage({\"jupyterEvent\": \"custom.exercise_interaction\", \"data\": {\"outcomeType\": 1, \"valueTowardsCompletion\": 0.2, \"interactionType\": 1, \"questionType\": 2, \"questionId\": \"1_GetExpectedCost\", \"learnToolsVersion\": \"0.3.4\", \"failureMessage\": \"\", \"exceptionClass\": \"\", \"trace\": \"\"}}, \"*\")"
      ],
      "text/plain": [
       "<IPython.core.display.Javascript object>"
      ]
     },
     "metadata": {},
     "output_type": "display_data"
    },
    {
     "data": {
      "text/markdown": [
       "<span style=\"color:#33cc33\">Correct</span>"
      ],
      "text/plain": [
       "Correct"
      ]
     },
     "metadata": {},
     "output_type": "display_data"
    }
   ],
   "source": [
    "# TODO: Complete the function\n",
    "def get_expected_cost(beds, baths):\n",
    "    value = 80000 + beds * 30000 + baths * 10000\n",
    "    return value\n",
    "\n",
    "# Check your answer \n",
    "q1.check()"
   ]
  },
  {
   "cell_type": "code",
   "execution_count": 3,
   "id": "8c2af96a",
   "metadata": {
    "execution": {
     "iopub.execute_input": "2023-03-05T14:08:38.743285Z",
     "iopub.status.busy": "2023-03-05T14:08:38.742388Z",
     "iopub.status.idle": "2023-03-05T14:08:38.746832Z",
     "shell.execute_reply": "2023-03-05T14:08:38.745670Z"
    },
    "papermill": {
     "duration": 0.013739,
     "end_time": "2023-03-05T14:08:38.749549",
     "exception": false,
     "start_time": "2023-03-05T14:08:38.735810",
     "status": "completed"
    },
    "tags": []
   },
   "outputs": [],
   "source": [
    "# Uncomment to see a hint\n",
    "#q1.hint()\n",
    "\n",
    "# Uncomment to view the solution\n",
    "#q1.solution()"
   ]
  },
  {
   "cell_type": "markdown",
   "id": "04602020",
   "metadata": {
    "papermill": {
     "duration": 0.004975,
     "end_time": "2023-03-05T14:08:38.760273",
     "exception": false,
     "start_time": "2023-03-05T14:08:38.755298",
     "status": "completed"
    },
    "tags": []
   },
   "source": [
    "# Question 2\n",
    "\n",
    "You are thinking about buying a home and want to get an idea of how much you will spend, based on the number of bedrooms and bathrooms.  You are trying to decide between four different options:\n",
    "- Option 1: house with two bedrooms and three bathrooms\n",
    "- Option 2: house with three bedrooms and two bathrooms\n",
    "- Option 3: house with three bedrooms and three bathrooms\n",
    "- Option 4: house with three bedrooms and four bathrooms\n",
    "\n",
    "Use the `get_expected_cost()` function you defined in question 1 to set `option_1`, `option_2`, `option_3`, and `option_4` to the expected cost of each option."
   ]
  },
  {
   "cell_type": "code",
   "execution_count": 4,
   "id": "56e3d81a",
   "metadata": {
    "execution": {
     "iopub.execute_input": "2023-03-05T14:08:38.773767Z",
     "iopub.status.busy": "2023-03-05T14:08:38.772931Z",
     "iopub.status.idle": "2023-03-05T14:08:38.782801Z",
     "shell.execute_reply": "2023-03-05T14:08:38.781737Z"
    },
    "papermill": {
     "duration": 0.019747,
     "end_time": "2023-03-05T14:08:38.785281",
     "exception": false,
     "start_time": "2023-03-05T14:08:38.765534",
     "status": "completed"
    },
    "tags": []
   },
   "outputs": [
    {
     "name": "stdout",
     "output_type": "stream",
     "text": [
      "170000\n",
      "190000\n",
      "200000\n",
      "210000\n"
     ]
    },
    {
     "data": {
      "application/javascript": [
       "parent.postMessage({\"jupyterEvent\": \"custom.exercise_interaction\", \"data\": {\"outcomeType\": 1, \"valueTowardsCompletion\": 0.2, \"interactionType\": 1, \"questionType\": 1, \"questionId\": \"2_RunGetExpectedCost\", \"learnToolsVersion\": \"0.3.4\", \"failureMessage\": \"\", \"exceptionClass\": \"\", \"trace\": \"\"}}, \"*\")"
      ],
      "text/plain": [
       "<IPython.core.display.Javascript object>"
      ]
     },
     "metadata": {},
     "output_type": "display_data"
    },
    {
     "data": {
      "text/markdown": [
       "<span style=\"color:#33cc33\">Correct</span>"
      ],
      "text/plain": [
       "Correct"
      ]
     },
     "metadata": {},
     "output_type": "display_data"
    }
   ],
   "source": [
    "# TODO: Use the get_expected_cost function to fill in each value\n",
    "option_one = get_expected_cost(2, 3)\n",
    "option_two = get_expected_cost(3, 2)\n",
    "option_three = get_expected_cost(3, 3)\n",
    "option_four = get_expected_cost(3, 4)\n",
    "\n",
    "print(option_one)\n",
    "print(option_two)\n",
    "print(option_three)\n",
    "print(option_four)\n",
    "\n",
    "# Check your answer\n",
    "q2.check()"
   ]
  },
  {
   "cell_type": "code",
   "execution_count": 5,
   "id": "23d9ccc9",
   "metadata": {
    "execution": {
     "iopub.execute_input": "2023-03-05T14:08:38.798820Z",
     "iopub.status.busy": "2023-03-05T14:08:38.798513Z",
     "iopub.status.idle": "2023-03-05T14:08:38.802799Z",
     "shell.execute_reply": "2023-03-05T14:08:38.801270Z"
    },
    "papermill": {
     "duration": 0.01353,
     "end_time": "2023-03-05T14:08:38.804807",
     "exception": false,
     "start_time": "2023-03-05T14:08:38.791277",
     "status": "completed"
    },
    "tags": []
   },
   "outputs": [],
   "source": [
    "# Uncomment to see a hint\n",
    "#q2.hint()\n",
    "\n",
    "# Uncomment to view the solution\n",
    "#q2.solution()"
   ]
  },
  {
   "cell_type": "markdown",
   "id": "2cfd954d",
   "metadata": {
    "papermill": {
     "duration": 0.005231,
     "end_time": "2023-03-05T14:08:38.815853",
     "exception": false,
     "start_time": "2023-03-05T14:08:38.810622",
     "status": "completed"
    },
    "tags": []
   },
   "source": [
    "# Question 3\n",
    "\n",
    "You're a home decorator, and you'd like to use Python to streamline some of your work.  Specifically, you're creating a tool that you intend to use to calculate the cost of painting a room.\n",
    "\n",
    "As a first step, define a function `get_cost()` that takes as input:\n",
    "- `sqft_walls` = total square feet of walls to be painted\n",
    "- `sqft_ceiling` = square feet of ceiling to be painted\n",
    "- `sqft_per_gallon` = number of square feet that you can cover with one gallon of paint\n",
    "- `cost_per_gallon` = cost (in dollars) of one gallon of paint\n",
    "\n",
    "It should return the cost (in dollars) of putting one coat of paint on all walls and the ceiling.  Assume you can buy the exact amount of paint that you need, so you can buy partial gallons (e.g., if you need 7.523 gallons, you can buy that exact amount, instead of needing to buy 8 gallons and waste some paint).  Do not round your answer."
   ]
  },
  {
   "cell_type": "code",
   "execution_count": 6,
   "id": "a8ddcea4",
   "metadata": {
    "execution": {
     "iopub.execute_input": "2023-03-05T14:08:38.829210Z",
     "iopub.status.busy": "2023-03-05T14:08:38.828846Z",
     "iopub.status.idle": "2023-03-05T14:08:38.837773Z",
     "shell.execute_reply": "2023-03-05T14:08:38.836247Z"
    },
    "papermill": {
     "duration": 0.018676,
     "end_time": "2023-03-05T14:08:38.840005",
     "exception": false,
     "start_time": "2023-03-05T14:08:38.821329",
     "status": "completed"
    },
    "tags": []
   },
   "outputs": [
    {
     "data": {
      "application/javascript": [
       "parent.postMessage({\"jupyterEvent\": \"custom.exercise_interaction\", \"data\": {\"outcomeType\": 1, \"valueTowardsCompletion\": 0.2, \"interactionType\": 1, \"questionType\": 2, \"questionId\": \"3_GetCostPaint\", \"learnToolsVersion\": \"0.3.4\", \"failureMessage\": \"\", \"exceptionClass\": \"\", \"trace\": \"\"}}, \"*\")"
      ],
      "text/plain": [
       "<IPython.core.display.Javascript object>"
      ]
     },
     "metadata": {},
     "output_type": "display_data"
    },
    {
     "data": {
      "text/markdown": [
       "<span style=\"color:#33cc33\">Correct</span>"
      ],
      "text/plain": [
       "Correct"
      ]
     },
     "metadata": {},
     "output_type": "display_data"
    }
   ],
   "source": [
    "# TODO: Finish defining the function\n",
    "def get_cost(sqft_walls, sqft_ceiling, sqft_per_gallon, cost_per_gallon):\n",
    "    cost = (sqft_walls + sqft_ceiling) / sqft_per_gallon * cost_per_gallon\n",
    "    return cost\n",
    "\n",
    "# Check your answer\n",
    "q3.check()"
   ]
  },
  {
   "cell_type": "code",
   "execution_count": 7,
   "id": "3042a044",
   "metadata": {
    "execution": {
     "iopub.execute_input": "2023-03-05T14:08:38.853062Z",
     "iopub.status.busy": "2023-03-05T14:08:38.852711Z",
     "iopub.status.idle": "2023-03-05T14:08:38.857484Z",
     "shell.execute_reply": "2023-03-05T14:08:38.856514Z"
    },
    "papermill": {
     "duration": 0.013326,
     "end_time": "2023-03-05T14:08:38.859185",
     "exception": false,
     "start_time": "2023-03-05T14:08:38.845859",
     "status": "completed"
    },
    "tags": []
   },
   "outputs": [],
   "source": [
    "# Uncomment to see a hint\n",
    "#q3.hint()\n",
    "\n",
    "# Uncomment to view the solution\n",
    "#q3.solution()"
   ]
  },
  {
   "cell_type": "markdown",
   "id": "322709d9",
   "metadata": {
    "papermill": {
     "duration": 0.005423,
     "end_time": "2023-03-05T14:08:38.870224",
     "exception": false,
     "start_time": "2023-03-05T14:08:38.864801",
     "status": "completed"
    },
    "tags": []
   },
   "source": [
    "# Question 4\n",
    "\n",
    "Use the `get_cost()` function you defined in Question 3 to calculate the cost of applying one coat of paint to a room with:\n",
    "- 432 square feet of walls, and\n",
    "- 144 square feet of ceiling.\n",
    "\n",
    "Assume that one gallon of paint covers 400 square feet and costs $15.  As in Question 3, assume you can buy partial gallons of paint.  Do not round your answer."
   ]
  },
  {
   "cell_type": "code",
   "execution_count": 8,
   "id": "06e6a8af",
   "metadata": {
    "execution": {
     "iopub.execute_input": "2023-03-05T14:08:38.882893Z",
     "iopub.status.busy": "2023-03-05T14:08:38.882548Z",
     "iopub.status.idle": "2023-03-05T14:08:38.890395Z",
     "shell.execute_reply": "2023-03-05T14:08:38.889474Z"
    },
    "papermill": {
     "duration": 0.016551,
     "end_time": "2023-03-05T14:08:38.892256",
     "exception": false,
     "start_time": "2023-03-05T14:08:38.875705",
     "status": "completed"
    },
    "tags": []
   },
   "outputs": [
    {
     "data": {
      "application/javascript": [
       "parent.postMessage({\"jupyterEvent\": \"custom.exercise_interaction\", \"data\": {\"outcomeType\": 1, \"valueTowardsCompletion\": 0.2, \"interactionType\": 1, \"questionType\": 1, \"questionId\": \"4_GetCostPaintExample\", \"learnToolsVersion\": \"0.3.4\", \"failureMessage\": \"\", \"exceptionClass\": \"\", \"trace\": \"\"}}, \"*\")"
      ],
      "text/plain": [
       "<IPython.core.display.Javascript object>"
      ]
     },
     "metadata": {},
     "output_type": "display_data"
    },
    {
     "data": {
      "text/markdown": [
       "<span style=\"color:#33cc33\">Correct</span>"
      ],
      "text/plain": [
       "Correct"
      ]
     },
     "metadata": {},
     "output_type": "display_data"
    }
   ],
   "source": [
    "# TODO: Set the project_cost variable to the cost of the project\n",
    "project_cost = get_cost(432,144,400,15)\n",
    "\n",
    "# Check your answer\n",
    "q4.check()"
   ]
  },
  {
   "cell_type": "code",
   "execution_count": 9,
   "id": "acb15804",
   "metadata": {
    "execution": {
     "iopub.execute_input": "2023-03-05T14:08:38.906244Z",
     "iopub.status.busy": "2023-03-05T14:08:38.905874Z",
     "iopub.status.idle": "2023-03-05T14:08:38.910301Z",
     "shell.execute_reply": "2023-03-05T14:08:38.909111Z"
    },
    "papermill": {
     "duration": 0.013829,
     "end_time": "2023-03-05T14:08:38.912307",
     "exception": false,
     "start_time": "2023-03-05T14:08:38.898478",
     "status": "completed"
    },
    "tags": []
   },
   "outputs": [],
   "source": [
    "# Uncomment to see a hint\n",
    "#q4.hint()\n",
    "\n",
    "# Uncomment to view the solution\n",
    "#q4.solution()"
   ]
  },
  {
   "cell_type": "markdown",
   "id": "2e7b2c8d",
   "metadata": {
    "papermill": {
     "duration": 0.005841,
     "end_time": "2023-03-05T14:08:38.924165",
     "exception": false,
     "start_time": "2023-03-05T14:08:38.918324",
     "status": "completed"
    },
    "tags": []
   },
   "source": [
    "# 🌶️ Question 5\n",
    "\n",
    "Now say you can no longer buy fractions of a gallon.  (For instance, if you need 4.3 gallons to do a project, then you have to buy 5 gallons of paint.)\n",
    "\n",
    "With this new scenario, you will create a new function `get_actual_cost` that uses the same inputs and calculates the cost of your project.\n",
    "\n",
    "One function that you'll need to use to do this is `math.ceil()`.  We demonstrate usage of this function in the code cell below.  It takes as a number as input and rounds the number up to the nearest integer.  \n",
    "\n",
    "Run the next code cell to test this function for yourself.  Feel free to change the value of `test_value` and make sure `math.ceil()` returns the number you expect."
   ]
  },
  {
   "cell_type": "code",
   "execution_count": 10,
   "id": "f8835e71",
   "metadata": {
    "execution": {
     "iopub.execute_input": "2023-03-05T14:08:38.938003Z",
     "iopub.status.busy": "2023-03-05T14:08:38.937586Z",
     "iopub.status.idle": "2023-03-05T14:08:38.944576Z",
     "shell.execute_reply": "2023-03-05T14:08:38.942110Z"
    },
    "papermill": {
     "duration": 0.017874,
     "end_time": "2023-03-05T14:08:38.948087",
     "exception": false,
     "start_time": "2023-03-05T14:08:38.930213",
     "status": "completed"
    },
    "tags": []
   },
   "outputs": [
    {
     "name": "stdout",
     "output_type": "stream",
     "text": [
      "3\n"
     ]
    }
   ],
   "source": [
    "test_value = 2.17\n",
    "\n",
    "rounded_value = math.ceil(test_value)\n",
    "print(rounded_value)"
   ]
  },
  {
   "cell_type": "markdown",
   "id": "93730093",
   "metadata": {
    "papermill": {
     "duration": 0.006805,
     "end_time": "2023-03-05T14:08:38.962433",
     "exception": false,
     "start_time": "2023-03-05T14:08:38.955628",
     "status": "completed"
    },
    "tags": []
   },
   "source": [
    "Use the next code cell to define the function `get_actual_cost()`.  You'll need to use the `math.ceil()` function to do this.\n",
    "\n",
    "When answering this question, note that it's completely valid to define a function that makes use of another function.  For instance, we can define a function `round_up_and_divide_by_three` that makes use of the `math.ceil` function:\n",
    "```\n",
    "def round_up_and_divide_by_three(num):\n",
    "    new_value = math.ceil(num)\n",
    "    final_value = new_value / 3\n",
    "    return final_value\n",
    "```"
   ]
  },
  {
   "cell_type": "code",
   "execution_count": 11,
   "id": "e625222c",
   "metadata": {
    "execution": {
     "iopub.execute_input": "2023-03-05T14:08:38.978742Z",
     "iopub.status.busy": "2023-03-05T14:08:38.978335Z",
     "iopub.status.idle": "2023-03-05T14:08:38.987599Z",
     "shell.execute_reply": "2023-03-05T14:08:38.986539Z"
    },
    "papermill": {
     "duration": 0.021008,
     "end_time": "2023-03-05T14:08:38.989901",
     "exception": false,
     "start_time": "2023-03-05T14:08:38.968893",
     "status": "completed"
    },
    "tags": []
   },
   "outputs": [
    {
     "data": {
      "application/javascript": [
       "parent.postMessage({\"jupyterEvent\": \"custom.exercise_interaction\", \"data\": {\"outcomeType\": 1, \"valueTowardsCompletion\": 0.2, \"interactionType\": 1, \"questionType\": 2, \"questionId\": \"5_NoMoreFractions\", \"learnToolsVersion\": \"0.3.4\", \"failureMessage\": \"\", \"exceptionClass\": \"\", \"trace\": \"\"}}, \"*\")"
      ],
      "text/plain": [
       "<IPython.core.display.Javascript object>"
      ]
     },
     "metadata": {},
     "output_type": "display_data"
    },
    {
     "data": {
      "text/markdown": [
       "<span style=\"color:#33cc33\">Correct</span>"
      ],
      "text/plain": [
       "Correct"
      ]
     },
     "metadata": {},
     "output_type": "display_data"
    }
   ],
   "source": [
    "def get_actual_cost(sqft_walls, sqft_ceiling, sqft_per_gallon, cost_per_gallon):\n",
    "    gallons_needed = math.ceil((sqft_walls + sqft_ceiling) / sqft_per_gallon)\n",
    "    cost = gallons_needed * cost_per_gallon\n",
    "    return cost\n",
    "\n",
    "# Check your answer\n",
    "q5.check()"
   ]
  },
  {
   "cell_type": "code",
   "execution_count": 12,
   "id": "783072cd",
   "metadata": {
    "execution": {
     "iopub.execute_input": "2023-03-05T14:08:39.007944Z",
     "iopub.status.busy": "2023-03-05T14:08:39.006887Z",
     "iopub.status.idle": "2023-03-05T14:08:39.013282Z",
     "shell.execute_reply": "2023-03-05T14:08:39.011568Z"
    },
    "papermill": {
     "duration": 0.017725,
     "end_time": "2023-03-05T14:08:39.015608",
     "exception": false,
     "start_time": "2023-03-05T14:08:38.997883",
     "status": "completed"
    },
    "tags": []
   },
   "outputs": [],
   "source": [
    "# Uncomment to see a hint\n",
    "#q5.hint()\n",
    "\n",
    "# Uncomment to view the solution\n",
    "#q5.solution()"
   ]
  },
  {
   "cell_type": "markdown",
   "id": "e0495b4e",
   "metadata": {
    "papermill": {
     "duration": 0.006294,
     "end_time": "2023-03-05T14:08:39.028865",
     "exception": false,
     "start_time": "2023-03-05T14:08:39.022571",
     "status": "completed"
    },
    "tags": []
   },
   "source": [
    "Once your function is verified as correct, run the next code cell to calculate the updated cost of your project."
   ]
  },
  {
   "cell_type": "code",
   "execution_count": 13,
   "id": "2c63af8f",
   "metadata": {
    "execution": {
     "iopub.execute_input": "2023-03-05T14:08:39.043968Z",
     "iopub.status.busy": "2023-03-05T14:08:39.043543Z",
     "iopub.status.idle": "2023-03-05T14:08:39.051585Z",
     "shell.execute_reply": "2023-03-05T14:08:39.050400Z"
    },
    "papermill": {
     "duration": 0.018751,
     "end_time": "2023-03-05T14:08:39.054237",
     "exception": false,
     "start_time": "2023-03-05T14:08:39.035486",
     "status": "completed"
    },
    "tags": []
   },
   "outputs": [
    {
     "data": {
      "text/plain": [
       "30"
      ]
     },
     "execution_count": 13,
     "metadata": {},
     "output_type": "execute_result"
    }
   ],
   "source": [
    "get_actual_cost(432, 144, 400, 15) "
   ]
  },
  {
   "cell_type": "markdown",
   "id": "f795ff32",
   "metadata": {
    "papermill": {
     "duration": 0.006715,
     "end_time": "2023-03-05T14:08:39.068027",
     "exception": false,
     "start_time": "2023-03-05T14:08:39.061312",
     "status": "completed"
    },
    "tags": []
   },
   "source": [
    "Say you're working with a slightly larger room.  Run the next code cell to calculate the cost of the project."
   ]
  },
  {
   "cell_type": "code",
   "execution_count": 14,
   "id": "39d17f2d",
   "metadata": {
    "execution": {
     "iopub.execute_input": "2023-03-05T14:08:39.083568Z",
     "iopub.status.busy": "2023-03-05T14:08:39.083200Z",
     "iopub.status.idle": "2023-03-05T14:08:39.090398Z",
     "shell.execute_reply": "2023-03-05T14:08:39.089285Z"
    },
    "papermill": {
     "duration": 0.017877,
     "end_time": "2023-03-05T14:08:39.092752",
     "exception": false,
     "start_time": "2023-03-05T14:08:39.074875",
     "status": "completed"
    },
    "tags": []
   },
   "outputs": [
    {
     "data": {
      "text/plain": [
       "45"
      ]
     },
     "execution_count": 14,
     "metadata": {},
     "output_type": "execute_result"
    }
   ],
   "source": [
    "get_actual_cost(594, 288, 400, 15) "
   ]
  },
  {
   "cell_type": "markdown",
   "id": "a2b45df0",
   "metadata": {
    "papermill": {
     "duration": 0.006668,
     "end_time": "2023-03-05T14:08:39.106433",
     "exception": false,
     "start_time": "2023-03-05T14:08:39.099765",
     "status": "completed"
    },
    "tags": []
   },
   "source": [
    "# Keep going\n",
    "\n",
    "Continue to learn about **[data types](https://www.kaggle.com/alexisbcook/data-types)**."
   ]
  },
  {
   "cell_type": "markdown",
   "id": "8f84680a",
   "metadata": {
    "papermill": {
     "duration": 0.006462,
     "end_time": "2023-03-05T14:08:39.119709",
     "exception": false,
     "start_time": "2023-03-05T14:08:39.113247",
     "status": "completed"
    },
    "tags": []
   },
   "source": [
    "---\n",
    "\n",
    "\n",
    "\n",
    "\n",
    "*Have questions or comments? Visit the [course discussion forum](https://www.kaggle.com/learn/intro-to-programming/discussion) to chat with other learners.*"
   ]
  }
 ],
 "metadata": {
  "kernelspec": {
   "display_name": "Python 3",
   "language": "python",
   "name": "python3"
  },
  "language_info": {
   "codemirror_mode": {
    "name": "ipython",
    "version": 3
   },
   "file_extension": ".py",
   "mimetype": "text/x-python",
   "name": "python",
   "nbconvert_exporter": "python",
   "pygments_lexer": "ipython3",
   "version": "3.7.12"
  },
  "papermill": {
   "default_parameters": {},
   "duration": 10.408937,
   "end_time": "2023-03-05T14:08:39.748189",
   "environment_variables": {},
   "exception": null,
   "input_path": "__notebook__.ipynb",
   "output_path": "__notebook__.ipynb",
   "parameters": {},
   "start_time": "2023-03-05T14:08:29.339252",
   "version": "2.4.0"
  }
 },
 "nbformat": 4,
 "nbformat_minor": 5
}
