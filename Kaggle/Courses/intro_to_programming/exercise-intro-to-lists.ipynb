{
 "cells": [
  {
   "cell_type": "markdown",
   "id": "7c9c859e",
   "metadata": {
    "papermill": {
     "duration": 0.005703,
     "end_time": "2023-03-06T20:55:48.947592",
     "exception": false,
     "start_time": "2023-03-06T20:55:48.941889",
     "status": "completed"
    },
    "tags": []
   },
   "source": [
    "**This notebook is an exercise in the [Intro to Programming](https://www.kaggle.com/learn/intro-to-programming) course.  You can reference the tutorial at [this link](https://www.kaggle.com/alexisbcook/intro-to-lists).**\n",
    "\n",
    "---\n"
   ]
  },
  {
   "cell_type": "markdown",
   "id": "8acb9fd9",
   "metadata": {
    "papermill": {
     "duration": 0.004577,
     "end_time": "2023-03-06T20:55:48.956999",
     "exception": false,
     "start_time": "2023-03-06T20:55:48.952422",
     "status": "completed"
    },
    "tags": []
   },
   "source": [
    "In the tutorial, you learned how to define and modify Python lists.  In this exercise, you will use your new knowledge to solve several problems.\n",
    "\n",
    "# Set up the notebook\n",
    "\n",
    "Run the next code cell without changes to set up the notebook."
   ]
  },
  {
   "cell_type": "code",
   "execution_count": 1,
   "id": "ca6d1da3",
   "metadata": {
    "execution": {
     "iopub.execute_input": "2023-03-06T20:55:48.968588Z",
     "iopub.status.busy": "2023-03-06T20:55:48.967968Z",
     "iopub.status.idle": "2023-03-06T20:55:49.012150Z",
     "shell.execute_reply": "2023-03-06T20:55:49.011163Z"
    },
    "papermill": {
     "duration": 0.052846,
     "end_time": "2023-03-06T20:55:49.014558",
     "exception": false,
     "start_time": "2023-03-06T20:55:48.961712",
     "status": "completed"
    },
    "tags": []
   },
   "outputs": [
    {
     "name": "stdout",
     "output_type": "stream",
     "text": [
      "Setup complete.\n"
     ]
    }
   ],
   "source": [
    "from learntools.core import binder\n",
    "binder.bind(globals())\n",
    "from learntools.intro_to_programming.ex5 import *\n",
    "print('Setup complete.')"
   ]
  },
  {
   "cell_type": "markdown",
   "id": "b0fd60ce",
   "metadata": {
    "papermill": {
     "duration": 0.005679,
     "end_time": "2023-03-06T20:55:49.025349",
     "exception": false,
     "start_time": "2023-03-06T20:55:49.019670",
     "status": "completed"
    },
    "tags": []
   },
   "source": [
    "# Question 1\n",
    "\n",
    "You own a restaurant with five food dishes, organized in the Python list `menu` below.  One day, you decide to:\n",
    "- remove bean soup (`'bean soup'`) from the menu, and\n",
    "- add roasted beet salad (`'roasted beet salad'`) to the menu.\n",
    "\n",
    "Implement this change to the list below.  While completing this task, \n",
    "- do not change the line that creates the `menu` list.  \n",
    "- your answer should use `.remove()` and `.append()`.  "
   ]
  },
  {
   "cell_type": "code",
   "execution_count": 2,
   "id": "5f50ce8e",
   "metadata": {
    "execution": {
     "iopub.execute_input": "2023-03-06T20:55:49.037674Z",
     "iopub.status.busy": "2023-03-06T20:55:49.036997Z",
     "iopub.status.idle": "2023-03-06T20:55:49.046142Z",
     "shell.execute_reply": "2023-03-06T20:55:49.045307Z"
    },
    "papermill": {
     "duration": 0.017609,
     "end_time": "2023-03-06T20:55:49.048137",
     "exception": false,
     "start_time": "2023-03-06T20:55:49.030528",
     "status": "completed"
    },
    "tags": []
   },
   "outputs": [
    {
     "data": {
      "application/javascript": [
       "parent.postMessage({\"jupyterEvent\": \"custom.exercise_interaction\", \"data\": {\"outcomeType\": 2, \"failureMessage\": \"These item(s) should be removed from `menu`: ['bean soup']\", \"interactionType\": 1, \"questionType\": 2, \"questionId\": \"1_FoodMenu\", \"learnToolsVersion\": \"0.3.4\", \"valueTowardsCompletion\": 0.0, \"exceptionClass\": \"\", \"trace\": \"\"}}, \"*\")"
      ],
      "text/plain": [
       "<IPython.core.display.Javascript object>"
      ]
     },
     "metadata": {},
     "output_type": "display_data"
    },
    {
     "data": {
      "text/markdown": [
       "<span style=\"color:#cc3333\">Incorrect:</span> These item(s) should be removed from `menu`: ['bean soup']"
      ],
      "text/plain": [
       "Incorrect: These item(s) should be removed from `menu`: ['bean soup']"
      ]
     },
     "metadata": {},
     "output_type": "display_data"
    }
   ],
   "source": [
    "# Do not change: Initial menu for your restaurant\n",
    "menu = ['stewed meat with onions', 'bean soup', 'risotto with trout and shrimp',\n",
    "       'fish soup with cream and onion', 'gyro']\n",
    "\n",
    "# TODO: remove 'bean soup', and add 'roasted beet salad' to the end of the menu\n",
    "____\n",
    "\n",
    "# Do not change: Check your answer\n",
    "q1.check()"
   ]
  },
  {
   "cell_type": "code",
   "execution_count": 3,
   "id": "dda242f9",
   "metadata": {
    "execution": {
     "iopub.execute_input": "2023-03-06T20:55:49.060362Z",
     "iopub.status.busy": "2023-03-06T20:55:49.059844Z",
     "iopub.status.idle": "2023-03-06T20:55:49.063694Z",
     "shell.execute_reply": "2023-03-06T20:55:49.063055Z"
    },
    "papermill": {
     "duration": 0.011985,
     "end_time": "2023-03-06T20:55:49.065457",
     "exception": false,
     "start_time": "2023-03-06T20:55:49.053472",
     "status": "completed"
    },
    "tags": []
   },
   "outputs": [],
   "source": [
    "# Uncomment to see a hint\n",
    "#q1.hint()\n",
    "\n",
    "# Uncomment to see the solution\n",
    "#q1.solution()"
   ]
  },
  {
   "cell_type": "markdown",
   "id": "73000ec3",
   "metadata": {
    "papermill": {
     "duration": 0.004912,
     "end_time": "2023-03-06T20:55:49.075477",
     "exception": false,
     "start_time": "2023-03-06T20:55:49.070565",
     "status": "completed"
    },
    "tags": []
   },
   "source": [
    "# Question 2\n",
    "\n",
    "The list `num_customers` contains the number of customers who came into your restaurant every day over the last month (which lasted thirty days).  Fill in values for each of the following:\n",
    "- `avg_first_seven` - average number of customers who visited in the first seven days\n",
    "- `avg_last_seven` - average number of customers who visited in the last seven days\n",
    "- `max_month` - number of customers on the day that got the most customers in the last month\n",
    "- `min_month` - number of customers on the day that got the least customers in the last month\n",
    "\n",
    "Answer this question by writing code.  For instance, if you have to find the minimum value in a list, use `min()` instead of scanning for the smallest value and directly filling in a number."
   ]
  },
  {
   "cell_type": "code",
   "execution_count": 4,
   "id": "14ea5c56",
   "metadata": {
    "execution": {
     "iopub.execute_input": "2023-03-06T20:55:49.087646Z",
     "iopub.status.busy": "2023-03-06T20:55:49.087132Z",
     "iopub.status.idle": "2023-03-06T20:55:49.096081Z",
     "shell.execute_reply": "2023-03-06T20:55:49.095350Z"
    },
    "papermill": {
     "duration": 0.017327,
     "end_time": "2023-03-06T20:55:49.097898",
     "exception": false,
     "start_time": "2023-03-06T20:55:49.080571",
     "status": "completed"
    },
    "tags": []
   },
   "outputs": [
    {
     "data": {
      "application/javascript": [
       "parent.postMessage({\"jupyterEvent\": \"custom.exercise_interaction\", \"data\": {\"outcomeType\": 4, \"interactionType\": 1, \"questionType\": 1, \"questionId\": \"2_NumCustomers\", \"learnToolsVersion\": \"0.3.4\", \"valueTowardsCompletion\": 0.0, \"failureMessage\": \"\", \"exceptionClass\": \"\", \"trace\": \"\"}}, \"*\")"
      ],
      "text/plain": [
       "<IPython.core.display.Javascript object>"
      ]
     },
     "metadata": {},
     "output_type": "display_data"
    },
    {
     "data": {
      "text/markdown": [
       "<span style=\"color:#ccaa33\">Check:</span> When you've updated the starter code, `check()` will tell you whether your code is correct. You need to update the code that creates variables `avg_first_seven`, `avg_last_seven`, `max_month`, `min_month`"
      ],
      "text/plain": [
       "Check: When you've updated the starter code, `check()` will tell you whether your code is correct. You need to update the code that creates variables `avg_first_seven`, `avg_last_seven`, `max_month`, `min_month`"
      ]
     },
     "metadata": {},
     "output_type": "display_data"
    }
   ],
   "source": [
    "# Do not change: Number of customers each day for the last month\n",
    "num_customers = [137, 147, 135, 128, 170, 174, 165, 146, 126, 159,\n",
    "                 141, 148, 132, 147, 168, 153, 170, 161, 148, 152,\n",
    "                 141, 151, 131, 149, 164, 163, 143, 143, 166, 171]\n",
    "\n",
    "# TODO: Fill in values for the variables below\n",
    "avg_first_seven = ____ \n",
    "avg_last_seven = ____ \n",
    "max_month = ____\n",
    "min_month = ____\n",
    "\n",
    "# Do not change: Check your answer\n",
    "q2.check()"
   ]
  },
  {
   "cell_type": "code",
   "execution_count": 5,
   "id": "cd18c238",
   "metadata": {
    "execution": {
     "iopub.execute_input": "2023-03-06T20:55:49.110233Z",
     "iopub.status.busy": "2023-03-06T20:55:49.109526Z",
     "iopub.status.idle": "2023-03-06T20:55:49.114396Z",
     "shell.execute_reply": "2023-03-06T20:55:49.112790Z"
    },
    "papermill": {
     "duration": 0.013527,
     "end_time": "2023-03-06T20:55:49.116816",
     "exception": false,
     "start_time": "2023-03-06T20:55:49.103289",
     "status": "completed"
    },
    "tags": []
   },
   "outputs": [],
   "source": [
    "# Uncomment to see a hint\n",
    "#q2.hint()\n",
    "\n",
    "# Uncomment to see the solution\n",
    "#q2.solution()"
   ]
  },
  {
   "cell_type": "markdown",
   "id": "7db403a8",
   "metadata": {
    "papermill": {
     "duration": 0.005212,
     "end_time": "2023-03-06T20:55:49.127908",
     "exception": false,
     "start_time": "2023-03-06T20:55:49.122696",
     "status": "completed"
    },
    "tags": []
   },
   "source": [
    "# Question 3\n",
    "\n",
    "In the tutorial, we gave an example of a Python string with information that was better as a list."
   ]
  },
  {
   "cell_type": "code",
   "execution_count": 6,
   "id": "ca982de0",
   "metadata": {
    "execution": {
     "iopub.execute_input": "2023-03-06T20:55:49.141919Z",
     "iopub.status.busy": "2023-03-06T20:55:49.141572Z",
     "iopub.status.idle": "2023-03-06T20:55:49.145856Z",
     "shell.execute_reply": "2023-03-06T20:55:49.144889Z"
    },
    "papermill": {
     "duration": 0.014555,
     "end_time": "2023-03-06T20:55:49.147886",
     "exception": false,
     "start_time": "2023-03-06T20:55:49.133331",
     "status": "completed"
    },
    "tags": []
   },
   "outputs": [],
   "source": [
    "flowers = \"pink primrose,hard-leaved pocket orchid,canterbury bells,sweet pea,english marigold,tiger lily,moon orchid,bird of paradise,monkshood,globe thistle\""
   ]
  },
  {
   "cell_type": "markdown",
   "id": "7377f168",
   "metadata": {
    "papermill": {
     "duration": 0.005823,
     "end_time": "2023-03-06T20:55:49.159566",
     "exception": false,
     "start_time": "2023-03-06T20:55:49.153743",
     "status": "completed"
    },
    "tags": []
   },
   "source": [
    "You can actually use Python to quickly turn this string into a list with `.split()`.  In the parentheses, we need to provide the character should be used to mark the end of one list item and the beginning of another, and enclose it in quotation marks.  In this case, that character is a comma."
   ]
  },
  {
   "cell_type": "code",
   "execution_count": 7,
   "id": "78fe56bd",
   "metadata": {
    "execution": {
     "iopub.execute_input": "2023-03-06T20:55:49.173180Z",
     "iopub.status.busy": "2023-03-06T20:55:49.172772Z",
     "iopub.status.idle": "2023-03-06T20:55:49.179173Z",
     "shell.execute_reply": "2023-03-06T20:55:49.177553Z"
    },
    "papermill": {
     "duration": 0.015674,
     "end_time": "2023-03-06T20:55:49.181408",
     "exception": false,
     "start_time": "2023-03-06T20:55:49.165734",
     "status": "completed"
    },
    "tags": []
   },
   "outputs": [
    {
     "name": "stdout",
     "output_type": "stream",
     "text": [
      "['pink primrose', 'hard-leaved pocket orchid', 'canterbury bells', 'sweet pea', 'english marigold', 'tiger lily', 'moon orchid', 'bird of paradise', 'monkshood', 'globe thistle']\n"
     ]
    }
   ],
   "source": [
    " print(flowers.split(\",\"))"
   ]
  },
  {
   "cell_type": "markdown",
   "id": "1da34889",
   "metadata": {
    "papermill": {
     "duration": 0.005414,
     "end_time": "2023-03-06T20:55:49.192815",
     "exception": false,
     "start_time": "2023-03-06T20:55:49.187401",
     "status": "completed"
    },
    "tags": []
   },
   "source": [
    "Now it is your turn to try this out!  Create two Python lists:\n",
    "- `letters` should be a Python list where each entry is an uppercase letter of the English alphabet.  For instance, the first two entries should be `\"A\"` and `\"B\"`, and the final two entries should be `\"Y\"` and `\"Z\"`.  Use the string `alphabet` to create this list.\n",
    "- `address` should be a Python list where each row in `address` is a different item in the list.  Currently, each row in `address` is separated by a comma. "
   ]
  },
  {
   "cell_type": "code",
   "execution_count": 8,
   "id": "d726c3e2",
   "metadata": {
    "execution": {
     "iopub.execute_input": "2023-03-06T20:55:49.206547Z",
     "iopub.status.busy": "2023-03-06T20:55:49.205509Z",
     "iopub.status.idle": "2023-03-06T20:55:49.214639Z",
     "shell.execute_reply": "2023-03-06T20:55:49.213701Z"
    },
    "papermill": {
     "duration": 0.018075,
     "end_time": "2023-03-06T20:55:49.216570",
     "exception": false,
     "start_time": "2023-03-06T20:55:49.198495",
     "status": "completed"
    },
    "tags": []
   },
   "outputs": [
    {
     "data": {
      "application/javascript": [
       "parent.postMessage({\"jupyterEvent\": \"custom.exercise_interaction\", \"data\": {\"outcomeType\": 4, \"interactionType\": 1, \"questionType\": 1, \"questionId\": \"3_SplitString\", \"learnToolsVersion\": \"0.3.4\", \"valueTowardsCompletion\": 0.0, \"failureMessage\": \"\", \"exceptionClass\": \"\", \"trace\": \"\"}}, \"*\")"
      ],
      "text/plain": [
       "<IPython.core.display.Javascript object>"
      ]
     },
     "metadata": {},
     "output_type": "display_data"
    },
    {
     "data": {
      "text/markdown": [
       "<span style=\"color:#ccaa33\">Check:</span> When you've updated the starter code, `check()` will tell you whether your code is correct. You need to update the code that creates variables `letters`, `formatted_address`"
      ],
      "text/plain": [
       "Check: When you've updated the starter code, `check()` will tell you whether your code is correct. You need to update the code that creates variables `letters`, `formatted_address`"
      ]
     },
     "metadata": {},
     "output_type": "display_data"
    }
   ],
   "source": [
    "# DO not change: Define two Python strings\n",
    "alphabet = \"A.B.C.D.E.F.G.H.I.J.K.L.M.N.O.P.Q.R.S.T.U.V.W.X.Y.Z\"\n",
    "address = \"Mr. H. Potter,The cupboard under the Stairs,4 Privet Drive,Little Whinging,Surrey\"\n",
    "\n",
    "# TODO: Convert strings into Python lists\n",
    "letters = ____\n",
    "formatted_address = ____\n",
    "\n",
    "# Do not change: Check your answer\n",
    "q3.check()"
   ]
  },
  {
   "cell_type": "code",
   "execution_count": 9,
   "id": "bca7d61a",
   "metadata": {
    "execution": {
     "iopub.execute_input": "2023-03-06T20:55:49.229946Z",
     "iopub.status.busy": "2023-03-06T20:55:49.229603Z",
     "iopub.status.idle": "2023-03-06T20:55:49.234009Z",
     "shell.execute_reply": "2023-03-06T20:55:49.232956Z"
    },
    "papermill": {
     "duration": 0.013743,
     "end_time": "2023-03-06T20:55:49.236350",
     "exception": false,
     "start_time": "2023-03-06T20:55:49.222607",
     "status": "completed"
    },
    "tags": []
   },
   "outputs": [],
   "source": [
    "# Uncomment to see a hint\n",
    "#q3.hint()\n",
    "\n",
    "# Uncomment to see the solution\n",
    "#q3.solution()"
   ]
  },
  {
   "cell_type": "markdown",
   "id": "d909df82",
   "metadata": {
    "papermill": {
     "duration": 0.006218,
     "end_time": "2023-03-06T20:55:49.249118",
     "exception": false,
     "start_time": "2023-03-06T20:55:49.242900",
     "status": "completed"
    },
    "tags": []
   },
   "source": [
    "# Question 4\n",
    "\n",
    "In the Python course, you'll learn all about **list comprehensions**, which allow you to create a list based on the values in another list.  In this question, you'll get a brief preview of how they work.\n",
    "\n",
    "Say we're working with the list below."
   ]
  },
  {
   "cell_type": "code",
   "execution_count": 10,
   "id": "2975a0ec",
   "metadata": {
    "execution": {
     "iopub.execute_input": "2023-03-06T20:55:49.262690Z",
     "iopub.status.busy": "2023-03-06T20:55:49.262352Z",
     "iopub.status.idle": "2023-03-06T20:55:49.267395Z",
     "shell.execute_reply": "2023-03-06T20:55:49.266273Z"
    },
    "papermill": {
     "duration": 0.014139,
     "end_time": "2023-03-06T20:55:49.269438",
     "exception": false,
     "start_time": "2023-03-06T20:55:49.255299",
     "status": "completed"
    },
    "tags": []
   },
   "outputs": [],
   "source": [
    "test_ratings = [1, 2, 3, 4, 5]"
   ]
  },
  {
   "cell_type": "markdown",
   "id": "192adc34",
   "metadata": {
    "papermill": {
     "duration": 0.006259,
     "end_time": "2023-03-06T20:55:49.282284",
     "exception": false,
     "start_time": "2023-03-06T20:55:49.276025",
     "status": "completed"
    },
    "tags": []
   },
   "source": [
    "Then we can use this list (`test_ratings`) to create a new list (`test_liked`) where each item has been turned into a boolean, depending on whether or not the item is greater than or equal to four."
   ]
  },
  {
   "cell_type": "code",
   "execution_count": 11,
   "id": "e0c397bd",
   "metadata": {
    "execution": {
     "iopub.execute_input": "2023-03-06T20:55:49.296875Z",
     "iopub.status.busy": "2023-03-06T20:55:49.296477Z",
     "iopub.status.idle": "2023-03-06T20:55:49.301467Z",
     "shell.execute_reply": "2023-03-06T20:55:49.300523Z"
    },
    "papermill": {
     "duration": 0.014831,
     "end_time": "2023-03-06T20:55:49.303657",
     "exception": false,
     "start_time": "2023-03-06T20:55:49.288826",
     "status": "completed"
    },
    "tags": []
   },
   "outputs": [
    {
     "name": "stdout",
     "output_type": "stream",
     "text": [
      "[False, False, False, True, True]\n"
     ]
    }
   ],
   "source": [
    "test_liked = [i>=4 for i in test_ratings]\n",
    "print(test_liked)"
   ]
  },
  {
   "cell_type": "markdown",
   "id": "a73c9aaa",
   "metadata": {
    "papermill": {
     "duration": 0.006112,
     "end_time": "2023-03-06T20:55:49.316178",
     "exception": false,
     "start_time": "2023-03-06T20:55:49.310066",
     "status": "completed"
    },
    "tags": []
   },
   "source": [
    "In this question, you'll use this list comprehension to define a function `percentage_liked()` that takes one argument as input:\n",
    "- `ratings`: list of ratings that people gave to a movie, where each rating is a number between 1-5, inclusive\n",
    "\n",
    "We say someone liked the movie, if they gave a rating of either 4 or 5.  Your function should return the percentage of people who liked the movie.\n",
    "\n",
    "For instance, if we supply a value of `[1, 2, 3, 4, 5, 4, 5, 1]`, then 50% (4/8) of the people liked the movie, and the function should return `0.5`.\n",
    "\n",
    "Part of the function has already been completed for you.  You need only use `list_liked` to calculate `percentage_liked`."
   ]
  },
  {
   "cell_type": "code",
   "execution_count": 12,
   "id": "eb53dd21",
   "metadata": {
    "execution": {
     "iopub.execute_input": "2023-03-06T20:55:49.330457Z",
     "iopub.status.busy": "2023-03-06T20:55:49.330118Z",
     "iopub.status.idle": "2023-03-06T20:55:49.339186Z",
     "shell.execute_reply": "2023-03-06T20:55:49.338200Z"
    },
    "papermill": {
     "duration": 0.019094,
     "end_time": "2023-03-06T20:55:49.341578",
     "exception": false,
     "start_time": "2023-03-06T20:55:49.322484",
     "status": "completed"
    },
    "tags": []
   },
   "outputs": [
    {
     "data": {
      "application/javascript": [
       "parent.postMessage({\"jupyterEvent\": \"custom.exercise_interaction\", \"data\": {\"outcomeType\": 2, \"failureMessage\": \"Expected return value of `0.5` given `ratings=[1, 2, 3, 4, 5, 4, 5, 1]`, but got `<learntools.core.constants.PlaceholderValue object at 0x7f8bd76760d0>` instead.\", \"interactionType\": 1, \"questionType\": 2, \"questionId\": \"4_PercentageLiked\", \"learnToolsVersion\": \"0.3.4\", \"valueTowardsCompletion\": 0.0, \"exceptionClass\": \"\", \"trace\": \"\"}}, \"*\")"
      ],
      "text/plain": [
       "<IPython.core.display.Javascript object>"
      ]
     },
     "metadata": {},
     "output_type": "display_data"
    },
    {
     "data": {
      "text/markdown": [
       "<span style=\"color:#cc3333\">Incorrect:</span> Expected return value of `0.5` given `ratings=[1, 2, 3, 4, 5, 4, 5, 1]`, but got `<learntools.core.constants.PlaceholderValue object at 0x7f8bd76760d0>` instead."
      ],
      "text/plain": [
       "Incorrect: Expected return value of `0.5` given `ratings=[1, 2, 3, 4, 5, 4, 5, 1]`, but got `<learntools.core.constants.PlaceholderValue object at 0x7f8bd76760d0>` instead."
      ]
     },
     "metadata": {},
     "output_type": "display_data"
    }
   ],
   "source": [
    "\n",
    "def percentage_liked(ratings):\n",
    "    list_liked = [i>=4 for i in ratings]\n",
    "    # TODO: Complete the function\n",
    "    percentage_liked = ____\n",
    "    return percentage_liked\n",
    "\n",
    "# Do not change: should return 0.5\n",
    "percentage_liked([1, 2, 3, 4, 5, 4, 5, 1])\n",
    "\n",
    "# Do not change: Check your answer\n",
    "q4.check()"
   ]
  },
  {
   "cell_type": "code",
   "execution_count": 13,
   "id": "710226a8",
   "metadata": {
    "execution": {
     "iopub.execute_input": "2023-03-06T20:55:49.357012Z",
     "iopub.status.busy": "2023-03-06T20:55:49.356350Z",
     "iopub.status.idle": "2023-03-06T20:55:49.359819Z",
     "shell.execute_reply": "2023-03-06T20:55:49.359171Z"
    },
    "papermill": {
     "duration": 0.013297,
     "end_time": "2023-03-06T20:55:49.361556",
     "exception": false,
     "start_time": "2023-03-06T20:55:49.348259",
     "status": "completed"
    },
    "tags": []
   },
   "outputs": [],
   "source": [
    "# Uncomment to see a hint\n",
    "#q4.hint()\n",
    "\n",
    "# Uncomment to see the solution\n",
    "#q4.solution()"
   ]
  },
  {
   "cell_type": "markdown",
   "id": "d2e37b59",
   "metadata": {
    "papermill": {
     "duration": 0.006191,
     "end_time": "2023-03-06T20:55:49.374361",
     "exception": false,
     "start_time": "2023-03-06T20:55:49.368170",
     "status": "completed"
    },
    "tags": []
   },
   "source": [
    "# 🌶️ Question 5\n",
    " \n",
    "Say you're doing analytics for a website.  You need to write a function that returns the percentage growth in the total number of users relative to a specified number of years ago.\n",
    "\n",
    "Your function `percentage_growth()` should take two arguments as input:\n",
    "- `num_users` = Python list with the total number of users each year.  So `num_users[0]` is the total number of users in the first year, `num_users[1]` is the total number of users in the second year, and so on.  The final entry in the list gives the total number of users in the most recently completed year.\n",
    "- `yrs_ago` = number of years to go back in time when calculating the growth percentage\n",
    "\n",
    "For instance, say `num_users = [920344, 1043553, 1204334, 1458996, 1503323, 1593432, 1623463, 1843064, 1930992, 2001078]`.\n",
    "- if `yrs_ago = 1`, we want the function to return a value of about `0.036`. This corresponds to a percentage growth of approximately 3.6%, calculated as (2001078 - 1930992)/1930992.\n",
    "- if `years_ago = 7`, we would want to return approximately `0.66`.  This corresponds to a percentage growth of approximately 66%, calculated as (2001078 - 1204334)/1204334.\n",
    "\n",
    "Your coworker sent you a draft of a function, but it doesn't seem to be doing the correct calculation.  Can you figure out what has gone wrong and make the needed changes?"
   ]
  },
  {
   "cell_type": "code",
   "execution_count": 14,
   "id": "1516e4b4",
   "metadata": {
    "execution": {
     "iopub.execute_input": "2023-03-06T20:55:49.388869Z",
     "iopub.status.busy": "2023-03-06T20:55:49.388446Z",
     "iopub.status.idle": "2023-03-06T20:55:49.398230Z",
     "shell.execute_reply": "2023-03-06T20:55:49.397514Z"
    },
    "papermill": {
     "duration": 0.019236,
     "end_time": "2023-03-06T20:55:49.399925",
     "exception": false,
     "start_time": "2023-03-06T20:55:49.380689",
     "status": "completed"
    },
    "tags": []
   },
   "outputs": [
    {
     "name": "stdout",
     "output_type": "stream",
     "text": [
      "0.0\n",
      "0.2807272117129434\n"
     ]
    },
    {
     "data": {
      "application/javascript": [
       "parent.postMessage({\"jupyterEvent\": \"custom.exercise_interaction\", \"data\": {\"outcomeType\": 2, \"failureMessage\": \"Expected return value of `0.03629533421163837` given `num_users=[920344, 1043553, 1204334, 1458996, 1503323, 1593432, 1623463, 1843064, 1930992, 2001078]`, `yrs_ago=1`, but got `0.0` instead.\", \"interactionType\": 1, \"questionType\": 2, \"questionId\": \"5_WebsiteAnalytics\", \"learnToolsVersion\": \"0.3.4\", \"valueTowardsCompletion\": 0.0, \"exceptionClass\": \"\", \"trace\": \"\"}}, \"*\")"
      ],
      "text/plain": [
       "<IPython.core.display.Javascript object>"
      ]
     },
     "metadata": {},
     "output_type": "display_data"
    },
    {
     "data": {
      "text/markdown": [
       "<span style=\"color:#cc3333\">Incorrect:</span> Expected return value of `0.03629533421163837` given `num_users=[920344, 1043553, 1204334, 1458996, 1503323, 1593432, 1623463, 1843064, 1930992, 2001078]`, `yrs_ago=1`, but got `0.0` instead."
      ],
      "text/plain": [
       "Incorrect: Expected return value of `0.03629533421163837` given `num_users=[920344, 1043553, 1204334, 1458996, 1503323, 1593432, 1623463, 1843064, 1930992, 2001078]`, `yrs_ago=1`, but got `0.0` instead."
      ]
     },
     "metadata": {},
     "output_type": "display_data"
    }
   ],
   "source": [
    "# TODO: Edit the function\n",
    "def percentage_growth(num_users, yrs_ago):\n",
    "    growth = (num_users[len(num_users)-1] - num_users[len(num_users)-yrs_ago])/num_users[len(num_users)-2]\n",
    "    return growth\n",
    "\n",
    "# Do not change: Variable for calculating some test examples\n",
    "num_users_test = [920344, 1043553, 1204334, 1458996, 1503323, 1593432, 1623463, 1843064, 1930992, 2001078]\n",
    "\n",
    "# Do not change: Should return .036\n",
    "print(percentage_growth(num_users_test, 1))\n",
    "\n",
    "# Do not change: Should return 0.66\n",
    "print(percentage_growth(num_users_test, 7))\n",
    "\n",
    "# Do not change: Check your answer\n",
    "q5.check()"
   ]
  },
  {
   "cell_type": "code",
   "execution_count": 15,
   "id": "8ff12738",
   "metadata": {
    "execution": {
     "iopub.execute_input": "2023-03-06T20:55:49.416092Z",
     "iopub.status.busy": "2023-03-06T20:55:49.415697Z",
     "iopub.status.idle": "2023-03-06T20:55:49.419578Z",
     "shell.execute_reply": "2023-03-06T20:55:49.418665Z"
    },
    "papermill": {
     "duration": 0.014225,
     "end_time": "2023-03-06T20:55:49.421389",
     "exception": false,
     "start_time": "2023-03-06T20:55:49.407164",
     "status": "completed"
    },
    "tags": []
   },
   "outputs": [],
   "source": [
    "# Uncomment to see a hint\n",
    "#q5.hint()\n",
    "\n",
    "# Uncomment to see the solution\n",
    "#q5.solution()"
   ]
  },
  {
   "cell_type": "markdown",
   "id": "e714bc9d",
   "metadata": {
    "papermill": {
     "duration": 0.006497,
     "end_time": "2023-03-06T20:55:49.434831",
     "exception": false,
     "start_time": "2023-03-06T20:55:49.428334",
     "status": "completed"
    },
    "tags": []
   },
   "source": [
    "# Congratulations!\n",
    "\n",
    "Congratulations for finishing the Intro to Programming course!  You should be proud of your very first steps with learning programming.  As next steps, we recommend taking:\n",
    "- the **[Python course](http://www.kaggle.com/learn/python)**, and \n",
    "- the **[Intro to Machine Learning course](https://www.kaggle.com/learn/intro-to-machine-learning)**."
   ]
  },
  {
   "cell_type": "markdown",
   "id": "f70225f0",
   "metadata": {
    "papermill": {
     "duration": 0.006308,
     "end_time": "2023-03-06T20:55:49.447816",
     "exception": false,
     "start_time": "2023-03-06T20:55:49.441508",
     "status": "completed"
    },
    "tags": []
   },
   "source": [
    "---\n",
    "\n",
    "\n",
    "\n",
    "\n",
    "*Have questions or comments? Visit the [course discussion forum](https://www.kaggle.com/learn/intro-to-programming/discussion) to chat with other learners.*"
   ]
  }
 ],
 "metadata": {
  "kernelspec": {
   "display_name": "Python 3",
   "language": "python",
   "name": "python3"
  },
  "language_info": {
   "codemirror_mode": {
    "name": "ipython",
    "version": 3
   },
   "file_extension": ".py",
   "mimetype": "text/x-python",
   "name": "python",
   "nbconvert_exporter": "python",
   "pygments_lexer": "ipython3",
   "version": "3.7.12"
  },
  "papermill": {
   "default_parameters": {},
   "duration": 10.74243,
   "end_time": "2023-03-06T20:55:50.075910",
   "environment_variables": {},
   "exception": null,
   "input_path": "__notebook__.ipynb",
   "output_path": "__notebook__.ipynb",
   "parameters": {},
   "start_time": "2023-03-06T20:55:39.333480",
   "version": "2.4.0"
  }
 },
 "nbformat": 4,
 "nbformat_minor": 5
}
