{
 "cells": [
  {
   "cell_type": "markdown",
   "id": "c7875064",
   "metadata": {
    "papermill": {
     "duration": 0.007671,
     "end_time": "2023-03-05T14:12:40.404887",
     "exception": false,
     "start_time": "2023-03-05T14:12:40.397216",
     "status": "completed"
    },
    "tags": []
   },
   "source": [
    "**This notebook is an exercise in the [Intro to Programming](https://www.kaggle.com/learn/intro-to-programming) course.  You can reference the tutorial at [this link](https://www.kaggle.com/alexisbcook/data-types).**\n",
    "\n",
    "---\n"
   ]
  },
  {
   "cell_type": "markdown",
   "id": "55a8a0ae",
   "metadata": {
    "papermill": {
     "duration": 0.006058,
     "end_time": "2023-03-05T14:12:40.417516",
     "exception": false,
     "start_time": "2023-03-05T14:12:40.411458",
     "status": "completed"
    },
    "tags": []
   },
   "source": [
    "In the tutorial, you learned about four different data types: floats, integers, strings, and booleans.  In this exercise, you'll experiment with them.\n",
    "\n",
    "# Set up the notebook\n",
    "\n",
    "Run the next code cell without changes to set up the notebook."
   ]
  },
  {
   "cell_type": "code",
   "execution_count": 1,
   "id": "910aa145",
   "metadata": {
    "execution": {
     "iopub.execute_input": "2023-03-05T14:12:40.432048Z",
     "iopub.status.busy": "2023-03-05T14:12:40.431602Z",
     "iopub.status.idle": "2023-03-05T14:12:40.479465Z",
     "shell.execute_reply": "2023-03-05T14:12:40.478070Z"
    },
    "papermill": {
     "duration": 0.059059,
     "end_time": "2023-03-05T14:12:40.482888",
     "exception": false,
     "start_time": "2023-03-05T14:12:40.423829",
     "status": "completed"
    },
    "tags": []
   },
   "outputs": [
    {
     "name": "stdout",
     "output_type": "stream",
     "text": [
      "Setup complete.\n"
     ]
    }
   ],
   "source": [
    "# Set up the exercise\n",
    "from learntools.core import binder\n",
    "binder.bind(globals())\n",
    "from learntools.intro_to_programming.ex3 import *\n",
    "print('Setup complete.')"
   ]
  },
  {
   "cell_type": "markdown",
   "id": "8b47d5d8",
   "metadata": {
    "papermill": {
     "duration": 0.006382,
     "end_time": "2023-03-05T14:12:40.495874",
     "exception": false,
     "start_time": "2023-03-05T14:12:40.489492",
     "status": "completed"
    },
    "tags": []
   },
   "source": [
    "# Question 1\n",
    "\n",
    "You have seen how to convert a float to an integer with the `int` function.  Try this out yourself by running the code cell below."
   ]
  },
  {
   "cell_type": "code",
   "execution_count": 2,
   "id": "3e55e281",
   "metadata": {
    "execution": {
     "iopub.execute_input": "2023-03-05T14:12:40.510833Z",
     "iopub.status.busy": "2023-03-05T14:12:40.510424Z",
     "iopub.status.idle": "2023-03-05T14:12:40.516138Z",
     "shell.execute_reply": "2023-03-05T14:12:40.515297Z"
    },
    "papermill": {
     "duration": 0.016767,
     "end_time": "2023-03-05T14:12:40.519080",
     "exception": false,
     "start_time": "2023-03-05T14:12:40.502313",
     "status": "completed"
    },
    "tags": []
   },
   "outputs": [
    {
     "name": "stdout",
     "output_type": "stream",
     "text": [
      "1.0\n",
      "<class 'float'>\n",
      "1\n",
      "<class 'int'>\n"
     ]
    }
   ],
   "source": [
    "# Define a float\n",
    "y = 1.\n",
    "print(y)\n",
    "print(type(y))\n",
    "\n",
    "# Convert float to integer with the int function\n",
    "z = int(y)\n",
    "print(z)\n",
    "print(type(z))"
   ]
  },
  {
   "cell_type": "markdown",
   "id": "52b4e45e",
   "metadata": {
    "papermill": {
     "duration": 0.006449,
     "end_time": "2023-03-05T14:12:40.532204",
     "exception": false,
     "start_time": "2023-03-05T14:12:40.525755",
     "status": "completed"
    },
    "tags": []
   },
   "source": [
    "In this case, the float you are using has no numbers after the decimal.  \n",
    "- But what happens when you try to convert a float with a fractional part to an integer?  \n",
    "- How does the outcome of the `int` function change for positive and negative numbers?\n",
    "\n",
    "Use the next code cell to investigate and answer these questions.  Feel free to add or remove any lines of code -- it is your workspace!"
   ]
  },
  {
   "cell_type": "code",
   "execution_count": 3,
   "id": "cce88c99",
   "metadata": {
    "execution": {
     "iopub.execute_input": "2023-03-05T14:12:40.547332Z",
     "iopub.status.busy": "2023-03-05T14:12:40.546877Z",
     "iopub.status.idle": "2023-03-05T14:12:40.552119Z",
     "shell.execute_reply": "2023-03-05T14:12:40.550723Z"
    },
    "papermill": {
     "duration": 0.01585,
     "end_time": "2023-03-05T14:12:40.554692",
     "exception": false,
     "start_time": "2023-03-05T14:12:40.538842",
     "status": "completed"
    },
    "tags": []
   },
   "outputs": [],
   "source": [
    "# Uncomment and run this code to get started!\n",
    "#print(int(1.2321))\n",
    "#print(int(1.747))\n",
    "#print(int(-3.94535))\n",
    "#print(int(-2.19774))"
   ]
  },
  {
   "cell_type": "markdown",
   "id": "37e6a330",
   "metadata": {
    "papermill": {
     "duration": 0.00637,
     "end_time": "2023-03-05T14:12:40.567997",
     "exception": false,
     "start_time": "2023-03-05T14:12:40.561627",
     "status": "completed"
    },
    "tags": []
   },
   "source": [
    "Once you have an answer, run the code cell below to see the solution.  Viewing the solution will give you credit for answering the problem."
   ]
  },
  {
   "cell_type": "code",
   "execution_count": 4,
   "id": "ed16a89e",
   "metadata": {
    "execution": {
     "iopub.execute_input": "2023-03-05T14:12:40.582978Z",
     "iopub.status.busy": "2023-03-05T14:12:40.582558Z",
     "iopub.status.idle": "2023-03-05T14:12:40.592989Z",
     "shell.execute_reply": "2023-03-05T14:12:40.591681Z"
    },
    "papermill": {
     "duration": 0.020977,
     "end_time": "2023-03-05T14:12:40.595488",
     "exception": false,
     "start_time": "2023-03-05T14:12:40.574511",
     "status": "completed"
    },
    "tags": []
   },
   "outputs": [
    {
     "data": {
      "application/javascript": [
       "parent.postMessage({\"jupyterEvent\": \"custom.exercise_interaction\", \"data\": {\"outcomeType\": 1, \"valueTowardsCompletion\": 0.2, \"interactionType\": 1, \"questionType\": 4, \"questionId\": \"1_FloatToInt\", \"learnToolsVersion\": \"0.3.4\", \"failureMessage\": \"\", \"exceptionClass\": \"\", \"trace\": \"\"}}, \"*\")"
      ],
      "text/plain": [
       "<IPython.core.display.Javascript object>"
      ]
     },
     "metadata": {},
     "output_type": "display_data"
    },
    {
     "data": {
      "text/markdown": [
       "<span style=\"color:#33cc33\">Correct:</span> \n",
       "\n",
       "Negative floats are always rounded UP to the closest integer (for instance, both -1.1 and -1.9 are rounded up to -1). Positive floats are always rounded DOWN to the closest integer (for instance, 2.1 and 2.9 are rounded down to 2)."
      ],
      "text/plain": [
       "Correct: \n",
       "\n",
       "Negative floats are always rounded UP to the closest integer (for instance, both -1.1 and -1.9 are rounded up to -1). Positive floats are always rounded DOWN to the closest integer (for instance, 2.1 and 2.9 are rounded down to 2)."
      ]
     },
     "metadata": {},
     "output_type": "display_data"
    }
   ],
   "source": [
    "# Check your answer (Run this code cell to receive credit!)\n",
    "q1.check()"
   ]
  },
  {
   "cell_type": "markdown",
   "id": "e02c6676",
   "metadata": {
    "papermill": {
     "duration": 0.006548,
     "end_time": "2023-03-05T14:12:40.609555",
     "exception": false,
     "start_time": "2023-03-05T14:12:40.603007",
     "status": "completed"
    },
    "tags": []
   },
   "source": [
    "# Question 2\n",
    "\n",
    "In the tutorial, you learned about booleans (which can take a value of `True` or `False`), in addition to integers, floats, and strings.  For this question, your goal is to determine what happens when you multiply a boolean by any of these data types.  Specifically, \n",
    "- What happens when you multiply an integer or float by `True`?  What happens when you multiply them by `False`?  How does the answer change if the numbers are positive or negative?\n",
    "- What happens when you multiply a string by `True`?  By `False`?\n",
    "\n",
    "Use the next code cell for your investigation. "
   ]
  },
  {
   "cell_type": "code",
   "execution_count": 5,
   "id": "4ee0660d",
   "metadata": {
    "execution": {
     "iopub.execute_input": "2023-03-05T14:12:40.625204Z",
     "iopub.status.busy": "2023-03-05T14:12:40.624732Z",
     "iopub.status.idle": "2023-03-05T14:12:40.631566Z",
     "shell.execute_reply": "2023-03-05T14:12:40.630388Z"
    },
    "papermill": {
     "duration": 0.017988,
     "end_time": "2023-03-05T14:12:40.634341",
     "exception": false,
     "start_time": "2023-03-05T14:12:40.616353",
     "status": "completed"
    },
    "tags": []
   },
   "outputs": [
    {
     "name": "stdout",
     "output_type": "stream",
     "text": [
      "3\n",
      "-3.1\n",
      "<class 'str'>\n",
      "0\n"
     ]
    }
   ],
   "source": [
    "# Uncomment and run this code to get started!\n",
    "print(3 * True)\n",
    "print(-3.1 * True)\n",
    "print(type(\"abc\" * False))\n",
    "print(len(\"abc\" * False))"
   ]
  },
  {
   "cell_type": "markdown",
   "id": "b6188134",
   "metadata": {
    "papermill": {
     "duration": 0.006569,
     "end_time": "2023-03-05T14:12:40.648918",
     "exception": false,
     "start_time": "2023-03-05T14:12:40.642349",
     "status": "completed"
    },
    "tags": []
   },
   "source": [
    "Once you have an answer, run the code cell below to see the solution.  Viewing the solution will give you credit for answering the problem."
   ]
  },
  {
   "cell_type": "code",
   "execution_count": 6,
   "id": "4f4aa411",
   "metadata": {
    "execution": {
     "iopub.execute_input": "2023-03-05T14:12:40.664476Z",
     "iopub.status.busy": "2023-03-05T14:12:40.664011Z",
     "iopub.status.idle": "2023-03-05T14:12:40.673879Z",
     "shell.execute_reply": "2023-03-05T14:12:40.672342Z"
    },
    "papermill": {
     "duration": 0.020838,
     "end_time": "2023-03-05T14:12:40.676571",
     "exception": false,
     "start_time": "2023-03-05T14:12:40.655733",
     "status": "completed"
    },
    "tags": []
   },
   "outputs": [
    {
     "data": {
      "application/javascript": [
       "parent.postMessage({\"jupyterEvent\": \"custom.exercise_interaction\", \"data\": {\"outcomeType\": 1, \"valueTowardsCompletion\": 0.2, \"interactionType\": 1, \"questionType\": 4, \"questionId\": \"2_MultiplyBooleans\", \"learnToolsVersion\": \"0.3.4\", \"failureMessage\": \"\", \"exceptionClass\": \"\", \"trace\": \"\"}}, \"*\")"
      ],
      "text/plain": [
       "<IPython.core.display.Javascript object>"
      ]
     },
     "metadata": {},
     "output_type": "display_data"
    },
    {
     "data": {
      "text/markdown": [
       "<span style=\"color:#33cc33\">Correct:</span> \n",
       "\n",
       "When you multiple an integer or float by a boolean with value `True`, it just returns that same integer or float (and is equivalent to multiplying by 1).  If you multiply an integer or float by a boolean with value `False`, it always returns 0.  This is true for both positive and negative numbers.  If you multiply a string by a boolean with value `True`, it just returns that same string.  And if you multiply a string by a boolean with value `False`, it returns an empty string (or a string with length zero)."
      ],
      "text/plain": [
       "Correct: \n",
       "\n",
       "When you multiple an integer or float by a boolean with value `True`, it just returns that same integer or float (and is equivalent to multiplying by 1).  If you multiply an integer or float by a boolean with value `False`, it always returns 0.  This is true for both positive and negative numbers.  If you multiply a string by a boolean with value `True`, it just returns that same string.  And if you multiply a string by a boolean with value `False`, it returns an empty string (or a string with length zero)."
      ]
     },
     "metadata": {},
     "output_type": "display_data"
    }
   ],
   "source": [
    "# Check your answer (Run this code cell to receive credit!)\n",
    "q2.check()"
   ]
  },
  {
   "cell_type": "markdown",
   "id": "09e9463e",
   "metadata": {
    "papermill": {
     "duration": 0.006934,
     "end_time": "2023-03-05T14:12:40.690983",
     "exception": false,
     "start_time": "2023-03-05T14:12:40.684049",
     "status": "completed"
    },
    "tags": []
   },
   "source": [
    "# Question 3\n",
    "\n",
    "In this question, you will build off your work from the previous exercise to write a function that estimates the value of a house.\n",
    "\n",
    "Use the next code cell to create a function `get_expected_cost` that takes as input three variables:\n",
    "- `beds` - number of bedrooms (data type float)\n",
    "- `baths` - number of bathrooms (data type float)\n",
    "- `has_basement` - whether or not the house has a basement (data type boolean)\n",
    "\n",
    "It should return the expected cost of a house with those characteristics. Assume that:\n",
    "- the expected cost for a house with 0 bedrooms and 0 bathrooms, and no basement is 80000, \n",
    "- each bedroom adds 30000 to the expected cost,\n",
    "- each bathroom adds 10000 to the expected cost, and\n",
    "- a basement adds 40000 to the expected cost.\n",
    "\n",
    "For instance,\n",
    "- a house with 1 bedroom, 1 bathroom, and no basement has an expected cost of 80000 + 30000 + 10000 = 120000.  This value will be calculated with `get_expected_cost(1, 1, False)`.\n",
    "- a house with 2 bedrooms, 1 bathroom, and a basement has an expected cost of 80000 + 2*30000 + 10000 + 40000 = 190000.  This value will be calculated with `get_expected_cost(2, 1, True)`.\n",
    "\n",
    "Remember you can always get a hint by uncommenting `q3.hint()` in the code cell following the next!"
   ]
  },
  {
   "cell_type": "code",
   "execution_count": 7,
   "id": "89a55361",
   "metadata": {
    "execution": {
     "iopub.execute_input": "2023-03-05T14:12:40.707583Z",
     "iopub.status.busy": "2023-03-05T14:12:40.706752Z",
     "iopub.status.idle": "2023-03-05T14:12:40.716699Z",
     "shell.execute_reply": "2023-03-05T14:12:40.715421Z"
    },
    "papermill": {
     "duration": 0.021277,
     "end_time": "2023-03-05T14:12:40.719381",
     "exception": false,
     "start_time": "2023-03-05T14:12:40.698104",
     "status": "completed"
    },
    "tags": []
   },
   "outputs": [
    {
     "data": {
      "application/javascript": [
       "parent.postMessage({\"jupyterEvent\": \"custom.exercise_interaction\", \"data\": {\"outcomeType\": 2, \"failureMessage\": \"Expected return value of `120000` given `beds=1`, `baths=1`, `has_basement=False`, but got `<learntools.core.constants.PlaceholderValue object at 0x7f9810d1d050>` instead.\", \"interactionType\": 1, \"questionType\": 2, \"questionId\": \"3_EstimateHouseValueBool\", \"learnToolsVersion\": \"0.3.4\", \"valueTowardsCompletion\": 0.0, \"exceptionClass\": \"\", \"trace\": \"\"}}, \"*\")"
      ],
      "text/plain": [
       "<IPython.core.display.Javascript object>"
      ]
     },
     "metadata": {},
     "output_type": "display_data"
    },
    {
     "data": {
      "text/markdown": [
       "<span style=\"color:#cc3333\">Incorrect:</span> Expected return value of `120000` given `beds=1`, `baths=1`, `has_basement=False`, but got `<learntools.core.constants.PlaceholderValue object at 0x7f9810d1d050>` instead."
      ],
      "text/plain": [
       "Incorrect: Expected return value of `120000` given `beds=1`, `baths=1`, `has_basement=False`, but got `<learntools.core.constants.PlaceholderValue object at 0x7f9810d1d050>` instead."
      ]
     },
     "metadata": {},
     "output_type": "display_data"
    }
   ],
   "source": [
    "# TODO: Complete the function\n",
    "def get_expected_cost(beds, baths, has_basement):\n",
    "    value = ____\n",
    "    return value\n",
    "\n",
    "# Check your answer \n",
    "q3.check()"
   ]
  },
  {
   "cell_type": "code",
   "execution_count": 8,
   "id": "9982829b",
   "metadata": {
    "execution": {
     "iopub.execute_input": "2023-03-05T14:12:40.736603Z",
     "iopub.status.busy": "2023-03-05T14:12:40.735823Z",
     "iopub.status.idle": "2023-03-05T14:12:40.740877Z",
     "shell.execute_reply": "2023-03-05T14:12:40.739691Z"
    },
    "papermill": {
     "duration": 0.0162,
     "end_time": "2023-03-05T14:12:40.743168",
     "exception": false,
     "start_time": "2023-03-05T14:12:40.726968",
     "status": "completed"
    },
    "tags": []
   },
   "outputs": [],
   "source": [
    "# Uncomment to see a hint\n",
    "#q3.hint()\n",
    "\n",
    "# Uncomment to view the solution\n",
    "#q3.solution()"
   ]
  },
  {
   "cell_type": "markdown",
   "id": "1a83de7f",
   "metadata": {
    "papermill": {
     "duration": 0.007266,
     "end_time": "2023-03-05T14:12:40.757975",
     "exception": false,
     "start_time": "2023-03-05T14:12:40.750709",
     "status": "completed"
    },
    "tags": []
   },
   "source": [
    "# Question 4\n",
    "\n",
    "We'll continue our study of boolean arithmetic.  For this question, your task is to provide a description of what happpens when you add booleans. \n",
    "\n",
    "Use the next code cell for your investigation.  Feel free to add or remove any lines of code - use it as your workspace!"
   ]
  },
  {
   "cell_type": "code",
   "execution_count": 9,
   "id": "08f35542",
   "metadata": {
    "execution": {
     "iopub.execute_input": "2023-03-05T14:12:40.775094Z",
     "iopub.status.busy": "2023-03-05T14:12:40.774684Z",
     "iopub.status.idle": "2023-03-05T14:12:40.781276Z",
     "shell.execute_reply": "2023-03-05T14:12:40.780003Z"
    },
    "papermill": {
     "duration": 0.01882,
     "end_time": "2023-03-05T14:12:40.784275",
     "exception": false,
     "start_time": "2023-03-05T14:12:40.765455",
     "status": "completed"
    },
    "tags": []
   },
   "outputs": [
    {
     "name": "stdout",
     "output_type": "stream",
     "text": [
      "0\n",
      "1\n",
      "1\n",
      "2\n",
      "3\n"
     ]
    }
   ],
   "source": [
    "print(False + False)\n",
    "print(True + False)\n",
    "print(False + True)\n",
    "print(True + True)\n",
    "print(False + True + True + True)"
   ]
  },
  {
   "cell_type": "markdown",
   "id": "9d72c20f",
   "metadata": {
    "papermill": {
     "duration": 0.007142,
     "end_time": "2023-03-05T14:12:40.799865",
     "exception": false,
     "start_time": "2023-03-05T14:12:40.792723",
     "status": "completed"
    },
    "tags": []
   },
   "source": [
    "Once you have an answer, run the code cell below to see the solution.  Viewing the solution will give you credit for answering the problem."
   ]
  },
  {
   "cell_type": "code",
   "execution_count": 10,
   "id": "8db31d1b",
   "metadata": {
    "execution": {
     "iopub.execute_input": "2023-03-05T14:12:40.817055Z",
     "iopub.status.busy": "2023-03-05T14:12:40.816542Z",
     "iopub.status.idle": "2023-03-05T14:12:40.826183Z",
     "shell.execute_reply": "2023-03-05T14:12:40.824959Z"
    },
    "papermill": {
     "duration": 0.021347,
     "end_time": "2023-03-05T14:12:40.828665",
     "exception": false,
     "start_time": "2023-03-05T14:12:40.807318",
     "status": "completed"
    },
    "tags": []
   },
   "outputs": [
    {
     "data": {
      "application/javascript": [
       "parent.postMessage({\"jupyterEvent\": \"custom.exercise_interaction\", \"data\": {\"outcomeType\": 1, \"valueTowardsCompletion\": 0.2, \"interactionType\": 1, \"questionType\": 4, \"questionId\": \"4_AddingBooleans\", \"learnToolsVersion\": \"0.3.4\", \"failureMessage\": \"\", \"exceptionClass\": \"\", \"trace\": \"\"}}, \"*\")"
      ],
      "text/plain": [
       "<IPython.core.display.Javascript object>"
      ]
     },
     "metadata": {},
     "output_type": "display_data"
    },
    {
     "data": {
      "text/markdown": [
       "<span style=\"color:#33cc33\">Correct:</span> \n",
       "\n",
       "When you add booleans, adding `False` is equivalent to adding 0, and adding `True` is equivalent to adding 1."
      ],
      "text/plain": [
       "Correct: \n",
       "\n",
       "When you add booleans, adding `False` is equivalent to adding 0, and adding `True` is equivalent to adding 1."
      ]
     },
     "metadata": {},
     "output_type": "display_data"
    }
   ],
   "source": [
    "# Check your answer (Run this code cell to receive credit!)\n",
    "q4.check()"
   ]
  },
  {
   "cell_type": "markdown",
   "id": "c5f85420",
   "metadata": {
    "papermill": {
     "duration": 0.007399,
     "end_time": "2023-03-05T14:12:40.843850",
     "exception": false,
     "start_time": "2023-03-05T14:12:40.836451",
     "status": "completed"
    },
    "tags": []
   },
   "source": [
    "# 🌶️ Question 5\n",
    "\n",
    "You own an online shop where you sell rings with custom engravings.  You offer both gold plated and solid gold rings.\n",
    "- Gold plated rings have a base cost of \\\\$50, and you charge \\\\$7 per engraved unit.  \n",
    "- Solid gold rings have a base cost of \\\\$100, and you charge \\\\$10 per engraved unit.\n",
    "- Spaces and punctuation are counted as engraved units.\n",
    "\n",
    "Write a function `cost_of_project()` that takes two arguments:\n",
    "- `engraving` - a Python string with the text of the engraving\n",
    "- `solid_gold` - a Boolean that indicates whether the ring is solid gold\n",
    "\n",
    "It should return the cost of the project.  This question should be fairly challenging, and you may need a hint."
   ]
  },
  {
   "cell_type": "code",
   "execution_count": 11,
   "id": "ffcceed9",
   "metadata": {
    "execution": {
     "iopub.execute_input": "2023-03-05T14:12:40.861939Z",
     "iopub.status.busy": "2023-03-05T14:12:40.861498Z",
     "iopub.status.idle": "2023-03-05T14:12:40.870236Z",
     "shell.execute_reply": "2023-03-05T14:12:40.869375Z"
    },
    "papermill": {
     "duration": 0.020491,
     "end_time": "2023-03-05T14:12:40.872458",
     "exception": false,
     "start_time": "2023-03-05T14:12:40.851967",
     "status": "completed"
    },
    "tags": []
   },
   "outputs": [
    {
     "data": {
      "application/javascript": [
       "parent.postMessage({\"jupyterEvent\": \"custom.exercise_interaction\", \"data\": {\"outcomeType\": 2, \"failureMessage\": \"Expected return value of `240` given `engraving='Charlie+Denver'`, `solid_gold=True`, but got `<learntools.core.constants.PlaceholderValue object at 0x7f9810d1d050>` instead.\", \"interactionType\": 1, \"questionType\": 2, \"questionId\": \"5_CustomEngravings\", \"learnToolsVersion\": \"0.3.4\", \"valueTowardsCompletion\": 0.0, \"exceptionClass\": \"\", \"trace\": \"\"}}, \"*\")"
      ],
      "text/plain": [
       "<IPython.core.display.Javascript object>"
      ]
     },
     "metadata": {},
     "output_type": "display_data"
    },
    {
     "data": {
      "text/markdown": [
       "<span style=\"color:#cc3333\">Incorrect:</span> Expected return value of `240` given `engraving='Charlie+Denver'`, `solid_gold=True`, but got `<learntools.core.constants.PlaceholderValue object at 0x7f9810d1d050>` instead."
      ],
      "text/plain": [
       "Incorrect: Expected return value of `240` given `engraving='Charlie+Denver'`, `solid_gold=True`, but got `<learntools.core.constants.PlaceholderValue object at 0x7f9810d1d050>` instead."
      ]
     },
     "metadata": {},
     "output_type": "display_data"
    }
   ],
   "source": [
    "def cost_of_project(engraving, solid_gold):\n",
    "    cost = ____\n",
    "    return cost\n",
    "\n",
    "# Check your answer\n",
    "q5.check()"
   ]
  },
  {
   "cell_type": "code",
   "execution_count": 12,
   "id": "f7bfb3f1",
   "metadata": {
    "execution": {
     "iopub.execute_input": "2023-03-05T14:12:40.890280Z",
     "iopub.status.busy": "2023-03-05T14:12:40.889850Z",
     "iopub.status.idle": "2023-03-05T14:12:40.894883Z",
     "shell.execute_reply": "2023-03-05T14:12:40.893585Z"
    },
    "papermill": {
     "duration": 0.017004,
     "end_time": "2023-03-05T14:12:40.897341",
     "exception": false,
     "start_time": "2023-03-05T14:12:40.880337",
     "status": "completed"
    },
    "tags": []
   },
   "outputs": [],
   "source": [
    "# Uncomment to see a hint\n",
    "#q5.hint()\n",
    "\n",
    "# Uncomment to view the solution\n",
    "#q5.solution()"
   ]
  },
  {
   "cell_type": "markdown",
   "id": "d2c3099e",
   "metadata": {
    "papermill": {
     "duration": 0.007699,
     "end_time": "2023-03-05T14:12:40.913061",
     "exception": false,
     "start_time": "2023-03-05T14:12:40.905362",
     "status": "completed"
    },
    "tags": []
   },
   "source": [
    "Run the next code cell to calculate the cost of engraving `Charlie+Denver` on a solid gold ring."
   ]
  },
  {
   "cell_type": "code",
   "execution_count": 13,
   "id": "23e5b5e8",
   "metadata": {
    "execution": {
     "iopub.execute_input": "2023-03-05T14:12:40.931300Z",
     "iopub.status.busy": "2023-03-05T14:12:40.930809Z",
     "iopub.status.idle": "2023-03-05T14:12:40.937192Z",
     "shell.execute_reply": "2023-03-05T14:12:40.935866Z"
    },
    "papermill": {
     "duration": 0.018543,
     "end_time": "2023-03-05T14:12:40.939827",
     "exception": false,
     "start_time": "2023-03-05T14:12:40.921284",
     "status": "completed"
    },
    "tags": []
   },
   "outputs": [
    {
     "name": "stdout",
     "output_type": "stream",
     "text": [
      "<learntools.core.constants.PlaceholderValue object at 0x7f9810d1d050>\n"
     ]
    }
   ],
   "source": [
    "project_one = cost_of_project(\"Charlie+Denver\", True)\n",
    "print(project_one)"
   ]
  },
  {
   "cell_type": "markdown",
   "id": "d2f5bf71",
   "metadata": {
    "papermill": {
     "duration": 0.008456,
     "end_time": "2023-03-05T14:12:40.956388",
     "exception": false,
     "start_time": "2023-03-05T14:12:40.947932",
     "status": "completed"
    },
    "tags": []
   },
   "source": [
    "Use the next code cell to calculate the cost of engraving `08/10/2000` on a gold plated ring."
   ]
  },
  {
   "cell_type": "code",
   "execution_count": 14,
   "id": "b89c54b5",
   "metadata": {
    "execution": {
     "iopub.execute_input": "2023-03-05T14:12:40.974856Z",
     "iopub.status.busy": "2023-03-05T14:12:40.974394Z",
     "iopub.status.idle": "2023-03-05T14:12:40.980134Z",
     "shell.execute_reply": "2023-03-05T14:12:40.978923Z"
    },
    "papermill": {
     "duration": 0.019119,
     "end_time": "2023-03-05T14:12:40.983683",
     "exception": false,
     "start_time": "2023-03-05T14:12:40.964564",
     "status": "completed"
    },
    "tags": []
   },
   "outputs": [
    {
     "name": "stdout",
     "output_type": "stream",
     "text": [
      "<learntools.core.constants.PlaceholderValue object at 0x7f9810d1d050>\n"
     ]
    }
   ],
   "source": [
    "project_two = cost_of_project(\"08/10/2000\", False)\n",
    "print(project_two)"
   ]
  },
  {
   "cell_type": "markdown",
   "id": "25ec0171",
   "metadata": {
    "papermill": {
     "duration": 0.007818,
     "end_time": "2023-03-05T14:12:41.001079",
     "exception": false,
     "start_time": "2023-03-05T14:12:40.993261",
     "status": "completed"
    },
    "tags": []
   },
   "source": [
    "# Keep going\n",
    "\n",
    "Continue to the next lesson to **[learn about conditions and conditional statements](https://www.kaggle.com/alexisbcook/conditions-and-conditional-statements)**."
   ]
  },
  {
   "cell_type": "markdown",
   "id": "22952849",
   "metadata": {
    "papermill": {
     "duration": 0.007879,
     "end_time": "2023-03-05T14:12:41.016986",
     "exception": false,
     "start_time": "2023-03-05T14:12:41.009107",
     "status": "completed"
    },
    "tags": []
   },
   "source": [
    "---\n",
    "\n",
    "\n",
    "\n",
    "\n",
    "*Have questions or comments? Visit the [course discussion forum](https://www.kaggle.com/learn/intro-to-programming/discussion) to chat with other learners.*"
   ]
  }
 ],
 "metadata": {
  "kernelspec": {
   "display_name": "Python 3",
   "language": "python",
   "name": "python3"
  },
  "language_info": {
   "codemirror_mode": {
    "name": "ipython",
    "version": 3
   },
   "file_extension": ".py",
   "mimetype": "text/x-python",
   "name": "python",
   "nbconvert_exporter": "python",
   "pygments_lexer": "ipython3",
   "version": "3.7.12"
  },
  "papermill": {
   "default_parameters": {},
   "duration": 11.931806,
   "end_time": "2023-03-05T14:12:41.748169",
   "environment_variables": {},
   "exception": null,
   "input_path": "__notebook__.ipynb",
   "output_path": "__notebook__.ipynb",
   "parameters": {},
   "start_time": "2023-03-05T14:12:29.816363",
   "version": "2.4.0"
  }
 },
 "nbformat": 4,
 "nbformat_minor": 5
}
