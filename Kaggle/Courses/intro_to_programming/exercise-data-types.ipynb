{
 "cells": [
  {
   "cell_type": "markdown",
   "id": "bb142c1f",
   "metadata": {
    "papermill": {
     "duration": 0.008503,
     "end_time": "2023-03-05T14:26:30.861133",
     "exception": false,
     "start_time": "2023-03-05T14:26:30.852630",
     "status": "completed"
    },
    "tags": []
   },
   "source": [
    "**This notebook is an exercise in the [Intro to Programming](https://www.kaggle.com/learn/intro-to-programming) course.  You can reference the tutorial at [this link](https://www.kaggle.com/alexisbcook/data-types).**\n",
    "\n",
    "---\n"
   ]
  },
  {
   "cell_type": "markdown",
   "id": "8dbdc62e",
   "metadata": {
    "papermill": {
     "duration": 0.007218,
     "end_time": "2023-03-05T14:26:30.878191",
     "exception": false,
     "start_time": "2023-03-05T14:26:30.870973",
     "status": "completed"
    },
    "tags": []
   },
   "source": [
    "In the tutorial, you learned about four different data types: floats, integers, strings, and booleans.  In this exercise, you'll experiment with them.\n",
    "\n",
    "# Set up the notebook\n",
    "\n",
    "Run the next code cell without changes to set up the notebook."
   ]
  },
  {
   "cell_type": "code",
   "execution_count": 1,
   "id": "8826b46a",
   "metadata": {
    "execution": {
     "iopub.execute_input": "2023-03-05T14:26:30.894094Z",
     "iopub.status.busy": "2023-03-05T14:26:30.893539Z",
     "iopub.status.idle": "2023-03-05T14:26:30.941289Z",
     "shell.execute_reply": "2023-03-05T14:26:30.940348Z"
    },
    "papermill": {
     "duration": 0.059514,
     "end_time": "2023-03-05T14:26:30.944244",
     "exception": false,
     "start_time": "2023-03-05T14:26:30.884730",
     "status": "completed"
    },
    "tags": []
   },
   "outputs": [
    {
     "name": "stdout",
     "output_type": "stream",
     "text": [
      "Setup complete.\n"
     ]
    }
   ],
   "source": [
    "# Set up the exercise\n",
    "from learntools.core import binder\n",
    "binder.bind(globals())\n",
    "from learntools.intro_to_programming.ex3 import *\n",
    "print('Setup complete.')"
   ]
  },
  {
   "cell_type": "markdown",
   "id": "34fc7e6f",
   "metadata": {
    "papermill": {
     "duration": 0.006417,
     "end_time": "2023-03-05T14:26:30.957457",
     "exception": false,
     "start_time": "2023-03-05T14:26:30.951040",
     "status": "completed"
    },
    "tags": []
   },
   "source": [
    "# Question 1\n",
    "\n",
    "You have seen how to convert a float to an integer with the `int` function.  Try this out yourself by running the code cell below."
   ]
  },
  {
   "cell_type": "code",
   "execution_count": 2,
   "id": "6f4f8508",
   "metadata": {
    "execution": {
     "iopub.execute_input": "2023-03-05T14:26:30.973392Z",
     "iopub.status.busy": "2023-03-05T14:26:30.972385Z",
     "iopub.status.idle": "2023-03-05T14:26:30.979489Z",
     "shell.execute_reply": "2023-03-05T14:26:30.978010Z"
    },
    "papermill": {
     "duration": 0.017837,
     "end_time": "2023-03-05T14:26:30.982073",
     "exception": false,
     "start_time": "2023-03-05T14:26:30.964236",
     "status": "completed"
    },
    "tags": []
   },
   "outputs": [
    {
     "name": "stdout",
     "output_type": "stream",
     "text": [
      "1.0\n",
      "<class 'float'>\n",
      "1\n",
      "<class 'int'>\n"
     ]
    }
   ],
   "source": [
    "# Define a float\n",
    "y = 1.\n",
    "print(y)\n",
    "print(type(y))\n",
    "\n",
    "# Convert float to integer with the int function\n",
    "z = int(y)\n",
    "print(z)\n",
    "print(type(z))"
   ]
  },
  {
   "cell_type": "markdown",
   "id": "7cd64371",
   "metadata": {
    "papermill": {
     "duration": 0.006415,
     "end_time": "2023-03-05T14:26:30.995135",
     "exception": false,
     "start_time": "2023-03-05T14:26:30.988720",
     "status": "completed"
    },
    "tags": []
   },
   "source": [
    "In this case, the float you are using has no numbers after the decimal.  \n",
    "- But what happens when you try to convert a float with a fractional part to an integer?  \n",
    "- How does the outcome of the `int` function change for positive and negative numbers?\n",
    "\n",
    "Use the next code cell to investigate and answer these questions.  Feel free to add or remove any lines of code -- it is your workspace!"
   ]
  },
  {
   "cell_type": "code",
   "execution_count": 3,
   "id": "e345ed6c",
   "metadata": {
    "execution": {
     "iopub.execute_input": "2023-03-05T14:26:31.011060Z",
     "iopub.status.busy": "2023-03-05T14:26:31.009945Z",
     "iopub.status.idle": "2023-03-05T14:26:31.017175Z",
     "shell.execute_reply": "2023-03-05T14:26:31.015587Z"
    },
    "papermill": {
     "duration": 0.018382,
     "end_time": "2023-03-05T14:26:31.020238",
     "exception": false,
     "start_time": "2023-03-05T14:26:31.001856",
     "status": "completed"
    },
    "tags": []
   },
   "outputs": [
    {
     "name": "stdout",
     "output_type": "stream",
     "text": [
      "1\n",
      "1\n",
      "-3\n",
      "-2\n"
     ]
    }
   ],
   "source": [
    "# Uncomment and run this code to get started!\n",
    "print(int(1.2321))\n",
    "print(int(1.747))\n",
    "print(int(-3.94535))\n",
    "print(int(-2.19774))"
   ]
  },
  {
   "cell_type": "markdown",
   "id": "fe417dc2",
   "metadata": {
    "papermill": {
     "duration": 0.006446,
     "end_time": "2023-03-05T14:26:31.033614",
     "exception": false,
     "start_time": "2023-03-05T14:26:31.027168",
     "status": "completed"
    },
    "tags": []
   },
   "source": [
    "Once you have an answer, run the code cell below to see the solution.  Viewing the solution will give you credit for answering the problem."
   ]
  },
  {
   "cell_type": "code",
   "execution_count": 4,
   "id": "1c972a8b",
   "metadata": {
    "execution": {
     "iopub.execute_input": "2023-03-05T14:26:31.050064Z",
     "iopub.status.busy": "2023-03-05T14:26:31.048612Z",
     "iopub.status.idle": "2023-03-05T14:26:31.060174Z",
     "shell.execute_reply": "2023-03-05T14:26:31.059058Z"
    },
    "papermill": {
     "duration": 0.022253,
     "end_time": "2023-03-05T14:26:31.062635",
     "exception": false,
     "start_time": "2023-03-05T14:26:31.040382",
     "status": "completed"
    },
    "tags": []
   },
   "outputs": [
    {
     "data": {
      "application/javascript": [
       "parent.postMessage({\"jupyterEvent\": \"custom.exercise_interaction\", \"data\": {\"outcomeType\": 1, \"valueTowardsCompletion\": 0.2, \"interactionType\": 1, \"questionType\": 4, \"questionId\": \"1_FloatToInt\", \"learnToolsVersion\": \"0.3.4\", \"failureMessage\": \"\", \"exceptionClass\": \"\", \"trace\": \"\"}}, \"*\")"
      ],
      "text/plain": [
       "<IPython.core.display.Javascript object>"
      ]
     },
     "metadata": {},
     "output_type": "display_data"
    },
    {
     "data": {
      "text/markdown": [
       "<span style=\"color:#33cc33\">Correct:</span> \n",
       "\n",
       "Negative floats are always rounded UP to the closest integer (for instance, both -1.1 and -1.9 are rounded up to -1). Positive floats are always rounded DOWN to the closest integer (for instance, 2.1 and 2.9 are rounded down to 2)."
      ],
      "text/plain": [
       "Correct: \n",
       "\n",
       "Negative floats are always rounded UP to the closest integer (for instance, both -1.1 and -1.9 are rounded up to -1). Positive floats are always rounded DOWN to the closest integer (for instance, 2.1 and 2.9 are rounded down to 2)."
      ]
     },
     "metadata": {},
     "output_type": "display_data"
    }
   ],
   "source": [
    "# Check your answer (Run this code cell to receive credit!)\n",
    "q1.check()"
   ]
  },
  {
   "cell_type": "markdown",
   "id": "5c02f797",
   "metadata": {
    "papermill": {
     "duration": 0.006673,
     "end_time": "2023-03-05T14:26:31.076225",
     "exception": false,
     "start_time": "2023-03-05T14:26:31.069552",
     "status": "completed"
    },
    "tags": []
   },
   "source": [
    "# Question 2\n",
    "\n",
    "In the tutorial, you learned about booleans (which can take a value of `True` or `False`), in addition to integers, floats, and strings.  For this question, your goal is to determine what happens when you multiply a boolean by any of these data types.  Specifically, \n",
    "- What happens when you multiply an integer or float by `True`?  What happens when you multiply them by `False`?  How does the answer change if the numbers are positive or negative?\n",
    "- What happens when you multiply a string by `True`?  By `False`?\n",
    "\n",
    "Use the next code cell for your investigation. "
   ]
  },
  {
   "cell_type": "code",
   "execution_count": 5,
   "id": "a2301d01",
   "metadata": {
    "execution": {
     "iopub.execute_input": "2023-03-05T14:26:31.092362Z",
     "iopub.status.busy": "2023-03-05T14:26:31.091425Z",
     "iopub.status.idle": "2023-03-05T14:26:31.097905Z",
     "shell.execute_reply": "2023-03-05T14:26:31.096628Z"
    },
    "papermill": {
     "duration": 0.017869,
     "end_time": "2023-03-05T14:26:31.101036",
     "exception": false,
     "start_time": "2023-03-05T14:26:31.083167",
     "status": "completed"
    },
    "tags": []
   },
   "outputs": [
    {
     "name": "stdout",
     "output_type": "stream",
     "text": [
      "3\n",
      "-3.1\n",
      "<class 'str'>\n",
      "0\n"
     ]
    }
   ],
   "source": [
    "# Uncomment and run this code to get started!\n",
    "print(3 * True)\n",
    "print(-3.1 * True)\n",
    "print(type(\"abc\" * False))\n",
    "print(len(\"abc\" * False))"
   ]
  },
  {
   "cell_type": "markdown",
   "id": "be019383",
   "metadata": {
    "papermill": {
     "duration": 0.006759,
     "end_time": "2023-03-05T14:26:31.116967",
     "exception": false,
     "start_time": "2023-03-05T14:26:31.110208",
     "status": "completed"
    },
    "tags": []
   },
   "source": [
    "Once you have an answer, run the code cell below to see the solution.  Viewing the solution will give you credit for answering the problem."
   ]
  },
  {
   "cell_type": "code",
   "execution_count": 6,
   "id": "9f551c63",
   "metadata": {
    "execution": {
     "iopub.execute_input": "2023-03-05T14:26:31.132855Z",
     "iopub.status.busy": "2023-03-05T14:26:31.132419Z",
     "iopub.status.idle": "2023-03-05T14:26:31.141893Z",
     "shell.execute_reply": "2023-03-05T14:26:31.140721Z"
    },
    "papermill": {
     "duration": 0.020366,
     "end_time": "2023-03-05T14:26:31.144439",
     "exception": false,
     "start_time": "2023-03-05T14:26:31.124073",
     "status": "completed"
    },
    "tags": []
   },
   "outputs": [
    {
     "data": {
      "application/javascript": [
       "parent.postMessage({\"jupyterEvent\": \"custom.exercise_interaction\", \"data\": {\"outcomeType\": 1, \"valueTowardsCompletion\": 0.2, \"interactionType\": 1, \"questionType\": 4, \"questionId\": \"2_MultiplyBooleans\", \"learnToolsVersion\": \"0.3.4\", \"failureMessage\": \"\", \"exceptionClass\": \"\", \"trace\": \"\"}}, \"*\")"
      ],
      "text/plain": [
       "<IPython.core.display.Javascript object>"
      ]
     },
     "metadata": {},
     "output_type": "display_data"
    },
    {
     "data": {
      "text/markdown": [
       "<span style=\"color:#33cc33\">Correct:</span> \n",
       "\n",
       "When you multiple an integer or float by a boolean with value `True`, it just returns that same integer or float (and is equivalent to multiplying by 1).  If you multiply an integer or float by a boolean with value `False`, it always returns 0.  This is true for both positive and negative numbers.  If you multiply a string by a boolean with value `True`, it just returns that same string.  And if you multiply a string by a boolean with value `False`, it returns an empty string (or a string with length zero)."
      ],
      "text/plain": [
       "Correct: \n",
       "\n",
       "When you multiple an integer or float by a boolean with value `True`, it just returns that same integer or float (and is equivalent to multiplying by 1).  If you multiply an integer or float by a boolean with value `False`, it always returns 0.  This is true for both positive and negative numbers.  If you multiply a string by a boolean with value `True`, it just returns that same string.  And if you multiply a string by a boolean with value `False`, it returns an empty string (or a string with length zero)."
      ]
     },
     "metadata": {},
     "output_type": "display_data"
    }
   ],
   "source": [
    "# Check your answer (Run this code cell to receive credit!)\n",
    "q2.check()"
   ]
  },
  {
   "cell_type": "markdown",
   "id": "e6fb6ef1",
   "metadata": {
    "papermill": {
     "duration": 0.007044,
     "end_time": "2023-03-05T14:26:31.158938",
     "exception": false,
     "start_time": "2023-03-05T14:26:31.151894",
     "status": "completed"
    },
    "tags": []
   },
   "source": [
    "# Question 3\n",
    "\n",
    "In this question, you will build off your work from the previous exercise to write a function that estimates the value of a house.\n",
    "\n",
    "Use the next code cell to create a function `get_expected_cost` that takes as input three variables:\n",
    "- `beds` - number of bedrooms (data type float)\n",
    "- `baths` - number of bathrooms (data type float)\n",
    "- `has_basement` - whether or not the house has a basement (data type boolean)\n",
    "\n",
    "It should return the expected cost of a house with those characteristics. Assume that:\n",
    "- the expected cost for a house with 0 bedrooms and 0 bathrooms, and no basement is 80000, \n",
    "- each bedroom adds 30000 to the expected cost,\n",
    "- each bathroom adds 10000 to the expected cost, and\n",
    "- a basement adds 40000 to the expected cost.\n",
    "\n",
    "For instance,\n",
    "- a house with 1 bedroom, 1 bathroom, and no basement has an expected cost of 80000 + 30000 + 10000 = 120000.  This value will be calculated with `get_expected_cost(1, 1, False)`.\n",
    "- a house with 2 bedrooms, 1 bathroom, and a basement has an expected cost of 80000 + 2*30000 + 10000 + 40000 = 190000.  This value will be calculated with `get_expected_cost(2, 1, True)`.\n",
    "\n",
    "Remember you can always get a hint by uncommenting `q3.hint()` in the code cell following the next!"
   ]
  },
  {
   "cell_type": "code",
   "execution_count": 7,
   "id": "ba9e1d0d",
   "metadata": {
    "execution": {
     "iopub.execute_input": "2023-03-05T14:26:31.175785Z",
     "iopub.status.busy": "2023-03-05T14:26:31.175086Z",
     "iopub.status.idle": "2023-03-05T14:26:31.185482Z",
     "shell.execute_reply": "2023-03-05T14:26:31.184254Z"
    },
    "papermill": {
     "duration": 0.021715,
     "end_time": "2023-03-05T14:26:31.187884",
     "exception": false,
     "start_time": "2023-03-05T14:26:31.166169",
     "status": "completed"
    },
    "tags": []
   },
   "outputs": [
    {
     "data": {
      "application/javascript": [
       "parent.postMessage({\"jupyterEvent\": \"custom.exercise_interaction\", \"data\": {\"outcomeType\": 1, \"valueTowardsCompletion\": 0.2, \"interactionType\": 1, \"questionType\": 2, \"questionId\": \"3_EstimateHouseValueBool\", \"learnToolsVersion\": \"0.3.4\", \"failureMessage\": \"\", \"exceptionClass\": \"\", \"trace\": \"\"}}, \"*\")"
      ],
      "text/plain": [
       "<IPython.core.display.Javascript object>"
      ]
     },
     "metadata": {},
     "output_type": "display_data"
    },
    {
     "data": {
      "text/markdown": [
       "<span style=\"color:#33cc33\">Correct</span>"
      ],
      "text/plain": [
       "Correct"
      ]
     },
     "metadata": {},
     "output_type": "display_data"
    }
   ],
   "source": [
    "# TODO: Complete the function\n",
    "def get_expected_cost(beds, baths, has_basement):\n",
    "    value = 80000 + beds * 30000 + baths * 10000 + has_basement * 40000\n",
    "    return value\n",
    "\n",
    "# Check your answer \n",
    "q3.check()"
   ]
  },
  {
   "cell_type": "code",
   "execution_count": 8,
   "id": "ef4c8ead",
   "metadata": {
    "execution": {
     "iopub.execute_input": "2023-03-05T14:26:31.205450Z",
     "iopub.status.busy": "2023-03-05T14:26:31.204671Z",
     "iopub.status.idle": "2023-03-05T14:26:31.208631Z",
     "shell.execute_reply": "2023-03-05T14:26:31.207814Z"
    },
    "papermill": {
     "duration": 0.015217,
     "end_time": "2023-03-05T14:26:31.210864",
     "exception": false,
     "start_time": "2023-03-05T14:26:31.195647",
     "status": "completed"
    },
    "tags": []
   },
   "outputs": [],
   "source": [
    "# Uncomment to see a hint\n",
    "#q3.hint()\n",
    "\n",
    "# Uncomment to view the solution\n",
    "#q3.solution()"
   ]
  },
  {
   "cell_type": "markdown",
   "id": "127800b9",
   "metadata": {
    "papermill": {
     "duration": 0.007178,
     "end_time": "2023-03-05T14:26:31.225620",
     "exception": false,
     "start_time": "2023-03-05T14:26:31.218442",
     "status": "completed"
    },
    "tags": []
   },
   "source": [
    "# Question 4\n",
    "\n",
    "We'll continue our study of boolean arithmetic.  For this question, your task is to provide a description of what happpens when you add booleans. \n",
    "\n",
    "Use the next code cell for your investigation.  Feel free to add or remove any lines of code - use it as your workspace!"
   ]
  },
  {
   "cell_type": "code",
   "execution_count": 9,
   "id": "af0d075d",
   "metadata": {
    "execution": {
     "iopub.execute_input": "2023-03-05T14:26:31.242923Z",
     "iopub.status.busy": "2023-03-05T14:26:31.242487Z",
     "iopub.status.idle": "2023-03-05T14:26:31.248113Z",
     "shell.execute_reply": "2023-03-05T14:26:31.246995Z"
    },
    "papermill": {
     "duration": 0.019225,
     "end_time": "2023-03-05T14:26:31.252463",
     "exception": false,
     "start_time": "2023-03-05T14:26:31.233238",
     "status": "completed"
    },
    "tags": []
   },
   "outputs": [
    {
     "name": "stdout",
     "output_type": "stream",
     "text": [
      "0\n",
      "1\n",
      "1\n",
      "2\n",
      "3\n"
     ]
    }
   ],
   "source": [
    "print(False + False)\n",
    "print(True + False)\n",
    "print(False + True)\n",
    "print(True + True)\n",
    "print(False + True + True + True)"
   ]
  },
  {
   "cell_type": "markdown",
   "id": "9f40b493",
   "metadata": {
    "papermill": {
     "duration": 0.007221,
     "end_time": "2023-03-05T14:26:31.268334",
     "exception": false,
     "start_time": "2023-03-05T14:26:31.261113",
     "status": "completed"
    },
    "tags": []
   },
   "source": [
    "Once you have an answer, run the code cell below to see the solution.  Viewing the solution will give you credit for answering the problem."
   ]
  },
  {
   "cell_type": "code",
   "execution_count": 10,
   "id": "1276e48c",
   "metadata": {
    "execution": {
     "iopub.execute_input": "2023-03-05T14:26:31.286135Z",
     "iopub.status.busy": "2023-03-05T14:26:31.285449Z",
     "iopub.status.idle": "2023-03-05T14:26:31.297780Z",
     "shell.execute_reply": "2023-03-05T14:26:31.296133Z"
    },
    "papermill": {
     "duration": 0.024431,
     "end_time": "2023-03-05T14:26:31.300460",
     "exception": false,
     "start_time": "2023-03-05T14:26:31.276029",
     "status": "completed"
    },
    "tags": []
   },
   "outputs": [
    {
     "data": {
      "application/javascript": [
       "parent.postMessage({\"jupyterEvent\": \"custom.exercise_interaction\", \"data\": {\"outcomeType\": 1, \"valueTowardsCompletion\": 0.2, \"interactionType\": 1, \"questionType\": 4, \"questionId\": \"4_AddingBooleans\", \"learnToolsVersion\": \"0.3.4\", \"failureMessage\": \"\", \"exceptionClass\": \"\", \"trace\": \"\"}}, \"*\")"
      ],
      "text/plain": [
       "<IPython.core.display.Javascript object>"
      ]
     },
     "metadata": {},
     "output_type": "display_data"
    },
    {
     "data": {
      "text/markdown": [
       "<span style=\"color:#33cc33\">Correct:</span> \n",
       "\n",
       "When you add booleans, adding `False` is equivalent to adding 0, and adding `True` is equivalent to adding 1."
      ],
      "text/plain": [
       "Correct: \n",
       "\n",
       "When you add booleans, adding `False` is equivalent to adding 0, and adding `True` is equivalent to adding 1."
      ]
     },
     "metadata": {},
     "output_type": "display_data"
    }
   ],
   "source": [
    "# Check your answer (Run this code cell to receive credit!)\n",
    "q4.check()"
   ]
  },
  {
   "cell_type": "markdown",
   "id": "fd532d3e",
   "metadata": {
    "papermill": {
     "duration": 0.008088,
     "end_time": "2023-03-05T14:26:31.317627",
     "exception": false,
     "start_time": "2023-03-05T14:26:31.309539",
     "status": "completed"
    },
    "tags": []
   },
   "source": [
    "# 🌶️ Question 5\n",
    "\n",
    "You own an online shop where you sell rings with custom engravings.  You offer both gold plated and solid gold rings.\n",
    "- Gold plated rings have a base cost of \\\\$50, and you charge \\\\$7 per engraved unit.  \n",
    "- Solid gold rings have a base cost of \\\\$100, and you charge \\\\$10 per engraved unit.\n",
    "- Spaces and punctuation are counted as engraved units.\n",
    "\n",
    "Write a function `cost_of_project()` that takes two arguments:\n",
    "- `engraving` - a Python string with the text of the engraving\n",
    "- `solid_gold` - a Boolean that indicates whether the ring is solid gold\n",
    "\n",
    "It should return the cost of the project.  This question should be fairly challenging, and you may need a hint."
   ]
  },
  {
   "cell_type": "code",
   "execution_count": 11,
   "id": "211962ff",
   "metadata": {
    "execution": {
     "iopub.execute_input": "2023-03-05T14:26:31.338399Z",
     "iopub.status.busy": "2023-03-05T14:26:31.337531Z",
     "iopub.status.idle": "2023-03-05T14:26:31.349355Z",
     "shell.execute_reply": "2023-03-05T14:26:31.348188Z"
    },
    "papermill": {
     "duration": 0.024478,
     "end_time": "2023-03-05T14:26:31.352009",
     "exception": false,
     "start_time": "2023-03-05T14:26:31.327531",
     "status": "completed"
    },
    "tags": []
   },
   "outputs": [
    {
     "data": {
      "application/javascript": [
       "parent.postMessage({\"jupyterEvent\": \"custom.exercise_interaction\", \"data\": {\"outcomeType\": 1, \"valueTowardsCompletion\": 0.2, \"interactionType\": 1, \"questionType\": 2, \"questionId\": \"5_CustomEngravings\", \"learnToolsVersion\": \"0.3.4\", \"failureMessage\": \"\", \"exceptionClass\": \"\", \"trace\": \"\"}}, \"*\")"
      ],
      "text/plain": [
       "<IPython.core.display.Javascript object>"
      ]
     },
     "metadata": {},
     "output_type": "display_data"
    },
    {
     "data": {
      "text/markdown": [
       "<span style=\"color:#33cc33\">Correct</span>"
      ],
      "text/plain": [
       "Correct"
      ]
     },
     "metadata": {},
     "output_type": "display_data"
    }
   ],
   "source": [
    "def cost_of_project(engraving, solid_gold):\n",
    "    cost = solid_gold * (100 + 10 * len(engraving)) + (not solid_gold) * (50 + 7 * len(engraving))\n",
    "    return cost\n",
    "\n",
    "# Check your answer\n",
    "q5.check()"
   ]
  },
  {
   "cell_type": "code",
   "execution_count": 12,
   "id": "61fce498",
   "metadata": {
    "execution": {
     "iopub.execute_input": "2023-03-05T14:26:31.371401Z",
     "iopub.status.busy": "2023-03-05T14:26:31.370435Z",
     "iopub.status.idle": "2023-03-05T14:26:31.381975Z",
     "shell.execute_reply": "2023-03-05T14:26:31.380812Z"
    },
    "papermill": {
     "duration": 0.023973,
     "end_time": "2023-03-05T14:26:31.384379",
     "exception": false,
     "start_time": "2023-03-05T14:26:31.360406",
     "status": "completed"
    },
    "tags": []
   },
   "outputs": [
    {
     "data": {
      "application/javascript": [
       "parent.postMessage({\"jupyterEvent\": \"custom.exercise_interaction\", \"data\": {\"interactionType\": 3, \"questionType\": 2, \"questionId\": \"5_CustomEngravings\", \"learnToolsVersion\": \"0.3.4\", \"valueTowardsCompletion\": 0.0, \"failureMessage\": \"\", \"exceptionClass\": \"\", \"trace\": \"\", \"outcomeType\": 4}}, \"*\")"
      ],
      "text/plain": [
       "<IPython.core.display.Javascript object>"
      ]
     },
     "metadata": {},
     "output_type": "display_data"
    },
    {
     "data": {
      "text/markdown": [
       "<span style=\"color:#33cc99\">Solution:</span> \n",
       "```python\n",
       "def cost_of_project(engraving, solid_gold):\n",
       "    cost = solid_gold * (100 + 10 * len(engraving)) + (not solid_gold) * (50 + 7 * len(engraving))\n",
       "    return cost\n",
       "\n",
       "```"
      ],
      "text/plain": [
       "Solution: \n",
       "```python\n",
       "def cost_of_project(engraving, solid_gold):\n",
       "    cost = solid_gold * (100 + 10 * len(engraving)) + (not solid_gold) * (50 + 7 * len(engraving))\n",
       "    return cost\n",
       "\n",
       "```"
      ]
     },
     "metadata": {},
     "output_type": "display_data"
    }
   ],
   "source": [
    "# Uncomment to see a hint\n",
    "#q5.hint()\n",
    "\n",
    "# Uncomment to view the solution\n",
    "q5.solution()"
   ]
  },
  {
   "cell_type": "markdown",
   "id": "663d48ce",
   "metadata": {
    "papermill": {
     "duration": 0.008055,
     "end_time": "2023-03-05T14:26:31.400713",
     "exception": false,
     "start_time": "2023-03-05T14:26:31.392658",
     "status": "completed"
    },
    "tags": []
   },
   "source": [
    "Run the next code cell to calculate the cost of engraving `Charlie+Denver` on a solid gold ring."
   ]
  },
  {
   "cell_type": "code",
   "execution_count": 13,
   "id": "02f44224",
   "metadata": {
    "execution": {
     "iopub.execute_input": "2023-03-05T14:26:31.419656Z",
     "iopub.status.busy": "2023-03-05T14:26:31.419234Z",
     "iopub.status.idle": "2023-03-05T14:26:31.424717Z",
     "shell.execute_reply": "2023-03-05T14:26:31.423885Z"
    },
    "papermill": {
     "duration": 0.018456,
     "end_time": "2023-03-05T14:26:31.427493",
     "exception": false,
     "start_time": "2023-03-05T14:26:31.409037",
     "status": "completed"
    },
    "tags": []
   },
   "outputs": [
    {
     "name": "stdout",
     "output_type": "stream",
     "text": [
      "240\n"
     ]
    }
   ],
   "source": [
    "project_one = cost_of_project(\"Charlie+Denver\", True)\n",
    "print(project_one)"
   ]
  },
  {
   "cell_type": "markdown",
   "id": "cd30ed7a",
   "metadata": {
    "papermill": {
     "duration": 0.008421,
     "end_time": "2023-03-05T14:26:31.445414",
     "exception": false,
     "start_time": "2023-03-05T14:26:31.436993",
     "status": "completed"
    },
    "tags": []
   },
   "source": [
    "Use the next code cell to calculate the cost of engraving `08/10/2000` on a gold plated ring."
   ]
  },
  {
   "cell_type": "code",
   "execution_count": 14,
   "id": "cbfb68ea",
   "metadata": {
    "execution": {
     "iopub.execute_input": "2023-03-05T14:26:31.465422Z",
     "iopub.status.busy": "2023-03-05T14:26:31.464680Z",
     "iopub.status.idle": "2023-03-05T14:26:31.470345Z",
     "shell.execute_reply": "2023-03-05T14:26:31.469138Z"
    },
    "papermill": {
     "duration": 0.019402,
     "end_time": "2023-03-05T14:26:31.473392",
     "exception": false,
     "start_time": "2023-03-05T14:26:31.453990",
     "status": "completed"
    },
    "tags": []
   },
   "outputs": [
    {
     "name": "stdout",
     "output_type": "stream",
     "text": [
      "120\n"
     ]
    }
   ],
   "source": [
    "project_two = cost_of_project(\"08/10/2000\", False)\n",
    "print(project_two)"
   ]
  },
  {
   "cell_type": "markdown",
   "id": "f54475e4",
   "metadata": {
    "papermill": {
     "duration": 0.008121,
     "end_time": "2023-03-05T14:26:31.490914",
     "exception": false,
     "start_time": "2023-03-05T14:26:31.482793",
     "status": "completed"
    },
    "tags": []
   },
   "source": [
    "# Keep going\n",
    "\n",
    "Continue to the next lesson to **[learn about conditions and conditional statements](https://www.kaggle.com/alexisbcook/conditions-and-conditional-statements)**."
   ]
  },
  {
   "cell_type": "markdown",
   "id": "28703d18",
   "metadata": {
    "papermill": {
     "duration": 0.008583,
     "end_time": "2023-03-05T14:26:31.507946",
     "exception": false,
     "start_time": "2023-03-05T14:26:31.499363",
     "status": "completed"
    },
    "tags": []
   },
   "source": [
    "---\n",
    "\n",
    "\n",
    "\n",
    "\n",
    "*Have questions or comments? Visit the [course discussion forum](https://www.kaggle.com/learn/intro-to-programming/discussion) to chat with other learners.*"
   ]
  }
 ],
 "metadata": {
  "kernelspec": {
   "display_name": "Python 3",
   "language": "python",
   "name": "python3"
  },
  "language_info": {
   "codemirror_mode": {
    "name": "ipython",
    "version": 3
   },
   "file_extension": ".py",
   "mimetype": "text/x-python",
   "name": "python",
   "nbconvert_exporter": "python",
   "pygments_lexer": "ipython3",
   "version": "3.7.12"
  },
  "papermill": {
   "default_parameters": {},
   "duration": 11.478507,
   "end_time": "2023-03-05T14:26:32.239601",
   "environment_variables": {},
   "exception": null,
   "input_path": "__notebook__.ipynb",
   "output_path": "__notebook__.ipynb",
   "parameters": {},
   "start_time": "2023-03-05T14:26:20.761094",
   "version": "2.4.0"
  }
 },
 "nbformat": 4,
 "nbformat_minor": 5
}
